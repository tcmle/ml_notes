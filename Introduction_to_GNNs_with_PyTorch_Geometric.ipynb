{
  "nbformat": 4,
  "nbformat_minor": 0,
  "metadata": {
    "colab": {
      "name": "Introduction to GNNs with PyTorch Geometric.ipynb",
      "provenance": [],
      "include_colab_link": true
    },
    "kernelspec": {
      "name": "python3",
      "display_name": "Python 3"
    },
    "language_info": {
      "name": "python"
    }
  },
  "cells": [
    {
      "cell_type": "markdown",
      "metadata": {
        "id": "view-in-github",
        "colab_type": "text"
      },
      "source": [
        "<a href=\"https://colab.research.google.com/github/tcmle/ml_notes/blob/master/Introduction_to_GNNs_with_PyTorch_Geometric.ipynb\" target=\"_parent\"><img src=\"https://colab.research.google.com/assets/colab-badge.svg\" alt=\"Open In Colab\"/></a>"
      ]
    },
    {
      "cell_type": "markdown",
      "source": [
        "## Introduction to GNNs with PyTorch Geometric\n",
        "\n",
        "In this short notebook, the goal is to provide a introductory guide to get started with Graph Neural Networks using the popular library called [PyTorch Geometric](https://pytorch-geometric.readthedocs.io/en/latest/index.html). PyTorch Geometric is a PyTorch based libary hence we will be using PyTorch in this tutorial. \n",
        "\n",
        "The code used in this tutorial has been adapted from their official [examples](https://pytorch-geometric.readthedocs.io/en/latest/notes/introduction.html). I have incorporated a bit more beginner-friendly guidance and kept it minimal."
      ],
      "metadata": {
        "id": "sjX6CPJFA52R"
      }
    },
    {
      "cell_type": "code",
      "source": [
        "# Find the CUDA version PyTorch was installed with\n",
        "!python -c \"import torch; print(torch.version.cuda)\""
      ],
      "metadata": {
        "colab": {
          "base_uri": "https://localhost:8080/"
        },
        "id": "mwTz9zaHC7YA",
        "outputId": "74155a1b-46ed-4ff0-a39e-3ef66fbbf887"
      },
      "execution_count": 1,
      "outputs": [
        {
          "output_type": "stream",
          "name": "stdout",
          "text": [
            "11.1\n"
          ]
        }
      ]
    },
    {
      "cell_type": "code",
      "source": [
        "# PyTorch version\n",
        "!python -c \"import torch; print(torch.__version__)\""
      ],
      "metadata": {
        "colab": {
          "base_uri": "https://localhost:8080/"
        },
        "id": "2jo0YpV0DLDW",
        "outputId": "345bfcbb-743b-4278-b9db-9ee8345311c5"
      },
      "execution_count": 2,
      "outputs": [
        {
          "output_type": "stream",
          "name": "stdout",
          "text": [
            "1.10.0+cu111\n"
          ]
        }
      ]
    },
    {
      "cell_type": "markdown",
      "source": [
        "Install the follow packages but make sure to install the right version below. Find more instructions [here](https://pytorch-geometric.readthedocs.io/en/latest/notes/installation.html) if you get lost. "
      ],
      "metadata": {
        "id": "P-VLTfxzEmLu"
      }
    },
    {
      "cell_type": "code",
      "source": [
        "!pip install torch-scatter -f https://data.pyg.org/whl/torch-1.10.0+cu111.html"
      ],
      "metadata": {
        "colab": {
          "base_uri": "https://localhost:8080/"
        },
        "id": "fLbSOIkaDRe4",
        "outputId": "af45db5c-e7fe-4c1b-958c-551ecad974b4"
      },
      "execution_count": 3,
      "outputs": [
        {
          "output_type": "stream",
          "name": "stdout",
          "text": [
            "Looking in links: https://data.pyg.org/whl/torch-1.10.0+cu111.html\n",
            "Collecting torch-scatter\n",
            "  Downloading https://data.pyg.org/whl/torch-1.10.0%2Bcu113/torch_scatter-2.0.9-cp37-cp37m-linux_x86_64.whl (7.9 MB)\n",
            "\u001b[K     |████████████████████████████████| 7.9 MB 6.3 MB/s \n",
            "\u001b[?25hInstalling collected packages: torch-scatter\n",
            "Successfully installed torch-scatter-2.0.9\n"
          ]
        }
      ]
    },
    {
      "cell_type": "code",
      "source": [
        "!pip install torch-sparse -f https://data.pyg.org/whl/torch-1.10.0+cu111.html"
      ],
      "metadata": {
        "colab": {
          "base_uri": "https://localhost:8080/"
        },
        "id": "Q-wRLXE_DkZF",
        "outputId": "5dfc7283-4f73-4713-d82d-1300e13e7285"
      },
      "execution_count": 4,
      "outputs": [
        {
          "output_type": "stream",
          "name": "stdout",
          "text": [
            "Looking in links: https://data.pyg.org/whl/torch-1.10.0+cu111.html\n",
            "Collecting torch-sparse\n",
            "  Downloading https://data.pyg.org/whl/torch-1.10.0%2Bcu113/torch_sparse-0.6.12-cp37-cp37m-linux_x86_64.whl (3.5 MB)\n",
            "\u001b[K     |████████████████████████████████| 3.5 MB 8.1 MB/s \n",
            "\u001b[?25hRequirement already satisfied: scipy in /usr/local/lib/python3.7/dist-packages (from torch-sparse) (1.4.1)\n",
            "Requirement already satisfied: numpy>=1.13.3 in /usr/local/lib/python3.7/dist-packages (from scipy->torch-sparse) (1.21.5)\n",
            "Installing collected packages: torch-sparse\n",
            "Successfully installed torch-sparse-0.6.12\n"
          ]
        }
      ]
    },
    {
      "cell_type": "code",
      "source": [
        "!pip install torch-geometric"
      ],
      "metadata": {
        "colab": {
          "base_uri": "https://localhost:8080/"
        },
        "id": "lAobCDu6Dppo",
        "outputId": "a3986376-0cdd-4427-e78a-7e95a78dc041"
      },
      "execution_count": 5,
      "outputs": [
        {
          "output_type": "stream",
          "name": "stdout",
          "text": [
            "Collecting torch-geometric\n",
            "  Downloading torch_geometric-2.0.3.tar.gz (370 kB)\n",
            "\u001b[?25l\r\u001b[K     |▉                               | 10 kB 17.9 MB/s eta 0:00:01\r\u001b[K     |█▊                              | 20 kB 23.7 MB/s eta 0:00:01\r\u001b[K     |██▋                             | 30 kB 14.1 MB/s eta 0:00:01\r\u001b[K     |███▌                            | 40 kB 10.3 MB/s eta 0:00:01\r\u001b[K     |████▍                           | 51 kB 5.9 MB/s eta 0:00:01\r\u001b[K     |█████▎                          | 61 kB 7.0 MB/s eta 0:00:01\r\u001b[K     |██████▏                         | 71 kB 7.4 MB/s eta 0:00:01\r\u001b[K     |███████                         | 81 kB 6.8 MB/s eta 0:00:01\r\u001b[K     |████████                        | 92 kB 7.5 MB/s eta 0:00:01\r\u001b[K     |████████▉                       | 102 kB 6.8 MB/s eta 0:00:01\r\u001b[K     |█████████▊                      | 112 kB 6.8 MB/s eta 0:00:01\r\u001b[K     |██████████▋                     | 122 kB 6.8 MB/s eta 0:00:01\r\u001b[K     |███████████▌                    | 133 kB 6.8 MB/s eta 0:00:01\r\u001b[K     |████████████▍                   | 143 kB 6.8 MB/s eta 0:00:01\r\u001b[K     |█████████████▎                  | 153 kB 6.8 MB/s eta 0:00:01\r\u001b[K     |██████████████▏                 | 163 kB 6.8 MB/s eta 0:00:01\r\u001b[K     |███████████████                 | 174 kB 6.8 MB/s eta 0:00:01\r\u001b[K     |████████████████                | 184 kB 6.8 MB/s eta 0:00:01\r\u001b[K     |████████████████▉               | 194 kB 6.8 MB/s eta 0:00:01\r\u001b[K     |█████████████████▊              | 204 kB 6.8 MB/s eta 0:00:01\r\u001b[K     |██████████████████▋             | 215 kB 6.8 MB/s eta 0:00:01\r\u001b[K     |███████████████████▌            | 225 kB 6.8 MB/s eta 0:00:01\r\u001b[K     |████████████████████▍           | 235 kB 6.8 MB/s eta 0:00:01\r\u001b[K     |█████████████████████▎          | 245 kB 6.8 MB/s eta 0:00:01\r\u001b[K     |██████████████████████▏         | 256 kB 6.8 MB/s eta 0:00:01\r\u001b[K     |███████████████████████         | 266 kB 6.8 MB/s eta 0:00:01\r\u001b[K     |███████████████████████▉        | 276 kB 6.8 MB/s eta 0:00:01\r\u001b[K     |████████████████████████▊       | 286 kB 6.8 MB/s eta 0:00:01\r\u001b[K     |█████████████████████████▋      | 296 kB 6.8 MB/s eta 0:00:01\r\u001b[K     |██████████████████████████▌     | 307 kB 6.8 MB/s eta 0:00:01\r\u001b[K     |███████████████████████████▍    | 317 kB 6.8 MB/s eta 0:00:01\r\u001b[K     |████████████████████████████▎   | 327 kB 6.8 MB/s eta 0:00:01\r\u001b[K     |█████████████████████████████▏  | 337 kB 6.8 MB/s eta 0:00:01\r\u001b[K     |██████████████████████████████  | 348 kB 6.8 MB/s eta 0:00:01\r\u001b[K     |███████████████████████████████ | 358 kB 6.8 MB/s eta 0:00:01\r\u001b[K     |███████████████████████████████▉| 368 kB 6.8 MB/s eta 0:00:01\r\u001b[K     |████████████████████████████████| 370 kB 6.8 MB/s \n",
            "\u001b[?25hRequirement already satisfied: numpy in /usr/local/lib/python3.7/dist-packages (from torch-geometric) (1.21.5)\n",
            "Requirement already satisfied: tqdm in /usr/local/lib/python3.7/dist-packages (from torch-geometric) (4.62.3)\n",
            "Requirement already satisfied: scipy in /usr/local/lib/python3.7/dist-packages (from torch-geometric) (1.4.1)\n",
            "Requirement already satisfied: networkx in /usr/local/lib/python3.7/dist-packages (from torch-geometric) (2.6.3)\n",
            "Requirement already satisfied: scikit-learn in /usr/local/lib/python3.7/dist-packages (from torch-geometric) (1.0.2)\n",
            "Requirement already satisfied: requests in /usr/local/lib/python3.7/dist-packages (from torch-geometric) (2.23.0)\n",
            "Requirement already satisfied: pandas in /usr/local/lib/python3.7/dist-packages (from torch-geometric) (1.3.5)\n",
            "Collecting rdflib\n",
            "  Downloading rdflib-6.1.1-py3-none-any.whl (482 kB)\n",
            "\u001b[K     |████████████████████████████████| 482 kB 44.5 MB/s \n",
            "\u001b[?25hRequirement already satisfied: googledrivedownloader in /usr/local/lib/python3.7/dist-packages (from torch-geometric) (0.4)\n",
            "Requirement already satisfied: jinja2 in /usr/local/lib/python3.7/dist-packages (from torch-geometric) (2.11.3)\n",
            "Requirement already satisfied: pyparsing in /usr/local/lib/python3.7/dist-packages (from torch-geometric) (3.0.7)\n",
            "Collecting yacs\n",
            "  Downloading yacs-0.1.8-py3-none-any.whl (14 kB)\n",
            "Requirement already satisfied: PyYAML in /usr/local/lib/python3.7/dist-packages (from torch-geometric) (3.13)\n",
            "Requirement already satisfied: MarkupSafe>=0.23 in /usr/local/lib/python3.7/dist-packages (from jinja2->torch-geometric) (2.0.1)\n",
            "Requirement already satisfied: pytz>=2017.3 in /usr/local/lib/python3.7/dist-packages (from pandas->torch-geometric) (2018.9)\n",
            "Requirement already satisfied: python-dateutil>=2.7.3 in /usr/local/lib/python3.7/dist-packages (from pandas->torch-geometric) (2.8.2)\n",
            "Requirement already satisfied: six>=1.5 in /usr/local/lib/python3.7/dist-packages (from python-dateutil>=2.7.3->pandas->torch-geometric) (1.15.0)\n",
            "Requirement already satisfied: importlib-metadata in /usr/local/lib/python3.7/dist-packages (from rdflib->torch-geometric) (4.11.0)\n",
            "Collecting isodate\n",
            "  Downloading isodate-0.6.1-py2.py3-none-any.whl (41 kB)\n",
            "\u001b[K     |████████████████████████████████| 41 kB 646 kB/s \n",
            "\u001b[?25hRequirement already satisfied: setuptools in /usr/local/lib/python3.7/dist-packages (from rdflib->torch-geometric) (57.4.0)\n",
            "Requirement already satisfied: typing-extensions>=3.6.4 in /usr/local/lib/python3.7/dist-packages (from importlib-metadata->rdflib->torch-geometric) (3.10.0.2)\n",
            "Requirement already satisfied: zipp>=0.5 in /usr/local/lib/python3.7/dist-packages (from importlib-metadata->rdflib->torch-geometric) (3.7.0)\n",
            "Requirement already satisfied: urllib3!=1.25.0,!=1.25.1,<1.26,>=1.21.1 in /usr/local/lib/python3.7/dist-packages (from requests->torch-geometric) (1.24.3)\n",
            "Requirement already satisfied: certifi>=2017.4.17 in /usr/local/lib/python3.7/dist-packages (from requests->torch-geometric) (2021.10.8)\n",
            "Requirement already satisfied: chardet<4,>=3.0.2 in /usr/local/lib/python3.7/dist-packages (from requests->torch-geometric) (3.0.4)\n",
            "Requirement already satisfied: idna<3,>=2.5 in /usr/local/lib/python3.7/dist-packages (from requests->torch-geometric) (2.10)\n",
            "Requirement already satisfied: joblib>=0.11 in /usr/local/lib/python3.7/dist-packages (from scikit-learn->torch-geometric) (1.1.0)\n",
            "Requirement already satisfied: threadpoolctl>=2.0.0 in /usr/local/lib/python3.7/dist-packages (from scikit-learn->torch-geometric) (3.1.0)\n",
            "Building wheels for collected packages: torch-geometric\n",
            "  Building wheel for torch-geometric (setup.py) ... \u001b[?25l\u001b[?25hdone\n",
            "  Created wheel for torch-geometric: filename=torch_geometric-2.0.3-py3-none-any.whl size=581968 sha256=39da108f76d4604f1c22038ee8cd8a6644a83c4e47395e4721e81b510264d52b\n",
            "  Stored in directory: /root/.cache/pip/wheels/c3/2a/58/87ce0508964d4def1aafb92750c4f3ac77038efd1b9a89dcf5\n",
            "Successfully built torch-geometric\n",
            "Installing collected packages: isodate, yacs, rdflib, torch-geometric\n",
            "Successfully installed isodate-0.6.1 rdflib-6.1.1 torch-geometric-2.0.3 yacs-0.1.8\n"
          ]
        }
      ]
    },
    {
      "cell_type": "markdown",
      "source": [
        "## Getting Started"
      ],
      "metadata": {
        "id": "GNfiSdoUFaoF"
      }
    },
    {
      "cell_type": "markdown",
      "source": [
        "Import PyTorch"
      ],
      "metadata": {
        "id": "D6LCvEr7CGF9"
      }
    },
    {
      "cell_type": "code",
      "execution_count": 6,
      "metadata": {
        "colab": {
          "base_uri": "https://localhost:8080/"
        },
        "id": "pqrlyFN1AtXI",
        "outputId": "ce3ca21c-c756-4f67-fe01-9e96c7ddaf70"
      },
      "outputs": [
        {
          "output_type": "stream",
          "name": "stdout",
          "text": [
            "1.10.0+cu111\n"
          ]
        }
      ],
      "source": [
        "import torch\n",
        "\n",
        "# print torch version\n",
        "print(torch.__version__)"
      ]
    },
    {
      "cell_type": "markdown",
      "source": [
        "The great thing about PyTorch Geometric is that it contain useful functionalities to import and load graph related data. "
      ],
      "metadata": {
        "id": "V0xfcmMfCFIH"
      }
    },
    {
      "cell_type": "code",
      "source": [
        "from torch_geometric.data import Data"
      ],
      "metadata": {
        "id": "gfIc5j5YB2_a"
      },
      "execution_count": 7,
      "outputs": []
    },
    {
      "cell_type": "markdown",
      "source": [
        "Now let's create an unweighted and undirected graph with three nodes and four total edges."
      ],
      "metadata": {
        "id": "4wuBs1NHEFqn"
      }
    },
    {
      "cell_type": "code",
      "source": [
        "# define edge list\n",
        "edge_index = torch.tensor([[0, 1, 1, 2], [1, 0, 2, 1]], dtype=torch.long)\n",
        "\n",
        "# define node features\n",
        "x = torch.tensor([[-1], [0], [1]])\n",
        "\n",
        "# create graph data object\n",
        "data = Data(x=x, edge_index=edge_index)\n",
        "print(data)"
      ],
      "metadata": {
        "colab": {
          "base_uri": "https://localhost:8080/"
        },
        "id": "-nLnUIObCTjK",
        "outputId": "98dac716-6790-4b41-d1f3-a67b2cc09900"
      },
      "execution_count": 8,
      "outputs": [
        {
          "output_type": "stream",
          "name": "stdout",
          "text": [
            "Data(x=[3, 1], edge_index=[2, 4])\n"
          ]
        }
      ]
    },
    {
      "cell_type": "markdown",
      "source": [
        "Our data object `Data` has many useful utility functions to check the properties of the graph. "
      ],
      "metadata": {
        "id": "zV7bQ6tAEQ7H"
      }
    },
    {
      "cell_type": "code",
      "source": [
        "# check number of edges of the graph\n",
        "print(data.num_edges)"
      ],
      "metadata": {
        "colab": {
          "base_uri": "https://localhost:8080/"
        },
        "id": "idbfqPzoEOPC",
        "outputId": "7ddb4225-0133-4537-ae53-24262900124e"
      },
      "execution_count": 9,
      "outputs": [
        {
          "output_type": "stream",
          "name": "stdout",
          "text": [
            "4\n"
          ]
        }
      ]
    },
    {
      "cell_type": "code",
      "source": [
        "# check number of nodes of the graph\n",
        "print(data.num_nodes)"
      ],
      "metadata": {
        "colab": {
          "base_uri": "https://localhost:8080/"
        },
        "id": "r0lcSstME0MP",
        "outputId": "084ee021-c5c0-49c1-f12f-aea659868ab8"
      },
      "execution_count": 10,
      "outputs": [
        {
          "output_type": "stream",
          "name": "stdout",
          "text": [
            "3\n"
          ]
        }
      ]
    },
    {
      "cell_type": "code",
      "source": [
        "# check number of features of the graph\n",
        "print(data.num_features)"
      ],
      "metadata": {
        "colab": {
          "base_uri": "https://localhost:8080/"
        },
        "id": "yiegwHTyE2AO",
        "outputId": "f56052cd-cb16-44d0-a90c-41cdc319e6d8"
      },
      "execution_count": 11,
      "outputs": [
        {
          "output_type": "stream",
          "name": "stdout",
          "text": [
            "1\n"
          ]
        }
      ]
    },
    {
      "cell_type": "code",
      "source": [
        "# check if graph is directed\n",
        "print(data.is_directed())"
      ],
      "metadata": {
        "colab": {
          "base_uri": "https://localhost:8080/"
        },
        "id": "JNWjhaSeE3Yk",
        "outputId": "4173f8b3-fd62-4338-a830-16ea25882efc"
      },
      "execution_count": 12,
      "outputs": [
        {
          "output_type": "stream",
          "name": "stdout",
          "text": [
            "False\n"
          ]
        }
      ]
    },
    {
      "cell_type": "markdown",
      "source": [
        "## Loading Data"
      ],
      "metadata": {
        "id": "HF-jGPyhFeO6"
      }
    },
    {
      "cell_type": "markdown",
      "source": [
        "Find more fun functions related to graph data [here](https://pytorch-geometric.readthedocs.io/en/latest/modules/data.html#torch_geometric.data.Data). "
      ],
      "metadata": {
        "id": "KBVX6mZfFBxE"
      }
    },
    {
      "cell_type": "markdown",
      "source": [
        "One of the cool things about the PyTorch Geometric library is that it contains out-of-the-box benchmark datasets that are ready to use and explore. A popular dataset is the Cora dataset that is used for supervised graph node classification. (We will talk about these applications in an upcoming tutorial but for now we will focus on the data itself).\n",
        "\n",
        "\"The Cora dataset consists of 2708 scientific publications classified into one of seven classes. The citation network consists of 5429 links. Each publication in the dataset is described by a 0/1-valued word vector indicating the absence/presence of the corresponding word from the dictionary. The dictionary consists of 1433 unique words.\" - [Papers with Code](https://paperswithcode.com/dataset/cora)."
      ],
      "metadata": {
        "id": "LHvE23mwFJ-3"
      }
    },
    {
      "cell_type": "markdown",
      "source": [
        "Let's load the Cora dataset:"
      ],
      "metadata": {
        "id": "_8ganBm_FiaQ"
      }
    },
    {
      "cell_type": "code",
      "source": [
        "from torch_geometric.datasets import Planetoid\n",
        "\n",
        "dataset = Planetoid(root='tmp/Cora', name='Cora')"
      ],
      "metadata": {
        "colab": {
          "base_uri": "https://localhost:8080/"
        },
        "id": "K3bXwOpoE75M",
        "outputId": "dafc73e9-93cb-4b58-a6bd-50e1590f72ba"
      },
      "execution_count": 13,
      "outputs": [
        {
          "output_type": "stream",
          "name": "stderr",
          "text": [
            "Downloading https://github.com/kimiyoung/planetoid/raw/master/data/ind.cora.x\n",
            "Downloading https://github.com/kimiyoung/planetoid/raw/master/data/ind.cora.tx\n",
            "Downloading https://github.com/kimiyoung/planetoid/raw/master/data/ind.cora.allx\n",
            "Downloading https://github.com/kimiyoung/planetoid/raw/master/data/ind.cora.y\n",
            "Downloading https://github.com/kimiyoung/planetoid/raw/master/data/ind.cora.ty\n",
            "Downloading https://github.com/kimiyoung/planetoid/raw/master/data/ind.cora.ally\n",
            "Downloading https://github.com/kimiyoung/planetoid/raw/master/data/ind.cora.graph\n",
            "Downloading https://github.com/kimiyoung/planetoid/raw/master/data/ind.cora.test.index\n",
            "Processing...\n",
            "Done!\n"
          ]
        }
      ]
    },
    {
      "cell_type": "markdown",
      "source": [
        "Let's check some of the properties of the Cora dataset."
      ],
      "metadata": {
        "id": "rQTFnBcuFpLv"
      }
    },
    {
      "cell_type": "code",
      "source": [
        "# number of graphs\n",
        "print(\"Number of graphs: \", len(dataset))\n",
        "\n",
        "# number of features\n",
        "print(\"Number of features: \", dataset.num_features)\n",
        "\n",
        "# number of classes\n",
        "print(\"Number of classes: \", dataset.num_classes)"
      ],
      "metadata": {
        "colab": {
          "base_uri": "https://localhost:8080/"
        },
        "id": "q9jvXbRXFlGG",
        "outputId": "daf5077b-db9e-44e1-b5c0-e84a1f9cc078"
      },
      "execution_count": 14,
      "outputs": [
        {
          "output_type": "stream",
          "name": "stdout",
          "text": [
            "Number of graphs:  1\n",
            "Number of features:  1433\n",
            "Number of classes:  7\n"
          ]
        }
      ]
    },
    {
      "cell_type": "markdown",
      "source": [
        "We can see that this particular graph dataset only contains one graph. Graph data can be very complex and can include multiple graphs depending on the type of data and application. Let's check more feature of the Cora dataset:"
      ],
      "metadata": {
        "id": "57SX-idAF02R"
      }
    },
    {
      "cell_type": "code",
      "source": [
        "# select the first graph\n",
        "data = dataset[0]\n",
        "\n",
        "# number of nodes\n",
        "print(\"Number of nodes: \", data.num_nodes)\n",
        "\n",
        "# number of edges\n",
        "print(\"Number of edges: \", data.num_edges)\n",
        "\n",
        "# check if directed\n",
        "print(\"Is directed: \", data.is_directed())"
      ],
      "metadata": {
        "colab": {
          "base_uri": "https://localhost:8080/"
        },
        "id": "8aOt8HwfFrH_",
        "outputId": "d9aa2cde-6871-454d-b816-1c8f85f6fd71"
      },
      "execution_count": 15,
      "outputs": [
        {
          "output_type": "stream",
          "name": "stdout",
          "text": [
            "Number of nodes:  2708\n",
            "Number of edges:  10556\n",
            "Is directed:  False\n"
          ]
        }
      ]
    },
    {
      "cell_type": "markdown",
      "source": [
        "You can sample nodes from the graph this way:"
      ],
      "metadata": {
        "id": "3XX2MRY4GEQS"
      }
    },
    {
      "cell_type": "code",
      "source": [
        "# sample nodes from the graph\n",
        "print(\"Shape of sample nodes: \", data.x[:5].shape)"
      ],
      "metadata": {
        "colab": {
          "base_uri": "https://localhost:8080/"
        },
        "id": "qGJKbv-4GAtY",
        "outputId": "669dca1b-32b5-4d78-b09f-f2135711612b"
      },
      "execution_count": 16,
      "outputs": [
        {
          "output_type": "stream",
          "name": "stdout",
          "text": [
            "Shape of sample nodes:  torch.Size([5, 1433])\n"
          ]
        }
      ]
    },
    {
      "cell_type": "markdown",
      "source": [
        "We extracted 5 nodes from the graph and checked its shape. You will see that each node has `1433` features."
      ],
      "metadata": {
        "id": "wV1yBQSvGM9q"
      }
    },
    {
      "cell_type": "markdown",
      "source": [
        "Another great advantage of using PyTorch Geometric to load the Cora data is that it comes pre-processed and ready to use. It also has the splits for training, validation and test which we can directly use for training a GNN.\n",
        "\n",
        "Let's check some stats for the partitions of the data:"
      ],
      "metadata": {
        "id": "oXMY2lU0GWQL"
      }
    },
    {
      "cell_type": "code",
      "source": [
        "# check training nodes\n",
        "print(\"# of nodes to train on: \", data.train_mask.sum().item())\n",
        "\n",
        "# check test nodes\n",
        "print(\"# of nodes to test on: \", data.test_mask.sum().item())\n",
        "\n",
        "# check validation nodes\n",
        "print(\"# of nodes to validate on: \", data.val_mask.sum().item())"
      ],
      "metadata": {
        "colab": {
          "base_uri": "https://localhost:8080/"
        },
        "id": "MzITbLkpGIUP",
        "outputId": "a2e22833-2076-4cc0-80d7-104426bba77e"
      },
      "execution_count": 17,
      "outputs": [
        {
          "output_type": "stream",
          "name": "stdout",
          "text": [
            "# of nodes to train on:  140\n",
            "# of nodes to test on:  1000\n",
            "# of nodes to validate on:  500\n"
          ]
        }
      ]
    },
    {
      "cell_type": "markdown",
      "source": [
        "That information is important as it will indicate to our model which nodes to train against and which to test against, and so on.\n",
        "\n",
        "When training neural networks we train them using batches of data. PyTorch Geometric provides efficient processes to load batches of data.\n",
        "\n",
        "PyTorch Geometric contains a data loader which is a very popular feature in PyTorch to efficiently load data when training neural networks. "
      ],
      "metadata": {
        "id": "7IGOoSfwHjeD"
      }
    },
    {
      "cell_type": "markdown",
      "source": [
        "So let's try to load the data using the built in `DataLoader`:"
      ],
      "metadata": {
        "id": "_SUZUnXzH1zN"
      }
    },
    {
      "cell_type": "code",
      "source": [
        "from torch_geometric.datasets import Planetoid\n",
        "from torch_geometric.loader import DataLoader\n",
        "device = torch.device('cuda' if torch.cuda.is_available() else 'cpu')"
      ],
      "metadata": {
        "id": "9tdHl4oZGw_y"
      },
      "execution_count": 18,
      "outputs": []
    },
    {
      "cell_type": "markdown",
      "source": [
        ""
      ],
      "metadata": {
        "id": "uj6lbsnVHzh6"
      }
    },
    {
      "cell_type": "code",
      "source": [
        "print(device)"
      ],
      "metadata": {
        "colab": {
          "base_uri": "https://localhost:8080/"
        },
        "id": "xtJAp4QqIMWw",
        "outputId": "5792db72-00c5-4e04-b7df-c0916a09123e"
      },
      "execution_count": 19,
      "outputs": [
        {
          "output_type": "stream",
          "name": "stdout",
          "text": [
            "cpu\n"
          ]
        }
      ]
    },
    {
      "cell_type": "code",
      "source": [
        "dataset = Planetoid(root='tmp/Cora', name='Cora')\n",
        "data = dataset[0].to(device)"
      ],
      "metadata": {
        "id": "06xbeTJcH8C-"
      },
      "execution_count": 20,
      "outputs": []
    },
    {
      "cell_type": "markdown",
      "source": [
        "Print some quick statistics about the data:"
      ],
      "metadata": {
        "id": "8MH0lQsYIV0V"
      }
    },
    {
      "cell_type": "code",
      "source": [
        "print(\"X shape: \", data.x.shape)\n",
        "print(\"Edge shape: \", data.edge_index.shape)\n",
        "print(\"Y shape: \", data.y.shape)"
      ],
      "metadata": {
        "colab": {
          "base_uri": "https://localhost:8080/"
        },
        "id": "gK7-K6uYH_Iu",
        "outputId": "8789aa47-740d-49a3-cc17-0fefe7170ab8"
      },
      "execution_count": 21,
      "outputs": [
        {
          "output_type": "stream",
          "name": "stdout",
          "text": [
            "X shape:  torch.Size([2708, 1433])\n",
            "Edge shape:  torch.Size([2, 10556])\n",
            "Y shape:  torch.Size([2708])\n"
          ]
        }
      ]
    },
    {
      "cell_type": "markdown",
      "source": [
        "## Model and Training"
      ],
      "metadata": {
        "id": "TUGNxhBOIuYe"
      }
    },
    {
      "cell_type": "markdown",
      "source": [
        "Finally, let's define a standard GCN to train on the Cora dataset. The aim is to train a model that gets better at predicting the class of the node."
      ],
      "metadata": {
        "id": "v1pz24blIwnR"
      }
    },
    {
      "cell_type": "markdown",
      "source": [
        "To keep thins simple we will use the same model definition as used in the [tutorial](https://pytorch-geometric.readthedocs.io/en/latest/notes/introduction.html) we adpated the code from. Note that we are using the built-in `GCNConv` model but you could easily implement your own (something we will cover in a future tutorial). \n",
        "\n",
        "The model below uses two `GCNConv` layers. The first layer is followed by a non-linearity `ReLU` and `Dropout`. The result is fed to the second layer on top of which we apply `Softmax` to get distribution over the number of classes."
      ],
      "metadata": {
        "id": "dhdMehneI2bn"
      }
    },
    {
      "cell_type": "code",
      "source": [
        "import torch.nn.functional as F\n",
        "from torch_geometric.nn import GCNConv\n",
        "\n",
        "class GCN(torch.nn.Module):\n",
        "    def __init__(self):\n",
        "        super().__init__()\n",
        "        \"\"\" GCNConv layers \"\"\"\n",
        "        self.conv1 = GCNConv(data.num_features, 16)\n",
        "        self.conv2 = GCNConv(16, dataset.num_classes)\n",
        "\n",
        "    def forward(self, data):\n",
        "        x, edge_index = data.x, data.edge_index\n",
        "        x = self.conv1(x, edge_index)\n",
        "        x = F.relu(x)\n",
        "        x = F.dropout(x, training=self.training)\n",
        "        x = self.conv2(x, edge_index)\n",
        "\n",
        "        return F.log_softmax(x, dim=1)"
      ],
      "metadata": {
        "id": "q0AiwyWrJGhj"
      },
      "execution_count": 22,
      "outputs": []
    },
    {
      "cell_type": "markdown",
      "source": [
        "Initial model and optimizer"
      ],
      "metadata": {
        "id": "Mfob8LS2KezY"
      }
    },
    {
      "cell_type": "code",
      "source": [
        "model = GCN().to(device)\n",
        "optimizer = torch.optim.Adam(model.parameters(), lr=0.01, weight_decay=5e-4)"
      ],
      "metadata": {
        "id": "GSZL4HS5Kd55"
      },
      "execution_count": 23,
      "outputs": []
    },
    {
      "cell_type": "markdown",
      "source": [
        "Define axcuracy function for evaluating performance:"
      ],
      "metadata": {
        "id": "qpgxKMhmKitV"
      }
    },
    {
      "cell_type": "code",
      "source": [
        "# useful function for computing accuracy\n",
        "def compute_accuracy(pred_y, y):\n",
        "    return (pred_y == y).sum()"
      ],
      "metadata": {
        "id": "abnE-XTmKl92"
      },
      "execution_count": 24,
      "outputs": []
    },
    {
      "cell_type": "markdown",
      "source": [
        "And finally we train the model on the trainin nodes for 200 epochs:"
      ],
      "metadata": {
        "id": "26W7sxVsKrGM"
      }
    },
    {
      "cell_type": "code",
      "source": [
        "# train the model\n",
        "model.train()\n",
        "losses = []\n",
        "accuracies = []\n",
        "for epoch in range(200):\n",
        "    optimizer.zero_grad()\n",
        "    out = model(data)\n",
        "\n",
        "    loss = F.nll_loss(out[data.train_mask], data.y[data.train_mask])\n",
        "    correct = compute_accuracy(out.argmax(dim=1)[data.train_mask], data.y[data.train_mask])\n",
        "    acc = int(correct) / int(data.train_mask.sum())\n",
        "    losses.append(loss.item())\n",
        "    accuracies.append(acc)\n",
        "\n",
        "    loss.backward()\n",
        "    optimizer.step()\n",
        "    if (epoch+1) % 10 == 0:\n",
        "        print('Epoch: {}, Loss: {:.4f}, Training Acc: {:.4f}'.format(epoch+1, loss.item(), acc))\n"
      ],
      "metadata": {
        "colab": {
          "base_uri": "https://localhost:8080/"
        },
        "id": "m39ZbE6RKyim",
        "outputId": "9bbb0320-65f4-46ea-f8c8-d2a787052a95"
      },
      "execution_count": 25,
      "outputs": [
        {
          "output_type": "stream",
          "name": "stdout",
          "text": [
            "Epoch: 10, Loss: 0.9878, Training Acc: 0.7571\n",
            "Epoch: 20, Loss: 0.3602, Training Acc: 0.9714\n",
            "Epoch: 30, Loss: 0.1110, Training Acc: 1.0000\n",
            "Epoch: 40, Loss: 0.1033, Training Acc: 0.9786\n",
            "Epoch: 50, Loss: 0.0625, Training Acc: 1.0000\n",
            "Epoch: 60, Loss: 0.0400, Training Acc: 1.0000\n",
            "Epoch: 70, Loss: 0.0430, Training Acc: 1.0000\n",
            "Epoch: 80, Loss: 0.0375, Training Acc: 1.0000\n",
            "Epoch: 90, Loss: 0.0379, Training Acc: 0.9929\n",
            "Epoch: 100, Loss: 0.0760, Training Acc: 0.9786\n",
            "Epoch: 110, Loss: 0.0452, Training Acc: 0.9929\n",
            "Epoch: 120, Loss: 0.0374, Training Acc: 0.9929\n",
            "Epoch: 130, Loss: 0.0414, Training Acc: 1.0000\n",
            "Epoch: 140, Loss: 0.0323, Training Acc: 0.9929\n",
            "Epoch: 150, Loss: 0.0380, Training Acc: 1.0000\n",
            "Epoch: 160, Loss: 0.0346, Training Acc: 1.0000\n",
            "Epoch: 170, Loss: 0.0183, Training Acc: 1.0000\n",
            "Epoch: 180, Loss: 0.0292, Training Acc: 0.9929\n",
            "Epoch: 190, Loss: 0.0300, Training Acc: 0.9929\n",
            "Epoch: 200, Loss: 0.0280, Training Acc: 1.0000\n"
          ]
        }
      ]
    },
    {
      "cell_type": "code",
      "source": [
        "# plot the loss and accuracy\n",
        "import matplotlib.pyplot as plt\n",
        "plt.plot(losses)\n",
        "plt.plot(accuracies)\n",
        "plt.legend(['Loss', 'Accuracy'])\n",
        "plt.show()"
      ],
      "metadata": {
        "colab": {
          "base_uri": "https://localhost:8080/",
          "height": 265
        },
        "id": "bUtwTwemLJGs",
        "outputId": "a8a28201-1a1e-4502-ec77-60700c3ee774"
      },
      "execution_count": 26,
      "outputs": [
        {
          "output_type": "display_data",
          "data": {
            "image/png": "[encoded data removed]",
            "text/plain": [
              "<Figure size 432x288 with 1 Axes>"
            ]
          },
          "metadata": {
            "needs_background": "light"
          }
        }
      ]
    },
    {
      "cell_type": "markdown",
      "source": [
        "It looks like the model achieves a very high accuracy and small loss on the training dataset. To see how well it generalizes, let's test on the testing nodes:"
      ],
      "metadata": {
        "id": "30cq1fmqK-my"
      }
    },
    {
      "cell_type": "code",
      "source": [
        "# evaluate the model on test set\n",
        "model.eval()\n",
        "pred = model(data).argmax(dim=1)\n",
        "correct = compute_accuracy(pred[data.test_mask], data.y[data.test_mask])\n",
        "acc = int(correct) / int(data.test_mask.sum())\n",
        "print(f'Accuracy: {acc:.4f}')"
      ],
      "metadata": {
        "colab": {
          "base_uri": "https://localhost:8080/"
        },
        "id": "_6Q354OSLVkG",
        "outputId": "34756cdd-03e3-4825-cc8e-dcee355f284e"
      },
      "execution_count": 27,
      "outputs": [
        {
          "output_type": "stream",
          "name": "stdout",
          "text": [
            "Accuracy: 0.8070\n"
          ]
        }
      ]
    },
    {
      "cell_type": "markdown",
      "source": [
        "Very cool! It seems we got a very nice accuracy for the test as well. Our model is doing okay. There are many ways you can go about trying to improve this model, but we will keep that for another time. Hopefully, with this tutorial you got a glimpse of graph data and how to use PyTorch Geometric to train GNNs on a very popular dataset. "
      ],
      "metadata": {
        "id": "iwOLBEpgLW3p"
      }
    },
    {
      "cell_type": "markdown",
      "source": [
        "Note that I haven't tested if this code works with GPUs. I will leave that as an exercise for the learner. "
      ],
      "metadata": {
        "id": "NapVlc1wH_1Y"
      }
    },
    {
      "cell_type": "markdown",
      "source": [
        "If you are interested in the full tutorial and more examples, visit the [PyTorch Geomtric documentation](https://pytorch-geometric.readthedocs.io/en/latest/notes/introduction.html) where I adapted the code from. \n",
        "\n",
        "Feel free to reach out on [Twitter](https://twitter.com/omarsar0) if you have any further questions."
      ],
      "metadata": {
        "id": "ZtRNFO0mL2_b"
      }
    }
  ]
}