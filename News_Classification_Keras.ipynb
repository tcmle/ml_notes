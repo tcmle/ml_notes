{
  "nbformat": 4,
  "nbformat_minor": 0,
  "metadata": {
    "colab": {
      "name": "News_Classification_Keras.ipynb",
      "provenance": [],
      "include_colab_link": true
    },
    "kernelspec": {
      "name": "python3",
      "display_name": "Python 3"
    },
    "language_info": {
      "name": "python"
    }
  },
  "cells": [
    {
      "cell_type": "markdown",
      "metadata": {
        "id": "view-in-github",
        "colab_type": "text"
      },
      "source": [
        "<a href=\"https://colab.research.google.com/github/tcmle/ml_notes/blob/master/News_Classification_Keras.ipynb\" target=\"_parent\"><img src=\"https://colab.research.google.com/assets/colab-badge.svg\" alt=\"Open In Colab\"/></a>"
      ]
    },
    {
      "cell_type": "code",
      "execution_count": null,
      "metadata": {
        "colab": {
          "base_uri": "https://localhost:8080/"
        },
        "id": "rkV3pPyw-BvF",
        "outputId": "23b7c136-7f19-49a8-fa2f-6ba2c6b1b847"
      },
      "outputs": [
        {
          "output_type": "stream",
          "name": "stdout",
          "text": [
            "--2022-01-22 08:48:22--  https://storage.googleapis.com/laurencemoroney-blog.appspot.com/bbc-text.csv\n",
            "Resolving storage.googleapis.com (storage.googleapis.com)... 74.125.124.128, 172.217.212.128, 172.217.214.128, ...\n",
            "Connecting to storage.googleapis.com (storage.googleapis.com)|74.125.124.128|:443... connected.\n",
            "HTTP request sent, awaiting response... 200 OK\n",
            "Length: 5057493 (4.8M) [text/csv]\n",
            "Saving to: ‘/tmp/bbc-text.csv’\n",
            "\n",
            "\r/tmp/bbc-text.csv     0%[                    ]       0  --.-KB/s               \r/tmp/bbc-text.csv   100%[===================>]   4.82M  --.-KB/s    in 0.04s   \n",
            "\n",
            "2022-01-22 08:48:22 (121 MB/s) - ‘/tmp/bbc-text.csv’ saved [5057493/5057493]\n",
            "\n"
          ]
        }
      ],
      "source": [
        "import csv\n",
        "import tensorflow as tf\n",
        "import numpy as np\n",
        "import pandas as pd\n",
        "from tensorflow.keras.preprocessing.text import Tokenizer\n",
        "from tensorflow.keras.preprocessing.sequence import pad_sequences\n",
        "from tensorflow import keras\n",
        "\n",
        "!wget --no-check-certificate \\\n",
        "    https://storage.googleapis.com/laurencemoroney-blog.appspot.com/bbc-text.csv \\\n",
        "    -O /tmp/bbc-text.csv"
      ]
    },
    {
      "cell_type": "code",
      "source": [
        "vocab_size = 10000\n",
        "embedding_dim = 32\n",
        "max_length =120\n",
        "trunc_type = 'post'\n",
        "padding_type = 'post'\n",
        "oov_tok = '<oov>'\n",
        "training_portion = .8"
      ],
      "metadata": {
        "id": "MU39X6oK-MNE"
      },
      "execution_count": null,
      "outputs": []
    },
    {
      "cell_type": "code",
      "source": [
        "sentences = []\n",
        "labels = []\n",
        "stopwords = [ \"a\", \"about\", \"above\", \"after\", \"again\", \"against\", \"all\", \"am\", \"an\", \"and\", \"any\", \"are\", \"as\", \"at\", \"be\", \"because\", \"been\", \"before\", \"being\", \"below\", \"between\", \"both\", \"but\", \"by\", \"could\", \"did\", \"do\", \"does\", \"doing\", \"down\", \"during\", \"each\", \"few\", \"for\", \"from\", \"further\", \"had\", \"has\", \"have\", \"having\", \"he\", \"he'd\", \"he'll\", \"he's\", \"her\", \"here\", \"here's\", \"hers\", \"herself\", \"him\", \"himself\", \"his\", \"how\", \"how's\", \"i\", \"i'd\", \"i'll\", \"i'm\", \"i've\", \"if\", \"in\", \"into\", \"is\", \"it\", \"it's\", \"its\", \"itself\", \"let's\", \"me\", \"more\", \"most\", \"my\", \"myself\", \"nor\", \"of\", \"on\", \"once\", \"only\", \"or\", \"other\", \"ought\", \"our\", \"ours\", \"ourselves\", \"out\", \"over\", \"own\", \"same\", \"she\", \"she'd\", \"she'll\", \"she's\", \"should\", \"so\", \"some\", \"such\", \"than\", \"that\", \"that's\", \"the\", \"their\", \"theirs\", \"them\", \"themselves\", \"then\", \"there\", \"there's\", \"these\", \"they\", \"they'd\", \"they'll\", \"they're\", \"they've\", \"this\", \"those\", \"through\", \"to\", \"too\", \"under\", \"until\", \"up\", \"very\", \"was\", \"we\", \"we'd\", \"we'll\", \"we're\", \"we've\", \"were\", \"what\", \"what's\", \"when\", \"when's\", \"where\", \"where's\", \"which\", \"while\", \"who\", \"who's\", \"whom\", \"why\", \"why's\", \"with\", \"would\", \"you\", \"you'd\", \"you'll\", \"you're\", \"you've\", \"your\", \"yours\", \"yourself\", \"yourselves\" ]\n",
        "print(len(stopwords))\n",
        "print(\"is\" in stopwords)\n",
        "# Expected Output\n",
        "# 153"
      ],
      "metadata": {
        "colab": {
          "base_uri": "https://localhost:8080/"
        },
        "id": "41S89Aga-OYS",
        "outputId": "bc4fde76-34ab-4275-c5a7-752220d1dd41"
      },
      "execution_count": null,
      "outputs": [
        {
          "output_type": "stream",
          "name": "stdout",
          "text": [
            "153\n",
            "True\n"
          ]
        }
      ]
    },
    {
      "cell_type": "code",
      "source": [
        "df=pd.read_csv(\"/tmp/bbc-text.csv\")\n",
        "print(df.head())\n",
        "\n",
        "print(set(df.category))"
      ],
      "metadata": {
        "colab": {
          "base_uri": "https://localhost:8080/"
        },
        "id": "K7k23uFa-QKw",
        "outputId": "9b35c419-3b5f-43a9-a76b-008f59db6624"
      },
      "execution_count": null,
      "outputs": [
        {
          "output_type": "stream",
          "name": "stdout",
          "text": [
            "        category                                               text\n",
            "0           tech  tv future in the hands of viewers with home th...\n",
            "1       business  worldcom boss  left books alone  former worldc...\n",
            "2          sport  tigers wary of farrell  gamble  leicester say ...\n",
            "3          sport  yeading face newcastle in fa cup premiership s...\n",
            "4  entertainment  ocean s twelve raids box office ocean s twelve...\n",
            "{'politics', 'entertainment', 'business', 'sport', 'tech'}\n"
          ]
        }
      ]
    },
    {
      "cell_type": "code",
      "source": [
        "train_size = int(int(df.shape[0])*training_portion)\n",
        "\n",
        "train_sentences = list(df['text'][0:train_size])\n",
        "train_labels = list(df['category'][0:train_size])\n",
        "\n",
        "validation_sentences = list(df['text'][train_size:])\n",
        "validation_labels = list(df['category'][train_size:])"
      ],
      "metadata": {
        "id": "gAr61Ugr-R7q"
      },
      "execution_count": null,
      "outputs": []
    },
    {
      "cell_type": "code",
      "source": [
        "#Remove Stop Words and create revised train_Sentences list\n",
        "train_sentences_final=[]\n",
        "for sentence in train_sentences:\n",
        "  for word in stopwords:\n",
        "    token = \" \" + word + \" \"\n",
        "    sentence = sentence.replace(token, \" \")\n",
        "  train_sentences_final.append(sentence)\n",
        "  \n",
        "\n",
        "print(len(train_sentences_final))\n",
        "\n",
        "validation_sentences_final=[]\n",
        "for sentence in validation_sentences:\n",
        "  for word in stopwords:\n",
        "    token = \" \" + word + \" \"\n",
        "    sentence = sentence.replace(token, \" \")\n",
        "  validation_sentences_final.append(sentence)"
      ],
      "metadata": {
        "colab": {
          "base_uri": "https://localhost:8080/"
        },
        "id": "h7beSRni-VmH",
        "outputId": "6ceaf900-217b-4d31-e582-8e7118af83fb"
      },
      "execution_count": null,
      "outputs": [
        {
          "output_type": "stream",
          "name": "stdout",
          "text": [
            "1780\n"
          ]
        }
      ]
    },
    {
      "cell_type": "code",
      "source": [
        "\n",
        "\n",
        "tokenizer = Tokenizer(oov_token='<oov>',num_words=vocab_size)\n",
        "tokenizer.fit_on_texts(train_sentences_final)\n",
        "word_index = tokenizer.word_index\n",
        "\n",
        "train_sequences = tokenizer.texts_to_sequences(train_sentences_final)\n",
        "train_padded = pad_sequences(train_sequences,maxlen=max_length,padding=padding_type,truncating=trunc_type)\n",
        "validation_sequences = tokenizer.texts_to_sequences(validation_sentences_final)\n",
        "validation_padded = pad_sequences(validation_sequences,maxlen=max_length,padding=padding_type,truncating=trunc_type)"
      ],
      "metadata": {
        "id": "Rrv5Tx9h-YAL"
      },
      "execution_count": null,
      "outputs": []
    },
    {
      "cell_type": "code",
      "source": [
        "label_tokenizer = Tokenizer()\n",
        "label_tokenizer.fit_on_texts(train_labels)\n",
        "\n",
        "training_label_seq = label_tokenizer.texts_to_sequences(train_labels)\n",
        "validation_label_seq = label_tokenizer.texts_to_sequences(validation_labels)\n",
        "\n",
        "training_label_seq = np.array(training_label_seq)\n",
        "validation_label_seq=np.array(validation_label_seq)"
      ],
      "metadata": {
        "id": "eB8xU1GG-dyk"
      },
      "execution_count": null,
      "outputs": []
    },
    {
      "cell_type": "code",
      "source": [
        "num_epochs = 10\n",
        "with tf.device('/device:GPU:0'):\n",
        "\n",
        "  model = tf.keras.Sequential([\n",
        "                              tf.keras.layers.Embedding(input_dim=vocab_size,output_dim=embedding_dim,input_length=max_length),\n",
        "                              tf.keras.layers.GlobalAveragePooling1D(),\n",
        "                              tf.keras.layers.Dense(units=24,activation='relu'),\n",
        "                              tf.keras.layers.Dense(units=6,activation='softmax')\n",
        "                              \n",
        "\n",
        "  ])\n",
        "  model.compile(loss='sparse_categorical_crossentropy',optimizer='adam',metrics=['accuracy'])\n",
        "  model.summary()\n",
        "\n",
        "  history = model.fit(train_padded,training_label_seq,epochs=num_epochs,validation_data=(validation_padded,validation_label_seq),verbose=2)"
      ],
      "metadata": {
        "colab": {
          "base_uri": "https://localhost:8080/"
        },
        "id": "cOL3FMjS-f5a",
        "outputId": "da27782a-3798-4499-800e-4217ee40501f"
      },
      "execution_count": null,
      "outputs": [
        {
          "output_type": "stream",
          "name": "stdout",
          "text": [
            "Model: \"sequential\"\n",
            "_________________________________________________________________\n",
            " Layer (type)                Output Shape              Param #   \n",
            "=================================================================\n",
            " embedding (Embedding)       (None, 120, 32)           320000    \n",
            "                                                                 \n",
            " global_average_pooling1d (G  (None, 32)               0         \n",
            " lobalAveragePooling1D)                                          \n",
            "                                                                 \n",
            " dense (Dense)               (None, 24)                792       \n",
            "                                                                 \n",
            " dense_1 (Dense)             (None, 6)                 150       \n",
            "                                                                 \n",
            "=================================================================\n",
            "Total params: 320,942\n",
            "Trainable params: 320,942\n",
            "Non-trainable params: 0\n",
            "_________________________________________________________________\n",
            "Epoch 1/10\n",
            "56/56 - 1s - loss: 1.7384 - accuracy: 0.5573 - val_loss: 1.6621 - val_accuracy: 0.6831 - 1s/epoch - 23ms/step\n",
            "Epoch 2/10\n",
            "56/56 - 0s - loss: 1.5166 - accuracy: 0.7567 - val_loss: 1.3599 - val_accuracy: 0.7798 - 398ms/epoch - 7ms/step\n",
            "Epoch 3/10\n",
            "56/56 - 0s - loss: 1.1034 - accuracy: 0.8202 - val_loss: 0.9429 - val_accuracy: 0.8270 - 403ms/epoch - 7ms/step\n",
            "Epoch 4/10\n",
            "56/56 - 0s - loss: 0.6856 - accuracy: 0.9163 - val_loss: 0.6335 - val_accuracy: 0.9079 - 348ms/epoch - 6ms/step\n",
            "Epoch 5/10\n",
            "56/56 - 0s - loss: 0.4082 - accuracy: 0.9730 - val_loss: 0.4405 - val_accuracy: 0.9303 - 368ms/epoch - 7ms/step\n",
            "Epoch 6/10\n",
            "56/56 - 0s - loss: 0.2409 - accuracy: 0.9876 - val_loss: 0.3309 - val_accuracy: 0.9371 - 355ms/epoch - 6ms/step\n",
            "Epoch 7/10\n",
            "56/56 - 0s - loss: 0.1459 - accuracy: 0.9944 - val_loss: 0.2635 - val_accuracy: 0.9438 - 376ms/epoch - 7ms/step\n",
            "Epoch 8/10\n",
            "56/56 - 0s - loss: 0.0939 - accuracy: 0.9978 - val_loss: 0.2260 - val_accuracy: 0.9506 - 381ms/epoch - 7ms/step\n",
            "Epoch 9/10\n",
            "56/56 - 0s - loss: 0.0635 - accuracy: 0.9994 - val_loss: 0.2061 - val_accuracy: 0.9483 - 362ms/epoch - 6ms/step\n",
            "Epoch 10/10\n",
            "56/56 - 0s - loss: 0.0453 - accuracy: 0.9994 - val_loss: 0.1893 - val_accuracy: 0.9528 - 420ms/epoch - 7ms/step\n"
          ]
        }
      ]
    },
    {
      "cell_type": "code",
      "source": [
        "model.save(\"simple_model.h5\")"
      ],
      "metadata": {
        "id": "jaN7sbcF-i2G"
      },
      "execution_count": null,
      "outputs": []
    },
    {
      "cell_type": "code",
      "source": [
        "test_str1=\"\"\"\n",
        "For gainful and productive employment growth of this magnitude, India's GDP will need to grow by 8- 8.5 per cent annually over 2023-30, after the Covid-driven dip and recovery. In this high-growth path, manufacturing and construction sectors would need to amplify the most, while knowledge and labour-intensive services continue their momentum,\" senior partner McKinsey & Co., Shirish Sankhe told Business Today, while also referring to recommendations made in the global management firm's 2020 study, India's Turning Point. \n",
        "\n",
        "The world's fifth-largest economy is expected to witness the entry of six crore new workers as well as the movement of three crore workers from farm to non-farm jobs. \n",
        "\"\"\"\n",
        "\n",
        "sample1=list(test_str1.split(\" \"))\n",
        "\n",
        "sample1=[sample1]\n",
        "\n",
        "sample1_sequence=tokenizer.texts_to_sequences(sample1)\n",
        "sample1_sequence_padded=pad_sequences(sample1_sequence,maxlen=max_length,padding=\"post\",truncating=\"post\")\n",
        "output=model.predict(sample1_sequence_padded)\n",
        "\n",
        "print(output)\n",
        "print(np.argmax(output))\n",
        "\n",
        "dict1={'sport': 1, 'business': 2, 'politics': 3, 'entertainment': 4, 'tech': 5}\n",
        "\n"
      ],
      "metadata": {
        "colab": {
          "base_uri": "https://localhost:8080/"
        },
        "id": "E_fa0NU4-475",
        "outputId": "353e1f31-dceb-4efe-943c-3d1378a9a7e2"
      },
      "execution_count": null,
      "outputs": [
        {
          "output_type": "stream",
          "name": "stdout",
          "text": [
            "[[0.00085844 0.02408066 0.41381165 0.05377932 0.3229487  0.18452126]]\n",
            "2\n"
          ]
        }
      ]
    },
    {
      "cell_type": "code",
      "source": [
        "import matplotlib.pyplot as plt\n",
        "\n",
        "\n",
        "def plot_graphs(history, string):\n",
        "  plt.plot(history.history[string])\n",
        "  plt.plot(history.history['val_'+string])\n",
        "  plt.xlabel(\"Epochs\")\n",
        "  plt.ylabel(string)\n",
        "  plt.legend([string, 'val_'+string])\n",
        "  plt.show()\n",
        "  \n",
        "plot_graphs(history, \"accuracy\")\n",
        "plot_graphs(history, \"loss\")"
      ],
      "metadata": {
        "colab": {
          "base_uri": "https://localhost:8080/",
          "height": 541
        },
        "id": "33yoUe1w_U6h",
        "outputId": "617a553a-8bf2-467a-bf9e-c419fbe6a35c"
      },
      "execution_count": null,
      "outputs": [
        {
          "output_type": "display_data",
          "data": {
            "image/png": "[encoded data removed]",
            "text/plain": [
              "<Figure size 432x288 with 1 Axes>"
            ]
          },
          "metadata": {
            "needs_background": "light"
          }
        },
        {
          "output_type": "display_data",
          "data": {
            "image/png": "[encoded data removed]",
            "text/plain": [
              "<Figure size 432x288 with 1 Axes>"
            ]
          },
          "metadata": {
            "needs_background": "light"
          }
        }
      ]
    }
  ]
}