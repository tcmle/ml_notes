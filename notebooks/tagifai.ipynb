{
  "nbformat": 4,
  "nbformat_minor": 0,
  "metadata": {
    "accelerator": "GPU",
    "colab": {
      "name": "tagifai.ipynb",
      "provenance": [],
      "collapsed_sections": [],
      "toc_visible": true,
      "include_colab_link": true
    },
    "kernelspec": {
      "display_name": "Python 3",
      "language": "python",
      "name": "python3"
    },
    "language_info": {
      "codemirror_mode": {
        "name": "ipython",
        "version": 3
      },
      "file_extension": ".py",
      "mimetype": "text/x-python",
      "name": "python",
      "nbconvert_exporter": "python",
      "pygments_lexer": "ipython3",
      "version": "3.7.10"
    },
    "toc-autonumbering": false,
    "toc-showcode": false,
    "toc-showmarkdowntxt": false,
    "toc-showtags": false,
    "widgets": {
      "application/vnd.jupyter.widget-state+json": {
        "58d6ea7524b14fd09db029ff50a9f3c2": {
          "model_module": "@jupyter-widgets/controls",
          "model_name": "VBoxModel",
          "model_module_version": "1.5.0",
          "state": {
            "_view_name": "VBoxView",
            "_dom_classes": [
              "widget-interact"
            ],
            "_model_name": "VBoxModel",
            "_view_module": "@jupyter-widgets/controls",
            "_model_module_version": "1.5.0",
            "_view_count": null,
            "_view_module_version": "1.5.0",
            "box_style": "",
            "layout": "IPY_MODEL_25dd1bcd82db4beca1efa31fbc3a9600",
            "_model_module": "@jupyter-widgets/controls",
            "children": [
              "IPY_MODEL_4a1e7aa4d2d54fd0843e034d2c734afd",
              "IPY_MODEL_5399294b40ea42d1988e525f03116534"
            ]
          }
        },
        "25dd1bcd82db4beca1efa31fbc3a9600": {
          "model_module": "@jupyter-widgets/base",
          "model_name": "LayoutModel",
          "model_module_version": "1.2.0",
          "state": {
            "_view_name": "LayoutView",
            "grid_template_rows": null,
            "right": null,
            "justify_content": null,
            "_view_module": "@jupyter-widgets/base",
            "overflow": null,
            "_model_module_version": "1.2.0",
            "_view_count": null,
            "flex_flow": null,
            "width": null,
            "min_width": null,
            "border": null,
            "align_items": null,
            "bottom": null,
            "_model_module": "@jupyter-widgets/base",
            "top": null,
            "grid_column": null,
            "overflow_y": null,
            "overflow_x": null,
            "grid_auto_flow": null,
            "grid_area": null,
            "grid_template_columns": null,
            "flex": null,
            "_model_name": "LayoutModel",
            "justify_items": null,
            "grid_row": null,
            "max_height": null,
            "align_content": null,
            "visibility": null,
            "align_self": null,
            "height": null,
            "min_height": null,
            "padding": null,
            "grid_auto_rows": null,
            "grid_gap": null,
            "max_width": null,
            "order": null,
            "_view_module_version": "1.2.0",
            "grid_template_areas": null,
            "object_position": null,
            "object_fit": null,
            "grid_auto_columns": null,
            "margin": null,
            "display": null,
            "left": null
          }
        },
        "4a1e7aa4d2d54fd0843e034d2c734afd": {
          "model_module": "@jupyter-widgets/controls",
          "model_name": "DropdownModel",
          "model_module_version": "1.5.0",
          "state": {
            "_options_labels": [
              "natural-language-processing",
              "computer-vision",
              "pytorch",
              "tensorflow",
              "transformers",
              "attention",
              "convolutional-neural-networks",
              "keras",
              "graphs",
              "embeddings",
              "generative-adversarial-networks",
              "object-detection",
              "huggingface",
              "scikit-learn",
              "reinforcement-learning",
              "representation-learning",
              "interpretability",
              "graph-neural-networks",
              "language-modeling",
              "image-classification",
              "production",
              "regression",
              "segmentation",
              "transfer-learning",
              "autoencoders",
              "data-augmentation",
              "self-supervised-learning",
              "tensorflow-js",
              "unsupervised-learning",
              "flask",
              "time-series",
              "node-classification",
              "question-answering",
              "pretraining"
            ],
            "_view_name": "DropdownView",
            "style": "IPY_MODEL_2049693e671b476aa587af820c5400c0",
            "_dom_classes": [],
            "description": "tag",
            "_model_name": "DropdownModel",
            "index": 2,
            "_view_module": "@jupyter-widgets/controls",
            "_model_module_version": "1.5.0",
            "_view_count": null,
            "disabled": false,
            "_view_module_version": "1.5.0",
            "description_tooltip": null,
            "_model_module": "@jupyter-widgets/controls",
            "layout": "IPY_MODEL_f3482a74b9c94c72b9224068848c0543"
          }
        },
        "5399294b40ea42d1988e525f03116534": {
          "model_module": "@jupyter-widgets/output",
          "model_name": "OutputModel",
          "model_module_version": "1.0.0",
          "state": {
            "_view_name": "OutputView",
            "msg_id": "",
            "_dom_classes": [],
            "_model_name": "OutputModel",
            "outputs": [
              {
                "output_type": "display_data",
                "data": {
                  "image/png": "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\n",
                  "text/plain": "<Figure size 1080x360 with 1 Axes>"
                },
                "metadata": {}
              }
            ],
            "_view_module": "@jupyter-widgets/output",
            "_model_module_version": "1.0.0",
            "_view_count": null,
            "_view_module_version": "1.0.0",
            "layout": "IPY_MODEL_bb9cb9852e20461f85655dd506474c4c",
            "_model_module": "@jupyter-widgets/output"
          }
        },
        "2049693e671b476aa587af820c5400c0": {
          "model_module": "@jupyter-widgets/controls",
          "model_name": "DescriptionStyleModel",
          "model_module_version": "1.5.0",
          "state": {
            "_view_name": "StyleView",
            "_model_name": "DescriptionStyleModel",
            "description_width": "",
            "_view_module": "@jupyter-widgets/base",
            "_model_module_version": "1.5.0",
            "_view_count": null,
            "_view_module_version": "1.2.0",
            "_model_module": "@jupyter-widgets/controls"
          }
        },
        "f3482a74b9c94c72b9224068848c0543": {
          "model_module": "@jupyter-widgets/base",
          "model_name": "LayoutModel",
          "model_module_version": "1.2.0",
          "state": {
            "_view_name": "LayoutView",
            "grid_template_rows": null,
            "right": null,
            "justify_content": null,
            "_view_module": "@jupyter-widgets/base",
            "overflow": null,
            "_model_module_version": "1.2.0",
            "_view_count": null,
            "flex_flow": null,
            "width": null,
            "min_width": null,
            "border": null,
            "align_items": null,
            "bottom": null,
            "_model_module": "@jupyter-widgets/base",
            "top": null,
            "grid_column": null,
            "overflow_y": null,
            "overflow_x": null,
            "grid_auto_flow": null,
            "grid_area": null,
            "grid_template_columns": null,
            "flex": null,
            "_model_name": "LayoutModel",
            "justify_items": null,
            "grid_row": null,
            "max_height": null,
            "align_content": null,
            "visibility": null,
            "align_self": null,
            "height": null,
            "min_height": null,
            "padding": null,
            "grid_auto_rows": null,
            "grid_gap": null,
            "max_width": null,
            "order": null,
            "_view_module_version": "1.2.0",
            "grid_template_areas": null,
            "object_position": null,
            "object_fit": null,
            "grid_auto_columns": null,
            "margin": null,
            "display": null,
            "left": null
          }
        },
        "bb9cb9852e20461f85655dd506474c4c": {
          "model_module": "@jupyter-widgets/base",
          "model_name": "LayoutModel",
          "model_module_version": "1.2.0",
          "state": {
            "_view_name": "LayoutView",
            "grid_template_rows": null,
            "right": null,
            "justify_content": null,
            "_view_module": "@jupyter-widgets/base",
            "overflow": null,
            "_model_module_version": "1.2.0",
            "_view_count": null,
            "flex_flow": null,
            "width": null,
            "min_width": null,
            "border": null,
            "align_items": null,
            "bottom": null,
            "_model_module": "@jupyter-widgets/base",
            "top": null,
            "grid_column": null,
            "overflow_y": null,
            "overflow_x": null,
            "grid_auto_flow": null,
            "grid_area": null,
            "grid_template_columns": null,
            "flex": null,
            "_model_name": "LayoutModel",
            "justify_items": null,
            "grid_row": null,
            "max_height": null,
            "align_content": null,
            "visibility": null,
            "align_self": null,
            "height": null,
            "min_height": null,
            "padding": null,
            "grid_auto_rows": null,
            "grid_gap": null,
            "max_width": null,
            "order": null,
            "_view_module_version": "1.2.0",
            "grid_template_areas": null,
            "object_position": null,
            "object_fit": null,
            "grid_auto_columns": null,
            "margin": null,
            "display": null,
            "left": null
          }
        },
        "c577a0a7f68c406791e1c202f033831e": {
          "model_module": "@jupyter-widgets/controls",
          "model_name": "HBoxModel",
          "model_module_version": "1.5.0",
          "state": {
            "_view_name": "HBoxView",
            "_dom_classes": [],
            "_model_name": "HBoxModel",
            "_view_module": "@jupyter-widgets/controls",
            "_model_module_version": "1.5.0",
            "_view_count": null,
            "_view_module_version": "1.5.0",
            "box_style": "",
            "layout": "IPY_MODEL_df33fdb1fec24575a12b95b19903e829",
            "_model_module": "@jupyter-widgets/controls",
            "children": [
              "IPY_MODEL_39c1d4e8c10649e1b16bd15dfa8a3c7c",
              "IPY_MODEL_2be1d3d668734aeb99d20466179fc16c",
              "IPY_MODEL_b9995be561a44394afb5e2c349eb22d1"
            ]
          }
        },
        "df33fdb1fec24575a12b95b19903e829": {
          "model_module": "@jupyter-widgets/base",
          "model_name": "LayoutModel",
          "model_module_version": "1.2.0",
          "state": {
            "_view_name": "LayoutView",
            "grid_template_rows": null,
            "right": null,
            "justify_content": null,
            "_view_module": "@jupyter-widgets/base",
            "overflow": null,
            "_model_module_version": "1.2.0",
            "_view_count": null,
            "flex_flow": null,
            "width": null,
            "min_width": null,
            "border": null,
            "align_items": null,
            "bottom": null,
            "_model_module": "@jupyter-widgets/base",
            "top": null,
            "grid_column": null,
            "overflow_y": null,
            "overflow_x": null,
            "grid_auto_flow": null,
            "grid_area": null,
            "grid_template_columns": null,
            "flex": null,
            "_model_name": "LayoutModel",
            "justify_items": null,
            "grid_row": null,
            "max_height": null,
            "align_content": null,
            "visibility": null,
            "align_self": null,
            "height": null,
            "min_height": null,
            "padding": null,
            "grid_auto_rows": null,
            "grid_gap": null,
            "max_width": null,
            "order": null,
            "_view_module_version": "1.2.0",
            "grid_template_areas": null,
            "object_position": null,
            "object_fit": null,
            "grid_auto_columns": null,
            "margin": null,
            "display": null,
            "left": null
          }
        },
        "39c1d4e8c10649e1b16bd15dfa8a3c7c": {
          "model_module": "@jupyter-widgets/controls",
          "model_name": "HTMLModel",
          "model_module_version": "1.5.0",
          "state": {
            "_view_name": "HTMLView",
            "style": "IPY_MODEL_b2cff7aa77c54090888570e50847c921",
            "_dom_classes": [],
            "description": "",
            "_model_name": "HTMLModel",
            "placeholder": "​",
            "_view_module": "@jupyter-widgets/controls",
            "_model_module_version": "1.5.0",
            "value": "Downloading: 100%",
            "_view_count": null,
            "_view_module_version": "1.5.0",
            "description_tooltip": null,
            "_model_module": "@jupyter-widgets/controls",
            "layout": "IPY_MODEL_036673de777342b6b23dad2c03ed1545"
          }
        },
        "2be1d3d668734aeb99d20466179fc16c": {
          "model_module": "@jupyter-widgets/controls",
          "model_name": "FloatProgressModel",
          "model_module_version": "1.5.0",
          "state": {
            "_view_name": "ProgressView",
            "style": "IPY_MODEL_b3797ac8d4ae453f8e7d4ab86e5c3f77",
            "_dom_classes": [],
            "description": "",
            "_model_name": "FloatProgressModel",
            "bar_style": "success",
            "max": 442,
            "_view_module": "@jupyter-widgets/controls",
            "_model_module_version": "1.5.0",
            "value": 442,
            "_view_count": null,
            "_view_module_version": "1.5.0",
            "orientation": "horizontal",
            "min": 0,
            "description_tooltip": null,
            "_model_module": "@jupyter-widgets/controls",
            "layout": "IPY_MODEL_8b8ff22defe345d0a9c34445c1fe7602"
          }
        },
        "b9995be561a44394afb5e2c349eb22d1": {
          "model_module": "@jupyter-widgets/controls",
          "model_name": "HTMLModel",
          "model_module_version": "1.5.0",
          "state": {
            "_view_name": "HTMLView",
            "style": "IPY_MODEL_3f2689a1b9c141509bc2db7f007c4341",
            "_dom_classes": [],
            "description": "",
            "_model_name": "HTMLModel",
            "placeholder": "​",
            "_view_module": "@jupyter-widgets/controls",
            "_model_module_version": "1.5.0",
            "value": " 442/442 [00:00&lt;00:00, 3.52kB/s]",
            "_view_count": null,
            "_view_module_version": "1.5.0",
            "description_tooltip": null,
            "_model_module": "@jupyter-widgets/controls",
            "layout": "IPY_MODEL_12f5580774d845ca91e4f98324a52a26"
          }
        },
        "b2cff7aa77c54090888570e50847c921": {
          "model_module": "@jupyter-widgets/controls",
          "model_name": "DescriptionStyleModel",
          "model_module_version": "1.5.0",
          "state": {
            "_view_name": "StyleView",
            "_model_name": "DescriptionStyleModel",
            "description_width": "",
            "_view_module": "@jupyter-widgets/base",
            "_model_module_version": "1.5.0",
            "_view_count": null,
            "_view_module_version": "1.2.0",
            "_model_module": "@jupyter-widgets/controls"
          }
        },
        "036673de777342b6b23dad2c03ed1545": {
          "model_module": "@jupyter-widgets/base",
          "model_name": "LayoutModel",
          "model_module_version": "1.2.0",
          "state": {
            "_view_name": "LayoutView",
            "grid_template_rows": null,
            "right": null,
            "justify_content": null,
            "_view_module": "@jupyter-widgets/base",
            "overflow": null,
            "_model_module_version": "1.2.0",
            "_view_count": null,
            "flex_flow": null,
            "width": null,
            "min_width": null,
            "border": null,
            "align_items": null,
            "bottom": null,
            "_model_module": "@jupyter-widgets/base",
            "top": null,
            "grid_column": null,
            "overflow_y": null,
            "overflow_x": null,
            "grid_auto_flow": null,
            "grid_area": null,
            "grid_template_columns": null,
            "flex": null,
            "_model_name": "LayoutModel",
            "justify_items": null,
            "grid_row": null,
            "max_height": null,
            "align_content": null,
            "visibility": null,
            "align_self": null,
            "height": null,
            "min_height": null,
            "padding": null,
            "grid_auto_rows": null,
            "grid_gap": null,
            "max_width": null,
            "order": null,
            "_view_module_version": "1.2.0",
            "grid_template_areas": null,
            "object_position": null,
            "object_fit": null,
            "grid_auto_columns": null,
            "margin": null,
            "display": null,
            "left": null
          }
        },
        "b3797ac8d4ae453f8e7d4ab86e5c3f77": {
          "model_module": "@jupyter-widgets/controls",
          "model_name": "ProgressStyleModel",
          "model_module_version": "1.5.0",
          "state": {
            "_view_name": "StyleView",
            "_model_name": "ProgressStyleModel",
            "description_width": "",
            "_view_module": "@jupyter-widgets/base",
            "_model_module_version": "1.5.0",
            "_view_count": null,
            "_view_module_version": "1.2.0",
            "bar_color": null,
            "_model_module": "@jupyter-widgets/controls"
          }
        },
        "8b8ff22defe345d0a9c34445c1fe7602": {
          "model_module": "@jupyter-widgets/base",
          "model_name": "LayoutModel",
          "model_module_version": "1.2.0",
          "state": {
            "_view_name": "LayoutView",
            "grid_template_rows": null,
            "right": null,
            "justify_content": null,
            "_view_module": "@jupyter-widgets/base",
            "overflow": null,
            "_model_module_version": "1.2.0",
            "_view_count": null,
            "flex_flow": null,
            "width": null,
            "min_width": null,
            "border": null,
            "align_items": null,
            "bottom": null,
            "_model_module": "@jupyter-widgets/base",
            "top": null,
            "grid_column": null,
            "overflow_y": null,
            "overflow_x": null,
            "grid_auto_flow": null,
            "grid_area": null,
            "grid_template_columns": null,
            "flex": null,
            "_model_name": "LayoutModel",
            "justify_items": null,
            "grid_row": null,
            "max_height": null,
            "align_content": null,
            "visibility": null,
            "align_self": null,
            "height": null,
            "min_height": null,
            "padding": null,
            "grid_auto_rows": null,
            "grid_gap": null,
            "max_width": null,
            "order": null,
            "_view_module_version": "1.2.0",
            "grid_template_areas": null,
            "object_position": null,
            "object_fit": null,
            "grid_auto_columns": null,
            "margin": null,
            "display": null,
            "left": null
          }
        },
        "3f2689a1b9c141509bc2db7f007c4341": {
          "model_module": "@jupyter-widgets/controls",
          "model_name": "DescriptionStyleModel",
          "model_module_version": "1.5.0",
          "state": {
            "_view_name": "StyleView",
            "_model_name": "DescriptionStyleModel",
            "description_width": "",
            "_view_module": "@jupyter-widgets/base",
            "_model_module_version": "1.5.0",
            "_view_count": null,
            "_view_module_version": "1.2.0",
            "_model_module": "@jupyter-widgets/controls"
          }
        },
        "12f5580774d845ca91e4f98324a52a26": {
          "model_module": "@jupyter-widgets/base",
          "model_name": "LayoutModel",
          "model_module_version": "1.2.0",
          "state": {
            "_view_name": "LayoutView",
            "grid_template_rows": null,
            "right": null,
            "justify_content": null,
            "_view_module": "@jupyter-widgets/base",
            "overflow": null,
            "_model_module_version": "1.2.0",
            "_view_count": null,
            "flex_flow": null,
            "width": null,
            "min_width": null,
            "border": null,
            "align_items": null,
            "bottom": null,
            "_model_module": "@jupyter-widgets/base",
            "top": null,
            "grid_column": null,
            "overflow_y": null,
            "overflow_x": null,
            "grid_auto_flow": null,
            "grid_area": null,
            "grid_template_columns": null,
            "flex": null,
            "_model_name": "LayoutModel",
            "justify_items": null,
            "grid_row": null,
            "max_height": null,
            "align_content": null,
            "visibility": null,
            "align_self": null,
            "height": null,
            "min_height": null,
            "padding": null,
            "grid_auto_rows": null,
            "grid_gap": null,
            "max_width": null,
            "order": null,
            "_view_module_version": "1.2.0",
            "grid_template_areas": null,
            "object_position": null,
            "object_fit": null,
            "grid_auto_columns": null,
            "margin": null,
            "display": null,
            "left": null
          }
        },
        "a1430dcc5dde4170aec0f32e627693ac": {
          "model_module": "@jupyter-widgets/controls",
          "model_name": "HBoxModel",
          "model_module_version": "1.5.0",
          "state": {
            "_view_name": "HBoxView",
            "_dom_classes": [],
            "_model_name": "HBoxModel",
            "_view_module": "@jupyter-widgets/controls",
            "_model_module_version": "1.5.0",
            "_view_count": null,
            "_view_module_version": "1.5.0",
            "box_style": "",
            "layout": "IPY_MODEL_729a4b699699455db1b5638816b35d2e",
            "_model_module": "@jupyter-widgets/controls",
            "children": [
              "IPY_MODEL_d1f966cf45404449bf46fc008d09c787",
              "IPY_MODEL_ca15c80bcb7445489a75d7d873073b5b",
              "IPY_MODEL_21df25f0e18441769308da932804b600"
            ]
          }
        },
        "729a4b699699455db1b5638816b35d2e": {
          "model_module": "@jupyter-widgets/base",
          "model_name": "LayoutModel",
          "model_module_version": "1.2.0",
          "state": {
            "_view_name": "LayoutView",
            "grid_template_rows": null,
            "right": null,
            "justify_content": null,
            "_view_module": "@jupyter-widgets/base",
            "overflow": null,
            "_model_module_version": "1.2.0",
            "_view_count": null,
            "flex_flow": null,
            "width": null,
            "min_width": null,
            "border": null,
            "align_items": null,
            "bottom": null,
            "_model_module": "@jupyter-widgets/base",
            "top": null,
            "grid_column": null,
            "overflow_y": null,
            "overflow_x": null,
            "grid_auto_flow": null,
            "grid_area": null,
            "grid_template_columns": null,
            "flex": null,
            "_model_name": "LayoutModel",
            "justify_items": null,
            "grid_row": null,
            "max_height": null,
            "align_content": null,
            "visibility": null,
            "align_self": null,
            "height": null,
            "min_height": null,
            "padding": null,
            "grid_auto_rows": null,
            "grid_gap": null,
            "max_width": null,
            "order": null,
            "_view_module_version": "1.2.0",
            "grid_template_areas": null,
            "object_position": null,
            "object_fit": null,
            "grid_auto_columns": null,
            "margin": null,
            "display": null,
            "left": null
          }
        },
        "d1f966cf45404449bf46fc008d09c787": {
          "model_module": "@jupyter-widgets/controls",
          "model_name": "HTMLModel",
          "model_module_version": "1.5.0",
          "state": {
            "_view_name": "HTMLView",
            "style": "IPY_MODEL_0901afb3d1854176b5d08c59d2af87e7",
            "_dom_classes": [],
            "description": "",
            "_model_name": "HTMLModel",
            "placeholder": "​",
            "_view_module": "@jupyter-widgets/controls",
            "_model_module_version": "1.5.0",
            "value": "Downloading: 100%",
            "_view_count": null,
            "_view_module_version": "1.5.0",
            "description_tooltip": null,
            "_model_module": "@jupyter-widgets/controls",
            "layout": "IPY_MODEL_94b260ee9eab4cc79e0760ed9b00f9be"
          }
        },
        "ca15c80bcb7445489a75d7d873073b5b": {
          "model_module": "@jupyter-widgets/controls",
          "model_name": "FloatProgressModel",
          "model_module_version": "1.5.0",
          "state": {
            "_view_name": "ProgressView",
            "style": "IPY_MODEL_95e8bf7eb276493ca1a50837ba8bf724",
            "_dom_classes": [],
            "description": "",
            "_model_name": "FloatProgressModel",
            "bar_style": "success",
            "max": 231508,
            "_view_module": "@jupyter-widgets/controls",
            "_model_module_version": "1.5.0",
            "value": 231508,
            "_view_count": null,
            "_view_module_version": "1.5.0",
            "orientation": "horizontal",
            "min": 0,
            "description_tooltip": null,
            "_model_module": "@jupyter-widgets/controls",
            "layout": "IPY_MODEL_b8fd81480fe54407ac336e2d2cba4446"
          }
        },
        "21df25f0e18441769308da932804b600": {
          "model_module": "@jupyter-widgets/controls",
          "model_name": "HTMLModel",
          "model_module_version": "1.5.0",
          "state": {
            "_view_name": "HTMLView",
            "style": "IPY_MODEL_00a85e32e03e4575bf83c337c22faa60",
            "_dom_classes": [],
            "description": "",
            "_model_name": "HTMLModel",
            "placeholder": "​",
            "_view_module": "@jupyter-widgets/controls",
            "_model_module_version": "1.5.0",
            "value": " 232k/232k [00:00&lt;00:00, 2.78MB/s]",
            "_view_count": null,
            "_view_module_version": "1.5.0",
            "description_tooltip": null,
            "_model_module": "@jupyter-widgets/controls",
            "layout": "IPY_MODEL_f5fb45b8367a4931a00fa12e6e0a6db3"
          }
        },
        "0901afb3d1854176b5d08c59d2af87e7": {
          "model_module": "@jupyter-widgets/controls",
          "model_name": "DescriptionStyleModel",
          "model_module_version": "1.5.0",
          "state": {
            "_view_name": "StyleView",
            "_model_name": "DescriptionStyleModel",
            "description_width": "",
            "_view_module": "@jupyter-widgets/base",
            "_model_module_version": "1.5.0",
            "_view_count": null,
            "_view_module_version": "1.2.0",
            "_model_module": "@jupyter-widgets/controls"
          }
        },
        "94b260ee9eab4cc79e0760ed9b00f9be": {
          "model_module": "@jupyter-widgets/base",
          "model_name": "LayoutModel",
          "model_module_version": "1.2.0",
          "state": {
            "_view_name": "LayoutView",
            "grid_template_rows": null,
            "right": null,
            "justify_content": null,
            "_view_module": "@jupyter-widgets/base",
            "overflow": null,
            "_model_module_version": "1.2.0",
            "_view_count": null,
            "flex_flow": null,
            "width": null,
            "min_width": null,
            "border": null,
            "align_items": null,
            "bottom": null,
            "_model_module": "@jupyter-widgets/base",
            "top": null,
            "grid_column": null,
            "overflow_y": null,
            "overflow_x": null,
            "grid_auto_flow": null,
            "grid_area": null,
            "grid_template_columns": null,
            "flex": null,
            "_model_name": "LayoutModel",
            "justify_items": null,
            "grid_row": null,
            "max_height": null,
            "align_content": null,
            "visibility": null,
            "align_self": null,
            "height": null,
            "min_height": null,
            "padding": null,
            "grid_auto_rows": null,
            "grid_gap": null,
            "max_width": null,
            "order": null,
            "_view_module_version": "1.2.0",
            "grid_template_areas": null,
            "object_position": null,
            "object_fit": null,
            "grid_auto_columns": null,
            "margin": null,
            "display": null,
            "left": null
          }
        },
        "95e8bf7eb276493ca1a50837ba8bf724": {
          "model_module": "@jupyter-widgets/controls",
          "model_name": "ProgressStyleModel",
          "model_module_version": "1.5.0",
          "state": {
            "_view_name": "StyleView",
            "_model_name": "ProgressStyleModel",
            "description_width": "",
            "_view_module": "@jupyter-widgets/base",
            "_model_module_version": "1.5.0",
            "_view_count": null,
            "_view_module_version": "1.2.0",
            "bar_color": null,
            "_model_module": "@jupyter-widgets/controls"
          }
        },
        "b8fd81480fe54407ac336e2d2cba4446": {
          "model_module": "@jupyter-widgets/base",
          "model_name": "LayoutModel",
          "model_module_version": "1.2.0",
          "state": {
            "_view_name": "LayoutView",
            "grid_template_rows": null,
            "right": null,
            "justify_content": null,
            "_view_module": "@jupyter-widgets/base",
            "overflow": null,
            "_model_module_version": "1.2.0",
            "_view_count": null,
            "flex_flow": null,
            "width": null,
            "min_width": null,
            "border": null,
            "align_items": null,
            "bottom": null,
            "_model_module": "@jupyter-widgets/base",
            "top": null,
            "grid_column": null,
            "overflow_y": null,
            "overflow_x": null,
            "grid_auto_flow": null,
            "grid_area": null,
            "grid_template_columns": null,
            "flex": null,
            "_model_name": "LayoutModel",
            "justify_items": null,
            "grid_row": null,
            "max_height": null,
            "align_content": null,
            "visibility": null,
            "align_self": null,
            "height": null,
            "min_height": null,
            "padding": null,
            "grid_auto_rows": null,
            "grid_gap": null,
            "max_width": null,
            "order": null,
            "_view_module_version": "1.2.0",
            "grid_template_areas": null,
            "object_position": null,
            "object_fit": null,
            "grid_auto_columns": null,
            "margin": null,
            "display": null,
            "left": null
          }
        },
        "00a85e32e03e4575bf83c337c22faa60": {
          "model_module": "@jupyter-widgets/controls",
          "model_name": "DescriptionStyleModel",
          "model_module_version": "1.5.0",
          "state": {
            "_view_name": "StyleView",
            "_model_name": "DescriptionStyleModel",
            "description_width": "",
            "_view_module": "@jupyter-widgets/base",
            "_model_module_version": "1.5.0",
            "_view_count": null,
            "_view_module_version": "1.2.0",
            "_model_module": "@jupyter-widgets/controls"
          }
        },
        "f5fb45b8367a4931a00fa12e6e0a6db3": {
          "model_module": "@jupyter-widgets/base",
          "model_name": "LayoutModel",
          "model_module_version": "1.2.0",
          "state": {
            "_view_name": "LayoutView",
            "grid_template_rows": null,
            "right": null,
            "justify_content": null,
            "_view_module": "@jupyter-widgets/base",
            "overflow": null,
            "_model_module_version": "1.2.0",
            "_view_count": null,
            "flex_flow": null,
            "width": null,
            "min_width": null,
            "border": null,
            "align_items": null,
            "bottom": null,
            "_model_module": "@jupyter-widgets/base",
            "top": null,
            "grid_column": null,
            "overflow_y": null,
            "overflow_x": null,
            "grid_auto_flow": null,
            "grid_area": null,
            "grid_template_columns": null,
            "flex": null,
            "_model_name": "LayoutModel",
            "justify_items": null,
            "grid_row": null,
            "max_height": null,
            "align_content": null,
            "visibility": null,
            "align_self": null,
            "height": null,
            "min_height": null,
            "padding": null,
            "grid_auto_rows": null,
            "grid_gap": null,
            "max_width": null,
            "order": null,
            "_view_module_version": "1.2.0",
            "grid_template_areas": null,
            "object_position": null,
            "object_fit": null,
            "grid_auto_columns": null,
            "margin": null,
            "display": null,
            "left": null
          }
        },
        "937f7b6dccfe463fbd2506b4f29cfe4b": {
          "model_module": "@jupyter-widgets/controls",
          "model_name": "HBoxModel",
          "model_module_version": "1.5.0",
          "state": {
            "_view_name": "HBoxView",
            "_dom_classes": [],
            "_model_name": "HBoxModel",
            "_view_module": "@jupyter-widgets/controls",
            "_model_module_version": "1.5.0",
            "_view_count": null,
            "_view_module_version": "1.5.0",
            "box_style": "",
            "layout": "IPY_MODEL_a842fa5155f3422aae2514091be77f6a",
            "_model_module": "@jupyter-widgets/controls",
            "children": [
              "IPY_MODEL_7f29f7a5651b4e7f9870c63ba0fc7204",
              "IPY_MODEL_e4756811d895423b8d9165503dfbbaa2",
              "IPY_MODEL_6f558cc5a9ce411fb2ff4e3da382cfc6"
            ]
          }
        },
        "a842fa5155f3422aae2514091be77f6a": {
          "model_module": "@jupyter-widgets/base",
          "model_name": "LayoutModel",
          "model_module_version": "1.2.0",
          "state": {
            "_view_name": "LayoutView",
            "grid_template_rows": null,
            "right": null,
            "justify_content": null,
            "_view_module": "@jupyter-widgets/base",
            "overflow": null,
            "_model_module_version": "1.2.0",
            "_view_count": null,
            "flex_flow": null,
            "width": null,
            "min_width": null,
            "border": null,
            "align_items": null,
            "bottom": null,
            "_model_module": "@jupyter-widgets/base",
            "top": null,
            "grid_column": null,
            "overflow_y": null,
            "overflow_x": null,
            "grid_auto_flow": null,
            "grid_area": null,
            "grid_template_columns": null,
            "flex": null,
            "_model_name": "LayoutModel",
            "justify_items": null,
            "grid_row": null,
            "max_height": null,
            "align_content": null,
            "visibility": null,
            "align_self": null,
            "height": null,
            "min_height": null,
            "padding": null,
            "grid_auto_rows": null,
            "grid_gap": null,
            "max_width": null,
            "order": null,
            "_view_module_version": "1.2.0",
            "grid_template_areas": null,
            "object_position": null,
            "object_fit": null,
            "grid_auto_columns": null,
            "margin": null,
            "display": null,
            "left": null
          }
        },
        "7f29f7a5651b4e7f9870c63ba0fc7204": {
          "model_module": "@jupyter-widgets/controls",
          "model_name": "HTMLModel",
          "model_module_version": "1.5.0",
          "state": {
            "_view_name": "HTMLView",
            "style": "IPY_MODEL_91f7ac1a559d4fc5a8d0114a81144a78",
            "_dom_classes": [],
            "description": "",
            "_model_name": "HTMLModel",
            "placeholder": "​",
            "_view_module": "@jupyter-widgets/controls",
            "_model_module_version": "1.5.0",
            "value": "Downloading: 100%",
            "_view_count": null,
            "_view_module_version": "1.5.0",
            "description_tooltip": null,
            "_model_module": "@jupyter-widgets/controls",
            "layout": "IPY_MODEL_b4089138161a4fa88a323309cb75c178"
          }
        },
        "e4756811d895423b8d9165503dfbbaa2": {
          "model_module": "@jupyter-widgets/controls",
          "model_name": "FloatProgressModel",
          "model_module_version": "1.5.0",
          "state": {
            "_view_name": "ProgressView",
            "style": "IPY_MODEL_e07aad05416d4cec96be7b834c4572d0",
            "_dom_classes": [],
            "description": "",
            "_model_name": "FloatProgressModel",
            "bar_style": "success",
            "max": 267967963,
            "_view_module": "@jupyter-widgets/controls",
            "_model_module_version": "1.5.0",
            "value": 267967963,
            "_view_count": null,
            "_view_module_version": "1.5.0",
            "orientation": "horizontal",
            "min": 0,
            "description_tooltip": null,
            "_model_module": "@jupyter-widgets/controls",
            "layout": "IPY_MODEL_f89d33fde5494e2083bd9898409519da"
          }
        },
        "6f558cc5a9ce411fb2ff4e3da382cfc6": {
          "model_module": "@jupyter-widgets/controls",
          "model_name": "HTMLModel",
          "model_module_version": "1.5.0",
          "state": {
            "_view_name": "HTMLView",
            "style": "IPY_MODEL_1da1ae2d813645a683357f5f91b821ec",
            "_dom_classes": [],
            "description": "",
            "_model_name": "HTMLModel",
            "placeholder": "​",
            "_view_module": "@jupyter-widgets/controls",
            "_model_module_version": "1.5.0",
            "value": " 268M/268M [00:12&lt;00:00, 17.5MB/s]",
            "_view_count": null,
            "_view_module_version": "1.5.0",
            "description_tooltip": null,
            "_model_module": "@jupyter-widgets/controls",
            "layout": "IPY_MODEL_d04dd62f587a4093ac9acd8634573746"
          }
        },
        "91f7ac1a559d4fc5a8d0114a81144a78": {
          "model_module": "@jupyter-widgets/controls",
          "model_name": "DescriptionStyleModel",
          "model_module_version": "1.5.0",
          "state": {
            "_view_name": "StyleView",
            "_model_name": "DescriptionStyleModel",
            "description_width": "",
            "_view_module": "@jupyter-widgets/base",
            "_model_module_version": "1.5.0",
            "_view_count": null,
            "_view_module_version": "1.2.0",
            "_model_module": "@jupyter-widgets/controls"
          }
        },
        "b4089138161a4fa88a323309cb75c178": {
          "model_module": "@jupyter-widgets/base",
          "model_name": "LayoutModel",
          "model_module_version": "1.2.0",
          "state": {
            "_view_name": "LayoutView",
            "grid_template_rows": null,
            "right": null,
            "justify_content": null,
            "_view_module": "@jupyter-widgets/base",
            "overflow": null,
            "_model_module_version": "1.2.0",
            "_view_count": null,
            "flex_flow": null,
            "width": null,
            "min_width": null,
            "border": null,
            "align_items": null,
            "bottom": null,
            "_model_module": "@jupyter-widgets/base",
            "top": null,
            "grid_column": null,
            "overflow_y": null,
            "overflow_x": null,
            "grid_auto_flow": null,
            "grid_area": null,
            "grid_template_columns": null,
            "flex": null,
            "_model_name": "LayoutModel",
            "justify_items": null,
            "grid_row": null,
            "max_height": null,
            "align_content": null,
            "visibility": null,
            "align_self": null,
            "height": null,
            "min_height": null,
            "padding": null,
            "grid_auto_rows": null,
            "grid_gap": null,
            "max_width": null,
            "order": null,
            "_view_module_version": "1.2.0",
            "grid_template_areas": null,
            "object_position": null,
            "object_fit": null,
            "grid_auto_columns": null,
            "margin": null,
            "display": null,
            "left": null
          }
        },
        "e07aad05416d4cec96be7b834c4572d0": {
          "model_module": "@jupyter-widgets/controls",
          "model_name": "ProgressStyleModel",
          "model_module_version": "1.5.0",
          "state": {
            "_view_name": "StyleView",
            "_model_name": "ProgressStyleModel",
            "description_width": "",
            "_view_module": "@jupyter-widgets/base",
            "_model_module_version": "1.5.0",
            "_view_count": null,
            "_view_module_version": "1.2.0",
            "bar_color": null,
            "_model_module": "@jupyter-widgets/controls"
          }
        },
        "f89d33fde5494e2083bd9898409519da": {
          "model_module": "@jupyter-widgets/base",
          "model_name": "LayoutModel",
          "model_module_version": "1.2.0",
          "state": {
            "_view_name": "LayoutView",
            "grid_template_rows": null,
            "right": null,
            "justify_content": null,
            "_view_module": "@jupyter-widgets/base",
            "overflow": null,
            "_model_module_version": "1.2.0",
            "_view_count": null,
            "flex_flow": null,
            "width": null,
            "min_width": null,
            "border": null,
            "align_items": null,
            "bottom": null,
            "_model_module": "@jupyter-widgets/base",
            "top": null,
            "grid_column": null,
            "overflow_y": null,
            "overflow_x": null,
            "grid_auto_flow": null,
            "grid_area": null,
            "grid_template_columns": null,
            "flex": null,
            "_model_name": "LayoutModel",
            "justify_items": null,
            "grid_row": null,
            "max_height": null,
            "align_content": null,
            "visibility": null,
            "align_self": null,
            "height": null,
            "min_height": null,
            "padding": null,
            "grid_auto_rows": null,
            "grid_gap": null,
            "max_width": null,
            "order": null,
            "_view_module_version": "1.2.0",
            "grid_template_areas": null,
            "object_position": null,
            "object_fit": null,
            "grid_auto_columns": null,
            "margin": null,
            "display": null,
            "left": null
          }
        },
        "1da1ae2d813645a683357f5f91b821ec": {
          "model_module": "@jupyter-widgets/controls",
          "model_name": "DescriptionStyleModel",
          "model_module_version": "1.5.0",
          "state": {
            "_view_name": "StyleView",
            "_model_name": "DescriptionStyleModel",
            "description_width": "",
            "_view_module": "@jupyter-widgets/base",
            "_model_module_version": "1.5.0",
            "_view_count": null,
            "_view_module_version": "1.2.0",
            "_model_module": "@jupyter-widgets/controls"
          }
        },
        "d04dd62f587a4093ac9acd8634573746": {
          "model_module": "@jupyter-widgets/base",
          "model_name": "LayoutModel",
          "model_module_version": "1.2.0",
          "state": {
            "_view_name": "LayoutView",
            "grid_template_rows": null,
            "right": null,
            "justify_content": null,
            "_view_module": "@jupyter-widgets/base",
            "overflow": null,
            "_model_module_version": "1.2.0",
            "_view_count": null,
            "flex_flow": null,
            "width": null,
            "min_width": null,
            "border": null,
            "align_items": null,
            "bottom": null,
            "_model_module": "@jupyter-widgets/base",
            "top": null,
            "grid_column": null,
            "overflow_y": null,
            "overflow_x": null,
            "grid_auto_flow": null,
            "grid_area": null,
            "grid_template_columns": null,
            "flex": null,
            "_model_name": "LayoutModel",
            "justify_items": null,
            "grid_row": null,
            "max_height": null,
            "align_content": null,
            "visibility": null,
            "align_self": null,
            "height": null,
            "min_height": null,
            "padding": null,
            "grid_auto_rows": null,
            "grid_gap": null,
            "max_width": null,
            "order": null,
            "_view_module_version": "1.2.0",
            "grid_template_areas": null,
            "object_position": null,
            "object_fit": null,
            "grid_auto_columns": null,
            "margin": null,
            "display": null,
            "left": null
          }
        },
        "629663ec7021409486edf86fb5e4e2a7": {
          "model_module": "@jupyter-widgets/controls",
          "model_name": "VBoxModel",
          "model_module_version": "1.5.0",
          "state": {
            "_view_name": "VBoxView",
            "_dom_classes": [
              "widget-interact"
            ],
            "_model_name": "VBoxModel",
            "_view_module": "@jupyter-widgets/controls",
            "_model_module_version": "1.5.0",
            "_view_count": null,
            "_view_module_version": "1.5.0",
            "box_style": "",
            "layout": "IPY_MODEL_2d1bd9c44bc547c5b1287a344031ed34",
            "_model_module": "@jupyter-widgets/controls",
            "children": [
              "IPY_MODEL_ea9a4be885ee4e388e8b82ba2747bf06",
              "IPY_MODEL_171887bdea3c4257a4f29906e46970e7"
            ]
          }
        },
        "2d1bd9c44bc547c5b1287a344031ed34": {
          "model_module": "@jupyter-widgets/base",
          "model_name": "LayoutModel",
          "model_module_version": "1.2.0",
          "state": {
            "_view_name": "LayoutView",
            "grid_template_rows": null,
            "right": null,
            "justify_content": null,
            "_view_module": "@jupyter-widgets/base",
            "overflow": null,
            "_model_module_version": "1.2.0",
            "_view_count": null,
            "flex_flow": null,
            "width": null,
            "min_width": null,
            "border": null,
            "align_items": null,
            "bottom": null,
            "_model_module": "@jupyter-widgets/base",
            "top": null,
            "grid_column": null,
            "overflow_y": null,
            "overflow_x": null,
            "grid_auto_flow": null,
            "grid_area": null,
            "grid_template_columns": null,
            "flex": null,
            "_model_name": "LayoutModel",
            "justify_items": null,
            "grid_row": null,
            "max_height": null,
            "align_content": null,
            "visibility": null,
            "align_self": null,
            "height": null,
            "min_height": null,
            "padding": null,
            "grid_auto_rows": null,
            "grid_gap": null,
            "max_width": null,
            "order": null,
            "_view_module_version": "1.2.0",
            "grid_template_areas": null,
            "object_position": null,
            "object_fit": null,
            "grid_auto_columns": null,
            "margin": null,
            "display": null,
            "left": null
          }
        },
        "ea9a4be885ee4e388e8b82ba2747bf06": {
          "model_module": "@jupyter-widgets/controls",
          "model_name": "DropdownModel",
          "model_module_version": "1.5.0",
          "state": {
            "_options_labels": [
              "autoencoders",
              "transfer-learning",
              "time-series",
              "graph-neural-networks",
              "segmentation",
              "embeddings",
              "tensorflow",
              "keras",
              "object-detection",
              "language-modeling",
              "natural-language-processing",
              "computer-vision",
              "transformers",
              "pytorch",
              "representation-learning",
              "tensorflow-js",
              "graphs",
              "interpretability",
              "reinforcement-learning",
              "scikit-learn",
              "data-augmentation",
              "self-supervised-learning",
              "huggingface",
              "production",
              "generative-adversarial-networks",
              "image-classification",
              "regression",
              "unsupervised-learning",
              "attention",
              "node-classification",
              "convolutional-neural-networks",
              "flask",
              "pretraining",
              "question-answering"
            ],
            "_view_name": "DropdownView",
            "style": "IPY_MODEL_24bb5f3f33d5494eaa96e108c7aeb6a1",
            "_dom_classes": [],
            "description": "tag",
            "_model_name": "DropdownModel",
            "index": 12,
            "_view_module": "@jupyter-widgets/controls",
            "_model_module_version": "1.5.0",
            "_view_count": null,
            "disabled": false,
            "_view_module_version": "1.5.0",
            "description_tooltip": null,
            "_model_module": "@jupyter-widgets/controls",
            "layout": "IPY_MODEL_8b9616ae150146f4a376a39986553b03"
          }
        },
        "171887bdea3c4257a4f29906e46970e7": {
          "model_module": "@jupyter-widgets/output",
          "model_name": "OutputModel",
          "model_module_version": "1.0.0",
          "state": {
            "_view_name": "OutputView",
            "msg_id": "",
            "_dom_classes": [],
            "_model_name": "OutputModel",
            "outputs": [
              {
                "output_type": "stream",
                "name": "stdout",
                "text": [
                  "{\n",
                  "  \"precision\": 0.6785714285714286,\n",
                  "  \"recall\": 0.6785714285714286,\n",
                  "  \"f1\": 0.6785714285714286,\n",
                  "  \"num_samples\": 28.0\n",
                  "}\n",
                  "\n",
                  "=== True positives ===\n",
                  "  simple transformers transformers classification ner qa language modeling language generation t5 multi modal conversational ai\n",
                  "    true: ['language-modeling', 'natural-language-processing', 'question-answering', 'transformers']\n",
                  "    pred: ['huggingface', 'language-modeling', 'natural-language-processing', 'transformers']\n",
                  "\n",
                  "  bertviz tool visualizing attention transformer model bert gpt 2 albert xlnet roberta ctrl etc\n",
                  "    true: ['attention', 'interpretability', 'natural-language-processing', 'transformers']\n",
                  "    pred: ['attention', 'huggingface', 'natural-language-processing', 'transformers']\n",
                  "\n",
                  "  summary transformers models high level summary differences model huggingfacetransformer library\n",
                  "    true: ['huggingface', 'natural-language-processing', 'transformers']\n",
                  "    pred: ['huggingface', 'natural-language-processing', 'transformers']\n",
                  "\n",
                  "\n",
                  "=== False positives ===\n",
                  "  ulmfit airline sentiment analysis transfer learning using pretrained ulmfit model\n",
                  "    true: ['language-modeling', 'natural-language-processing', 'transfer-learning']\n",
                  "    pred: ['natural-language-processing', 'transfer-learning', 'transformers']\n",
                  "\n",
                  "  help read text summarization using flask huggingface text summarization translation questions answers generation using huggingface deployed using flask streamlit detailed guide github\n",
                  "    true: ['huggingface', 'natural-language-processing']\n",
                  "    pred: ['natural-language-processing', 'transformers']\n",
                  "\n",
                  "  silero models pre trained enterprise grade stt models silero speech text models provide enterprise grade stt compact form factor several commonly spoken languages\n",
                  "    true: ['pytorch', 'tensorflow']\n",
                  "    pred: ['natural-language-processing', 'transformers']\n",
                  "\n",
                  "\n",
                  "=== False negatives ===\n",
                  "  t5 fine tuning colab notebook showcase fine tune t5 model various nlp tasks especially non text 2 text tasks text 2 text approach\n",
                  "    true: ['natural-language-processing', 'transformers']\n",
                  "    pred: ['natural-language-processing']\n",
                  "\n",
                  "  universal adversarial triggers attacking analyzing nlp create short phrases cause specific model prediction concatenated input dataset\n",
                  "    true: ['natural-language-processing', 'transformers']\n",
                  "    pred: ['natural-language-processing']\n",
                  "\n",
                  "  tempering expectations gpt 3 openai api closer look magic behind gpt 3 caveats aware\n",
                  "    true: ['natural-language-processing', 'transformers']\n",
                  "    pred: []\n",
                  "\n"
                ]
              }
            ],
            "_view_module": "@jupyter-widgets/output",
            "_model_module_version": "1.0.0",
            "_view_count": null,
            "_view_module_version": "1.0.0",
            "layout": "IPY_MODEL_4d4eb377acce49089c5c8698e47d21bf",
            "_model_module": "@jupyter-widgets/output"
          }
        },
        "24bb5f3f33d5494eaa96e108c7aeb6a1": {
          "model_module": "@jupyter-widgets/controls",
          "model_name": "DescriptionStyleModel",
          "model_module_version": "1.5.0",
          "state": {
            "_view_name": "StyleView",
            "_model_name": "DescriptionStyleModel",
            "description_width": "",
            "_view_module": "@jupyter-widgets/base",
            "_model_module_version": "1.5.0",
            "_view_count": null,
            "_view_module_version": "1.2.0",
            "_model_module": "@jupyter-widgets/controls"
          }
        },
        "8b9616ae150146f4a376a39986553b03": {
          "model_module": "@jupyter-widgets/base",
          "model_name": "LayoutModel",
          "model_module_version": "1.2.0",
          "state": {
            "_view_name": "LayoutView",
            "grid_template_rows": null,
            "right": null,
            "justify_content": null,
            "_view_module": "@jupyter-widgets/base",
            "overflow": null,
            "_model_module_version": "1.2.0",
            "_view_count": null,
            "flex_flow": null,
            "width": null,
            "min_width": null,
            "border": null,
            "align_items": null,
            "bottom": null,
            "_model_module": "@jupyter-widgets/base",
            "top": null,
            "grid_column": null,
            "overflow_y": null,
            "overflow_x": null,
            "grid_auto_flow": null,
            "grid_area": null,
            "grid_template_columns": null,
            "flex": null,
            "_model_name": "LayoutModel",
            "justify_items": null,
            "grid_row": null,
            "max_height": null,
            "align_content": null,
            "visibility": null,
            "align_self": null,
            "height": null,
            "min_height": null,
            "padding": null,
            "grid_auto_rows": null,
            "grid_gap": null,
            "max_width": null,
            "order": null,
            "_view_module_version": "1.2.0",
            "grid_template_areas": null,
            "object_position": null,
            "object_fit": null,
            "grid_auto_columns": null,
            "margin": null,
            "display": null,
            "left": null
          }
        },
        "4d4eb377acce49089c5c8698e47d21bf": {
          "model_module": "@jupyter-widgets/base",
          "model_name": "LayoutModel",
          "model_module_version": "1.2.0",
          "state": {
            "_view_name": "LayoutView",
            "grid_template_rows": null,
            "right": null,
            "justify_content": null,
            "_view_module": "@jupyter-widgets/base",
            "overflow": null,
            "_model_module_version": "1.2.0",
            "_view_count": null,
            "flex_flow": null,
            "width": null,
            "min_width": null,
            "border": null,
            "align_items": null,
            "bottom": null,
            "_model_module": "@jupyter-widgets/base",
            "top": null,
            "grid_column": null,
            "overflow_y": null,
            "overflow_x": null,
            "grid_auto_flow": null,
            "grid_area": null,
            "grid_template_columns": null,
            "flex": null,
            "_model_name": "LayoutModel",
            "justify_items": null,
            "grid_row": null,
            "max_height": null,
            "align_content": null,
            "visibility": null,
            "align_self": null,
            "height": null,
            "min_height": null,
            "padding": null,
            "grid_auto_rows": null,
            "grid_gap": null,
            "max_width": null,
            "order": null,
            "_view_module_version": "1.2.0",
            "grid_template_areas": null,
            "object_position": null,
            "object_fit": null,
            "grid_auto_columns": null,
            "margin": null,
            "display": null,
            "left": null
          }
        },
        "97edbe6a57474a76a0483b4c19a4909e": {
          "model_module": "@jupyter-widgets/controls",
          "model_name": "VBoxModel",
          "model_module_version": "1.5.0",
          "state": {
            "_view_name": "VBoxView",
            "_dom_classes": [
              "widget-interact"
            ],
            "_model_name": "VBoxModel",
            "_view_module": "@jupyter-widgets/controls",
            "_model_module_version": "1.5.0",
            "_view_count": null,
            "_view_module_version": "1.5.0",
            "box_style": "",
            "layout": "IPY_MODEL_83a4bb0713a3442ba968e5a4f388ac01",
            "_model_module": "@jupyter-widgets/controls",
            "children": [
              "IPY_MODEL_85828e8e4dec4f66ba249abcf940fb4f",
              "IPY_MODEL_90a62fab27c94f6c88ecd23d4e92a631"
            ]
          }
        },
        "83a4bb0713a3442ba968e5a4f388ac01": {
          "model_module": "@jupyter-widgets/base",
          "model_name": "LayoutModel",
          "model_module_version": "1.2.0",
          "state": {
            "_view_name": "LayoutView",
            "grid_template_rows": null,
            "right": null,
            "justify_content": null,
            "_view_module": "@jupyter-widgets/base",
            "overflow": null,
            "_model_module_version": "1.2.0",
            "_view_count": null,
            "flex_flow": null,
            "width": null,
            "min_width": null,
            "border": null,
            "align_items": null,
            "bottom": null,
            "_model_module": "@jupyter-widgets/base",
            "top": null,
            "grid_column": null,
            "overflow_y": null,
            "overflow_x": null,
            "grid_auto_flow": null,
            "grid_area": null,
            "grid_template_columns": null,
            "flex": null,
            "_model_name": "LayoutModel",
            "justify_items": null,
            "grid_row": null,
            "max_height": null,
            "align_content": null,
            "visibility": null,
            "align_self": null,
            "height": null,
            "min_height": null,
            "padding": null,
            "grid_auto_rows": null,
            "grid_gap": null,
            "max_width": null,
            "order": null,
            "_view_module_version": "1.2.0",
            "grid_template_areas": null,
            "object_position": null,
            "object_fit": null,
            "grid_auto_columns": null,
            "margin": null,
            "display": null,
            "left": null
          }
        },
        "85828e8e4dec4f66ba249abcf940fb4f": {
          "model_module": "@jupyter-widgets/controls",
          "model_name": "DropdownModel",
          "model_module_version": "1.5.0",
          "state": {
            "_options_labels": [
              "3d",
              "action-localization",
              "action-recognition",
              "active-learning",
              "activity-recognition",
              "adversarial-attacks",
              "adversarial-defense",
              "adversarial-image-detection",
              "adversarial-learning",
              "adversarial-text",
              "angular",
              "animations",
              "annotation",
              "anomaly-detection",
              "arima",
              "artificial-general-intelligence",
              "attention",
              "audio-classification",
              "audio-generation",
              "audio-tagging",
              "autoencoders",
              "automl",
              "autonomous-vehicles",
              "aws",
              "azure",
              "backend",
              "bayesian-deep-learning",
              "bayesian-inference",
              "bidaf",
              "boundary-detection",
              "c",
              "c#",
              "c++",
              "caffe",
              "calibration",
              "camera-localization",
              "captioning",
              "causal-inference",
              "chainer",
              "character-embeddings",
              "chunking",
              "ci-cd",
              "classification",
              "clustering",
              "code-generation",
              "code-summarization",
              "collaborative-filtering",
              "collaborative-ranking",
              "colorization",
              "common-sense-reasoning",
              "computer-vision",
              "conditional-random-fields",
              "conditional-variational-autoencoders",
              "constituency-parsing",
              "contextualized-embeddings",
              "contour-detection",
              "contrastive-loss",
              "conversational-ai",
              "convolutional-neural-networks",
              "coreference-resolution",
              "coreml",
              "counterfactuals",
              "cropping",
              "cross-lingual",
              "crowd-counting",
              "css",
              "d3",
              "data-augmentation",
              "data-mining",
              "data-science",
              "data-summarization",
              "databases",
              "deblurring",
              "decision-making",
              "decision-trees",
              "deconvolution",
              "deep-learning",
              "deep-q-networks",
              "denoising",
              "density-estimation",
              "dependency-parsing",
              "depth-completion",
              "depth-estimation",
              "devops",
              "dialogue",
              "dictionary-learning",
              "dimensionality-reduction",
              "disease-prediction",
              "disparity-estimation",
              "distributed-training",
              "django",
              "dl4j",
              "dlib",
              "docker",
              "document-classification",
              "document-embeddings",
              "document-ranking",
              "domain-adaptation",
              "drug-discovery",
              "dynet",
              "edge-detection",
              "embeddings",
              "emotion-recognition",
              "enhancement",
              "entity-alignment",
              "entity-disambiguation",
              "entity-extraction",
              "entity-linking",
              "entity-resolution",
              "entity-typing",
              "expectation-maximization",
              "experiment-tracking",
              "exploratory-data-analysis",
              "face-detection",
              "face-generation",
              "face-reconstruction",
              "fake-news-detection",
              "fastai",
              "fastapi",
              "fasttext",
              "feature-engineering",
              "feature-importance",
              "feature-selection",
              "few-shot-learning",
              "fine-tuning",
              "flask",
              "forecasting",
              "fraud-detection",
              "frontend",
              "gated-recurrent-units",
              "gaussian-processes",
              "gaze-estimation",
              "generation",
              "generative-adversarial-networks",
              "geometric-deep-learning",
              "gesture-recognition",
              "git",
              "gluon",
              "go",
              "gpt",
              "gradient-boosting",
              "graph-classification",
              "graph-clustering",
              "graph-construction",
              "graph-convolutional-networks",
              "graph-embedding",
              "graph-neural-networks",
              "graph-representation-learning",
              "graph-similarity",
              "graphql",
              "graphs",
              "grasping",
              "h2o",
              "hand-pose-estimation",
              "haskell",
              "hidden-markov-models",
              "hierarchical-reinforcement-learning",
              "highway-networks",
              "html",
              "huggingface",
              "human-detection",
              "hyperparameter-optimization",
              "image-captioning",
              "image-categorization",
              "image-classification",
              "image-clustering",
              "image-compression",
              "image-enhancement",
              "image-generation",
              "image-imputation",
              "image-recognition",
              "image-reconstruction",
              "image-restoration",
              "image-similarity-search",
              "image-to-image-translation",
              "imitation-learning",
              "imputation",
              "inference",
              "information-extraction",
              "information-retrieval",
              "instance-segmentation",
              "integration-tests",
              "intent-classification",
              "intent-detection",
              "interpretability",
              "java",
              "javascript",
              "jax",
              "julia",
              "k-nearest-neighbors",
              "keras",
              "keyword-extraction",
              "keyword-spotting",
              "knowledge-base",
              "knowledge-base-question-answering",
              "knowledge-distillation",
              "knowledge-graphs",
              "kuberflow",
              "kubernetes",
              "language-identification",
              "language-modeling",
              "latent-dirichlet-allocation",
              "learning-rates",
              "lemmatization",
              "lexical-simplification",
              "linear-discriminant-analysis",
              "linear-regression",
              "linguistic-acceptability",
              "logistic-regression",
              "lstm",
              "machine-learning",
              "machine-translation",
              "matplotlib",
              "medical-imaging",
              "meta-learning",
              "metrics",
              "mlops",
              "model-compression",
              "model-management",
              "model-selection",
              "morphological-analysis",
              "morphological-inflection",
              "morphological-tagging",
              "mortality-prediction",
              "motion-capture",
              "motion-estimation",
              "motion-planning",
              "motion-segmentation",
              "multi-agent-reinforcement-learning",
              "multi-armed-bandits",
              "multi-modal",
              "multi-task-learning",
              "multilayer-perceptrons",
              "multilingual",
              "multinomial-regression",
              "music-generation",
              "mxnet",
              "naive-bayes",
              "named-entity-recognition",
              "natural-language-inference",
              "natural-language-processing",
              "natural-language-understanding",
              "navigation",
              "neural-networks",
              "node-classification",
              "node-js",
              "object-classification",
              "object-counting",
              "object-detection",
              "object-localization",
              "object-recognition",
              "object-reconstruction",
              "object-tracking",
              "one-shot-learning",
              "onnx",
              "open-refine",
              "optical-character-recognition",
              "optical-flow-estimation",
              "optimizer",
              "outlier-detection",
              "paddlepaddle",
              "paraphrase-identification",
              "part-of-speech-tagging",
              "passage-re-ranking",
              "phenotyping",
              "php",
              "phrase-grounding",
              "point-cloud-generation",
              "policy-gradient-methods",
              "pose-estimation",
              "pose-tracking",
              "preprocessing",
              "pretraining",
              "principal-component-analysis",
              "privacy",
              "production",
              "pruning",
              "python",
              "pytorch",
              "q-learning",
              "quantization",
              "quantum-machine-learning",
              "quasi-recurrent-neural-networks",
              "question-answering",
              "question-generation",
              "question-similarity",
              "r",
              "random-forests",
              "react",
              "reading-comprehension",
              "recommendation-systems",
              "recurrent-neural-networks",
              "recursive-neural-networks",
              "regression",
              "reinforcement-learning",
              "relation-classification",
              "relation-extraction",
              "relational-reasoning",
              "representation-learning",
              "residual-networks",
              "robotics",
              "ruby",
              "saas",
              "safe-exploration",
              "sarcasm-detection",
              "scala",
              "scene-classification",
              "scene-generation",
              "scikit-learn",
              "search",
              "segmentation",
              "self-attention",
              "self-supervised-learning",
              "semantic-composition",
              "semantic-parsing",
              "semantic-role-labeling",
              "semantic-segmentation",
              "semi-supervised-learning",
              "sentence-embeddings",
              "sentiment-analysis",
              "sequence-to-sequence",
              "siamese-networks",
              "similarity-search",
              "slot-filling",
              "sonnet",
              "spacy",
              "spark",
              "spatial-temporal-cnn",
              "speaker-diarization",
              "speaker-identification",
              "speaker-separation",
              "speaker-verification",
              "speech",
              "speech-enhancement",
              "speech-recognition",
              "speech-separation",
              "speech-synthesis",
              "spoken-dialogue-systems",
              "sql",
              "stance-detection",
              "stata",
              "stereo-matching",
              "stochastic-optimization",
              "streaming-data",
              "streamlit",
              "style-transfer",
              "subjectivity-analysis",
              "super-resolution",
              "support-vector-machines",
              "surveillance",
              "survival-analysis",
              "swift",
              "systems-design",
              "tabular",
              "temporal-cnn",
              "tensor-networks",
              "tensorflow",
              "tensorflow-js",
              "tensorflow-lite",
              "text-attribute-transfer",
              "text-classification",
              "text-generation",
              "text-matching",
              "text-similarity",
              "text-simplification",
              "text-summarization",
              "text-to-speech-synthesis",
              "theano",
              "time-series",
              "time-series-classification",
              "time-series-clustering",
              "time-series-forecasting",
              "time-series-prediction",
              "tokenization",
              "topic-modeling",
              "torch",
              "transfer-learning",
              "transformers",
              "unit-tests",
              "unsupervised-learning",
              "variational-autoencoders",
              "video-captioning",
              "video-classification",
              "video-question-answering",
              "video-semantic-segmentation",
              "video-summarization",
              "visual-navigation",
              "visual-odometry",
              "visual-question-answering",
              "visual-reasoning",
              "visual-tracking",
              "visualization",
              "wandb",
              "word-alignment",
              "word-embeddings",
              "word-sense-disambiguation",
              "word-sense-induction",
              "xgboost",
              "xlnet",
              "zero-shot-learning"
            ],
            "_view_name": "DropdownView",
            "style": "IPY_MODEL_1963a59cd30944b8a6c6b931b4b4df92",
            "_dom_classes": [],
            "description": "tag",
            "_model_name": "DropdownModel",
            "index": 284,
            "_view_module": "@jupyter-widgets/controls",
            "_model_module_version": "1.5.0",
            "_view_count": null,
            "disabled": false,
            "_view_module_version": "1.5.0",
            "description_tooltip": null,
            "_model_module": "@jupyter-widgets/controls",
            "layout": "IPY_MODEL_72d06fb3a9694d59a7146022fb5a0a75"
          }
        },
        "90a62fab27c94f6c88ecd23d4e92a631": {
          "model_module": "@jupyter-widgets/output",
          "model_name": "OutputModel",
          "model_module_version": "1.0.0",
          "state": {
            "_view_name": "OutputView",
            "msg_id": "",
            "_dom_classes": [],
            "_model_name": "OutputModel",
            "outputs": [
              {
                "output_type": "stream",
                "name": "stdout",
                "text": [
                  "{\n",
                  "  \"aliases\": [],\n",
                  "  \"parents\": [\n",
                  "    \"natural-language-processing\"\n",
                  "  ]\n",
                  "}\n"
                ]
              }
            ],
            "_view_module": "@jupyter-widgets/output",
            "_model_module_version": "1.0.0",
            "_view_count": null,
            "_view_module_version": "1.0.0",
            "layout": "IPY_MODEL_cb4b8a9ab54d4eedae89604a95091546",
            "_model_module": "@jupyter-widgets/output"
          }
        },
        "1963a59cd30944b8a6c6b931b4b4df92": {
          "model_module": "@jupyter-widgets/controls",
          "model_name": "DescriptionStyleModel",
          "model_module_version": "1.5.0",
          "state": {
            "_view_name": "StyleView",
            "_model_name": "DescriptionStyleModel",
            "description_width": "",
            "_view_module": "@jupyter-widgets/base",
            "_model_module_version": "1.5.0",
            "_view_count": null,
            "_view_module_version": "1.2.0",
            "_model_module": "@jupyter-widgets/controls"
          }
        },
        "72d06fb3a9694d59a7146022fb5a0a75": {
          "model_module": "@jupyter-widgets/base",
          "model_name": "LayoutModel",
          "model_module_version": "1.2.0",
          "state": {
            "_view_name": "LayoutView",
            "grid_template_rows": null,
            "right": null,
            "justify_content": null,
            "_view_module": "@jupyter-widgets/base",
            "overflow": null,
            "_model_module_version": "1.2.0",
            "_view_count": null,
            "flex_flow": null,
            "width": null,
            "min_width": null,
            "border": null,
            "align_items": null,
            "bottom": null,
            "_model_module": "@jupyter-widgets/base",
            "top": null,
            "grid_column": null,
            "overflow_y": null,
            "overflow_x": null,
            "grid_auto_flow": null,
            "grid_area": null,
            "grid_template_columns": null,
            "flex": null,
            "_model_name": "LayoutModel",
            "justify_items": null,
            "grid_row": null,
            "max_height": null,
            "align_content": null,
            "visibility": null,
            "align_self": null,
            "height": null,
            "min_height": null,
            "padding": null,
            "grid_auto_rows": null,
            "grid_gap": null,
            "max_width": null,
            "order": null,
            "_view_module_version": "1.2.0",
            "grid_template_areas": null,
            "object_position": null,
            "object_fit": null,
            "grid_auto_columns": null,
            "margin": null,
            "display": null,
            "left": null
          }
        },
        "cb4b8a9ab54d4eedae89604a95091546": {
          "model_module": "@jupyter-widgets/base",
          "model_name": "LayoutModel",
          "model_module_version": "1.2.0",
          "state": {
            "_view_name": "LayoutView",
            "grid_template_rows": null,
            "right": null,
            "justify_content": null,
            "_view_module": "@jupyter-widgets/base",
            "overflow": null,
            "_model_module_version": "1.2.0",
            "_view_count": null,
            "flex_flow": null,
            "width": null,
            "min_width": null,
            "border": null,
            "align_items": null,
            "bottom": null,
            "_model_module": "@jupyter-widgets/base",
            "top": null,
            "grid_column": null,
            "overflow_y": null,
            "overflow_x": null,
            "grid_auto_flow": null,
            "grid_area": null,
            "grid_template_columns": null,
            "flex": null,
            "_model_name": "LayoutModel",
            "justify_items": null,
            "grid_row": null,
            "max_height": null,
            "align_content": null,
            "visibility": null,
            "align_self": null,
            "height": null,
            "min_height": null,
            "padding": null,
            "grid_auto_rows": null,
            "grid_gap": null,
            "max_width": null,
            "order": null,
            "_view_module_version": "1.2.0",
            "grid_template_areas": null,
            "object_position": null,
            "object_fit": null,
            "grid_auto_columns": null,
            "margin": null,
            "display": null,
            "left": null
          }
        },
        "a33f2f8947d34e6f84ca11fcbd1858a0": {
          "model_module": "@jupyter-widgets/controls",
          "model_name": "VBoxModel",
          "model_module_version": "1.5.0",
          "state": {
            "_view_name": "VBoxView",
            "_dom_classes": [
              "widget-interact"
            ],
            "_model_name": "VBoxModel",
            "_view_module": "@jupyter-widgets/controls",
            "_model_module_version": "1.5.0",
            "_view_count": null,
            "_view_module_version": "1.5.0",
            "box_style": "",
            "layout": "IPY_MODEL_b180e268bc1f493ea8c184d149725823",
            "_model_module": "@jupyter-widgets/controls",
            "children": [
              "IPY_MODEL_8906e8076f5d4dbfb144e5a9e4d00084",
              "IPY_MODEL_eeeb9a967cf042578a4eb645bfc9ea6f"
            ]
          }
        },
        "b180e268bc1f493ea8c184d149725823": {
          "model_module": "@jupyter-widgets/base",
          "model_name": "LayoutModel",
          "model_module_version": "1.2.0",
          "state": {
            "_view_name": "LayoutView",
            "grid_template_rows": null,
            "right": null,
            "justify_content": null,
            "_view_module": "@jupyter-widgets/base",
            "overflow": null,
            "_model_module_version": "1.2.0",
            "_view_count": null,
            "flex_flow": null,
            "width": null,
            "min_width": null,
            "border": null,
            "align_items": null,
            "bottom": null,
            "_model_module": "@jupyter-widgets/base",
            "top": null,
            "grid_column": null,
            "overflow_y": null,
            "overflow_x": null,
            "grid_auto_flow": null,
            "grid_area": null,
            "grid_template_columns": null,
            "flex": null,
            "_model_name": "LayoutModel",
            "justify_items": null,
            "grid_row": null,
            "max_height": null,
            "align_content": null,
            "visibility": null,
            "align_self": null,
            "height": null,
            "min_height": null,
            "padding": null,
            "grid_auto_rows": null,
            "grid_gap": null,
            "max_width": null,
            "order": null,
            "_view_module_version": "1.2.0",
            "grid_template_areas": null,
            "object_position": null,
            "object_fit": null,
            "grid_auto_columns": null,
            "margin": null,
            "display": null,
            "left": null
          }
        },
        "8906e8076f5d4dbfb144e5a9e4d00084": {
          "model_module": "@jupyter-widgets/controls",
          "model_name": "IntSliderModel",
          "model_module_version": "1.5.0",
          "state": {
            "_view_name": "IntSliderView",
            "style": "IPY_MODEL_903fa39e8ed8450cb2cc283e89d38bfa",
            "_dom_classes": [],
            "description": "min_tag_freq",
            "step": 1,
            "_model_name": "IntSliderModel",
            "orientation": "horizontal",
            "max": 424,
            "_view_module": "@jupyter-widgets/controls",
            "_model_module_version": "1.5.0",
            "value": 30,
            "_view_count": null,
            "disabled": false,
            "_view_module_version": "1.5.0",
            "min": 0,
            "continuous_update": true,
            "readout_format": "d",
            "description_tooltip": null,
            "readout": true,
            "_model_module": "@jupyter-widgets/controls",
            "layout": "IPY_MODEL_5f68a286e3684e5187d1c9319bc83035"
          }
        },
        "eeeb9a967cf042578a4eb645bfc9ea6f": {
          "model_module": "@jupyter-widgets/output",
          "model_name": "OutputModel",
          "model_module_version": "1.0.0",
          "state": {
            "_view_name": "OutputView",
            "msg_id": "",
            "_dom_classes": [],
            "_model_name": "OutputModel",
            "outputs": [
              {
                "output_type": "stream",
                "name": "stdout",
                "text": [
                  "Most popular tags:\n",
                  " [('natural-language-processing', 424), ('computer-vision', 388), ('pytorch', 258), ('tensorflow', 213), ('transformers', 196)]\n",
                  "\n",
                  "Tags that just made the cut:\n",
                  " [('flask', 34), ('time-series', 34), ('node-classification', 33), ('question-answering', 32), ('pretraining', 30)]\n",
                  "\n",
                  "Tags that just missed the cut:\n",
                  " [('fastai', 29), ('graph-classification', 29), ('model-compression', 29), ('recurrent-neural-networks', 28), ('adversarial-learning', 28)]\n"
                ]
              }
            ],
            "_view_module": "@jupyter-widgets/output",
            "_model_module_version": "1.0.0",
            "_view_count": null,
            "_view_module_version": "1.0.0",
            "layout": "IPY_MODEL_b55c804377224e4e8cf2e3866f0a70c7",
            "_model_module": "@jupyter-widgets/output"
          }
        },
        "903fa39e8ed8450cb2cc283e89d38bfa": {
          "model_module": "@jupyter-widgets/controls",
          "model_name": "SliderStyleModel",
          "model_module_version": "1.5.0",
          "state": {
            "_view_name": "StyleView",
            "handle_color": null,
            "_model_name": "SliderStyleModel",
            "description_width": "",
            "_view_module": "@jupyter-widgets/base",
            "_model_module_version": "1.5.0",
            "_view_count": null,
            "_view_module_version": "1.2.0",
            "_model_module": "@jupyter-widgets/controls"
          }
        },
        "5f68a286e3684e5187d1c9319bc83035": {
          "model_module": "@jupyter-widgets/base",
          "model_name": "LayoutModel",
          "model_module_version": "1.2.0",
          "state": {
            "_view_name": "LayoutView",
            "grid_template_rows": null,
            "right": null,
            "justify_content": null,
            "_view_module": "@jupyter-widgets/base",
            "overflow": null,
            "_model_module_version": "1.2.0",
            "_view_count": null,
            "flex_flow": null,
            "width": null,
            "min_width": null,
            "border": null,
            "align_items": null,
            "bottom": null,
            "_model_module": "@jupyter-widgets/base",
            "top": null,
            "grid_column": null,
            "overflow_y": null,
            "overflow_x": null,
            "grid_auto_flow": null,
            "grid_area": null,
            "grid_template_columns": null,
            "flex": null,
            "_model_name": "LayoutModel",
            "justify_items": null,
            "grid_row": null,
            "max_height": null,
            "align_content": null,
            "visibility": null,
            "align_self": null,
            "height": null,
            "min_height": null,
            "padding": null,
            "grid_auto_rows": null,
            "grid_gap": null,
            "max_width": null,
            "order": null,
            "_view_module_version": "1.2.0",
            "grid_template_areas": null,
            "object_position": null,
            "object_fit": null,
            "grid_auto_columns": null,
            "margin": null,
            "display": null,
            "left": null
          }
        },
        "b55c804377224e4e8cf2e3866f0a70c7": {
          "model_module": "@jupyter-widgets/base",
          "model_name": "LayoutModel",
          "model_module_version": "1.2.0",
          "state": {
            "_view_name": "LayoutView",
            "grid_template_rows": null,
            "right": null,
            "justify_content": null,
            "_view_module": "@jupyter-widgets/base",
            "overflow": null,
            "_model_module_version": "1.2.0",
            "_view_count": null,
            "flex_flow": null,
            "width": null,
            "min_width": null,
            "border": null,
            "align_items": null,
            "bottom": null,
            "_model_module": "@jupyter-widgets/base",
            "top": null,
            "grid_column": null,
            "overflow_y": null,
            "overflow_x": null,
            "grid_auto_flow": null,
            "grid_area": null,
            "grid_template_columns": null,
            "flex": null,
            "_model_name": "LayoutModel",
            "justify_items": null,
            "grid_row": null,
            "max_height": null,
            "align_content": null,
            "visibility": null,
            "align_self": null,
            "height": null,
            "min_height": null,
            "padding": null,
            "grid_auto_rows": null,
            "grid_gap": null,
            "max_width": null,
            "order": null,
            "_view_module_version": "1.2.0",
            "grid_template_areas": null,
            "object_position": null,
            "object_fit": null,
            "grid_auto_columns": null,
            "margin": null,
            "display": null,
            "left": null
          }
        },
        "73cb63147c0842599eba8dfc3d2874ab": {
          "model_module": "@jupyter-widgets/controls",
          "model_name": "VBoxModel",
          "model_module_version": "1.5.0",
          "state": {
            "_view_name": "VBoxView",
            "_dom_classes": [
              "widget-interact"
            ],
            "_model_name": "VBoxModel",
            "_view_module": "@jupyter-widgets/controls",
            "_model_module_version": "1.5.0",
            "_view_count": null,
            "_view_module_version": "1.5.0",
            "box_style": "",
            "layout": "IPY_MODEL_404a39d028c340979b1f14f287cf564f",
            "_model_module": "@jupyter-widgets/controls",
            "children": [
              "IPY_MODEL_18df5a90caf1411a8c8be7d67a7836e6",
              "IPY_MODEL_242aa44fd3894f15a131d1aee958f82b",
              "IPY_MODEL_4c165cb077d44171880aaaa4c7cffaaa"
            ]
          }
        },
        "404a39d028c340979b1f14f287cf564f": {
          "model_module": "@jupyter-widgets/base",
          "model_name": "LayoutModel",
          "model_module_version": "1.2.0",
          "state": {
            "_view_name": "LayoutView",
            "grid_template_rows": null,
            "right": null,
            "justify_content": null,
            "_view_module": "@jupyter-widgets/base",
            "overflow": null,
            "_model_module_version": "1.2.0",
            "_view_count": null,
            "flex_flow": null,
            "width": null,
            "min_width": null,
            "border": null,
            "align_items": null,
            "bottom": null,
            "_model_module": "@jupyter-widgets/base",
            "top": null,
            "grid_column": null,
            "overflow_y": null,
            "overflow_x": null,
            "grid_auto_flow": null,
            "grid_area": null,
            "grid_template_columns": null,
            "flex": null,
            "_model_name": "LayoutModel",
            "justify_items": null,
            "grid_row": null,
            "max_height": null,
            "align_content": null,
            "visibility": null,
            "align_self": null,
            "height": null,
            "min_height": null,
            "padding": null,
            "grid_auto_rows": null,
            "grid_gap": null,
            "max_width": null,
            "order": null,
            "_view_module_version": "1.2.0",
            "grid_template_areas": null,
            "object_position": null,
            "object_fit": null,
            "grid_auto_columns": null,
            "margin": null,
            "display": null,
            "left": null
          }
        },
        "18df5a90caf1411a8c8be7d67a7836e6": {
          "model_module": "@jupyter-widgets/controls",
          "model_name": "CheckboxModel",
          "model_module_version": "1.5.0",
          "state": {
            "_view_name": "CheckboxView",
            "style": "IPY_MODEL_3c01a53124b7429c925c997d3f168c0d",
            "_dom_classes": [],
            "description": "lower",
            "_model_name": "CheckboxModel",
            "_view_module": "@jupyter-widgets/controls",
            "_model_module_version": "1.5.0",
            "value": true,
            "_view_count": null,
            "disabled": false,
            "_view_module_version": "1.5.0",
            "indent": true,
            "description_tooltip": null,
            "_model_module": "@jupyter-widgets/controls",
            "layout": "IPY_MODEL_8dbe1574c18444c9ba072adc12b549d4"
          }
        },
        "242aa44fd3894f15a131d1aee958f82b": {
          "model_module": "@jupyter-widgets/controls",
          "model_name": "CheckboxModel",
          "model_module_version": "1.5.0",
          "state": {
            "_view_name": "CheckboxView",
            "style": "IPY_MODEL_4fa2f02dddfb481a80392375cb41964c",
            "_dom_classes": [],
            "description": "stem",
            "_model_name": "CheckboxModel",
            "_view_module": "@jupyter-widgets/controls",
            "_model_module_version": "1.5.0",
            "value": false,
            "_view_count": null,
            "disabled": false,
            "_view_module_version": "1.5.0",
            "indent": true,
            "description_tooltip": null,
            "_model_module": "@jupyter-widgets/controls",
            "layout": "IPY_MODEL_1af3d54a522f4af7add0ac961e42b39a"
          }
        },
        "4c165cb077d44171880aaaa4c7cffaaa": {
          "model_module": "@jupyter-widgets/output",
          "model_name": "OutputModel",
          "model_module_version": "1.0.0",
          "state": {
            "_view_name": "OutputView",
            "msg_id": "",
            "_dom_classes": [],
            "_model_name": "OutputModel",
            "outputs": [
              {
                "output_type": "stream",
                "name": "stdout",
                "text": [
                  "conditional image generation using variational autoencoders gans\n"
                ]
              }
            ],
            "_view_module": "@jupyter-widgets/output",
            "_model_module_version": "1.0.0",
            "_view_count": null,
            "_view_module_version": "1.0.0",
            "layout": "IPY_MODEL_0ced0b7a16d14589b74be963bcc56e53",
            "_model_module": "@jupyter-widgets/output"
          }
        },
        "3c01a53124b7429c925c997d3f168c0d": {
          "model_module": "@jupyter-widgets/controls",
          "model_name": "DescriptionStyleModel",
          "model_module_version": "1.5.0",
          "state": {
            "_view_name": "StyleView",
            "_model_name": "DescriptionStyleModel",
            "description_width": "",
            "_view_module": "@jupyter-widgets/base",
            "_model_module_version": "1.5.0",
            "_view_count": null,
            "_view_module_version": "1.2.0",
            "_model_module": "@jupyter-widgets/controls"
          }
        },
        "8dbe1574c18444c9ba072adc12b549d4": {
          "model_module": "@jupyter-widgets/base",
          "model_name": "LayoutModel",
          "model_module_version": "1.2.0",
          "state": {
            "_view_name": "LayoutView",
            "grid_template_rows": null,
            "right": null,
            "justify_content": null,
            "_view_module": "@jupyter-widgets/base",
            "overflow": null,
            "_model_module_version": "1.2.0",
            "_view_count": null,
            "flex_flow": null,
            "width": null,
            "min_width": null,
            "border": null,
            "align_items": null,
            "bottom": null,
            "_model_module": "@jupyter-widgets/base",
            "top": null,
            "grid_column": null,
            "overflow_y": null,
            "overflow_x": null,
            "grid_auto_flow": null,
            "grid_area": null,
            "grid_template_columns": null,
            "flex": null,
            "_model_name": "LayoutModel",
            "justify_items": null,
            "grid_row": null,
            "max_height": null,
            "align_content": null,
            "visibility": null,
            "align_self": null,
            "height": null,
            "min_height": null,
            "padding": null,
            "grid_auto_rows": null,
            "grid_gap": null,
            "max_width": null,
            "order": null,
            "_view_module_version": "1.2.0",
            "grid_template_areas": null,
            "object_position": null,
            "object_fit": null,
            "grid_auto_columns": null,
            "margin": null,
            "display": null,
            "left": null
          }
        },
        "4fa2f02dddfb481a80392375cb41964c": {
          "model_module": "@jupyter-widgets/controls",
          "model_name": "DescriptionStyleModel",
          "model_module_version": "1.5.0",
          "state": {
            "_view_name": "StyleView",
            "_model_name": "DescriptionStyleModel",
            "description_width": "",
            "_view_module": "@jupyter-widgets/base",
            "_model_module_version": "1.5.0",
            "_view_count": null,
            "_view_module_version": "1.2.0",
            "_model_module": "@jupyter-widgets/controls"
          }
        },
        "1af3d54a522f4af7add0ac961e42b39a": {
          "model_module": "@jupyter-widgets/base",
          "model_name": "LayoutModel",
          "model_module_version": "1.2.0",
          "state": {
            "_view_name": "LayoutView",
            "grid_template_rows": null,
            "right": null,
            "justify_content": null,
            "_view_module": "@jupyter-widgets/base",
            "overflow": null,
            "_model_module_version": "1.2.0",
            "_view_count": null,
            "flex_flow": null,
            "width": null,
            "min_width": null,
            "border": null,
            "align_items": null,
            "bottom": null,
            "_model_module": "@jupyter-widgets/base",
            "top": null,
            "grid_column": null,
            "overflow_y": null,
            "overflow_x": null,
            "grid_auto_flow": null,
            "grid_area": null,
            "grid_template_columns": null,
            "flex": null,
            "_model_name": "LayoutModel",
            "justify_items": null,
            "grid_row": null,
            "max_height": null,
            "align_content": null,
            "visibility": null,
            "align_self": null,
            "height": null,
            "min_height": null,
            "padding": null,
            "grid_auto_rows": null,
            "grid_gap": null,
            "max_width": null,
            "order": null,
            "_view_module_version": "1.2.0",
            "grid_template_areas": null,
            "object_position": null,
            "object_fit": null,
            "grid_auto_columns": null,
            "margin": null,
            "display": null,
            "left": null
          }
        },
        "0ced0b7a16d14589b74be963bcc56e53": {
          "model_module": "@jupyter-widgets/base",
          "model_name": "LayoutModel",
          "model_module_version": "1.2.0",
          "state": {
            "_view_name": "LayoutView",
            "grid_template_rows": null,
            "right": null,
            "justify_content": null,
            "_view_module": "@jupyter-widgets/base",
            "overflow": null,
            "_model_module_version": "1.2.0",
            "_view_count": null,
            "flex_flow": null,
            "width": null,
            "min_width": null,
            "border": null,
            "align_items": null,
            "bottom": null,
            "_model_module": "@jupyter-widgets/base",
            "top": null,
            "grid_column": null,
            "overflow_y": null,
            "overflow_x": null,
            "grid_auto_flow": null,
            "grid_area": null,
            "grid_template_columns": null,
            "flex": null,
            "_model_name": "LayoutModel",
            "justify_items": null,
            "grid_row": null,
            "max_height": null,
            "align_content": null,
            "visibility": null,
            "align_self": null,
            "height": null,
            "min_height": null,
            "padding": null,
            "grid_auto_rows": null,
            "grid_gap": null,
            "max_width": null,
            "order": null,
            "_view_module_version": "1.2.0",
            "grid_template_areas": null,
            "object_position": null,
            "object_fit": null,
            "grid_auto_columns": null,
            "margin": null,
            "display": null,
            "left": null
          }
        }
      }
    }
  },
  "cells": [
    {
      "cell_type": "markdown",
      "metadata": {
        "id": "view-in-github",
        "colab_type": "text"
      },
      "source": [
        "<a href=\"https://colab.research.google.com/github/tcmle/ml_notes/blob/master/notebooks/tagifai.ipynb\" target=\"_parent\"><img src=\"https://colab.research.google.com/assets/colab-badge.svg\" alt=\"Open In Colab\"/></a>"
      ]
    },
    {
      "cell_type": "markdown",
      "source": [
        "<div align=\"center\">\n",
        "<h1><img width=\"30\" src=\"https://madewithml.com/static/images/rounded_logo.png\">&nbsp;<a href=\"https://madewithml.com/\">Made With ML</a></h1>\n",
        "Applied ML · MLOps · Production\n",
        "<br>\n",
        "Join 30K+ developers in learning how to responsibly <a href=\"https://madewithml.com/about/\">deliver value</a> with ML.\n",
        "    <br>\n",
        "</div>\n",
        "\n",
        "<br>\n",
        "\n",
        "<div align=\"center\">\n",
        "    <a target=\"_blank\" href=\"https://newsletter.madewithml.com\"><img src=\"https://img.shields.io/badge/Subscribe-30K-brightgreen\"></a>&nbsp;\n",
        "    <a target=\"_blank\" href=\"https://github.com/GokuMohandas/MadeWithML\"><img src=\"https://img.shields.io/github/stars/GokuMohandas/MadeWithML.svg?style=social&label=Star\"></a>&nbsp;\n",
        "    <a target=\"_blank\" href=\"https://www.linkedin.com/in/goku\"><img src=\"https://img.shields.io/badge/style--5eba00.svg?label=LinkedIn&logo=linkedin&style=social\"></a>&nbsp;\n",
        "    <a target=\"_blank\" href=\"https://twitter.com/GokuMohandas\"><img src=\"https://img.shields.io/twitter/follow/GokuMohandas.svg?label=Follow&style=social\"></a>\n",
        "    <br>\n",
        "    🔥&nbsp; Among the <a href=\"https://github.com/topics/mlops\" target=\"_blank\">top MLOps</a> repositories on GitHub\n",
        "</div>\n",
        "\n",
        "<br>\n",
        "<hr>"
      ],
      "metadata": {
        "id": "acbetMKBt825"
      }
    },
    {
      "cell_type": "markdown",
      "source": [
        "# MLOps - Tagifai"
      ],
      "metadata": {
        "id": "ZbHqEEy3NkSU"
      }
    },
    {
      "cell_type": "markdown",
      "source": [
        "<div align=\"left\">\n",
        "<a target=\"_blank\" href=\"https://madewithml.com/#mlops\"><img src=\"https://img.shields.io/badge/📖 Read-lessons-9cf\"></a>&nbsp;\n",
        "<a href=\"https://github.com/GokuMohandas/MLOps/blob/main/notebooks/tagifai.ipynb\" role=\"button\"><img src=\"https://img.shields.io/static/v1?label=&amp;message=View%20On%20GitHub&amp;color=586069&amp;logo=github&amp;labelColor=2f363d\"></a>&nbsp;\n",
        "<a href=\"https://colab.research.google.com/github/GokuMohandas/MLOps/blob/main/notebooks/tagifai.ipynb\"><img src=\"https://colab.research.google.com/assets/colab-badge.svg\" alt=\"Open In Colab\"></a>\n",
        "</div>"
      ],
      "metadata": {
        "id": "XTNsIiUrqoJW"
      }
    },
    {
      "cell_type": "markdown",
      "source": [
        "This notebooks contains the code for our `Tagifai` feature including 🔢&nbsp; Data and 📈&nbsp; Modeling. After this, we'll be moving all of this code to Python scripts with proper styling, testing, etc.\n",
        "\n",
        "> Be sure to checkout the accompanying [lessons](https://madewithml.com/courses/mlops) as opposed to just running the code here. The lessons will help us develop an intuition before jumping into the application."
      ],
      "metadata": {
        "id": "oh-HuNfDrPg0"
      }
    },
    {
      "cell_type": "markdown",
      "source": [
        "# 🔢&nbsp; Data"
      ],
      "metadata": {
        "id": "lbqAqitENkSU"
      }
    },
    {
      "cell_type": "markdown",
      "source": [
        "## Labeling"
      ],
      "metadata": {
        "id": "2ROgHAeQNkSU"
      }
    },
    {
      "cell_type": "code",
      "execution_count": 1,
      "source": [
        "from collections import Counter, OrderedDict\n",
        "import ipywidgets as widgets\n",
        "import itertools\n",
        "import json\n",
        "import pandas as pd\n",
        "from urllib.request import urlopen"
      ],
      "outputs": [],
      "metadata": {
        "id": "VdrrsquiNkSU"
      }
    },
    {
      "cell_type": "code",
      "execution_count": 2,
      "source": [
        "# Load projects\n",
        "url = \"https://raw.githubusercontent.com/GokuMohandas/MadeWithML/main/datasets/projects.json\"\n",
        "projects = json.loads(urlopen(url).read())\n",
        "print (json.dumps(projects[-305], indent=2))"
      ],
      "outputs": [
        {
          "output_type": "stream",
          "name": "stdout",
          "text": [
            "{\n",
            "  \"id\": 2106,\n",
            "  \"created_on\": \"2020-08-08 15:06:18\",\n",
            "  \"title\": \"Fast NST for Videos (+ person segmentation) \\ud83c\\udfa5 + \\u26a1\\ud83d\\udcbb + \\ud83c\\udfa8 = \\u2764\\ufe0f\",\n",
            "  \"description\": \"Create NST videos and pick separate styles for the person in the video and for the background.\",\n",
            "  \"tags\": [\n",
            "    \"code\",\n",
            "    \"tutorial\",\n",
            "    \"video\",\n",
            "    \"computer-vision\",\n",
            "    \"style-transfer\",\n",
            "    \"neural-style-transfer\"\n",
            "  ]\n",
            "}\n"
          ]
        }
      ],
      "metadata": {
        "id": "WB-2nm6NNkSU",
        "colab": {
          "base_uri": "https://localhost:8080/"
        },
        "outputId": "1d00bdc3-bd5f-43b1-a3e2-3e4e37e09dfc"
      }
    },
    {
      "cell_type": "code",
      "execution_count": 3,
      "source": [
        "# Load tags\n",
        "url = \"https://raw.githubusercontent.com/GokuMohandas/MadeWithML/main/datasets/tags.json\"\n",
        "tags = json.loads(urlopen(url).read())\n",
        "tags_dict = {}\n",
        "for item in tags:\n",
        "    key = item.pop(\"tag\")\n",
        "    tags_dict[key] = item\n",
        "print (f\"{len(tags_dict)} tags\")"
      ],
      "outputs": [
        {
          "output_type": "stream",
          "name": "stdout",
          "text": [
            "400 tags\n"
          ]
        }
      ],
      "metadata": {
        "id": "_pJcQOR7NkSU",
        "colab": {
          "base_uri": "https://localhost:8080/"
        },
        "outputId": "d5f56330-26ce-49bf-b87d-3396261de629"
      }
    },
    {
      "cell_type": "code",
      "execution_count": 4,
      "source": [
        "@widgets.interact(tag=list(tags_dict.keys()))\n",
        "def display_tag_details(tag='question-answering'):\n",
        "    print (json.dumps(tags_dict[tag], indent=2))"
      ],
      "outputs": [
        {
          "output_type": "display_data",
          "data": {
            "application/vnd.jupyter.widget-view+json": {
              "model_id": "97edbe6a57474a76a0483b4c19a4909e",
              "version_minor": 0,
              "version_major": 2
            },
            "text/plain": [
              "interactive(children=(Dropdown(description='tag', index=283, options=('3d', 'action-localization', 'action-rec…"
            ]
          },
          "metadata": {}
        }
      ],
      "metadata": {
        "id": "l8GWm_unNkSU",
        "colab": {
          "base_uri": "https://localhost:8080/",
          "height": 151,
          "referenced_widgets": [
            "97edbe6a57474a76a0483b4c19a4909e",
            "83a4bb0713a3442ba968e5a4f388ac01",
            "85828e8e4dec4f66ba249abcf940fb4f",
            "90a62fab27c94f6c88ecd23d4e92a631",
            "1963a59cd30944b8a6c6b931b4b4df92",
            "72d06fb3a9694d59a7146022fb5a0a75",
            "cb4b8a9ab54d4eedae89604a95091546"
          ]
        },
        "outputId": "084f7635-c9e4-4b30-99d0-fa7dfafa79ca"
      }
    },
    {
      "cell_type": "code",
      "execution_count": 5,
      "source": [
        "# Create dataframe\n",
        "df = pd.DataFrame(projects)\n",
        "print (f\"{len(df)} projects\")\n",
        "df.head(5)"
      ],
      "outputs": [
        {
          "output_type": "stream",
          "name": "stdout",
          "text": [
            "2032 projects\n"
          ]
        },
        {
          "output_type": "execute_result",
          "data": {
            "text/html": [
              "\n",
              "  <div id=\"df-9ac67c2f-798f-4502-bcba-d4ddad9c61a7\">\n",
              "    <div class=\"colab-df-container\">\n",
              "      <div>\n",
              "<style scoped>\n",
              "    .dataframe tbody tr th:only-of-type {\n",
              "        vertical-align: middle;\n",
              "    }\n",
              "\n",
              "    .dataframe tbody tr th {\n",
              "        vertical-align: top;\n",
              "    }\n",
              "\n",
              "    .dataframe thead th {\n",
              "        text-align: right;\n",
              "    }\n",
              "</style>\n",
              "<table border=\"1\" class=\"dataframe\">\n",
              "  <thead>\n",
              "    <tr style=\"text-align: right;\">\n",
              "      <th></th>\n",
              "      <th>id</th>\n",
              "      <th>created_on</th>\n",
              "      <th>title</th>\n",
              "      <th>description</th>\n",
              "      <th>tags</th>\n",
              "    </tr>\n",
              "  </thead>\n",
              "  <tbody>\n",
              "    <tr>\n",
              "      <th>0</th>\n",
              "      <td>1</td>\n",
              "      <td>2020-02-17 06:30:41</td>\n",
              "      <td>Machine Learning Basics</td>\n",
              "      <td>A practical set of notebooks on machine learni...</td>\n",
              "      <td>[code, tutorial, keras, pytorch, tensorflow, d...</td>\n",
              "    </tr>\n",
              "    <tr>\n",
              "      <th>1</th>\n",
              "      <td>2</td>\n",
              "      <td>2020-02-17 06:41:45</td>\n",
              "      <td>Deep Learning with Electronic Health Record (E...</td>\n",
              "      <td>A comprehensive look at recent machine learnin...</td>\n",
              "      <td>[article, tutorial, deep-learning, health, ehr]</td>\n",
              "    </tr>\n",
              "    <tr>\n",
              "      <th>2</th>\n",
              "      <td>3</td>\n",
              "      <td>2020-02-20 06:07:59</td>\n",
              "      <td>Automatic Parking Management using computer vi...</td>\n",
              "      <td>Detecting empty and parked spaces in car parki...</td>\n",
              "      <td>[code, tutorial, video, python, machine-learni...</td>\n",
              "    </tr>\n",
              "    <tr>\n",
              "      <th>3</th>\n",
              "      <td>4</td>\n",
              "      <td>2020-02-20 06:21:57</td>\n",
              "      <td>Easy street parking using region proposal netw...</td>\n",
              "      <td>Get a text on your phone whenever a nearby par...</td>\n",
              "      <td>[code, tutorial, python, pytorch, machine-lear...</td>\n",
              "    </tr>\n",
              "    <tr>\n",
              "      <th>4</th>\n",
              "      <td>5</td>\n",
              "      <td>2020-02-20 06:29:18</td>\n",
              "      <td>Deep Learning based parking management system ...</td>\n",
              "      <td>Fastai provides easy to use wrappers to quickl...</td>\n",
              "      <td>[code, tutorial, fastai, deep-learning, parkin...</td>\n",
              "    </tr>\n",
              "  </tbody>\n",
              "</table>\n",
              "</div>\n",
              "      <button class=\"colab-df-convert\" onclick=\"convertToInteractive('df-9ac67c2f-798f-4502-bcba-d4ddad9c61a7')\"\n",
              "              title=\"Convert this dataframe to an interactive table.\"\n",
              "              style=\"display:none;\">\n",
              "        \n",
              "  <svg xmlns=\"http://www.w3.org/2000/svg\" height=\"24px\"viewBox=\"0 0 24 24\"\n",
              "       width=\"24px\">\n",
              "    <path d=\"M0 0h24v24H0V0z\" fill=\"none\"/>\n",
              "    <path d=\"M18.56 5.44l.94 2.06.94-2.06 2.06-.94-2.06-.94-.94-2.06-.94 2.06-2.06.94zm-11 1L8.5 8.5l.94-2.06 2.06-.94-2.06-.94L8.5 2.5l-.94 2.06-2.06.94zm10 10l.94 2.06.94-2.06 2.06-.94-2.06-.94-.94-2.06-.94 2.06-2.06.94z\"/><path d=\"M17.41 7.96l-1.37-1.37c-.4-.4-.92-.59-1.43-.59-.52 0-1.04.2-1.43.59L10.3 9.45l-7.72 7.72c-.78.78-.78 2.05 0 2.83L4 21.41c.39.39.9.59 1.41.59.51 0 1.02-.2 1.41-.59l7.78-7.78 2.81-2.81c.8-.78.8-2.07 0-2.86zM5.41 20L4 18.59l7.72-7.72 1.47 1.35L5.41 20z\"/>\n",
              "  </svg>\n",
              "      </button>\n",
              "      \n",
              "  <style>\n",
              "    .colab-df-container {\n",
              "      display:flex;\n",
              "      flex-wrap:wrap;\n",
              "      gap: 12px;\n",
              "    }\n",
              "\n",
              "    .colab-df-convert {\n",
              "      background-color: #E8F0FE;\n",
              "      border: none;\n",
              "      border-radius: 50%;\n",
              "      cursor: pointer;\n",
              "      display: none;\n",
              "      fill: #1967D2;\n",
              "      height: 32px;\n",
              "      padding: 0 0 0 0;\n",
              "      width: 32px;\n",
              "    }\n",
              "\n",
              "    .colab-df-convert:hover {\n",
              "      background-color: #E2EBFA;\n",
              "      box-shadow: 0px 1px 2px rgba(60, 64, 67, 0.3), 0px 1px 3px 1px rgba(60, 64, 67, 0.15);\n",
              "      fill: #174EA6;\n",
              "    }\n",
              "\n",
              "    [theme=dark] .colab-df-convert {\n",
              "      background-color: #3B4455;\n",
              "      fill: #D2E3FC;\n",
              "    }\n",
              "\n",
              "    [theme=dark] .colab-df-convert:hover {\n",
              "      background-color: #434B5C;\n",
              "      box-shadow: 0px 1px 3px 1px rgba(0, 0, 0, 0.15);\n",
              "      filter: drop-shadow(0px 1px 2px rgba(0, 0, 0, 0.3));\n",
              "      fill: #FFFFFF;\n",
              "    }\n",
              "  </style>\n",
              "\n",
              "      <script>\n",
              "        const buttonEl =\n",
              "          document.querySelector('#df-9ac67c2f-798f-4502-bcba-d4ddad9c61a7 button.colab-df-convert');\n",
              "        buttonEl.style.display =\n",
              "          google.colab.kernel.accessAllowed ? 'block' : 'none';\n",
              "\n",
              "        async function convertToInteractive(key) {\n",
              "          const element = document.querySelector('#df-9ac67c2f-798f-4502-bcba-d4ddad9c61a7');\n",
              "          const dataTable =\n",
              "            await google.colab.kernel.invokeFunction('convertToInteractive',\n",
              "                                                     [key], {});\n",
              "          if (!dataTable) return;\n",
              "\n",
              "          const docLinkHtml = 'Like what you see? Visit the ' +\n",
              "            '<a target=\"_blank\" href=https://colab.research.google.com/notebooks/data_table.ipynb>data table notebook</a>'\n",
              "            + ' to learn more about interactive tables.';\n",
              "          element.innerHTML = '';\n",
              "          dataTable['output_type'] = 'display_data';\n",
              "          await google.colab.output.renderOutput(dataTable, element);\n",
              "          const docLink = document.createElement('div');\n",
              "          docLink.innerHTML = docLinkHtml;\n",
              "          element.appendChild(docLink);\n",
              "        }\n",
              "      </script>\n",
              "    </div>\n",
              "  </div>\n",
              "  "
            ],
            "text/plain": [
              "   id  ...                                               tags\n",
              "0   1  ...  [code, tutorial, keras, pytorch, tensorflow, d...\n",
              "1   2  ...    [article, tutorial, deep-learning, health, ehr]\n",
              "2   3  ...  [code, tutorial, video, python, machine-learni...\n",
              "3   4  ...  [code, tutorial, python, pytorch, machine-lear...\n",
              "4   5  ...  [code, tutorial, fastai, deep-learning, parkin...\n",
              "\n",
              "[5 rows x 5 columns]"
            ]
          },
          "metadata": {},
          "execution_count": 5
        }
      ],
      "metadata": {
        "id": "ZAYXvZ_TNkSU",
        "colab": {
          "base_uri": "https://localhost:8080/",
          "height": 221
        },
        "outputId": "214eac32-51ba-4665-a2d3-e6afe0995129"
      }
    },
    {
      "cell_type": "markdown",
      "source": [
        "## Preprocessing"
      ],
      "metadata": {
        "id": "HFifXKl_eKsN"
      }
    },
    {
      "cell_type": "markdown",
      "source": [
        "Preprocessing the data via feature engineering, filtering and cleaning. Certain preprocessing steps are global (don't depend on our dataset, ex. lower casing text, removing stop words, etc.) and others are local (constructs are learned only from the training split, ex. vocabulary, standardization, etc.). For the local, dataset-dependent preprocessing steps, we want to ensure that we [split](https://madewithml.com/courses/mlops/splitting) the data first before preprocessing to avoid data leaks."
      ],
      "metadata": {
        "id": "RxAZ1AmteRaD"
      }
    },
    {
      "cell_type": "markdown",
      "source": [
        "We can combine existing input features to create new meaningful signal (helping the model learn). "
      ],
      "metadata": {
        "id": "U_001GPyMZsC"
      }
    },
    {
      "cell_type": "code",
      "execution_count": 6,
      "source": [
        "# Feature engineering\n",
        "df[\"text\"] = df.title + \" \" + df.description"
      ],
      "outputs": [],
      "metadata": {
        "id": "3x1ldAFQNkSU"
      }
    },
    {
      "cell_type": "markdown",
      "source": [
        "Filter tags above a certain frequency threshold because those with fewer samples won't be adequate for training."
      ],
      "metadata": {
        "id": "spTOm3UvMdtH"
      }
    },
    {
      "cell_type": "code",
      "execution_count": 9,
      "source": [
        "def filter(l, include=[], exclude=[]):\n",
        "    \"\"\"Filter a list using inclusion and exclusion lists of items.\"\"\"\n",
        "    filtered = [item for item in l if item in include and item not in exclude]\n",
        "    return filtered"
      ],
      "outputs": [],
      "metadata": {
        "id": "Lt9j3gz1NkSU"
      }
    },
    {
      "cell_type": "code",
      "execution_count": 7,
      "source": [
        "# Inclusion/exclusion criteria for tags\n",
        "include = list(tags_dict.keys())\n",
        "exclude = [\"machine-learning\", \"deep-learning\",  \"data-science\",\n",
        "           \"neural-networks\", \"python\", \"r\", \"visualization\", \"wandb\"]"
      ],
      "outputs": [],
      "metadata": {
        "id": "Q1H1lnKXNkSU"
      }
    },
    {
      "cell_type": "code",
      "execution_count": 10,
      "source": [
        "# Filter tags for each project\n",
        "df.tags = df.tags.apply(filter, include=include, exclude=exclude)\n",
        "tags = Counter(itertools.chain.from_iterable(df.tags.values))"
      ],
      "outputs": [],
      "metadata": {
        "id": "FF9cfyfaNkSU"
      }
    },
    {
      "cell_type": "markdown",
      "source": [
        "We're also going to restrict the mapping to only tags that are above a certain frequency threshold. The tags that don't have enough projects will not have enough samples to model their relationships."
      ],
      "metadata": {
        "id": "Av4fPxjDMjAM"
      }
    },
    {
      "cell_type": "code",
      "execution_count": 11,
      "source": [
        "@widgets.interact(min_tag_freq=(0, tags.most_common()[0][1]))\n",
        "def separate_tags_by_freq(min_tag_freq=30):\n",
        "    tags_above_freq = Counter(tag for tag in tags.elements()\n",
        "                                    if tags[tag] >= min_tag_freq)\n",
        "    tags_below_freq = Counter(tag for tag in tags.elements()\n",
        "                                    if tags[tag] < min_tag_freq)\n",
        "    print (\"Most popular tags:\\n\", tags_above_freq.most_common(5))\n",
        "    print (\"\\nTags that just made the cut:\\n\", tags_above_freq.most_common()[-5:])\n",
        "    print (\"\\nTags that just missed the cut:\\n\", tags_below_freq.most_common(5))"
      ],
      "outputs": [
        {
          "output_type": "display_data",
          "data": {
            "application/vnd.jupyter.widget-view+json": {
              "model_id": "a33f2f8947d34e6f84ca11fcbd1858a0",
              "version_minor": 0,
              "version_major": 2
            },
            "text/plain": [
              "interactive(children=(IntSlider(value=30, description='min_tag_freq', max=424), Output()), _dom_classes=('widg…"
            ]
          },
          "metadata": {}
        }
      ],
      "metadata": {
        "id": "k1GcLzL6NkSU",
        "tags": [
          "hide-input"
        ],
        "colab": {
          "base_uri": "https://localhost:8080/",
          "height": 185,
          "referenced_widgets": [
            "a33f2f8947d34e6f84ca11fcbd1858a0",
            "b180e268bc1f493ea8c184d149725823",
            "8906e8076f5d4dbfb144e5a9e4d00084",
            "eeeb9a967cf042578a4eb645bfc9ea6f",
            "903fa39e8ed8450cb2cc283e89d38bfa",
            "5f68a286e3684e5187d1c9319bc83035",
            "b55c804377224e4e8cf2e3866f0a70c7"
          ]
        },
        "outputId": "b17ec5b8-e1d4-43a4-aa75-bd0ddd2ad186"
      }
    },
    {
      "cell_type": "code",
      "source": [
        "tags"
      ],
      "metadata": {
        "id": "f-jdUtaKFtVe",
        "outputId": "3a92021c-f70c-455e-d468-010877dc9a39",
        "colab": {
          "base_uri": "https://localhost:8080/"
        }
      },
      "execution_count": 12,
      "outputs": [
        {
          "output_type": "execute_result",
          "data": {
            "text/plain": [
              "Counter({'3d': 17,\n",
              "         'action-localization': 1,\n",
              "         'action-recognition': 5,\n",
              "         'active-learning': 10,\n",
              "         'adversarial-attacks': 16,\n",
              "         'adversarial-defense': 5,\n",
              "         'adversarial-image-detection': 3,\n",
              "         'adversarial-learning': 28,\n",
              "         'adversarial-text': 1,\n",
              "         'angular': 2,\n",
              "         'annotation': 21,\n",
              "         'anomaly-detection': 15,\n",
              "         'arima': 2,\n",
              "         'artificial-general-intelligence': 9,\n",
              "         'attention': 120,\n",
              "         'audio-classification': 6,\n",
              "         'audio-generation': 1,\n",
              "         'audio-tagging': 4,\n",
              "         'autoencoders': 41,\n",
              "         'automl': 22,\n",
              "         'autonomous-vehicles': 7,\n",
              "         'aws': 20,\n",
              "         'azure': 9,\n",
              "         'bayesian-deep-learning': 13,\n",
              "         'bayesian-inference': 3,\n",
              "         'c++': 12,\n",
              "         'caffe': 2,\n",
              "         'causal-inference': 8,\n",
              "         'chainer': 1,\n",
              "         'character-embeddings': 2,\n",
              "         'ci-cd': 14,\n",
              "         'classification': 22,\n",
              "         'clustering': 21,\n",
              "         'code-generation': 3,\n",
              "         'collaborative-filtering': 2,\n",
              "         'colorization': 2,\n",
              "         'common-sense-reasoning': 2,\n",
              "         'computer-vision': 388,\n",
              "         'conditional-random-fields': 3,\n",
              "         'constituency-parsing': 1,\n",
              "         'contextualized-embeddings': 3,\n",
              "         'contrastive-loss': 4,\n",
              "         'conversational-ai': 20,\n",
              "         'convolutional-neural-networks': 106,\n",
              "         'coreml': 1,\n",
              "         'counterfactuals': 2,\n",
              "         'cropping': 1,\n",
              "         'cross-lingual': 1,\n",
              "         'crowd-counting': 1,\n",
              "         'css': 4,\n",
              "         'd3': 3,\n",
              "         'data-augmentation': 41,\n",
              "         'data-mining': 3,\n",
              "         'data-summarization': 1,\n",
              "         'databases': 6,\n",
              "         'decision-trees': 16,\n",
              "         'deep-q-networks': 6,\n",
              "         'denoising': 1,\n",
              "         'depth-estimation': 1,\n",
              "         'devops': 5,\n",
              "         'dialogue': 1,\n",
              "         'dimensionality-reduction': 18,\n",
              "         'disparity-estimation': 1,\n",
              "         'distributed-training': 12,\n",
              "         'django': 3,\n",
              "         'dlib': 2,\n",
              "         'docker': 12,\n",
              "         'document-embeddings': 2,\n",
              "         'document-ranking': 1,\n",
              "         'domain-adaptation': 4,\n",
              "         'drug-discovery': 1,\n",
              "         'edge-detection': 1,\n",
              "         'embeddings': 75,\n",
              "         'emotion-recognition': 1,\n",
              "         'entity-linking': 2,\n",
              "         'experiment-tracking': 12,\n",
              "         'exploratory-data-analysis': 27,\n",
              "         'face-detection': 5,\n",
              "         'fake-news-detection': 2,\n",
              "         'fastai': 29,\n",
              "         'fastapi': 13,\n",
              "         'fasttext': 5,\n",
              "         'feature-engineering': 12,\n",
              "         'feature-importance': 5,\n",
              "         'feature-selection': 4,\n",
              "         'few-shot-learning': 12,\n",
              "         'fine-tuning': 17,\n",
              "         'flask': 34,\n",
              "         'forecasting': 13,\n",
              "         'fraud-detection': 3,\n",
              "         'gated-recurrent-units': 3,\n",
              "         'gaussian-processes': 10,\n",
              "         'generation': 2,\n",
              "         'generative-adversarial-networks': 73,\n",
              "         'geometric-deep-learning': 4,\n",
              "         'gesture-recognition': 1,\n",
              "         'git': 7,\n",
              "         'go': 1,\n",
              "         'gpt': 8,\n",
              "         'gradient-boosting': 15,\n",
              "         'graph-classification': 29,\n",
              "         'graph-clustering': 27,\n",
              "         'graph-convolutional-networks': 23,\n",
              "         'graph-embedding': 26,\n",
              "         'graph-neural-networks': 51,\n",
              "         'graph-representation-learning': 4,\n",
              "         'graphs': 78,\n",
              "         'hand-pose-estimation': 1,\n",
              "         'hidden-markov-models': 5,\n",
              "         'hierarchical-reinforcement-learning': 1,\n",
              "         'html': 8,\n",
              "         'huggingface': 64,\n",
              "         'hyperparameter-optimization': 21,\n",
              "         'image-captioning': 10,\n",
              "         'image-categorization': 2,\n",
              "         'image-classification': 51,\n",
              "         'image-clustering': 5,\n",
              "         'image-compression': 2,\n",
              "         'image-generation': 20,\n",
              "         'image-recognition': 5,\n",
              "         'image-restoration': 1,\n",
              "         'image-similarity-search': 4,\n",
              "         'image-to-image-translation': 7,\n",
              "         'imitation-learning': 1,\n",
              "         'imputation': 1,\n",
              "         'inference': 8,\n",
              "         'information-extraction': 4,\n",
              "         'information-retrieval': 6,\n",
              "         'instance-segmentation': 7,\n",
              "         'interpretability': 55,\n",
              "         'java': 1,\n",
              "         'javascript': 15,\n",
              "         'jax': 21,\n",
              "         'julia': 4,\n",
              "         'k-nearest-neighbors': 17,\n",
              "         'keras': 93,\n",
              "         'keyword-extraction': 1,\n",
              "         'knowledge-base': 1,\n",
              "         'knowledge-base-question-answering': 2,\n",
              "         'knowledge-distillation': 13,\n",
              "         'knowledge-graphs': 5,\n",
              "         'kuberflow': 1,\n",
              "         'kubernetes': 3,\n",
              "         'language-modeling': 51,\n",
              "         'latent-dirichlet-allocation': 6,\n",
              "         'learning-rates': 2,\n",
              "         'lemmatization': 1,\n",
              "         'linear-discriminant-analysis': 1,\n",
              "         'linear-regression': 24,\n",
              "         'logistic-regression': 16,\n",
              "         'lstm': 18,\n",
              "         'machine-translation': 7,\n",
              "         'matplotlib': 8,\n",
              "         'medical-imaging': 10,\n",
              "         'meta-learning': 13,\n",
              "         'metrics': 9,\n",
              "         'mlops': 19,\n",
              "         'model-compression': 29,\n",
              "         'model-management': 5,\n",
              "         'model-selection': 2,\n",
              "         'mortality-prediction': 1,\n",
              "         'motion-capture': 1,\n",
              "         'motion-estimation': 1,\n",
              "         'multi-agent-reinforcement-learning': 3,\n",
              "         'multi-modal': 4,\n",
              "         'multi-task-learning': 13,\n",
              "         'multilayer-perceptrons': 11,\n",
              "         'multilingual': 2,\n",
              "         'multinomial-regression': 2,\n",
              "         'music-generation': 8,\n",
              "         'mxnet': 6,\n",
              "         'naive-bayes': 5,\n",
              "         'named-entity-recognition': 23,\n",
              "         'natural-language-inference': 2,\n",
              "         'natural-language-processing': 424,\n",
              "         'natural-language-understanding': 6,\n",
              "         'node-classification': 33,\n",
              "         'node-js': 8,\n",
              "         'object-classification': 2,\n",
              "         'object-detection': 69,\n",
              "         'object-localization': 3,\n",
              "         'object-recognition': 2,\n",
              "         'object-tracking': 10,\n",
              "         'one-shot-learning': 2,\n",
              "         'onnx': 9,\n",
              "         'optical-character-recognition': 13,\n",
              "         'optimizer': 2,\n",
              "         'outlier-detection': 3,\n",
              "         'paddlepaddle': 1,\n",
              "         'paraphrase-identification': 1,\n",
              "         'part-of-speech-tagging': 3,\n",
              "         'point-cloud-generation': 2,\n",
              "         'policy-gradient-methods': 2,\n",
              "         'pose-estimation': 10,\n",
              "         'pose-tracking': 1,\n",
              "         'preprocessing': 11,\n",
              "         'pretraining': 30,\n",
              "         'principal-component-analysis': 6,\n",
              "         'privacy': 7,\n",
              "         'production': 51,\n",
              "         'pruning': 14,\n",
              "         'pytorch': 258,\n",
              "         'q-learning': 5,\n",
              "         'quantization': 10,\n",
              "         'quantum-machine-learning': 1,\n",
              "         'question-answering': 32,\n",
              "         'question-generation': 11,\n",
              "         'question-similarity': 1,\n",
              "         'random-forests': 20,\n",
              "         'react': 7,\n",
              "         'reading-comprehension': 3,\n",
              "         'recommendation-systems': 21,\n",
              "         'recurrent-neural-networks': 28,\n",
              "         'regression': 49,\n",
              "         'reinforcement-learning': 59,\n",
              "         'relation-extraction': 1,\n",
              "         'representation-learning': 57,\n",
              "         'residual-networks': 1,\n",
              "         'robotics': 5,\n",
              "         'scikit-learn': 60,\n",
              "         'search': 13,\n",
              "         'segmentation': 48,\n",
              "         'self-attention': 14,\n",
              "         'self-supervised-learning': 40,\n",
              "         'semantic-composition': 1,\n",
              "         'semantic-segmentation': 17,\n",
              "         'semi-supervised-learning': 25,\n",
              "         'sentence-embeddings': 4,\n",
              "         'sentiment-analysis': 19,\n",
              "         'sequence-to-sequence': 7,\n",
              "         'siamese-networks': 6,\n",
              "         'similarity-search': 10,\n",
              "         'slot-filling': 1,\n",
              "         'spacy': 14,\n",
              "         'spark': 1,\n",
              "         'spatial-temporal-cnn': 1,\n",
              "         'speaker-diarization': 1,\n",
              "         'speech': 18,\n",
              "         'speech-recognition': 7,\n",
              "         'speech-synthesis': 7,\n",
              "         'sql': 12,\n",
              "         'stochastic-optimization': 1,\n",
              "         'streaming-data': 4,\n",
              "         'streamlit': 27,\n",
              "         'style-transfer': 14,\n",
              "         'super-resolution': 9,\n",
              "         'support-vector-machines': 16,\n",
              "         'surveillance': 1,\n",
              "         'survival-analysis': 3,\n",
              "         'swift': 1,\n",
              "         'systems-design': 20,\n",
              "         'tabular': 5,\n",
              "         'temporal-cnn': 3,\n",
              "         'tensor-networks': 1,\n",
              "         'tensorflow': 213,\n",
              "         'tensorflow-js': 40,\n",
              "         'tensorflow-lite': 15,\n",
              "         'text-classification': 24,\n",
              "         'text-generation': 17,\n",
              "         'text-matching': 1,\n",
              "         'text-similarity': 3,\n",
              "         'text-summarization': 14,\n",
              "         'text-to-speech-synthesis': 1,\n",
              "         'theano': 1,\n",
              "         'time-series': 34,\n",
              "         'time-series-classification': 1,\n",
              "         'time-series-clustering': 1,\n",
              "         'time-series-forecasting': 13,\n",
              "         'time-series-prediction': 1,\n",
              "         'tokenization': 6,\n",
              "         'topic-modeling': 8,\n",
              "         'torch': 2,\n",
              "         'transfer-learning': 46,\n",
              "         'transformers': 196,\n",
              "         'unit-tests': 15,\n",
              "         'unsupervised-learning': 39,\n",
              "         'variational-autoencoders': 19,\n",
              "         'video-classification': 2,\n",
              "         'video-semantic-segmentation': 1,\n",
              "         'visual-navigation': 1,\n",
              "         'visual-question-answering': 5,\n",
              "         'word-embeddings': 14,\n",
              "         'xgboost': 8,\n",
              "         'xlnet': 3,\n",
              "         'zero-shot-learning': 7})"
            ]
          },
          "metadata": {},
          "execution_count": 12
        }
      ]
    },
    {
      "cell_type": "code",
      "execution_count": 13,
      "source": [
        "# Filter tags that have fewer than <min_tag_freq> occurrences\n",
        "min_tag_freq = 30\n",
        "tags_above_freq = Counter(tag for tag in tags.elements() \n",
        "                          if tags[tag] >= min_tag_freq)\n",
        "df.tags = df.tags.apply(filter, include=list(tags_above_freq.keys()))"
      ],
      "outputs": [],
      "metadata": {
        "id": "JjaEbjzONkSV"
      }
    },
    {
      "cell_type": "markdown",
      "source": [
        "Remove inputs that have no remaining (not enough frequency) tags."
      ],
      "metadata": {
        "id": "-KI1xupRMtgw"
      }
    },
    {
      "cell_type": "code",
      "execution_count": 14,
      "source": [
        "import nltk\n",
        "from nltk.corpus import stopwords\n",
        "from nltk.stem import PorterStemmer\n",
        "import re"
      ],
      "outputs": [],
      "metadata": {
        "id": "PTdbpY73LdP9"
      }
    },
    {
      "cell_type": "code",
      "execution_count": 15,
      "source": [
        "# Remove projects with no more remaining relevant tags\n",
        "df = df[df.tags.map(len) > 0]\n",
        "print (f\"{len(df)} projects\")"
      ],
      "outputs": [
        {
          "output_type": "stream",
          "name": "stdout",
          "text": [
            "1439 projects\n"
          ]
        }
      ],
      "metadata": {
        "id": "xRK_c_CFNkSV",
        "colab": {
          "base_uri": "https://localhost:8080/"
        },
        "outputId": "049004da-a0c7-49c4-b424-65f5b72c29af"
      }
    },
    {
      "cell_type": "markdown",
      "source": [
        "Since we're dealing with text data, we can apply some of the common preparation processes:"
      ],
      "metadata": {
        "id": "8_f1LpKpMwzO"
      }
    },
    {
      "cell_type": "code",
      "execution_count": 16,
      "source": [
        "nltk.download('stopwords')\n",
        "STOPWORDS = stopwords.words('english')\n",
        "porter = PorterStemmer()"
      ],
      "outputs": [
        {
          "output_type": "stream",
          "name": "stdout",
          "text": [
            "[nltk_data] Downloading package stopwords to /root/nltk_data...\n",
            "[nltk_data]   Unzipping corpora/stopwords.zip.\n"
          ]
        }
      ],
      "metadata": {
        "id": "VDXLH6QeLd0F",
        "colab": {
          "base_uri": "https://localhost:8080/"
        },
        "outputId": "99577422-e442-4c4e-8e1a-0c1a7ced8282"
      }
    },
    {
      "cell_type": "code",
      "execution_count": 17,
      "source": [
        "def preprocess(text, lower=True, stem=False, \n",
        "               filters=\"[!\\\"'#$%&()*\\+,-./:;<=>?@\\\\\\[\\]^_`{|}~]\", \n",
        "               stopwords=STOPWORDS):\n",
        "    \"\"\"Conditional preprocessing on our text unique to our task.\"\"\"\n",
        "    # Lower\n",
        "    if lower: \n",
        "        text = text.lower()\n",
        "\n",
        "    # Remove stopwords\n",
        "    pattern = re.compile(r'\\b(' + r'|'.join(stopwords) + r')\\b\\s*')\n",
        "    text = pattern.sub('', text)\n",
        "\n",
        "    # Spacing and filters\n",
        "    text = re.sub(r\"([-;;.,!?<=>])\", r\" \\1 \", text)\n",
        "    text = re.sub(filters, r\"\", text)\n",
        "    text = re.sub('[^A-Za-z0-9]+', ' ', text) # remove non alphanumeric chars\n",
        "    text = re.sub(' +', ' ', text)  # remove multiple spaces\n",
        "    text = text.strip()\n",
        "\n",
        "    # Remove links\n",
        "    text = re.sub(r'http\\S+', '', text)\n",
        "\n",
        "    # Stemming\n",
        "    if stem:\n",
        "        text = \" \".join([porter.stem(word) for word in text.split(' ')])\n",
        "\n",
        "    return text"
      ],
      "outputs": [],
      "metadata": {
        "id": "VfdWkkV8LlNR"
      }
    },
    {
      "cell_type": "code",
      "execution_count": 18,
      "source": [
        "@widgets.interact(lower=True, stem=False)\n",
        "def display_preprocessed_text(lower, stem):\n",
        "    text = \"Conditional image generation using Variational Autoencoders and GANs.\"\n",
        "    preprocessed_text = preprocess(text=text, lower=lower, stem=stem)\n",
        "    print (preprocessed_text)    "
      ],
      "outputs": [
        {
          "output_type": "display_data",
          "data": {
            "application/vnd.jupyter.widget-view+json": {
              "model_id": "73cb63147c0842599eba8dfc3d2874ab",
              "version_minor": 0,
              "version_major": 2
            },
            "text/plain": [
              "interactive(children=(Checkbox(value=True, description='lower'), Checkbox(value=False, description='stem'), Ou…"
            ]
          },
          "metadata": {}
        }
      ],
      "metadata": {
        "id": "L6aKH-g0LlQt",
        "colab": {
          "base_uri": "https://localhost:8080/",
          "height": 98,
          "referenced_widgets": [
            "73cb63147c0842599eba8dfc3d2874ab",
            "404a39d028c340979b1f14f287cf564f",
            "18df5a90caf1411a8c8be7d67a7836e6",
            "242aa44fd3894f15a131d1aee958f82b",
            "4c165cb077d44171880aaaa4c7cffaaa",
            "3c01a53124b7429c925c997d3f168c0d",
            "8dbe1574c18444c9ba072adc12b549d4",
            "4fa2f02dddfb481a80392375cb41964c",
            "1af3d54a522f4af7add0ac961e42b39a",
            "0ced0b7a16d14589b74be963bcc56e53"
          ]
        },
        "outputId": "5e61bcc2-1d59-4f14-811e-73dacbcc4ddf"
      }
    },
    {
      "cell_type": "code",
      "execution_count": 19,
      "source": [
        "# Apply to dataframe\n",
        "original_df = df.copy()\n",
        "df.text = df.text.apply(preprocess, lower=True, stem=False)\n",
        "print (f\"{original_df.text.values[0]}\\n{df.text.values[0]}\")"
      ],
      "outputs": [
        {
          "output_type": "stream",
          "name": "stdout",
          "text": [
            "Machine Learning Basics A practical set of notebooks on machine learning basics, implemented in both TF2.0 + Keras and PyTorch.\n",
            "machine learning basics practical set notebooks machine learning basics implemented tf2 0 keras pytorch\n"
          ]
        }
      ],
      "metadata": {
        "id": "3LRaq0_5LpE4",
        "colab": {
          "base_uri": "https://localhost:8080/"
        },
        "outputId": "c1ffca6a-07de-498b-fcaa-2c6534746248"
      }
    },
    {
      "cell_type": "markdown",
      "source": [
        "## Exploratory Data Analysis (EDA)"
      ],
      "metadata": {
        "id": "WuCrsbxbNkSV"
      }
    },
    {
      "cell_type": "code",
      "execution_count": null,
      "source": [
        "import matplotlib.pyplot as plt\n",
        "import seaborn as sns\n",
        "import warnings\n",
        "from wordcloud import WordCloud, STOPWORDS\n",
        "sns.set_theme()\n",
        "warnings.filterwarnings(\"ignore\")"
      ],
      "outputs": [],
      "metadata": {
        "id": "tHdQmqTBNkSV"
      }
    },
    {
      "cell_type": "code",
      "execution_count": null,
      "source": [
        "# Number of tags per project\n",
        "num_tags_per_project = [len(tags) for tags in df.tags]\n",
        "num_tags, num_projects = zip(*Counter(num_tags_per_project).items())\n",
        "plt.figure(figsize=(10, 3))\n",
        "ax = sns.barplot(list(num_tags), list(num_projects))\n",
        "plt.title(\"Tags per project\", fontsize=20)\n",
        "plt.xlabel(\"Number of tags\", fontsize=16)\n",
        "ax.set_xticklabels(range(1, len(num_tags)+1), rotation=0, fontsize=16)\n",
        "plt.ylabel(\"Number of projects\", fontsize=16)\n",
        "plt.show()"
      ],
      "outputs": [
        {
          "output_type": "display_data",
          "data": {
            "image/png": "[encoded data removed]",
            "text/plain": [
              "<Figure size 720x216 with 1 Axes>"
            ]
          },
          "metadata": {}
        }
      ],
      "metadata": {
        "id": "2hGuYu5ONkSV",
        "colab": {
          "base_uri": "https://localhost:8080/",
          "height": 258
        },
        "outputId": "b648f9df-b9e3-44c0-b522-e0bd12a712ca"
      }
    },
    {
      "cell_type": "code",
      "execution_count": null,
      "source": [
        "# Distribution of tags\n",
        "all_tags = list(itertools.chain.from_iterable(df.tags.values))\n",
        "tags, tag_counts = zip(*Counter(all_tags).most_common())\n",
        "plt.figure(figsize=(25, 5))\n",
        "ax = sns.barplot(list(tags), list(tag_counts))\n",
        "plt.title(\"Tag distribution\", fontsize=20)\n",
        "plt.xlabel(\"Tag\", fontsize=16)\n",
        "ax.set_xticklabels(tags, rotation=90, fontsize=14)\n",
        "plt.ylabel(\"Number of projects\", fontsize=16)\n",
        "plt.show()"
      ],
      "outputs": [
        {
          "output_type": "display_data",
          "data": {
            "image/png": "[encoded data removed]",
            "text/plain": [
              "<Figure size 1800x360 with 1 Axes>"
            ]
          },
          "metadata": {}
        }
      ],
      "metadata": {
        "id": "5JuX5Ju-NkSV",
        "colab": {
          "base_uri": "https://localhost:8080/",
          "height": 580
        },
        "outputId": "3188852f-f338-42f4-faca-637513207451"
      }
    },
    {
      "cell_type": "code",
      "execution_count": null,
      "source": [
        "@widgets.interact(tag=list(tags))\n",
        "def display_word_cloud(tag=\"pytorch\"):\n",
        "    # Plot word clouds top top tags\n",
        "    plt.figure(figsize=(15, 5))\n",
        "    subset = df[df.tags.apply(lambda tags: tag in tags)]\n",
        "    text = subset.text.values\n",
        "    cloud = WordCloud(\n",
        "        stopwords=STOPWORDS, background_color=\"black\", collocations=False,\n",
        "        width=500, height=300).generate(\" \".join(text))\n",
        "    plt.axis(\"off\")\n",
        "    plt.imshow(cloud)"
      ],
      "outputs": [
        {
          "output_type": "display_data",
          "data": {
            "application/vnd.jupyter.widget-view+json": {
              "model_id": "58d6ea7524b14fd09db029ff50a9f3c2",
              "version_minor": 0,
              "version_major": 2
            },
            "text/plain": [
              "interactive(children=(Dropdown(description='tag', index=2, options=('natural-language-processing', 'computer-v…"
            ]
          },
          "metadata": {}
        }
      ],
      "metadata": {
        "id": "NgMGuIQrNkSV",
        "colab": {
          "base_uri": "https://localhost:8080/",
          "height": 335,
          "referenced_widgets": [
            "58d6ea7524b14fd09db029ff50a9f3c2",
            "25dd1bcd82db4beca1efa31fbc3a9600",
            "4a1e7aa4d2d54fd0843e034d2c734afd",
            "5399294b40ea42d1988e525f03116534",
            "2049693e671b476aa587af820c5400c0",
            "f3482a74b9c94c72b9224068848c0543",
            "bb9cb9852e20461f85655dd506474c4c"
          ]
        },
        "outputId": "0ad55591-176a-42bc-c0a4-585cbe60d5a3"
      }
    },
    {
      "cell_type": "markdown",
      "source": [
        "## Label encoding"
      ],
      "metadata": {
        "id": "7sfzg9CMNkSV"
      }
    },
    {
      "cell_type": "code",
      "execution_count": null,
      "source": [
        "import numpy as np\n",
        "import random"
      ],
      "outputs": [],
      "metadata": {
        "id": "DYKtkRjlNkSV"
      }
    },
    {
      "cell_type": "code",
      "execution_count": null,
      "source": [
        "# Set seeds for reproducibility\n",
        "seed = 42\n",
        "np.random.seed(seed)\n",
        "random.seed(seed)"
      ],
      "outputs": [],
      "metadata": {
        "id": "U-khYwAVNkSV"
      }
    },
    {
      "cell_type": "code",
      "execution_count": null,
      "source": [
        "# Shuffle\n",
        "df = df.sample(frac=1).reset_index(drop=True)"
      ],
      "outputs": [],
      "metadata": {
        "id": "ytQ6_8v7NkSV"
      }
    },
    {
      "cell_type": "code",
      "execution_count": null,
      "source": [
        "# Get data\n",
        "X = df.text.to_numpy()\n",
        "y = df.tags"
      ],
      "outputs": [],
      "metadata": {
        "id": "j4lC_E14NkSV"
      }
    },
    {
      "cell_type": "markdown",
      "source": [
        "We'll be writing our own LabelEncoder which is based on scikit-learn's [implementation](https://scikit-learn.org/stable/modules/generated/sklearn.preprocessing.LabelEncoder.html). "
      ],
      "metadata": {
        "id": "zT6FHkqyNkSV"
      }
    },
    {
      "cell_type": "code",
      "execution_count": null,
      "source": [
        "class LabelEncoder(object):\n",
        "    \"\"\"Label encoder for tag labels.\"\"\"\n",
        "    def __init__(self, class_to_index={}):\n",
        "        self.class_to_index = class_to_index\n",
        "        self.index_to_class = {v: k for k, v in self.class_to_index.items()}\n",
        "        self.classes = list(self.class_to_index.keys())\n",
        "\n",
        "    def __len__(self):\n",
        "        return len(self.class_to_index)\n",
        "\n",
        "    def __str__(self):\n",
        "        return f\"<LabelEncoder(num_classes={len(self)})>\"\n",
        "\n",
        "    def fit(self, y):\n",
        "        classes = np.unique(list(itertools.chain.from_iterable(y)))\n",
        "        for i, class_ in enumerate(classes):\n",
        "            self.class_to_index[class_] = i\n",
        "        self.index_to_class = {v: k for k, v in self.class_to_index.items()}\n",
        "        self.classes = list(self.class_to_index.keys())\n",
        "        return self\n",
        "\n",
        "    def encode(self, y):\n",
        "        y_one_hot = np.zeros((len(y), len(self.class_to_index)), dtype=int)\n",
        "        for i, item in enumerate(y):\n",
        "            for class_ in item:\n",
        "                y_one_hot[i][self.class_to_index[class_]] = 1\n",
        "        return y_one_hot\n",
        "\n",
        "    def decode(self, y):\n",
        "        classes = []\n",
        "        for i, item in enumerate(y):\n",
        "            indices = np.where(item == 1)[0]\n",
        "            classes.append([self.index_to_class[index] for index in indices])\n",
        "        return classes\n",
        "\n",
        "    def save(self, fp):\n",
        "        with open(fp, 'w') as fp:\n",
        "            contents = {'class_to_index': self.class_to_index}\n",
        "            json.dump(contents, fp, indent=4, sort_keys=False)\n",
        "\n",
        "    @classmethod\n",
        "    def load(cls, fp):\n",
        "        with open(fp, 'r') as fp:\n",
        "            kwargs = json.load(fp=fp)\n",
        "        return cls(**kwargs)"
      ],
      "outputs": [],
      "metadata": {
        "id": "YHPmj1XANkSV"
      }
    },
    {
      "cell_type": "code",
      "execution_count": null,
      "source": [
        "# Encode\n",
        "label_encoder = LabelEncoder()\n",
        "label_encoder.fit(y)\n",
        "num_classes = len(label_encoder)"
      ],
      "outputs": [],
      "metadata": {
        "id": "fIcGw6MNNkSV"
      }
    },
    {
      "cell_type": "code",
      "execution_count": null,
      "source": [
        "label_encoder.class_to_index"
      ],
      "outputs": [
        {
          "output_type": "execute_result",
          "data": {
            "text/plain": [
              "{'attention': 0,\n",
              " 'autoencoders': 1,\n",
              " 'computer-vision': 2,\n",
              " 'convolutional-neural-networks': 3,\n",
              " 'data-augmentation': 4,\n",
              " 'embeddings': 5,\n",
              " 'flask': 6,\n",
              " 'generative-adversarial-networks': 7,\n",
              " 'graph-neural-networks': 8,\n",
              " 'graphs': 9,\n",
              " 'huggingface': 10,\n",
              " 'image-classification': 11,\n",
              " 'interpretability': 12,\n",
              " 'keras': 13,\n",
              " 'language-modeling': 14,\n",
              " 'natural-language-processing': 15,\n",
              " 'node-classification': 16,\n",
              " 'object-detection': 17,\n",
              " 'pretraining': 18,\n",
              " 'production': 19,\n",
              " 'pytorch': 20,\n",
              " 'question-answering': 21,\n",
              " 'regression': 22,\n",
              " 'reinforcement-learning': 23,\n",
              " 'representation-learning': 24,\n",
              " 'scikit-learn': 25,\n",
              " 'segmentation': 26,\n",
              " 'self-supervised-learning': 27,\n",
              " 'tensorflow': 28,\n",
              " 'tensorflow-js': 29,\n",
              " 'time-series': 30,\n",
              " 'transfer-learning': 31,\n",
              " 'transformers': 32,\n",
              " 'unsupervised-learning': 33}"
            ]
          },
          "metadata": {},
          "execution_count": 28
        }
      ],
      "metadata": {
        "id": "pLzecFwWNkSV",
        "colab": {
          "base_uri": "https://localhost:8080/"
        },
        "outputId": "ed93257f-9cdd-4eec-f102-480ddeee8351"
      }
    },
    {
      "cell_type": "code",
      "execution_count": null,
      "source": [
        "# Sample\n",
        "label_encoder.encode([[\"attention\", \"data-augmentation\"]])"
      ],
      "outputs": [
        {
          "output_type": "execute_result",
          "data": {
            "text/plain": [
              "array([[1, 0, 0, 0, 1, 0, 0, 0, 0, 0, 0, 0, 0, 0, 0, 0, 0, 0, 0, 0, 0, 0,\n",
              "        0, 0, 0, 0, 0, 0, 0, 0, 0, 0, 0, 0]])"
            ]
          },
          "metadata": {},
          "execution_count": 29
        }
      ],
      "metadata": {
        "id": "l8na7YazNkSW",
        "colab": {
          "base_uri": "https://localhost:8080/"
        },
        "outputId": "b6a19a13-3e41-4765-b2d5-3dd94d3e52e7"
      }
    },
    {
      "cell_type": "code",
      "execution_count": null,
      "source": [
        "# Encode all our labels\n",
        "y = label_encoder.encode(y)\n",
        "print (y.shape)"
      ],
      "outputs": [
        {
          "output_type": "stream",
          "name": "stdout",
          "text": [
            "(1439, 34)\n"
          ]
        }
      ],
      "metadata": {
        "id": "iMyIbacNNkSW",
        "colab": {
          "base_uri": "https://localhost:8080/"
        },
        "outputId": "5e804b2f-0990-4cf7-9a65-443ec83c0d16"
      }
    },
    {
      "cell_type": "markdown",
      "source": [
        "## Splitting"
      ],
      "metadata": {
        "id": "ufCNlDjQNkSW"
      }
    },
    {
      "cell_type": "code",
      "execution_count": null,
      "source": [
        "!pip install scikit-multilearn==0.2.0 -q"
      ],
      "outputs": [
        {
          "output_type": "stream",
          "name": "stdout",
          "text": [
            "\u001b[?25l\r\u001b[K     |███▊                            | 10 kB 18.4 MB/s eta 0:00:01\r\u001b[K     |███████▍                        | 20 kB 19.8 MB/s eta 0:00:01\r\u001b[K     |███████████                     | 30 kB 21.9 MB/s eta 0:00:01\r\u001b[K     |██████████████▊                 | 40 kB 23.8 MB/s eta 0:00:01\r\u001b[K     |██████████████████▍             | 51 kB 21.5 MB/s eta 0:00:01\r\u001b[K     |██████████████████████          | 61 kB 18.9 MB/s eta 0:00:01\r\u001b[K     |█████████████████████████▊      | 71 kB 14.4 MB/s eta 0:00:01\r\u001b[K     |█████████████████████████████▍  | 81 kB 15.2 MB/s eta 0:00:01\r\u001b[K     |████████████████████████████████| 89 kB 5.6 MB/s \n",
            "\u001b[?25h"
          ]
        }
      ],
      "metadata": {
        "id": "XOfLfpMKNxy3",
        "colab": {
          "base_uri": "https://localhost:8080/"
        },
        "outputId": "5756662e-97d3-4a41-97cd-0e94ddaed9a4"
      }
    },
    {
      "cell_type": "markdown",
      "source": [
        "You need to [clean](https://madewithml.com/courses/applied-ml/preprocessing/) your data first before splitting, at least for the features that splitting depends on. So the process is more like: preprocessing (global, cleaning) → splitting → preprocessing (local, transformations). We're splitting using the tag labels which have already been inspected and cleaned during EDA. "
      ],
      "metadata": {
        "id": "BBRwUKtfNkSW"
      }
    },
    {
      "cell_type": "markdown",
      "source": [
        "**Naive split**"
      ],
      "metadata": {
        "id": "2XMXpueENkSW"
      }
    },
    {
      "cell_type": "code",
      "execution_count": null,
      "source": [
        "from sklearn.model_selection import train_test_split\n",
        "from skmultilearn.model_selection.measures import get_combination_wise_output_matrix"
      ],
      "outputs": [],
      "metadata": {
        "id": "WEhp9SMFNkSW"
      }
    },
    {
      "cell_type": "code",
      "execution_count": null,
      "source": [
        "# Split sizes\n",
        "train_size = 0.7\n",
        "val_size = 0.15\n",
        "test_size = 0.15"
      ],
      "outputs": [],
      "metadata": {
        "id": "TTUju11uNkSW"
      }
    },
    {
      "cell_type": "markdown",
      "source": [
        "For simple multiclass classification, you can specify how to stratify the split by adding the [`stratify`](https://scikit-learn.org/stable/modules/generated/sklearn.model_selection.train_test_split.html) keyword argument. But our task is multilabel classification, so we'll need to use other techniques to create even splits."
      ],
      "metadata": {
        "id": "DTRQWabKNkSW"
      }
    },
    {
      "cell_type": "code",
      "execution_count": null,
      "source": [
        "# Split (train)\n",
        "X_train, X_, y_train, y_ = train_test_split(X, y, train_size=train_size)"
      ],
      "outputs": [],
      "metadata": {
        "id": "fw83_zitNkSW"
      }
    },
    {
      "cell_type": "code",
      "execution_count": null,
      "source": [
        "print (f\"train: {len(X_train)} ({(len(X_train) / len(X)):.2f})\\n\"\n",
        "       f\"remaining: {len(X_)} ({(len(X_) / len(X)):.2f})\")"
      ],
      "outputs": [
        {
          "output_type": "stream",
          "name": "stdout",
          "text": [
            "train: 1007 (0.70)\n",
            "remaining: 432 (0.30)\n"
          ]
        }
      ],
      "metadata": {
        "id": "WPVutu_dNkSW",
        "colab": {
          "base_uri": "https://localhost:8080/"
        },
        "outputId": "e03a95e3-b6fd-412b-d85b-c834f503627c"
      }
    },
    {
      "cell_type": "code",
      "execution_count": null,
      "source": [
        "# Split (test)\n",
        "X_val, X_test, y_val, y_test = train_test_split(\n",
        "    X_, y_, train_size=0.5)"
      ],
      "outputs": [],
      "metadata": {
        "id": "u-CFrR7pNkSW"
      }
    },
    {
      "cell_type": "code",
      "execution_count": null,
      "source": [
        "print(f\"train: {len(X_train)} ({len(X_train)/len(X):.2f})\\n\"\n",
        "      f\"val: {len(X_val)} ({len(X_val)/len(X):.2f})\\n\"\n",
        "      f\"test: {len(X_test)} ({len(X_test)/len(X):.2f})\")"
      ],
      "outputs": [
        {
          "output_type": "stream",
          "name": "stdout",
          "text": [
            "train: 1007 (0.70)\n",
            "val: 216 (0.15)\n",
            "test: 216 (0.15)\n"
          ]
        }
      ],
      "metadata": {
        "id": "-evG0mc1NkSW",
        "colab": {
          "base_uri": "https://localhost:8080/"
        },
        "outputId": "76e81a08-af54-4408-937f-f6cf5d6e0306"
      }
    },
    {
      "cell_type": "code",
      "execution_count": null,
      "source": [
        "# Get counts for each class\n",
        "counts = {}\n",
        "counts['train_counts'] = Counter(str(combination) for row in get_combination_wise_output_matrix(\n",
        "    y_train, order=1) for combination in row)\n",
        "counts['val_counts'] = Counter(str(combination) for row in get_combination_wise_output_matrix(\n",
        "    y_val, order=1) for combination in row)\n",
        "counts['test_counts'] = Counter(str(combination) for row in get_combination_wise_output_matrix(\n",
        "    y_test, order=1) for combination in row)"
      ],
      "outputs": [],
      "metadata": {
        "id": "Jw7KBZxsNkSW"
      }
    },
    {
      "cell_type": "code",
      "execution_count": null,
      "source": [
        "# View distributions\n",
        "pd.DataFrame({\n",
        "    \"train\": counts[\"train_counts\"],\n",
        "    \"val\": counts[\"val_counts\"],\n",
        "    \"test\": counts[\"test_counts\"]\n",
        "}).T.fillna(0)"
      ],
      "outputs": [
        {
          "output_type": "execute_result",
          "data": {
            "text/html": [
              "\n",
              "  <div id=\"df-a34dc6d5-91cf-43f6-9a3d-df294ece16e4\">\n",
              "    <div class=\"colab-df-container\">\n",
              "      <div>\n",
              "<style scoped>\n",
              "    .dataframe tbody tr th:only-of-type {\n",
              "        vertical-align: middle;\n",
              "    }\n",
              "\n",
              "    .dataframe tbody tr th {\n",
              "        vertical-align: top;\n",
              "    }\n",
              "\n",
              "    .dataframe thead th {\n",
              "        text-align: right;\n",
              "    }\n",
              "</style>\n",
              "<table border=\"1\" class=\"dataframe\">\n",
              "  <thead>\n",
              "    <tr style=\"text-align: right;\">\n",
              "      <th></th>\n",
              "      <th>(25,)</th>\n",
              "      <th>(15,)</th>\n",
              "      <th>(20,)</th>\n",
              "      <th>(21,)</th>\n",
              "      <th>(7,)</th>\n",
              "      <th>(33,)</th>\n",
              "      <th>(13,)</th>\n",
              "      <th>(28,)</th>\n",
              "      <th>(2,)</th>\n",
              "      <th>(3,)</th>\n",
              "      <th>(12,)</th>\n",
              "      <th>(22,)</th>\n",
              "      <th>(23,)</th>\n",
              "      <th>(32,)</th>\n",
              "      <th>(0,)</th>\n",
              "      <th>(1,)</th>\n",
              "      <th>(5,)</th>\n",
              "      <th>(4,)</th>\n",
              "      <th>(10,)</th>\n",
              "      <th>(14,)</th>\n",
              "      <th>(27,)</th>\n",
              "      <th>(29,)</th>\n",
              "      <th>(31,)</th>\n",
              "      <th>(24,)</th>\n",
              "      <th>(16,)</th>\n",
              "      <th>(9,)</th>\n",
              "      <th>(19,)</th>\n",
              "      <th>(26,)</th>\n",
              "      <th>(17,)</th>\n",
              "      <th>(11,)</th>\n",
              "      <th>(30,)</th>\n",
              "      <th>(18,)</th>\n",
              "      <th>(8,)</th>\n",
              "      <th>(6,)</th>\n",
              "    </tr>\n",
              "  </thead>\n",
              "  <tbody>\n",
              "    <tr>\n",
              "      <th>train</th>\n",
              "      <td>48</td>\n",
              "      <td>292</td>\n",
              "      <td>181</td>\n",
              "      <td>25</td>\n",
              "      <td>47</td>\n",
              "      <td>23</td>\n",
              "      <td>59</td>\n",
              "      <td>143</td>\n",
              "      <td>270</td>\n",
              "      <td>67</td>\n",
              "      <td>39</td>\n",
              "      <td>41</td>\n",
              "      <td>38</td>\n",
              "      <td>135</td>\n",
              "      <td>85</td>\n",
              "      <td>27</td>\n",
              "      <td>57</td>\n",
              "      <td>27</td>\n",
              "      <td>43</td>\n",
              "      <td>33</td>\n",
              "      <td>26</td>\n",
              "      <td>29</td>\n",
              "      <td>28</td>\n",
              "      <td>45</td>\n",
              "      <td>27</td>\n",
              "      <td>59</td>\n",
              "      <td>31</td>\n",
              "      <td>36</td>\n",
              "      <td>48</td>\n",
              "      <td>35</td>\n",
              "      <td>26</td>\n",
              "      <td>24</td>\n",
              "      <td>38</td>\n",
              "      <td>25</td>\n",
              "    </tr>\n",
              "    <tr>\n",
              "      <th>val</th>\n",
              "      <td>7</td>\n",
              "      <td>61</td>\n",
              "      <td>35</td>\n",
              "      <td>6</td>\n",
              "      <td>12</td>\n",
              "      <td>7</td>\n",
              "      <td>16</td>\n",
              "      <td>44</td>\n",
              "      <td>62</td>\n",
              "      <td>18</td>\n",
              "      <td>9</td>\n",
              "      <td>4</td>\n",
              "      <td>10</td>\n",
              "      <td>23</td>\n",
              "      <td>12</td>\n",
              "      <td>6</td>\n",
              "      <td>7</td>\n",
              "      <td>6</td>\n",
              "      <td>11</td>\n",
              "      <td>9</td>\n",
              "      <td>7</td>\n",
              "      <td>7</td>\n",
              "      <td>8</td>\n",
              "      <td>5</td>\n",
              "      <td>3</td>\n",
              "      <td>9</td>\n",
              "      <td>11</td>\n",
              "      <td>6</td>\n",
              "      <td>14</td>\n",
              "      <td>7</td>\n",
              "      <td>5</td>\n",
              "      <td>4</td>\n",
              "      <td>7</td>\n",
              "      <td>6</td>\n",
              "    </tr>\n",
              "    <tr>\n",
              "      <th>test</th>\n",
              "      <td>5</td>\n",
              "      <td>71</td>\n",
              "      <td>42</td>\n",
              "      <td>1</td>\n",
              "      <td>14</td>\n",
              "      <td>9</td>\n",
              "      <td>18</td>\n",
              "      <td>26</td>\n",
              "      <td>56</td>\n",
              "      <td>21</td>\n",
              "      <td>7</td>\n",
              "      <td>4</td>\n",
              "      <td>11</td>\n",
              "      <td>38</td>\n",
              "      <td>23</td>\n",
              "      <td>8</td>\n",
              "      <td>11</td>\n",
              "      <td>8</td>\n",
              "      <td>10</td>\n",
              "      <td>9</td>\n",
              "      <td>7</td>\n",
              "      <td>4</td>\n",
              "      <td>10</td>\n",
              "      <td>7</td>\n",
              "      <td>3</td>\n",
              "      <td>10</td>\n",
              "      <td>9</td>\n",
              "      <td>6</td>\n",
              "      <td>7</td>\n",
              "      <td>9</td>\n",
              "      <td>3</td>\n",
              "      <td>2</td>\n",
              "      <td>6</td>\n",
              "      <td>3</td>\n",
              "    </tr>\n",
              "  </tbody>\n",
              "</table>\n",
              "</div>\n",
              "      <button class=\"colab-df-convert\" onclick=\"convertToInteractive('df-a34dc6d5-91cf-43f6-9a3d-df294ece16e4')\"\n",
              "              title=\"Convert this dataframe to an interactive table.\"\n",
              "              style=\"display:none;\">\n",
              "        \n",
              "  <svg xmlns=\"http://www.w3.org/2000/svg\" height=\"24px\"viewBox=\"0 0 24 24\"\n",
              "       width=\"24px\">\n",
              "    <path d=\"M0 0h24v24H0V0z\" fill=\"none\"/>\n",
              "    <path d=\"M18.56 5.44l.94 2.06.94-2.06 2.06-.94-2.06-.94-.94-2.06-.94 2.06-2.06.94zm-11 1L8.5 8.5l.94-2.06 2.06-.94-2.06-.94L8.5 2.5l-.94 2.06-2.06.94zm10 10l.94 2.06.94-2.06 2.06-.94-2.06-.94-.94-2.06-.94 2.06-2.06.94z\"/><path d=\"M17.41 7.96l-1.37-1.37c-.4-.4-.92-.59-1.43-.59-.52 0-1.04.2-1.43.59L10.3 9.45l-7.72 7.72c-.78.78-.78 2.05 0 2.83L4 21.41c.39.39.9.59 1.41.59.51 0 1.02-.2 1.41-.59l7.78-7.78 2.81-2.81c.8-.78.8-2.07 0-2.86zM5.41 20L4 18.59l7.72-7.72 1.47 1.35L5.41 20z\"/>\n",
              "  </svg>\n",
              "      </button>\n",
              "      \n",
              "  <style>\n",
              "    .colab-df-container {\n",
              "      display:flex;\n",
              "      flex-wrap:wrap;\n",
              "      gap: 12px;\n",
              "    }\n",
              "\n",
              "    .colab-df-convert {\n",
              "      background-color: #E8F0FE;\n",
              "      border: none;\n",
              "      border-radius: 50%;\n",
              "      cursor: pointer;\n",
              "      display: none;\n",
              "      fill: #1967D2;\n",
              "      height: 32px;\n",
              "      padding: 0 0 0 0;\n",
              "      width: 32px;\n",
              "    }\n",
              "\n",
              "    .colab-df-convert:hover {\n",
              "      background-color: #E2EBFA;\n",
              "      box-shadow: 0px 1px 2px rgba(60, 64, 67, 0.3), 0px 1px 3px 1px rgba(60, 64, 67, 0.15);\n",
              "      fill: #174EA6;\n",
              "    }\n",
              "\n",
              "    [theme=dark] .colab-df-convert {\n",
              "      background-color: #3B4455;\n",
              "      fill: #D2E3FC;\n",
              "    }\n",
              "\n",
              "    [theme=dark] .colab-df-convert:hover {\n",
              "      background-color: #434B5C;\n",
              "      box-shadow: 0px 1px 3px 1px rgba(0, 0, 0, 0.15);\n",
              "      filter: drop-shadow(0px 1px 2px rgba(0, 0, 0, 0.3));\n",
              "      fill: #FFFFFF;\n",
              "    }\n",
              "  </style>\n",
              "\n",
              "      <script>\n",
              "        const buttonEl =\n",
              "          document.querySelector('#df-a34dc6d5-91cf-43f6-9a3d-df294ece16e4 button.colab-df-convert');\n",
              "        buttonEl.style.display =\n",
              "          google.colab.kernel.accessAllowed ? 'block' : 'none';\n",
              "\n",
              "        async function convertToInteractive(key) {\n",
              "          const element = document.querySelector('#df-a34dc6d5-91cf-43f6-9a3d-df294ece16e4');\n",
              "          const dataTable =\n",
              "            await google.colab.kernel.invokeFunction('convertToInteractive',\n",
              "                                                     [key], {});\n",
              "          if (!dataTable) return;\n",
              "\n",
              "          const docLinkHtml = 'Like what you see? Visit the ' +\n",
              "            '<a target=\"_blank\" href=https://colab.research.google.com/notebooks/data_table.ipynb>data table notebook</a>'\n",
              "            + ' to learn more about interactive tables.';\n",
              "          element.innerHTML = '';\n",
              "          dataTable['output_type'] = 'display_data';\n",
              "          await google.colab.output.renderOutput(dataTable, element);\n",
              "          const docLink = document.createElement('div');\n",
              "          docLink.innerHTML = docLinkHtml;\n",
              "          element.appendChild(docLink);\n",
              "        }\n",
              "      </script>\n",
              "    </div>\n",
              "  </div>\n",
              "  "
            ],
            "text/plain": [
              "       (25,)  (15,)  (20,)  (21,)  (7,)  ...  (11,)  (30,)  (18,)  (8,)  (6,)\n",
              "train     48    292    181     25    47  ...     35     26     24    38    25\n",
              "val        7     61     35      6    12  ...      7      5      4     7     6\n",
              "test       5     71     42      1    14  ...      9      3      2     6     3\n",
              "\n",
              "[3 rows x 34 columns]"
            ]
          },
          "metadata": {},
          "execution_count": 39
        }
      ],
      "metadata": {
        "id": "XsqdznxBNkSW",
        "colab": {
          "base_uri": "https://localhost:8080/",
          "height": 207
        },
        "outputId": "7c1390cd-2930-484c-c66f-98ba9b3478e3"
      }
    },
    {
      "cell_type": "markdown",
      "source": [
        "It's hard to compare these because our train and test proportions are different. Let's see what the distribution looks like once we balance it out. What do we need to multiply our test ratio by so that we have the same amount as our train ratio?\n",
        "\n",
        "$$ \\alpha * N_{test} = N_{train} $$\n",
        "\n",
        "$$ \\alpha = \\frac{N_{train}}{N_{test}} $$"
      ],
      "metadata": {
        "id": "_UIGPYZCNkSW"
      }
    },
    {
      "cell_type": "code",
      "execution_count": null,
      "source": [
        "# Adjust counts across splits\n",
        "for k in counts[\"val_counts\"].keys():\n",
        "    counts[\"val_counts\"][k] = int(counts[\"val_counts\"][k] * \\\n",
        "        (train_size/val_size))\n",
        "for k in counts[\"test_counts\"].keys():\n",
        "    counts[\"test_counts\"][k] = int(counts[\"test_counts\"][k] * \\\n",
        "        (train_size/test_size))"
      ],
      "outputs": [],
      "metadata": {
        "id": "Nu1CRlQRNkSW"
      }
    },
    {
      "cell_type": "code",
      "execution_count": null,
      "source": [
        "dist_df = pd.DataFrame({\n",
        "    \"train\": counts[\"train_counts\"],\n",
        "    \"val\": counts[\"val_counts\"],\n",
        "    \"test\": counts[\"test_counts\"]\n",
        "}).T.fillna(0)\n",
        "dist_df"
      ],
      "outputs": [
        {
          "output_type": "execute_result",
          "data": {
            "text/html": [
              "\n",
              "  <div id=\"df-54e28f7e-4a97-49c5-9c57-58f982c5e2ac\">\n",
              "    <div class=\"colab-df-container\">\n",
              "      <div>\n",
              "<style scoped>\n",
              "    .dataframe tbody tr th:only-of-type {\n",
              "        vertical-align: middle;\n",
              "    }\n",
              "\n",
              "    .dataframe tbody tr th {\n",
              "        vertical-align: top;\n",
              "    }\n",
              "\n",
              "    .dataframe thead th {\n",
              "        text-align: right;\n",
              "    }\n",
              "</style>\n",
              "<table border=\"1\" class=\"dataframe\">\n",
              "  <thead>\n",
              "    <tr style=\"text-align: right;\">\n",
              "      <th></th>\n",
              "      <th>(25,)</th>\n",
              "      <th>(15,)</th>\n",
              "      <th>(20,)</th>\n",
              "      <th>(21,)</th>\n",
              "      <th>(7,)</th>\n",
              "      <th>(33,)</th>\n",
              "      <th>(13,)</th>\n",
              "      <th>(28,)</th>\n",
              "      <th>(2,)</th>\n",
              "      <th>(3,)</th>\n",
              "      <th>(12,)</th>\n",
              "      <th>(22,)</th>\n",
              "      <th>(23,)</th>\n",
              "      <th>(32,)</th>\n",
              "      <th>(0,)</th>\n",
              "      <th>(1,)</th>\n",
              "      <th>(5,)</th>\n",
              "      <th>(4,)</th>\n",
              "      <th>(10,)</th>\n",
              "      <th>(14,)</th>\n",
              "      <th>(27,)</th>\n",
              "      <th>(29,)</th>\n",
              "      <th>(31,)</th>\n",
              "      <th>(24,)</th>\n",
              "      <th>(16,)</th>\n",
              "      <th>(9,)</th>\n",
              "      <th>(19,)</th>\n",
              "      <th>(26,)</th>\n",
              "      <th>(17,)</th>\n",
              "      <th>(11,)</th>\n",
              "      <th>(30,)</th>\n",
              "      <th>(18,)</th>\n",
              "      <th>(8,)</th>\n",
              "      <th>(6,)</th>\n",
              "    </tr>\n",
              "  </thead>\n",
              "  <tbody>\n",
              "    <tr>\n",
              "      <th>train</th>\n",
              "      <td>48</td>\n",
              "      <td>292</td>\n",
              "      <td>181</td>\n",
              "      <td>25</td>\n",
              "      <td>47</td>\n",
              "      <td>23</td>\n",
              "      <td>59</td>\n",
              "      <td>143</td>\n",
              "      <td>270</td>\n",
              "      <td>67</td>\n",
              "      <td>39</td>\n",
              "      <td>41</td>\n",
              "      <td>38</td>\n",
              "      <td>135</td>\n",
              "      <td>85</td>\n",
              "      <td>27</td>\n",
              "      <td>57</td>\n",
              "      <td>27</td>\n",
              "      <td>43</td>\n",
              "      <td>33</td>\n",
              "      <td>26</td>\n",
              "      <td>29</td>\n",
              "      <td>28</td>\n",
              "      <td>45</td>\n",
              "      <td>27</td>\n",
              "      <td>59</td>\n",
              "      <td>31</td>\n",
              "      <td>36</td>\n",
              "      <td>48</td>\n",
              "      <td>35</td>\n",
              "      <td>26</td>\n",
              "      <td>24</td>\n",
              "      <td>38</td>\n",
              "      <td>25</td>\n",
              "    </tr>\n",
              "    <tr>\n",
              "      <th>val</th>\n",
              "      <td>32</td>\n",
              "      <td>284</td>\n",
              "      <td>163</td>\n",
              "      <td>28</td>\n",
              "      <td>56</td>\n",
              "      <td>32</td>\n",
              "      <td>74</td>\n",
              "      <td>205</td>\n",
              "      <td>289</td>\n",
              "      <td>84</td>\n",
              "      <td>42</td>\n",
              "      <td>18</td>\n",
              "      <td>46</td>\n",
              "      <td>107</td>\n",
              "      <td>56</td>\n",
              "      <td>28</td>\n",
              "      <td>32</td>\n",
              "      <td>28</td>\n",
              "      <td>51</td>\n",
              "      <td>42</td>\n",
              "      <td>32</td>\n",
              "      <td>32</td>\n",
              "      <td>37</td>\n",
              "      <td>23</td>\n",
              "      <td>14</td>\n",
              "      <td>42</td>\n",
              "      <td>51</td>\n",
              "      <td>28</td>\n",
              "      <td>65</td>\n",
              "      <td>32</td>\n",
              "      <td>23</td>\n",
              "      <td>18</td>\n",
              "      <td>32</td>\n",
              "      <td>28</td>\n",
              "    </tr>\n",
              "    <tr>\n",
              "      <th>test</th>\n",
              "      <td>23</td>\n",
              "      <td>331</td>\n",
              "      <td>196</td>\n",
              "      <td>4</td>\n",
              "      <td>65</td>\n",
              "      <td>42</td>\n",
              "      <td>84</td>\n",
              "      <td>121</td>\n",
              "      <td>261</td>\n",
              "      <td>98</td>\n",
              "      <td>32</td>\n",
              "      <td>18</td>\n",
              "      <td>51</td>\n",
              "      <td>177</td>\n",
              "      <td>107</td>\n",
              "      <td>37</td>\n",
              "      <td>51</td>\n",
              "      <td>37</td>\n",
              "      <td>46</td>\n",
              "      <td>42</td>\n",
              "      <td>32</td>\n",
              "      <td>18</td>\n",
              "      <td>46</td>\n",
              "      <td>32</td>\n",
              "      <td>14</td>\n",
              "      <td>46</td>\n",
              "      <td>42</td>\n",
              "      <td>28</td>\n",
              "      <td>32</td>\n",
              "      <td>42</td>\n",
              "      <td>14</td>\n",
              "      <td>9</td>\n",
              "      <td>28</td>\n",
              "      <td>14</td>\n",
              "    </tr>\n",
              "  </tbody>\n",
              "</table>\n",
              "</div>\n",
              "      <button class=\"colab-df-convert\" onclick=\"convertToInteractive('df-54e28f7e-4a97-49c5-9c57-58f982c5e2ac')\"\n",
              "              title=\"Convert this dataframe to an interactive table.\"\n",
              "              style=\"display:none;\">\n",
              "        \n",
              "  <svg xmlns=\"http://www.w3.org/2000/svg\" height=\"24px\"viewBox=\"0 0 24 24\"\n",
              "       width=\"24px\">\n",
              "    <path d=\"M0 0h24v24H0V0z\" fill=\"none\"/>\n",
              "    <path d=\"M18.56 5.44l.94 2.06.94-2.06 2.06-.94-2.06-.94-.94-2.06-.94 2.06-2.06.94zm-11 1L8.5 8.5l.94-2.06 2.06-.94-2.06-.94L8.5 2.5l-.94 2.06-2.06.94zm10 10l.94 2.06.94-2.06 2.06-.94-2.06-.94-.94-2.06-.94 2.06-2.06.94z\"/><path d=\"M17.41 7.96l-1.37-1.37c-.4-.4-.92-.59-1.43-.59-.52 0-1.04.2-1.43.59L10.3 9.45l-7.72 7.72c-.78.78-.78 2.05 0 2.83L4 21.41c.39.39.9.59 1.41.59.51 0 1.02-.2 1.41-.59l7.78-7.78 2.81-2.81c.8-.78.8-2.07 0-2.86zM5.41 20L4 18.59l7.72-7.72 1.47 1.35L5.41 20z\"/>\n",
              "  </svg>\n",
              "      </button>\n",
              "      \n",
              "  <style>\n",
              "    .colab-df-container {\n",
              "      display:flex;\n",
              "      flex-wrap:wrap;\n",
              "      gap: 12px;\n",
              "    }\n",
              "\n",
              "    .colab-df-convert {\n",
              "      background-color: #E8F0FE;\n",
              "      border: none;\n",
              "      border-radius: 50%;\n",
              "      cursor: pointer;\n",
              "      display: none;\n",
              "      fill: #1967D2;\n",
              "      height: 32px;\n",
              "      padding: 0 0 0 0;\n",
              "      width: 32px;\n",
              "    }\n",
              "\n",
              "    .colab-df-convert:hover {\n",
              "      background-color: #E2EBFA;\n",
              "      box-shadow: 0px 1px 2px rgba(60, 64, 67, 0.3), 0px 1px 3px 1px rgba(60, 64, 67, 0.15);\n",
              "      fill: #174EA6;\n",
              "    }\n",
              "\n",
              "    [theme=dark] .colab-df-convert {\n",
              "      background-color: #3B4455;\n",
              "      fill: #D2E3FC;\n",
              "    }\n",
              "\n",
              "    [theme=dark] .colab-df-convert:hover {\n",
              "      background-color: #434B5C;\n",
              "      box-shadow: 0px 1px 3px 1px rgba(0, 0, 0, 0.15);\n",
              "      filter: drop-shadow(0px 1px 2px rgba(0, 0, 0, 0.3));\n",
              "      fill: #FFFFFF;\n",
              "    }\n",
              "  </style>\n",
              "\n",
              "      <script>\n",
              "        const buttonEl =\n",
              "          document.querySelector('#df-54e28f7e-4a97-49c5-9c57-58f982c5e2ac button.colab-df-convert');\n",
              "        buttonEl.style.display =\n",
              "          google.colab.kernel.accessAllowed ? 'block' : 'none';\n",
              "\n",
              "        async function convertToInteractive(key) {\n",
              "          const element = document.querySelector('#df-54e28f7e-4a97-49c5-9c57-58f982c5e2ac');\n",
              "          const dataTable =\n",
              "            await google.colab.kernel.invokeFunction('convertToInteractive',\n",
              "                                                     [key], {});\n",
              "          if (!dataTable) return;\n",
              "\n",
              "          const docLinkHtml = 'Like what you see? Visit the ' +\n",
              "            '<a target=\"_blank\" href=https://colab.research.google.com/notebooks/data_table.ipynb>data table notebook</a>'\n",
              "            + ' to learn more about interactive tables.';\n",
              "          element.innerHTML = '';\n",
              "          dataTable['output_type'] = 'display_data';\n",
              "          await google.colab.output.renderOutput(dataTable, element);\n",
              "          const docLink = document.createElement('div');\n",
              "          docLink.innerHTML = docLinkHtml;\n",
              "          element.appendChild(docLink);\n",
              "        }\n",
              "      </script>\n",
              "    </div>\n",
              "  </div>\n",
              "  "
            ],
            "text/plain": [
              "       (25,)  (15,)  (20,)  (21,)  (7,)  ...  (11,)  (30,)  (18,)  (8,)  (6,)\n",
              "train     48    292    181     25    47  ...     35     26     24    38    25\n",
              "val       32    284    163     28    56  ...     32     23     18    32    28\n",
              "test      23    331    196      4    65  ...     42     14      9    28    14\n",
              "\n",
              "[3 rows x 34 columns]"
            ]
          },
          "metadata": {},
          "execution_count": 41
        }
      ],
      "metadata": {
        "id": "TRZcPnAkNkSW",
        "colab": {
          "base_uri": "https://localhost:8080/",
          "height": 207
        },
        "outputId": "e347de5a-a02a-463e-d72c-5bcb91976d91"
      }
    },
    {
      "cell_type": "markdown",
      "source": [
        "We can see how much deviance there is in our naive data splits by computing the standard deviation of each split's class counts from the mean (ideal split).\n",
        "\n",
        "$ \\sigma = \\sqrt{\\frac{(x - \\bar{x})^2}{N}} $"
      ],
      "metadata": {
        "id": "o-XWskGRNkSW"
      }
    },
    {
      "cell_type": "code",
      "execution_count": null,
      "source": [
        "# Standard deviation\n",
        "np.mean(np.std(dist_df.to_numpy(), axis=0))"
      ],
      "outputs": [
        {
          "output_type": "execute_result",
          "data": {
            "text/plain": [
              "9.62301581396703"
            ]
          },
          "metadata": {},
          "execution_count": 42
        }
      ],
      "metadata": {
        "id": "jYL9nvKvNkSW",
        "colab": {
          "base_uri": "https://localhost:8080/"
        },
        "outputId": "bd26978d-de25-4820-bb88-183ed0bb6808"
      }
    },
    {
      "cell_type": "markdown",
      "source": [
        "Some of these distributions are not great. Let's try and balance this out a bit better."
      ],
      "metadata": {
        "id": "vorJjssYNkSW"
      }
    },
    {
      "cell_type": "markdown",
      "source": [
        "**Stratified split**"
      ],
      "metadata": {
        "id": "etOP2EetNkSW"
      }
    },
    {
      "cell_type": "markdown",
      "source": [
        "Now we'll apply [iterative stratification](http://lpis.csd.auth.gr/publications/sechidis-ecmlpkdd-2011.pdf) via the [skmultilearn](http://scikit.ml/index.html) library, which essentially splits each input into subsets (where each label is considered individually) and then it distributes the samples starting with fewest \"positive\" samples and working up to the inputs that have the most labels."
      ],
      "metadata": {
        "id": "whQp6BPxvQaz"
      }
    },
    {
      "cell_type": "code",
      "execution_count": null,
      "source": [
        "from skmultilearn.model_selection import IterativeStratification"
      ],
      "outputs": [],
      "metadata": {
        "id": "31BlT7xPNkSW"
      }
    },
    {
      "cell_type": "code",
      "execution_count": null,
      "source": [
        "def iterative_train_test_split(X, y, train_size):\n",
        "    \"\"\"Custom iterative train test split which \n",
        "    'maintains balanced representation with respect \n",
        "    to order-th label combinations.'\n",
        "    \"\"\"\n",
        "    stratifier = IterativeStratification(\n",
        "        n_splits=2, order=1, sample_distribution_per_fold=[1.0-train_size, train_size, ])\n",
        "    train_indices, test_indices = next(stratifier.split(X, y))\n",
        "    X_train, y_train = X[train_indices], y[train_indices]\n",
        "    X_test, y_test = X[test_indices], y[test_indices]\n",
        "    return X_train, X_test, y_train, y_test"
      ],
      "outputs": [],
      "metadata": {
        "id": "m1WZAQJGNkSW"
      }
    },
    {
      "cell_type": "code",
      "execution_count": null,
      "source": [
        "# Get data\n",
        "X = df.text.to_numpy()\n",
        "y = df.tags"
      ],
      "outputs": [],
      "metadata": {
        "id": "jghaS1edNkSW"
      }
    },
    {
      "cell_type": "code",
      "execution_count": null,
      "source": [
        "# Binarize y\n",
        "label_encoder = LabelEncoder()\n",
        "label_encoder.fit(y)\n",
        "y = label_encoder.encode(y)"
      ],
      "outputs": [],
      "metadata": {
        "id": "Rv0baiseNkSW"
      }
    },
    {
      "cell_type": "code",
      "execution_count": null,
      "source": [
        "# Split\n",
        "X_train, X_, y_train, y_ = iterative_train_test_split(\n",
        "    X, y, train_size=train_size)\n",
        "X_val, X_test, y_val, y_test = iterative_train_test_split(\n",
        "    X_, y_, train_size=0.5)"
      ],
      "outputs": [],
      "metadata": {
        "id": "YMaDgwX7NkSW"
      }
    },
    {
      "cell_type": "code",
      "execution_count": null,
      "source": [
        "print(f\"train: {len(X_train)} ({len(X_train)/len(X):.2f})\\n\"\n",
        "      f\"val: {len(X_val)} ({len(X_val)/len(X):.2f})\\n\"\n",
        "      f\"test: {len(X_test)} ({len(X_test)/len(X):.2f})\")"
      ],
      "outputs": [
        {
          "output_type": "stream",
          "name": "stdout",
          "text": [
            "train: 1005 (0.70)\n",
            "val: 228 (0.16)\n",
            "test: 206 (0.14)\n"
          ]
        }
      ],
      "metadata": {
        "id": "qV1HlPP_NkSW",
        "colab": {
          "base_uri": "https://localhost:8080/"
        },
        "outputId": "a696f15b-8c98-4da6-f5dc-bc8fa386a637"
      }
    },
    {
      "cell_type": "code",
      "execution_count": null,
      "source": [
        "# Get counts for each class\n",
        "counts = {}\n",
        "counts[\"train_counts\"] = Counter(str(combination) for row in get_combination_wise_output_matrix(\n",
        "    y_train, order=1) for combination in row)\n",
        "counts[\"val_counts\"] = Counter(str(combination) for row in get_combination_wise_output_matrix(\n",
        "    y_val, order=1) for combination in row)\n",
        "counts[\"test_counts\"] = Counter(str(combination) for row in get_combination_wise_output_matrix(\n",
        "    y_test, order=1) for combination in row)"
      ],
      "outputs": [],
      "metadata": {
        "id": "QqjXL-lRNkSX"
      }
    },
    {
      "cell_type": "code",
      "execution_count": null,
      "source": [
        "# Adjust counts across splits\n",
        "for k in counts[\"val_counts\"].keys():\n",
        "    counts[\"val_counts\"][k] = int(counts[\"val_counts\"][k] * \\\n",
        "        (train_size/val_size))\n",
        "for k in counts[\"test_counts\"].keys():\n",
        "    counts[\"test_counts\"][k] = int(counts[\"test_counts\"][k] * \\\n",
        "        (train_size/test_size))"
      ],
      "outputs": [],
      "metadata": {
        "id": "AKFGUgfkNkSX"
      }
    },
    {
      "cell_type": "code",
      "execution_count": null,
      "source": [
        "# View distributions\n",
        "pd.DataFrame({\n",
        "    \"train\": counts[\"train_counts\"],\n",
        "    \"val\": counts[\"val_counts\"],\n",
        "    \"test\": counts[\"test_counts\"]\n",
        "}).T.fillna(0)"
      ],
      "outputs": [
        {
          "output_type": "execute_result",
          "data": {
            "text/html": [
              "\n",
              "  <div id=\"df-9e70bc2d-d40c-46d8-889f-4d3f4ab72e41\">\n",
              "    <div class=\"colab-df-container\">\n",
              "      <div>\n",
              "<style scoped>\n",
              "    .dataframe tbody tr th:only-of-type {\n",
              "        vertical-align: middle;\n",
              "    }\n",
              "\n",
              "    .dataframe tbody tr th {\n",
              "        vertical-align: top;\n",
              "    }\n",
              "\n",
              "    .dataframe thead th {\n",
              "        text-align: right;\n",
              "    }\n",
              "</style>\n",
              "<table border=\"1\" class=\"dataframe\">\n",
              "  <thead>\n",
              "    <tr style=\"text-align: right;\">\n",
              "      <th></th>\n",
              "      <th>(15,)</th>\n",
              "      <th>(21,)</th>\n",
              "      <th>(0,)</th>\n",
              "      <th>(32,)</th>\n",
              "      <th>(10,)</th>\n",
              "      <th>(2,)</th>\n",
              "      <th>(8,)</th>\n",
              "      <th>(9,)</th>\n",
              "      <th>(26,)</th>\n",
              "      <th>(19,)</th>\n",
              "      <th>(33,)</th>\n",
              "      <th>(25,)</th>\n",
              "      <th>(22,)</th>\n",
              "      <th>(13,)</th>\n",
              "      <th>(11,)</th>\n",
              "      <th>(6,)</th>\n",
              "      <th>(3,)</th>\n",
              "      <th>(20,)</th>\n",
              "      <th>(1,)</th>\n",
              "      <th>(28,)</th>\n",
              "      <th>(30,)</th>\n",
              "      <th>(12,)</th>\n",
              "      <th>(14,)</th>\n",
              "      <th>(17,)</th>\n",
              "      <th>(5,)</th>\n",
              "      <th>(7,)</th>\n",
              "      <th>(27,)</th>\n",
              "      <th>(23,)</th>\n",
              "      <th>(29,)</th>\n",
              "      <th>(16,)</th>\n",
              "      <th>(24,)</th>\n",
              "      <th>(31,)</th>\n",
              "      <th>(18,)</th>\n",
              "      <th>(4,)</th>\n",
              "    </tr>\n",
              "  </thead>\n",
              "  <tbody>\n",
              "    <tr>\n",
              "      <th>train</th>\n",
              "      <td>297</td>\n",
              "      <td>24</td>\n",
              "      <td>78</td>\n",
              "      <td>135</td>\n",
              "      <td>44</td>\n",
              "      <td>272</td>\n",
              "      <td>36</td>\n",
              "      <td>55</td>\n",
              "      <td>37</td>\n",
              "      <td>36</td>\n",
              "      <td>27</td>\n",
              "      <td>42</td>\n",
              "      <td>34</td>\n",
              "      <td>60</td>\n",
              "      <td>38</td>\n",
              "      <td>24</td>\n",
              "      <td>74</td>\n",
              "      <td>181</td>\n",
              "      <td>29</td>\n",
              "      <td>149</td>\n",
              "      <td>24</td>\n",
              "      <td>38</td>\n",
              "      <td>35</td>\n",
              "      <td>55</td>\n",
              "      <td>52</td>\n",
              "      <td>51</td>\n",
              "      <td>28</td>\n",
              "      <td>41</td>\n",
              "      <td>26</td>\n",
              "      <td>27</td>\n",
              "      <td>40</td>\n",
              "      <td>32</td>\n",
              "      <td>21</td>\n",
              "      <td>29</td>\n",
              "    </tr>\n",
              "    <tr>\n",
              "      <th>val</th>\n",
              "      <td>294</td>\n",
              "      <td>4</td>\n",
              "      <td>84</td>\n",
              "      <td>135</td>\n",
              "      <td>51</td>\n",
              "      <td>270</td>\n",
              "      <td>46</td>\n",
              "      <td>56</td>\n",
              "      <td>28</td>\n",
              "      <td>32</td>\n",
              "      <td>28</td>\n",
              "      <td>42</td>\n",
              "      <td>37</td>\n",
              "      <td>65</td>\n",
              "      <td>32</td>\n",
              "      <td>23</td>\n",
              "      <td>74</td>\n",
              "      <td>177</td>\n",
              "      <td>28</td>\n",
              "      <td>149</td>\n",
              "      <td>23</td>\n",
              "      <td>42</td>\n",
              "      <td>37</td>\n",
              "      <td>32</td>\n",
              "      <td>56</td>\n",
              "      <td>46</td>\n",
              "      <td>28</td>\n",
              "      <td>42</td>\n",
              "      <td>37</td>\n",
              "      <td>14</td>\n",
              "      <td>42</td>\n",
              "      <td>32</td>\n",
              "      <td>23</td>\n",
              "      <td>23</td>\n",
              "    </tr>\n",
              "    <tr>\n",
              "      <th>test</th>\n",
              "      <td>298</td>\n",
              "      <td>32</td>\n",
              "      <td>112</td>\n",
              "      <td>149</td>\n",
              "      <td>42</td>\n",
              "      <td>270</td>\n",
              "      <td>23</td>\n",
              "      <td>51</td>\n",
              "      <td>23</td>\n",
              "      <td>37</td>\n",
              "      <td>28</td>\n",
              "      <td>42</td>\n",
              "      <td>32</td>\n",
              "      <td>88</td>\n",
              "      <td>28</td>\n",
              "      <td>23</td>\n",
              "      <td>74</td>\n",
              "      <td>182</td>\n",
              "      <td>28</td>\n",
              "      <td>149</td>\n",
              "      <td>23</td>\n",
              "      <td>37</td>\n",
              "      <td>37</td>\n",
              "      <td>32</td>\n",
              "      <td>51</td>\n",
              "      <td>56</td>\n",
              "      <td>28</td>\n",
              "      <td>42</td>\n",
              "      <td>28</td>\n",
              "      <td>14</td>\n",
              "      <td>37</td>\n",
              "      <td>32</td>\n",
              "      <td>18</td>\n",
              "      <td>32</td>\n",
              "    </tr>\n",
              "  </tbody>\n",
              "</table>\n",
              "</div>\n",
              "      <button class=\"colab-df-convert\" onclick=\"convertToInteractive('df-9e70bc2d-d40c-46d8-889f-4d3f4ab72e41')\"\n",
              "              title=\"Convert this dataframe to an interactive table.\"\n",
              "              style=\"display:none;\">\n",
              "        \n",
              "  <svg xmlns=\"http://www.w3.org/2000/svg\" height=\"24px\"viewBox=\"0 0 24 24\"\n",
              "       width=\"24px\">\n",
              "    <path d=\"M0 0h24v24H0V0z\" fill=\"none\"/>\n",
              "    <path d=\"M18.56 5.44l.94 2.06.94-2.06 2.06-.94-2.06-.94-.94-2.06-.94 2.06-2.06.94zm-11 1L8.5 8.5l.94-2.06 2.06-.94-2.06-.94L8.5 2.5l-.94 2.06-2.06.94zm10 10l.94 2.06.94-2.06 2.06-.94-2.06-.94-.94-2.06-.94 2.06-2.06.94z\"/><path d=\"M17.41 7.96l-1.37-1.37c-.4-.4-.92-.59-1.43-.59-.52 0-1.04.2-1.43.59L10.3 9.45l-7.72 7.72c-.78.78-.78 2.05 0 2.83L4 21.41c.39.39.9.59 1.41.59.51 0 1.02-.2 1.41-.59l7.78-7.78 2.81-2.81c.8-.78.8-2.07 0-2.86zM5.41 20L4 18.59l7.72-7.72 1.47 1.35L5.41 20z\"/>\n",
              "  </svg>\n",
              "      </button>\n",
              "      \n",
              "  <style>\n",
              "    .colab-df-container {\n",
              "      display:flex;\n",
              "      flex-wrap:wrap;\n",
              "      gap: 12px;\n",
              "    }\n",
              "\n",
              "    .colab-df-convert {\n",
              "      background-color: #E8F0FE;\n",
              "      border: none;\n",
              "      border-radius: 50%;\n",
              "      cursor: pointer;\n",
              "      display: none;\n",
              "      fill: #1967D2;\n",
              "      height: 32px;\n",
              "      padding: 0 0 0 0;\n",
              "      width: 32px;\n",
              "    }\n",
              "\n",
              "    .colab-df-convert:hover {\n",
              "      background-color: #E2EBFA;\n",
              "      box-shadow: 0px 1px 2px rgba(60, 64, 67, 0.3), 0px 1px 3px 1px rgba(60, 64, 67, 0.15);\n",
              "      fill: #174EA6;\n",
              "    }\n",
              "\n",
              "    [theme=dark] .colab-df-convert {\n",
              "      background-color: #3B4455;\n",
              "      fill: #D2E3FC;\n",
              "    }\n",
              "\n",
              "    [theme=dark] .colab-df-convert:hover {\n",
              "      background-color: #434B5C;\n",
              "      box-shadow: 0px 1px 3px 1px rgba(0, 0, 0, 0.15);\n",
              "      filter: drop-shadow(0px 1px 2px rgba(0, 0, 0, 0.3));\n",
              "      fill: #FFFFFF;\n",
              "    }\n",
              "  </style>\n",
              "\n",
              "      <script>\n",
              "        const buttonEl =\n",
              "          document.querySelector('#df-9e70bc2d-d40c-46d8-889f-4d3f4ab72e41 button.colab-df-convert');\n",
              "        buttonEl.style.display =\n",
              "          google.colab.kernel.accessAllowed ? 'block' : 'none';\n",
              "\n",
              "        async function convertToInteractive(key) {\n",
              "          const element = document.querySelector('#df-9e70bc2d-d40c-46d8-889f-4d3f4ab72e41');\n",
              "          const dataTable =\n",
              "            await google.colab.kernel.invokeFunction('convertToInteractive',\n",
              "                                                     [key], {});\n",
              "          if (!dataTable) return;\n",
              "\n",
              "          const docLinkHtml = 'Like what you see? Visit the ' +\n",
              "            '<a target=\"_blank\" href=https://colab.research.google.com/notebooks/data_table.ipynb>data table notebook</a>'\n",
              "            + ' to learn more about interactive tables.';\n",
              "          element.innerHTML = '';\n",
              "          dataTable['output_type'] = 'display_data';\n",
              "          await google.colab.output.renderOutput(dataTable, element);\n",
              "          const docLink = document.createElement('div');\n",
              "          docLink.innerHTML = docLinkHtml;\n",
              "          element.appendChild(docLink);\n",
              "        }\n",
              "      </script>\n",
              "    </div>\n",
              "  </div>\n",
              "  "
            ],
            "text/plain": [
              "       (15,)  (21,)  (0,)  (32,)  (10,)  ...  (16,)  (24,)  (31,)  (18,)  (4,)\n",
              "train    297     24    78    135     44  ...     27     40     32     21    29\n",
              "val      294      4    84    135     51  ...     14     42     32     23    23\n",
              "test     298     32   112    149     42  ...     14     37     32     18    32\n",
              "\n",
              "[3 rows x 34 columns]"
            ]
          },
          "metadata": {},
          "execution_count": 51
        }
      ],
      "metadata": {
        "id": "Pn6kIt0HNkSX",
        "colab": {
          "base_uri": "https://localhost:8080/",
          "height": 207
        },
        "outputId": "39bfa869-2bf9-4f10-f567-61e0a3b2faa2"
      }
    },
    {
      "cell_type": "code",
      "execution_count": null,
      "source": [
        "dist_df = pd.DataFrame({\n",
        "    'train': counts['train_counts'],\n",
        "    'val': counts['val_counts'],\n",
        "    'test': counts['test_counts']\n",
        "}).T.fillna(0)"
      ],
      "outputs": [],
      "metadata": {
        "id": "ftgmBEVdNkSX"
      }
    },
    {
      "cell_type": "code",
      "execution_count": null,
      "source": [
        "# Standard deviation\n",
        "np.mean(np.std(dist_df.to_numpy(), axis=0))"
      ],
      "outputs": [
        {
          "output_type": "execute_result",
          "data": {
            "text/plain": [
              "3.5602876409411723"
            ]
          },
          "metadata": {},
          "execution_count": 53
        }
      ],
      "metadata": {
        "id": "c02UhVufNkSX",
        "colab": {
          "base_uri": "https://localhost:8080/"
        },
        "outputId": "7d2f90b2-4c7e-4d78-c3c4-cbf475051f62"
      }
    },
    {
      "cell_type": "markdown",
      "source": [
        "> [Iterative stratification](http://scikit.ml/_modules/skmultilearn/model_selection/iterative_stratification.html#IterativeStratification) essentially creates splits while \"trying to maintain balanced representation with respect to order-th label combinations\". We used to an `order=1` for our iterative split which means we cared about providing representative distribution of each tag across the splits. But we can account for [higher-order](https://arxiv.org/abs/1704.08756) label relationships as well where we may care about the distribution of label combinations."
      ],
      "metadata": {
        "id": "1GvMA5m0vWVr"
      }
    },
    {
      "cell_type": "code",
      "execution_count": null,
      "source": [
        "# Split DataFrames\n",
        "train_df = pd.DataFrame({\"text\": X_train, \"tags\": label_encoder.decode(y_train)})\n",
        "val_df = pd.DataFrame({\"text\": X_val, \"tags\": label_encoder.decode(y_val)})\n",
        "test_df = pd.DataFrame({\"text\": X_test, \"tags\": label_encoder.decode(y_test)})\n",
        "train_df.head()"
      ],
      "outputs": [
        {
          "output_type": "execute_result",
          "data": {
            "text/html": [
              "\n",
              "  <div id=\"df-405d3664-fbfc-40ae-ba3a-5dceaed5a715\">\n",
              "    <div class=\"colab-df-container\">\n",
              "      <div>\n",
              "<style scoped>\n",
              "    .dataframe tbody tr th:only-of-type {\n",
              "        vertical-align: middle;\n",
              "    }\n",
              "\n",
              "    .dataframe tbody tr th {\n",
              "        vertical-align: top;\n",
              "    }\n",
              "\n",
              "    .dataframe thead th {\n",
              "        text-align: right;\n",
              "    }\n",
              "</style>\n",
              "<table border=\"1\" class=\"dataframe\">\n",
              "  <thead>\n",
              "    <tr style=\"text-align: right;\">\n",
              "      <th></th>\n",
              "      <th>text</th>\n",
              "      <th>tags</th>\n",
              "    </tr>\n",
              "  </thead>\n",
              "  <tbody>\n",
              "    <tr>\n",
              "      <th>0</th>\n",
              "      <td>hugging face achieved 2x performance boost qa ...</td>\n",
              "      <td>[attention, huggingface, natural-language-proc...</td>\n",
              "    </tr>\n",
              "    <tr>\n",
              "      <th>1</th>\n",
              "      <td>graph convolution structured documents convert...</td>\n",
              "      <td>[computer-vision, graph-neural-networks, graphs]</td>\n",
              "    </tr>\n",
              "    <tr>\n",
              "      <th>2</th>\n",
              "      <td>build production ready deep learning training ...</td>\n",
              "      <td>[computer-vision, production, segmentation]</td>\n",
              "    </tr>\n",
              "    <tr>\n",
              "      <th>3</th>\n",
              "      <td>introduction k means clustering python scikit ...</td>\n",
              "      <td>[scikit-learn, unsupervised-learning]</td>\n",
              "    </tr>\n",
              "    <tr>\n",
              "      <th>4</th>\n",
              "      <td>programming probabilistically book data scienc...</td>\n",
              "      <td>[regression]</td>\n",
              "    </tr>\n",
              "  </tbody>\n",
              "</table>\n",
              "</div>\n",
              "      <button class=\"colab-df-convert\" onclick=\"convertToInteractive('df-405d3664-fbfc-40ae-ba3a-5dceaed5a715')\"\n",
              "              title=\"Convert this dataframe to an interactive table.\"\n",
              "              style=\"display:none;\">\n",
              "        \n",
              "  <svg xmlns=\"http://www.w3.org/2000/svg\" height=\"24px\"viewBox=\"0 0 24 24\"\n",
              "       width=\"24px\">\n",
              "    <path d=\"M0 0h24v24H0V0z\" fill=\"none\"/>\n",
              "    <path d=\"M18.56 5.44l.94 2.06.94-2.06 2.06-.94-2.06-.94-.94-2.06-.94 2.06-2.06.94zm-11 1L8.5 8.5l.94-2.06 2.06-.94-2.06-.94L8.5 2.5l-.94 2.06-2.06.94zm10 10l.94 2.06.94-2.06 2.06-.94-2.06-.94-.94-2.06-.94 2.06-2.06.94z\"/><path d=\"M17.41 7.96l-1.37-1.37c-.4-.4-.92-.59-1.43-.59-.52 0-1.04.2-1.43.59L10.3 9.45l-7.72 7.72c-.78.78-.78 2.05 0 2.83L4 21.41c.39.39.9.59 1.41.59.51 0 1.02-.2 1.41-.59l7.78-7.78 2.81-2.81c.8-.78.8-2.07 0-2.86zM5.41 20L4 18.59l7.72-7.72 1.47 1.35L5.41 20z\"/>\n",
              "  </svg>\n",
              "      </button>\n",
              "      \n",
              "  <style>\n",
              "    .colab-df-container {\n",
              "      display:flex;\n",
              "      flex-wrap:wrap;\n",
              "      gap: 12px;\n",
              "    }\n",
              "\n",
              "    .colab-df-convert {\n",
              "      background-color: #E8F0FE;\n",
              "      border: none;\n",
              "      border-radius: 50%;\n",
              "      cursor: pointer;\n",
              "      display: none;\n",
              "      fill: #1967D2;\n",
              "      height: 32px;\n",
              "      padding: 0 0 0 0;\n",
              "      width: 32px;\n",
              "    }\n",
              "\n",
              "    .colab-df-convert:hover {\n",
              "      background-color: #E2EBFA;\n",
              "      box-shadow: 0px 1px 2px rgba(60, 64, 67, 0.3), 0px 1px 3px 1px rgba(60, 64, 67, 0.15);\n",
              "      fill: #174EA6;\n",
              "    }\n",
              "\n",
              "    [theme=dark] .colab-df-convert {\n",
              "      background-color: #3B4455;\n",
              "      fill: #D2E3FC;\n",
              "    }\n",
              "\n",
              "    [theme=dark] .colab-df-convert:hover {\n",
              "      background-color: #434B5C;\n",
              "      box-shadow: 0px 1px 3px 1px rgba(0, 0, 0, 0.15);\n",
              "      filter: drop-shadow(0px 1px 2px rgba(0, 0, 0, 0.3));\n",
              "      fill: #FFFFFF;\n",
              "    }\n",
              "  </style>\n",
              "\n",
              "      <script>\n",
              "        const buttonEl =\n",
              "          document.querySelector('#df-405d3664-fbfc-40ae-ba3a-5dceaed5a715 button.colab-df-convert');\n",
              "        buttonEl.style.display =\n",
              "          google.colab.kernel.accessAllowed ? 'block' : 'none';\n",
              "\n",
              "        async function convertToInteractive(key) {\n",
              "          const element = document.querySelector('#df-405d3664-fbfc-40ae-ba3a-5dceaed5a715');\n",
              "          const dataTable =\n",
              "            await google.colab.kernel.invokeFunction('convertToInteractive',\n",
              "                                                     [key], {});\n",
              "          if (!dataTable) return;\n",
              "\n",
              "          const docLinkHtml = 'Like what you see? Visit the ' +\n",
              "            '<a target=\"_blank\" href=https://colab.research.google.com/notebooks/data_table.ipynb>data table notebook</a>'\n",
              "            + ' to learn more about interactive tables.';\n",
              "          element.innerHTML = '';\n",
              "          dataTable['output_type'] = 'display_data';\n",
              "          await google.colab.output.renderOutput(dataTable, element);\n",
              "          const docLink = document.createElement('div');\n",
              "          docLink.innerHTML = docLinkHtml;\n",
              "          element.appendChild(docLink);\n",
              "        }\n",
              "      </script>\n",
              "    </div>\n",
              "  </div>\n",
              "  "
            ],
            "text/plain": [
              "                                                text                                               tags\n",
              "0  hugging face achieved 2x performance boost qa ...  [attention, huggingface, natural-language-proc...\n",
              "1  graph convolution structured documents convert...   [computer-vision, graph-neural-networks, graphs]\n",
              "2  build production ready deep learning training ...        [computer-vision, production, segmentation]\n",
              "3  introduction k means clustering python scikit ...              [scikit-learn, unsupervised-learning]\n",
              "4  programming probabilistically book data scienc...                                       [regression]"
            ]
          },
          "metadata": {},
          "execution_count": 54
        }
      ],
      "metadata": {
        "id": "rf2b7aGVK_nb",
        "colab": {
          "base_uri": "https://localhost:8080/",
          "height": 206
        },
        "outputId": "cce70810-5ab5-48d8-ff28-6aaa89b1198d"
      }
    },
    {
      "cell_type": "markdown",
      "source": [
        "## Augmentation"
      ],
      "metadata": {
        "id": "ZsR6To1zNkSX"
      }
    },
    {
      "cell_type": "markdown",
      "source": [
        "We'll often want to increase the size and diversity of our training data split through data augmentation. It involves using the existing samples to generate synthetic, yet realistic, examples."
      ],
      "metadata": {
        "id": "BZQNks8TNkSX"
      }
    },
    {
      "cell_type": "code",
      "execution_count": null,
      "source": [
        "!pip install nlpaug==1.1.0 transformers==3.0.2 -q\n",
        "!pip install snorkel==0.9.7 -q"
      ],
      "outputs": [
        {
          "output_type": "stream",
          "name": "stdout",
          "text": [
            "\u001b[K     |████████████████████████████████| 380 kB 29.6 MB/s \n",
            "\u001b[K     |████████████████████████████████| 769 kB 36.1 MB/s \n",
            "\u001b[K     |████████████████████████████████| 895 kB 48.0 MB/s \n",
            "\u001b[K     |████████████████████████████████| 1.2 MB 26.4 MB/s \n",
            "\u001b[K     |████████████████████████████████| 3.0 MB 12.8 MB/s \n",
            "\u001b[K     |████████████████████████████████| 145 kB 7.6 MB/s \n",
            "\u001b[K     |████████████████████████████████| 1.7 MB 35.0 MB/s \n",
            "\u001b[K     |████████████████████████████████| 3.8 MB 36.9 MB/s \n",
            "\u001b[K     |████████████████████████████████| 22.3 MB 8.9 MB/s \n",
            "\u001b[?25h  Building wheel for networkx (setup.py) ... \u001b[?25l\u001b[?25hdone\n",
            "\u001b[31mERROR: pip's dependency resolver does not currently take into account all the packages that are installed. This behaviour is the source of the following dependency conflicts.\n",
            "tensorflow 2.7.0 requires tensorboard~=2.6, but you have tensorboard 1.15.0 which is incompatible.\n",
            "albumentations 0.1.12 requires imgaug<0.2.7,>=0.2.5, but you have imgaug 0.2.9 which is incompatible.\u001b[0m\n"
          ]
        }
      ],
      "metadata": {
        "id": "PR9WLz0jc3GO",
        "colab": {
          "base_uri": "https://localhost:8080/"
        },
        "outputId": "5287ab1e-ef40-4757-cb90-5b8c5536af34"
      }
    },
    {
      "cell_type": "code",
      "execution_count": null,
      "source": [
        "import nlpaug.augmenter.word as naw"
      ],
      "outputs": [],
      "metadata": {
        "id": "C6MX5Gm8NkSX"
      }
    },
    {
      "cell_type": "code",
      "execution_count": null,
      "source": [
        "# Load tokenizers and transformers\n",
        "substitution = naw.ContextualWordEmbsAug(model_path=\"distilbert-base-uncased\", action=\"substitute\")\n",
        "insertion = naw.ContextualWordEmbsAug(model_path=\"distilbert-base-uncased\", action=\"insert\")"
      ],
      "outputs": [
        {
          "output_type": "display_data",
          "data": {
            "application/vnd.jupyter.widget-view+json": {
              "model_id": "c577a0a7f68c406791e1c202f033831e",
              "version_minor": 0,
              "version_major": 2
            },
            "text/plain": [
              "Downloading:   0%|          | 0.00/442 [00:00<?, ?B/s]"
            ]
          },
          "metadata": {}
        },
        {
          "output_type": "display_data",
          "data": {
            "application/vnd.jupyter.widget-view+json": {
              "model_id": "a1430dcc5dde4170aec0f32e627693ac",
              "version_minor": 0,
              "version_major": 2
            },
            "text/plain": [
              "Downloading:   0%|          | 0.00/232k [00:00<?, ?B/s]"
            ]
          },
          "metadata": {}
        },
        {
          "output_type": "display_data",
          "data": {
            "application/vnd.jupyter.widget-view+json": {
              "model_id": "937f7b6dccfe463fbd2506b4f29cfe4b",
              "version_minor": 0,
              "version_major": 2
            },
            "text/plain": [
              "Downloading:   0%|          | 0.00/268M [00:00<?, ?B/s]"
            ]
          },
          "metadata": {}
        }
      ],
      "metadata": {
        "id": "A9kUIKpsNkSX",
        "colab": {
          "base_uri": "https://localhost:8080/",
          "height": 113,
          "referenced_widgets": [
            "c577a0a7f68c406791e1c202f033831e",
            "df33fdb1fec24575a12b95b19903e829",
            "39c1d4e8c10649e1b16bd15dfa8a3c7c",
            "2be1d3d668734aeb99d20466179fc16c",
            "b9995be561a44394afb5e2c349eb22d1",
            "b2cff7aa77c54090888570e50847c921",
            "036673de777342b6b23dad2c03ed1545",
            "b3797ac8d4ae453f8e7d4ab86e5c3f77",
            "8b8ff22defe345d0a9c34445c1fe7602",
            "3f2689a1b9c141509bc2db7f007c4341",
            "12f5580774d845ca91e4f98324a52a26",
            "a1430dcc5dde4170aec0f32e627693ac",
            "729a4b699699455db1b5638816b35d2e",
            "d1f966cf45404449bf46fc008d09c787",
            "ca15c80bcb7445489a75d7d873073b5b",
            "21df25f0e18441769308da932804b600",
            "0901afb3d1854176b5d08c59d2af87e7",
            "94b260ee9eab4cc79e0760ed9b00f9be",
            "95e8bf7eb276493ca1a50837ba8bf724",
            "b8fd81480fe54407ac336e2d2cba4446",
            "00a85e32e03e4575bf83c337c22faa60",
            "f5fb45b8367a4931a00fa12e6e0a6db3",
            "937f7b6dccfe463fbd2506b4f29cfe4b",
            "a842fa5155f3422aae2514091be77f6a",
            "7f29f7a5651b4e7f9870c63ba0fc7204",
            "e4756811d895423b8d9165503dfbbaa2",
            "6f558cc5a9ce411fb2ff4e3da382cfc6",
            "91f7ac1a559d4fc5a8d0114a81144a78",
            "b4089138161a4fa88a323309cb75c178",
            "e07aad05416d4cec96be7b834c4572d0",
            "f89d33fde5494e2083bd9898409519da",
            "1da1ae2d813645a683357f5f91b821ec",
            "d04dd62f587a4093ac9acd8634573746"
          ]
        },
        "outputId": "e4c71fad-4c98-40ff-e1fc-5f3ba8795a5e"
      }
    },
    {
      "cell_type": "code",
      "execution_count": null,
      "source": [
        "text = \"Conditional image generation using Variational Autoencoders and GANs.\""
      ],
      "outputs": [],
      "metadata": {
        "id": "3YWn96hxNkSX"
      }
    },
    {
      "cell_type": "code",
      "execution_count": null,
      "source": [
        "# Substitutions\n",
        "augmented_text = substitution.augment(text)\n",
        "print (augmented_text)"
      ],
      "outputs": [
        {
          "output_type": "stream",
          "name": "stdout",
          "text": [
            "controlling sample outputs using variational inputs and gans.\n"
          ]
        }
      ],
      "metadata": {
        "id": "NLt1kYXkg3L8",
        "colab": {
          "base_uri": "https://localhost:8080/"
        },
        "outputId": "cdccf02d-189d-4b8e-ea0a-d0e9a0284747"
      }
    },
    {
      "cell_type": "markdown",
      "source": [
        "Substitution doesn't seem like a great idea for us because there are certain keywords that provide strong signal for our tags so we don't want to alter those. Also, note that these augmentations are NOT deterministic and will vary every time we run them. Let's try insertion..."
      ],
      "metadata": {
        "id": "36DzpSqbNkSX"
      }
    },
    {
      "cell_type": "code",
      "execution_count": null,
      "source": [
        "# Insertions\n",
        "augmented_text = insertion.augment(text)\n",
        "print (augmented_text)"
      ],
      "outputs": [
        {
          "output_type": "stream",
          "name": "stdout",
          "text": [
            "implementing conditional output image generation technique using discrete variational autoencoders and gans.\n"
          ]
        }
      ],
      "metadata": {
        "id": "bK8PV0FWb7pE",
        "colab": {
          "base_uri": "https://localhost:8080/"
        },
        "outputId": "bb452b52-a60f-45b5-d5a5-78e1fa6647b3"
      }
    },
    {
      "cell_type": "markdown",
      "source": [
        "A little better but still quite fragile and now it can potentially insert key words that can influence false positive tags to appear. Maybe instead of substituting or inserting new tokens, let's try simply swapping machine learning related keywords with their aliases from our [auxiliary data](https://raw.githubusercontent.com/GokuMohandas/MadeWithML/main/datasets/tags.json). We'll use Snorkel's [transformation functions](https://www.snorkel.org/use-cases/02-spam-data-augmentation-tutorial) to easily achieve this."
      ],
      "metadata": {
        "id": "x5K29gM5NkSX"
      }
    },
    {
      "cell_type": "code",
      "execution_count": null,
      "source": [
        "import inflect\n",
        "from snorkel.augmentation import transformation_function\n",
        "inflect = inflect.engine()"
      ],
      "outputs": [],
      "metadata": {
        "id": "-8EchR_16aIn"
      }
    },
    {
      "cell_type": "code",
      "execution_count": null,
      "source": [
        "# Inflect\n",
        "print (inflect.singular_noun(\"graphs\"))\n",
        "print (inflect.singular_noun(\"graph\"))\n",
        "print (inflect.plural_noun(\"graph\"))\n",
        "print (inflect.plural_noun(\"graphs\"))"
      ],
      "outputs": [
        {
          "output_type": "stream",
          "name": "stdout",
          "text": [
            "graph\n",
            "False\n",
            "graphs\n",
            "graphss\n"
          ]
        }
      ],
      "metadata": {
        "id": "LJoGgiKD_wog",
        "colab": {
          "base_uri": "https://localhost:8080/"
        },
        "outputId": "e6d3513e-8a3a-4210-e752-d3548d0c1783"
      }
    },
    {
      "cell_type": "code",
      "execution_count": null,
      "source": [
        "def replace_dash(x):\n",
        "    return x.replace(\"-\", \" \")"
      ],
      "outputs": [],
      "metadata": {
        "id": "J-WP46Zs0rko"
      }
    },
    {
      "cell_type": "code",
      "execution_count": null,
      "source": [
        "flat_tags_dict = {}\n",
        "for tag, info in tags_dict.items():\n",
        "    tag = tag.replace(\"-\", \" \")\n",
        "    aliases = list(map(replace_dash, info[\"aliases\"]))\n",
        "    if len(aliases):\n",
        "        flat_tags_dict[tag] = aliases\n",
        "    for alias in aliases:\n",
        "        _aliases = aliases + [tag]\n",
        "        _aliases.remove(alias)\n",
        "        flat_tags_dict[alias] = _aliases"
      ],
      "outputs": [],
      "metadata": {
        "id": "YLComLRexHTN"
      }
    },
    {
      "cell_type": "code",
      "execution_count": null,
      "source": [
        "# Tags that could be singular or plural\n",
        "can_be_singular = [\n",
        "    'animations',\n",
        "    'cartoons',\n",
        "    'autoencoders',\n",
        "    'conditional random fields',\n",
        "    'convolutional neural networks',\n",
        "    'databases',\n",
        "    'deep q networks',\n",
        "    'gated recurrent units',\n",
        "    'gaussian processes',\n",
        "    'generative adversarial networks',\n",
        "    'graph convolutional networks',\n",
        "    'graph neural networks',\n",
        "    'k nearest neighbors',\n",
        "    'learning rates',\n",
        "    'multilayer perceptrons',\n",
        "    'outliers',\n",
        "    'pos',\n",
        "    'quasi recurrent neural networks',\n",
        "    'recommendation systems',\n",
        "    'recurrent neural networks',\n",
        "    'streaming data',\n",
        "    'data streams',\n",
        "    'support vector machines',\n",
        "    'variational autoencoders']\n",
        "can_be_plural = [\n",
        "    'annotation',\n",
        "    'data annotation',\n",
        "    'continuous integration',\n",
        "    'continuous deployment',\n",
        "    'crf',\n",
        "    'conversational ai',\n",
        "    'chatbot',\n",
        "    'cnn',\n",
        "    'db',\n",
        "    'dqn',\n",
        "    'expectation maximization',\n",
        "    'fine tuning',\n",
        "    'finetuning',\n",
        "    'finetune',\n",
        "    'gru',\n",
        "    'gan',\n",
        "    'gcn',\n",
        "    'gnn',\n",
        "    'hyperparameter optimization',\n",
        "    'hyperparameter tuning',\n",
        "    'image generation',\n",
        "    'inference',\n",
        "    'prediction',\n",
        "    'knn',\n",
        "    'knowledge base',\n",
        "    'language modeling',\n",
        "    'latent dirichlet allocation',\n",
        "    'lstm',\n",
        "    'machine translation',\n",
        "    'model compression',\n",
        "    'compression',\n",
        "    'perceptron',\n",
        "    'mlp',\n",
        "    'optical character recognition',\n",
        "    'outlier detection',\n",
        "    'pos tagging',\n",
        "    'pca',\n",
        "    'qrnn',\n",
        "    'rnn',\n",
        "    'segmentation',\n",
        "    'image segmentation',\n",
        "    'spatial temporal cnn',\n",
        "    'data streaming',\n",
        "    'svm',\n",
        "    'tabular',\n",
        "    'temporal cnn',\n",
        "    'tcnn',\n",
        "    'vae',\n",
        "    'vqa',\n",
        "    'visualization',\n",
        "    'data visualization']"
      ],
      "outputs": [],
      "metadata": {
        "id": "8TkafOfS8Iqa"
      }
    },
    {
      "cell_type": "code",
      "execution_count": null,
      "source": [
        "# Add to flattened dict\n",
        "for tag in can_be_singular:\n",
        "    flat_tags_dict[inflect.singular_noun(tag)] = flat_tags_dict[tag]\n",
        "for tag in can_be_plural:\n",
        "    flat_tags_dict[inflect.plural_noun(tag)] = flat_tags_dict[tag]"
      ],
      "outputs": [],
      "metadata": {
        "id": "hKUwzfZc96gO"
      }
    },
    {
      "cell_type": "code",
      "execution_count": null,
      "source": [
        "# Doesn't perfectly match (ex. singlar tag to singlar alias)\n",
        "# But good enough for data augmentation for char-level tokenization\n",
        "# Could've also used stemming before swapping aliases\n",
        "print (flat_tags_dict[\"gan\"])\n",
        "print (flat_tags_dict[\"gans\"])\n",
        "print (flat_tags_dict[\"generative adversarial network\"])\n",
        "print (flat_tags_dict[\"generative adversarial networks\"])"
      ],
      "outputs": [
        {
          "output_type": "stream",
          "name": "stdout",
          "text": [
            "['generative adversarial networks']\n",
            "['generative adversarial networks']\n",
            "['gan']\n",
            "['gan']\n"
          ]
        }
      ],
      "metadata": {
        "id": "KU6DGLk26RNR",
        "colab": {
          "base_uri": "https://localhost:8080/"
        },
        "outputId": "d8bb0c08-d0ab-44b6-f549-2f9460fa75db"
      }
    },
    {
      "cell_type": "code",
      "execution_count": null,
      "source": [
        "# We want to match with the whole word only\n",
        "print (\"gan\" in \"This is a gan.\")\n",
        "print (\"gan\" in \"This is gandalf.\")"
      ],
      "outputs": [
        {
          "output_type": "stream",
          "name": "stdout",
          "text": [
            "True\n",
            "True\n"
          ]
        }
      ],
      "metadata": {
        "id": "E2QdYOXSY55L",
        "colab": {
          "base_uri": "https://localhost:8080/"
        },
        "outputId": "71a87f50-0dcc-423a-9cd3-92c213ad9c66"
      }
    },
    {
      "cell_type": "code",
      "execution_count": null,
      "source": [
        "def find_word(word, text):\n",
        "    word = word.replace(\"+\", \"\\+\")\n",
        "    pattern = re.compile(fr\"\\b({word})\\b\", flags=re.IGNORECASE)\n",
        "    return pattern.search(text)"
      ],
      "outputs": [],
      "metadata": {
        "id": "MHtHER09W8ew"
      }
    },
    {
      "cell_type": "code",
      "execution_count": null,
      "source": [
        "# Correct behavior (single instance)\n",
        "print (find_word(\"gan\", \"This is a gan.\"))\n",
        "print (find_word(\"gan\", \"This is gandalf.\"))"
      ],
      "outputs": [
        {
          "output_type": "stream",
          "name": "stdout",
          "text": [
            "<re.Match object; span=(10, 13), match='gan'>\n",
            "None\n"
          ]
        }
      ],
      "metadata": {
        "id": "4zTuKPuRXTRO",
        "colab": {
          "base_uri": "https://localhost:8080/"
        },
        "outputId": "eba5c2ba-d858-439b-ec4d-a40cb244fe56"
      }
    },
    {
      "cell_type": "code",
      "execution_count": null,
      "source": [
        "@transformation_function()\n",
        "def swap_aliases(x):\n",
        "    \"\"\"Swap ML keywords with their aliases.\"\"\" \n",
        "\n",
        "    # Find all matches\n",
        "    matches = []\n",
        "    for i, tag in enumerate(flat_tags_dict):\n",
        "        match = find_word(tag, x.text)  \n",
        "        if match:\n",
        "            matches.append(match)\n",
        "    \n",
        "    # Swap a random match with a random alias\n",
        "    if len(matches):\n",
        "        match = random.choice(matches)\n",
        "        tag = x.text[match.start():match.end()]\n",
        "        x.text = f\"{x.text[:match.start()]}{random.choice(flat_tags_dict[tag])}{x.text[match.end():]}\"\n",
        "    return x"
      ],
      "outputs": [],
      "metadata": {
        "id": "2r0f6iqeoNSh"
      }
    },
    {
      "cell_type": "code",
      "execution_count": null,
      "source": [
        "# Swap\n",
        "for i in range(3):\n",
        "    sample_df = pd.DataFrame([{\"text\": \"a survey of reinforcement learning for nlp tasks.\"}])\n",
        "    sample_df.text = sample_df.text.apply(preprocess, lower=True, stem=False)\n",
        "    print (swap_aliases(sample_df.iloc[0]).text)"
      ],
      "outputs": [
        {
          "output_type": "stream",
          "name": "stdout",
          "text": [
            "survey reinforcement learning nlproc tasks\n",
            "survey rl nlp tasks\n",
            "survey rl nlp tasks\n"
          ]
        }
      ],
      "metadata": {
        "id": "4Hnuu4LZqgxS",
        "colab": {
          "base_uri": "https://localhost:8080/"
        },
        "outputId": "1948e3e6-a891-4274-dfa7-2dd34d64a86d"
      }
    },
    {
      "cell_type": "code",
      "execution_count": null,
      "source": [
        "# Undesired behavior (needs contextual insight)\n",
        "for i in range(3):\n",
        "    sample_df = pd.DataFrame([{\"text\": \"Autogenerate your CV to apply for jobs using NLP.\"}])\n",
        "    sample_df.text = sample_df.text.apply(preprocess, lower=True, stem=False)\n",
        "    print (swap_aliases(sample_df.iloc[0]).text)"
      ],
      "outputs": [
        {
          "output_type": "stream",
          "name": "stdout",
          "text": [
            "autogenerate vision apply jobs using nlp\n",
            "autogenerate cv apply jobs using natural language processing\n",
            "autogenerate cv apply jobs using nlproc\n"
          ]
        }
      ],
      "metadata": {
        "id": "Zb1PkpxE3jrP",
        "colab": {
          "base_uri": "https://localhost:8080/"
        },
        "outputId": "e84fc21c-aeab-4d10-d02c-40e718b54a13"
      }
    },
    {
      "cell_type": "markdown",
      "source": [
        "Now we'll define a [augmentation policy](https://snorkel.readthedocs.io/en/v0.9.1/packages/augmentation.html) to apply our transformation functions with certain rules (how many samples to generate, whether to keep the original data point, etc.)"
      ],
      "metadata": {
        "id": "7C0z19mFBswx"
      }
    },
    {
      "cell_type": "code",
      "execution_count": null,
      "source": [
        "from snorkel.augmentation import ApplyOnePolicy, PandasTFApplier"
      ],
      "outputs": [],
      "metadata": {
        "id": "8Cwju3KrnH7O"
      }
    },
    {
      "cell_type": "code",
      "execution_count": null,
      "source": [
        "# Transformation function (TF) policy\n",
        "policy = ApplyOnePolicy(n_per_original=5, keep_original=True)\n",
        "tf_applier = PandasTFApplier([swap_aliases], policy)\n",
        "train_df_augmented = tf_applier.apply(train_df)\n",
        "train_df_augmented.drop_duplicates(subset=[\"text\"], inplace=True)\n",
        "train_df_augmented.head()"
      ],
      "outputs": [
        {
          "output_type": "stream",
          "name": "stderr",
          "text": [
            "100%|██████████| 1005/1005 [00:31<00:00, 31.97it/s]\n"
          ]
        },
        {
          "output_type": "execute_result",
          "data": {
            "text/html": [
              "\n",
              "  <div id=\"df-7f1d4faa-a6b4-4a8f-a4d0-9500017c1ac7\">\n",
              "    <div class=\"colab-df-container\">\n",
              "      <div>\n",
              "<style scoped>\n",
              "    .dataframe tbody tr th:only-of-type {\n",
              "        vertical-align: middle;\n",
              "    }\n",
              "\n",
              "    .dataframe tbody tr th {\n",
              "        vertical-align: top;\n",
              "    }\n",
              "\n",
              "    .dataframe thead th {\n",
              "        text-align: right;\n",
              "    }\n",
              "</style>\n",
              "<table border=\"1\" class=\"dataframe\">\n",
              "  <thead>\n",
              "    <tr style=\"text-align: right;\">\n",
              "      <th></th>\n",
              "      <th>text</th>\n",
              "      <th>tags</th>\n",
              "    </tr>\n",
              "  </thead>\n",
              "  <tbody>\n",
              "    <tr>\n",
              "      <th>0</th>\n",
              "      <td>hugging face achieved 2x performance boost qa ...</td>\n",
              "      <td>[attention, huggingface, natural-language-proc...</td>\n",
              "    </tr>\n",
              "    <tr>\n",
              "      <th>0</th>\n",
              "      <td>hugging face achieved 2x performance boost qa ...</td>\n",
              "      <td>[attention, huggingface, natural-language-proc...</td>\n",
              "    </tr>\n",
              "    <tr>\n",
              "      <th>0</th>\n",
              "      <td>hugging face achieved 2x performance boost qa ...</td>\n",
              "      <td>[attention, huggingface, natural-language-proc...</td>\n",
              "    </tr>\n",
              "    <tr>\n",
              "      <th>0</th>\n",
              "      <td>hugging face achieved 2x performance boost qa ...</td>\n",
              "      <td>[attention, huggingface, natural-language-proc...</td>\n",
              "    </tr>\n",
              "    <tr>\n",
              "      <th>0</th>\n",
              "      <td>hugging face achieved 2x performance boost qa ...</td>\n",
              "      <td>[attention, huggingface, natural-language-proc...</td>\n",
              "    </tr>\n",
              "  </tbody>\n",
              "</table>\n",
              "</div>\n",
              "      <button class=\"colab-df-convert\" onclick=\"convertToInteractive('df-7f1d4faa-a6b4-4a8f-a4d0-9500017c1ac7')\"\n",
              "              title=\"Convert this dataframe to an interactive table.\"\n",
              "              style=\"display:none;\">\n",
              "        \n",
              "  <svg xmlns=\"http://www.w3.org/2000/svg\" height=\"24px\"viewBox=\"0 0 24 24\"\n",
              "       width=\"24px\">\n",
              "    <path d=\"M0 0h24v24H0V0z\" fill=\"none\"/>\n",
              "    <path d=\"M18.56 5.44l.94 2.06.94-2.06 2.06-.94-2.06-.94-.94-2.06-.94 2.06-2.06.94zm-11 1L8.5 8.5l.94-2.06 2.06-.94-2.06-.94L8.5 2.5l-.94 2.06-2.06.94zm10 10l.94 2.06.94-2.06 2.06-.94-2.06-.94-.94-2.06-.94 2.06-2.06.94z\"/><path d=\"M17.41 7.96l-1.37-1.37c-.4-.4-.92-.59-1.43-.59-.52 0-1.04.2-1.43.59L10.3 9.45l-7.72 7.72c-.78.78-.78 2.05 0 2.83L4 21.41c.39.39.9.59 1.41.59.51 0 1.02-.2 1.41-.59l7.78-7.78 2.81-2.81c.8-.78.8-2.07 0-2.86zM5.41 20L4 18.59l7.72-7.72 1.47 1.35L5.41 20z\"/>\n",
              "  </svg>\n",
              "      </button>\n",
              "      \n",
              "  <style>\n",
              "    .colab-df-container {\n",
              "      display:flex;\n",
              "      flex-wrap:wrap;\n",
              "      gap: 12px;\n",
              "    }\n",
              "\n",
              "    .colab-df-convert {\n",
              "      background-color: #E8F0FE;\n",
              "      border: none;\n",
              "      border-radius: 50%;\n",
              "      cursor: pointer;\n",
              "      display: none;\n",
              "      fill: #1967D2;\n",
              "      height: 32px;\n",
              "      padding: 0 0 0 0;\n",
              "      width: 32px;\n",
              "    }\n",
              "\n",
              "    .colab-df-convert:hover {\n",
              "      background-color: #E2EBFA;\n",
              "      box-shadow: 0px 1px 2px rgba(60, 64, 67, 0.3), 0px 1px 3px 1px rgba(60, 64, 67, 0.15);\n",
              "      fill: #174EA6;\n",
              "    }\n",
              "\n",
              "    [theme=dark] .colab-df-convert {\n",
              "      background-color: #3B4455;\n",
              "      fill: #D2E3FC;\n",
              "    }\n",
              "\n",
              "    [theme=dark] .colab-df-convert:hover {\n",
              "      background-color: #434B5C;\n",
              "      box-shadow: 0px 1px 3px 1px rgba(0, 0, 0, 0.15);\n",
              "      filter: drop-shadow(0px 1px 2px rgba(0, 0, 0, 0.3));\n",
              "      fill: #FFFFFF;\n",
              "    }\n",
              "  </style>\n",
              "\n",
              "      <script>\n",
              "        const buttonEl =\n",
              "          document.querySelector('#df-7f1d4faa-a6b4-4a8f-a4d0-9500017c1ac7 button.colab-df-convert');\n",
              "        buttonEl.style.display =\n",
              "          google.colab.kernel.accessAllowed ? 'block' : 'none';\n",
              "\n",
              "        async function convertToInteractive(key) {\n",
              "          const element = document.querySelector('#df-7f1d4faa-a6b4-4a8f-a4d0-9500017c1ac7');\n",
              "          const dataTable =\n",
              "            await google.colab.kernel.invokeFunction('convertToInteractive',\n",
              "                                                     [key], {});\n",
              "          if (!dataTable) return;\n",
              "\n",
              "          const docLinkHtml = 'Like what you see? Visit the ' +\n",
              "            '<a target=\"_blank\" href=https://colab.research.google.com/notebooks/data_table.ipynb>data table notebook</a>'\n",
              "            + ' to learn more about interactive tables.';\n",
              "          element.innerHTML = '';\n",
              "          dataTable['output_type'] = 'display_data';\n",
              "          await google.colab.output.renderOutput(dataTable, element);\n",
              "          const docLink = document.createElement('div');\n",
              "          docLink.innerHTML = docLinkHtml;\n",
              "          element.appendChild(docLink);\n",
              "        }\n",
              "      </script>\n",
              "    </div>\n",
              "  </div>\n",
              "  "
            ],
            "text/plain": [
              "                                                text                                               tags\n",
              "0  hugging face achieved 2x performance boost qa ...  [attention, huggingface, natural-language-proc...\n",
              "0  hugging face achieved 2x performance boost qa ...  [attention, huggingface, natural-language-proc...\n",
              "0  hugging face achieved 2x performance boost qa ...  [attention, huggingface, natural-language-proc...\n",
              "0  hugging face achieved 2x performance boost qa ...  [attention, huggingface, natural-language-proc...\n",
              "0  hugging face achieved 2x performance boost qa ...  [attention, huggingface, natural-language-proc..."
            ]
          },
          "metadata": {},
          "execution_count": 75
        }
      ],
      "metadata": {
        "id": "NitY8I8jlg-f",
        "colab": {
          "base_uri": "https://localhost:8080/",
          "height": 224
        },
        "outputId": "3020b70f-b301-42e1-9781-a2cd4b21a587"
      }
    },
    {
      "cell_type": "code",
      "execution_count": null,
      "source": [
        "len(train_df), len(train_df_augmented)"
      ],
      "outputs": [
        {
          "output_type": "execute_result",
          "data": {
            "text/plain": [
              "(1005, 2062)"
            ]
          },
          "metadata": {},
          "execution_count": 76
        }
      ],
      "metadata": {
        "id": "UhCHE2eCnXf9",
        "colab": {
          "base_uri": "https://localhost:8080/"
        },
        "outputId": "5e983c6b-0c67-4c15-cc84-6a04b7b9bbbf"
      }
    },
    {
      "cell_type": "markdown",
      "source": [
        "For now, we'll skip the data augmentation because it's quite fickle and empirically it doesn't improvement performance much. But we can see how this can be very effective once we can control what type of vocabulary to augment on and what exactly to augment with.\n",
        "\n",
        "> Regardless of what method we use, it's important to validate that we're not just augmenting for the sake of augmentation. We can do this by executing any existing [data validation tests](https://madewithml.com/courses/mlops/testing#data) and even creating specific tests to apply on augmented data."
      ],
      "metadata": {
        "id": "XAgm9USuoQUF"
      }
    },
    {
      "cell_type": "markdown",
      "source": [
        "# 📈&nbsp; Modeling"
      ],
      "metadata": {
        "id": "lGvI2YuuNkSX"
      }
    },
    {
      "cell_type": "markdown",
      "source": [
        "We'll begin modeling by starting with the simplest baseline and slowly adding complexity."
      ],
      "metadata": {
        "id": "IdQjMSQgNkSX"
      }
    },
    {
      "cell_type": "code",
      "execution_count": null,
      "source": [
        "from sklearn.metrics import precision_recall_fscore_support\n",
        "import torch"
      ],
      "outputs": [],
      "metadata": {
        "id": "C4O57X2dNkSY"
      }
    },
    {
      "cell_type": "code",
      "execution_count": null,
      "source": [
        "def set_seeds(seed=1234):\n",
        "    \"\"\"Set seeds for reproducibility.\"\"\"\n",
        "    np.random.seed(seed)\n",
        "    random.seed(seed)\n",
        "    torch.manual_seed(seed)\n",
        "    torch.cuda.manual_seed(seed)\n",
        "    torch.cuda.manual_seed_all(seed) # multi-GPU"
      ],
      "outputs": [],
      "metadata": {
        "id": "NXd8flJuNkSY"
      }
    },
    {
      "cell_type": "code",
      "execution_count": null,
      "source": [
        "def get_data_splits(df, train_size=0.7):\n",
        "    \"\"\"\"\"\"\n",
        "    # Get data\n",
        "    X = df.text.to_numpy()\n",
        "    y = df.tags\n",
        "\n",
        "    # Binarize y\n",
        "    label_encoder = LabelEncoder()\n",
        "    label_encoder.fit(y)\n",
        "    y = label_encoder.encode(y)\n",
        "\n",
        "    # Split\n",
        "    X_train, X_, y_train, y_ = iterative_train_test_split(\n",
        "        X, y, train_size=train_size)\n",
        "    X_val, X_test, y_val, y_test = iterative_train_test_split(\n",
        "        X_, y_, train_size=0.5)\n",
        "    \n",
        "    return X_train, X_val, X_test, y_train, y_val, y_test, label_encoder"
      ],
      "outputs": [],
      "metadata": {
        "id": "jf_XCcSguF9o"
      }
    },
    {
      "cell_type": "code",
      "execution_count": null,
      "source": [
        "class Trainer(object):\n",
        "    def __init__(self, model, device, loss_fn=None, optimizer=None, scheduler=None):\n",
        "\n",
        "        # Set params\n",
        "        self.model = model\n",
        "        self.device = device\n",
        "        self.loss_fn = loss_fn\n",
        "        self.optimizer = optimizer\n",
        "        self.scheduler = scheduler\n",
        "\n",
        "    def train_step(self, dataloader):\n",
        "        \"\"\"Train step.\"\"\"\n",
        "        # Set model to train mode\n",
        "        self.model.train()\n",
        "        loss = 0.0\n",
        "\n",
        "        # Iterate over train batches\n",
        "        for i, batch in enumerate(dataloader):\n",
        "\n",
        "            # Step\n",
        "            batch = [item.to(self.device) for item in batch]  # Set device\n",
        "            inputs, targets = batch[:-1], batch[-1]\n",
        "            self.optimizer.zero_grad()  # Reset gradients\n",
        "            z = self.model(inputs)  # Forward pass\n",
        "            J = self.loss_fn(z, targets)  # Define loss\n",
        "            J.backward()  # Backward pass\n",
        "            self.optimizer.step()  # Update weights\n",
        "\n",
        "            # Cumulative Metrics\n",
        "            loss += (J.detach().item() - loss) / (i + 1)\n",
        "\n",
        "        return loss\n",
        "\n",
        "    def eval_step(self, dataloader):\n",
        "        \"\"\"Validation or test step.\"\"\"\n",
        "        # Set model to eval mode\n",
        "        self.model.eval()\n",
        "        loss = 0.0\n",
        "        y_trues, y_probs = [], []\n",
        "\n",
        "        # Iterate over val batches\n",
        "        with torch.inference_mode():\n",
        "            for i, batch in enumerate(dataloader):\n",
        "\n",
        "                # Step\n",
        "                batch = [item.to(self.device) for item in batch]  # Set device\n",
        "                inputs, y_true = batch[:-1], batch[-1]\n",
        "                z = self.model(inputs)  # Forward pass\n",
        "                J = self.loss_fn(z, y_true).item()\n",
        "\n",
        "                # Cumulative Metrics\n",
        "                loss += (J - loss) / (i + 1)\n",
        "\n",
        "                # Store outputs\n",
        "                y_prob = torch.sigmoid(z).cpu().numpy()\n",
        "                y_probs.extend(y_prob)\n",
        "                y_trues.extend(y_true.cpu().numpy())\n",
        "\n",
        "        return loss, np.vstack(y_trues), np.vstack(y_probs)\n",
        "\n",
        "    def predict_step(self, dataloader):\n",
        "        \"\"\"Prediction step.\"\"\"\n",
        "        # Set model to eval mode\n",
        "        self.model.eval()\n",
        "        y_probs = []\n",
        "\n",
        "        # Iterate over val batches\n",
        "        with torch.inference_mode():\n",
        "            for i, batch in enumerate(dataloader):\n",
        "\n",
        "                # Forward pass w/ inputs\n",
        "                inputs, targets = batch[:-1], batch[-1]\n",
        "                z = self.model(inputs)\n",
        "\n",
        "                # Store outputs\n",
        "                y_prob = torch.sigmoid(z).cpu().numpy()\n",
        "                y_probs.extend(y_prob)\n",
        "\n",
        "        return np.vstack(y_probs)\n",
        "    \n",
        "    def train(self, num_epochs, patience, train_dataloader, val_dataloader, \n",
        "              tolerance=1e-5):\n",
        "        best_val_loss = np.inf\n",
        "        for epoch in range(num_epochs):\n",
        "            # Steps\n",
        "            train_loss = self.train_step(dataloader=train_dataloader)\n",
        "            val_loss, _, _ = self.eval_step(dataloader=val_dataloader)\n",
        "            self.scheduler.step(val_loss)\n",
        "\n",
        "            # Early stopping\n",
        "            if val_loss < best_val_loss - tolerance:\n",
        "                best_val_loss = val_loss\n",
        "                best_model = self.model\n",
        "                _patience = patience  # reset _patience\n",
        "            else:\n",
        "                _patience -= 1\n",
        "            if not _patience:  # 0\n",
        "                print(\"Stopping early!\")\n",
        "                break\n",
        "\n",
        "            # Logging\n",
        "            print(\n",
        "                f\"Epoch: {epoch+1} | \"\n",
        "                f\"train_loss: {train_loss:.5f}, \"\n",
        "                f\"val_loss: {val_loss:.5f}, \"\n",
        "                f\"lr: {self.optimizer.param_groups[0]['lr']:.2E}, \"\n",
        "                f\"_patience: {_patience}\"\n",
        "            )\n",
        "        return best_model"
      ],
      "outputs": [],
      "metadata": {
        "id": "6Q9C95ZAhJHv"
      }
    },
    {
      "cell_type": "markdown",
      "source": [
        "## Random"
      ],
      "metadata": {
        "id": "fAQjRWHCNkSY"
      }
    },
    {
      "cell_type": "markdown",
      "source": [
        "<u><i>motivation</i></u>: We want to know what random (chance) performance looks like. All of our efforts should be well above this."
      ],
      "metadata": {
        "id": "StAbvxEGkSmS"
      }
    },
    {
      "cell_type": "code",
      "execution_count": null,
      "source": [
        "# Set seeds\n",
        "set_seeds()"
      ],
      "outputs": [],
      "metadata": {
        "id": "Y6R-g-5INkSY"
      }
    },
    {
      "cell_type": "code",
      "execution_count": null,
      "source": [
        "# Get data splits\n",
        "preprocessed_df = df.copy()\n",
        "preprocessed_df.text = preprocessed_df.text.apply(preprocess, lower=True)\n",
        "X_train, X_val, X_test, y_train, y_val, y_test, label_encoder = get_data_splits(preprocessed_df)"
      ],
      "outputs": [],
      "metadata": {
        "id": "SIYPLUMnNkSY"
      }
    },
    {
      "cell_type": "code",
      "execution_count": null,
      "source": [
        "# Label encoder\n",
        "print (label_encoder)\n",
        "print (label_encoder.classes)"
      ],
      "outputs": [
        {
          "output_type": "stream",
          "name": "stdout",
          "text": [
            "<LabelEncoder(num_classes=34)>\n",
            "['attention', 'autoencoders', 'computer-vision', 'convolutional-neural-networks', 'data-augmentation', 'embeddings', 'flask', 'generative-adversarial-networks', 'graph-neural-networks', 'graphs', 'huggingface', 'image-classification', 'interpretability', 'keras', 'language-modeling', 'natural-language-processing', 'node-classification', 'object-detection', 'pretraining', 'production', 'pytorch', 'question-answering', 'regression', 'reinforcement-learning', 'representation-learning', 'scikit-learn', 'segmentation', 'self-supervised-learning', 'tensorflow', 'tensorflow-js', 'time-series', 'transfer-learning', 'transformers', 'unsupervised-learning']\n"
          ]
        }
      ],
      "metadata": {
        "id": "_UWsFo8cNkSY",
        "colab": {
          "base_uri": "https://localhost:8080/"
        },
        "outputId": "48ce0286-5dc3-4110-dd87-717b9e8bbac8"
      }
    },
    {
      "cell_type": "code",
      "execution_count": null,
      "source": [
        "# Generate random predictions\n",
        "y_pred = np.random.randint(low=0, high=2, size=(len(y_test), len(label_encoder.classes)))\n",
        "print (y_pred.shape)\n",
        "print (y_pred[0:5])"
      ],
      "outputs": [
        {
          "output_type": "stream",
          "name": "stdout",
          "text": [
            "(218, 34)\n",
            "[[1 1 1 0 0 1 1 1 0 0 0 1 1 0 0 1 1 1 0 1 1 1 1 1 1 0 0 1 0 1 1 0 1 1]\n",
            " [0 0 0 1 0 1 0 0 0 0 0 1 1 1 1 1 0 1 1 1 1 0 1 1 1 1 1 0 1 1 0 1 0 0]\n",
            " [0 0 1 1 1 1 1 0 1 0 0 0 1 1 1 0 0 1 1 1 0 0 1 0 0 1 1 1 1 1 0 1 1 0]\n",
            " [0 1 0 0 1 1 0 1 1 0 1 1 0 0 1 1 0 1 1 0 1 1 1 0 0 0 1 1 1 0 1 1 0 0]\n",
            " [0 1 0 0 1 1 0 0 0 1 1 1 0 1 1 0 1 0 1 1 0 1 1 1 0 0 1 0 1 1 1 1 1 1]]\n"
          ]
        }
      ],
      "metadata": {
        "id": "YXTrB3ToNkSY",
        "colab": {
          "base_uri": "https://localhost:8080/"
        },
        "outputId": "4288f5f9-f4c0-4777-fffc-8ed9e927e56d"
      }
    },
    {
      "cell_type": "code",
      "execution_count": null,
      "source": [
        "# Evaluate\n",
        "metrics = precision_recall_fscore_support(y_test, y_pred, average=\"weighted\")\n",
        "performance = {\"precision\": metrics[0], \"recall\": metrics[1], \"f1\": metrics[2]}\n",
        "print (json.dumps(performance, indent=2))"
      ],
      "outputs": [
        {
          "output_type": "stream",
          "name": "stdout",
          "text": [
            "{\n",
            "  \"precision\": 0.1280350066470929,\n",
            "  \"recall\": 0.5278969957081545,\n",
            "  \"f1\": 0.1868875872691634\n",
            "}\n"
          ]
        }
      ],
      "metadata": {
        "id": "tAAoXyNANkSY",
        "colab": {
          "base_uri": "https://localhost:8080/"
        },
        "outputId": "8721c451-882d-4074-f835-791826b06861"
      }
    },
    {
      "cell_type": "markdown",
      "source": [
        "We made the assumption that there is an equal probability for whether an input has a tag or not but this isn't true. Let's use the **train split** to figure out what the true probability is."
      ],
      "metadata": {
        "id": "BLzOP5fIkYWl"
      }
    },
    {
      "cell_type": "code",
      "execution_count": null,
      "source": [
        "# Percentage of 1s (tag presence)\n",
        "tag_p = np.sum(np.sum(y_train)) / (len(y_train) * len(label_encoder.classes))\n",
        "print (tag_p)"
      ],
      "outputs": [
        {
          "output_type": "stream",
          "name": "stdout",
          "text": [
            "0.06353526485220955\n"
          ]
        }
      ],
      "metadata": {
        "id": "pN6tq9z6iW7a",
        "colab": {
          "base_uri": "https://localhost:8080/"
        },
        "outputId": "90f3526b-49c9-43e3-874a-cee90c8dc125"
      }
    },
    {
      "cell_type": "code",
      "execution_count": null,
      "source": [
        "# Generate weighted random predictions\n",
        "y_pred = np.random.choice(\n",
        "    np.arange(0, 2), size=(len(y_test), len(label_encoder.classes)), \n",
        "    p=[1-tag_p, tag_p])"
      ],
      "outputs": [],
      "metadata": {
        "id": "vInlz4R1iA4i"
      }
    },
    {
      "cell_type": "code",
      "execution_count": null,
      "source": [
        "# Validate percentage\n",
        "np.sum(np.sum(y_pred)) / (len(y_pred) * len(label_encoder.classes))"
      ],
      "outputs": [
        {
          "output_type": "execute_result",
          "data": {
            "text/plain": [
              "0.0635456017269293"
            ]
          },
          "metadata": {},
          "execution_count": 88
        }
      ],
      "metadata": {
        "id": "_LnLd-Arj5t0",
        "colab": {
          "base_uri": "https://localhost:8080/"
        },
        "outputId": "cbb38e9d-fedd-4baf-b5ec-d061f0dd7262"
      }
    },
    {
      "cell_type": "code",
      "execution_count": null,
      "source": [
        "# Evaluate\n",
        "metrics = precision_recall_fscore_support(y_test, y_pred, average=\"weighted\")\n",
        "performance = {\"precision\": metrics[0], \"recall\": metrics[1], \"f1\": metrics[2]}\n",
        "print (json.dumps(performance, indent=2))"
      ],
      "outputs": [
        {
          "output_type": "stream",
          "name": "stdout",
          "text": [
            "{\n",
            "  \"precision\": 0.12591336298417846,\n",
            "  \"recall\": 0.07296137339055794,\n",
            "  \"f1\": 0.0755483654242547\n",
            "}\n"
          ]
        }
      ],
      "metadata": {
        "id": "hpfBiruhkJME",
        "colab": {
          "base_uri": "https://localhost:8080/"
        },
        "outputId": "8b638bd9-0909-4c09-dc40-2f9a09d868f0"
      }
    },
    {
      "cell_type": "markdown",
      "source": [
        "<u><i>limitations</i></u>: we didn't use the tokens in our input to affect our predictions so nothing was learned."
      ],
      "metadata": {
        "id": "YC9ConMQlPgg"
      }
    },
    {
      "cell_type": "markdown",
      "source": [
        "## Rule-based"
      ],
      "metadata": {
        "id": "OVzBKdt3NkSY"
      }
    },
    {
      "cell_type": "markdown",
      "source": [
        "<u><i>motivation</i></u>: we want to use signals in our inputs (along with domain expertise and auxiliary data) to determine the labels."
      ],
      "metadata": {
        "id": "u_XWLBgQlSn-"
      }
    },
    {
      "cell_type": "code",
      "execution_count": null,
      "source": [
        "# Set seeds\n",
        "set_seeds()"
      ],
      "outputs": [],
      "metadata": {
        "id": "nXlgWoyFNkSY"
      }
    },
    {
      "cell_type": "markdown",
      "source": [
        "### Unstemmed"
      ],
      "metadata": {
        "id": "2RzG44f6mx_4"
      }
    },
    {
      "cell_type": "code",
      "execution_count": null,
      "source": [
        "# Get data splits\n",
        "preprocessed_df = df.copy()\n",
        "preprocessed_df.text = preprocessed_df.text.apply(preprocess, lower=True)\n",
        "X_train, X_val, X_test, y_train, y_val, y_test, label_encoder = get_data_splits(preprocessed_df)"
      ],
      "outputs": [],
      "metadata": {
        "id": "ZhXtWZcgmxWW"
      }
    },
    {
      "cell_type": "code",
      "execution_count": null,
      "source": [
        "# Restrict to relevant tags\n",
        "print (len(tags_dict))\n",
        "tags_dict = {tag: tags_dict[tag] for tag in label_encoder.classes}\n",
        "print (len(tags_dict))"
      ],
      "outputs": [
        {
          "output_type": "stream",
          "name": "stdout",
          "text": [
            "400\n",
            "34\n"
          ]
        }
      ],
      "metadata": {
        "id": "3N961xapm1wS",
        "colab": {
          "base_uri": "https://localhost:8080/"
        },
        "outputId": "e4ef0b5c-5a21-4b5a-f3f2-6e042875be88"
      }
    },
    {
      "cell_type": "code",
      "execution_count": null,
      "source": [
        "# Map aliases\n",
        "aliases = {}\n",
        "for tag, values in tags_dict.items():\n",
        "    aliases[preprocess(tag)] = tag\n",
        "    for alias in values[\"aliases\"]:\n",
        "        aliases[preprocess(alias)] = tag\n",
        "aliases"
      ],
      "outputs": [
        {
          "output_type": "execute_result",
          "data": {
            "text/plain": [
              "{'ae': 'autoencoders',\n",
              " 'attention': 'attention',\n",
              " 'autoencoders': 'autoencoders',\n",
              " 'cnn': 'convolutional-neural-networks',\n",
              " 'computer vision': 'computer-vision',\n",
              " 'convolutional neural networks': 'convolutional-neural-networks',\n",
              " 'cv': 'computer-vision',\n",
              " 'data augmentation': 'data-augmentation',\n",
              " 'embeddings': 'embeddings',\n",
              " 'flask': 'flask',\n",
              " 'gan': 'generative-adversarial-networks',\n",
              " 'generative adversarial networks': 'generative-adversarial-networks',\n",
              " 'gnn': 'graph-neural-networks',\n",
              " 'graph neural networks': 'graph-neural-networks',\n",
              " 'graphs': 'graphs',\n",
              " 'huggingface': 'huggingface',\n",
              " 'image classification': 'image-classification',\n",
              " 'image segmentation': 'segmentation',\n",
              " 'interpretability': 'interpretability',\n",
              " 'keras': 'keras',\n",
              " 'language modeling': 'language-modeling',\n",
              " 'lm': 'language-modeling',\n",
              " 'natural language processing': 'natural-language-processing',\n",
              " 'nlp': 'natural-language-processing',\n",
              " 'nlproc': 'natural-language-processing',\n",
              " 'node classification': 'node-classification',\n",
              " 'object detection': 'object-detection',\n",
              " 'pre training': 'pretraining',\n",
              " 'pretraining': 'pretraining',\n",
              " 'production': 'production',\n",
              " 'pytorch': 'pytorch',\n",
              " 'qa': 'question-answering',\n",
              " 'question answering': 'question-answering',\n",
              " 'regression': 'regression',\n",
              " 'reinforcement learning': 'reinforcement-learning',\n",
              " 'representation learning': 'representation-learning',\n",
              " 'rl': 'reinforcement-learning',\n",
              " 'scikit learn': 'scikit-learn',\n",
              " 'segmentation': 'segmentation',\n",
              " 'self supervised learning': 'self-supervised-learning',\n",
              " 'sklearn': 'scikit-learn',\n",
              " 'tensorflow': 'tensorflow',\n",
              " 'tensorflow js': 'tensorflow-js',\n",
              " 'tf': 'tensorflow',\n",
              " 'tf js': 'tensorflow-js',\n",
              " 'time series': 'time-series',\n",
              " 'time series analysis': 'time-series',\n",
              " 'transfer learning': 'transfer-learning',\n",
              " 'transformers': 'transformers',\n",
              " 'unsupervised learning': 'unsupervised-learning',\n",
              " 'vision': 'computer-vision'}"
            ]
          },
          "metadata": {},
          "execution_count": 93
        }
      ],
      "metadata": {
        "id": "8sN9-ZfEm10i",
        "colab": {
          "base_uri": "https://localhost:8080/"
        },
        "outputId": "c1f1f04c-30f3-40c8-e79b-9b08b46aaf71"
      }
    },
    {
      "cell_type": "code",
      "execution_count": null,
      "source": [
        "def get_classes(text, aliases, tags_dict):\n",
        "    \"\"\"If a token matches an alias, \n",
        "    then add the corresponding tag\n",
        "    class (and parent tags if any).\"\"\"\n",
        "    classes = []\n",
        "    for alias, tag in aliases.items():\n",
        "        if alias in text:\n",
        "            classes.append(tag)\n",
        "            for parent in tags_dict[tag][\"parents\"]:\n",
        "                classes.append(parent)\n",
        "    return list(set(classes))"
      ],
      "outputs": [],
      "metadata": {
        "id": "ntVJvdVBm14U"
      }
    },
    {
      "cell_type": "code",
      "execution_count": null,
      "source": [
        "# Sample\n",
        "text = \"This project extends gans for data augmentation specifically for object detection tasks.\"\n",
        "get_classes(text=preprocess(text), aliases=aliases, tags_dict=tags_dict)"
      ],
      "outputs": [
        {
          "output_type": "execute_result",
          "data": {
            "text/plain": [
              "['object-detection',\n",
              " 'computer-vision',\n",
              " 'generative-adversarial-networks',\n",
              " 'data-augmentation']"
            ]
          },
          "metadata": {},
          "execution_count": 95
        }
      ],
      "metadata": {
        "id": "cKHKKwNCnBzX",
        "colab": {
          "base_uri": "https://localhost:8080/"
        },
        "outputId": "e3db754c-f458-4336-eb3f-226049c118c4"
      }
    },
    {
      "cell_type": "code",
      "execution_count": null,
      "source": [
        "# Prediction\n",
        "y_pred = []\n",
        "for text in X_test:\n",
        "    classes = get_classes(text, aliases, tags_dict)\n",
        "    y_pred.append(classes)"
      ],
      "outputs": [],
      "metadata": {
        "id": "LD-w5gcjnB29"
      }
    },
    {
      "cell_type": "code",
      "execution_count": null,
      "source": [
        "# Encode labels\n",
        "y_pred = label_encoder.encode(y_pred)"
      ],
      "outputs": [],
      "metadata": {
        "id": "YEcszZaGnZye"
      }
    },
    {
      "cell_type": "code",
      "execution_count": null,
      "source": [
        "# Evaluate\n",
        "metrics = precision_recall_fscore_support(y_test, y_pred, average=\"weighted\")\n",
        "performance = {\"precision\": metrics[0], \"recall\": metrics[1], \"f1\": metrics[2]}\n",
        "print (json.dumps(performance, indent=2))"
      ],
      "outputs": [
        {
          "output_type": "stream",
          "name": "stdout",
          "text": [
            "{\n",
            "  \"precision\": 0.9017638834698921,\n",
            "  \"recall\": 0.41630901287553645,\n",
            "  \"f1\": 0.540141158180418\n",
            "}\n"
          ]
        }
      ],
      "metadata": {
        "id": "erYMwIffnB66",
        "colab": {
          "base_uri": "https://localhost:8080/"
        },
        "outputId": "b766800b-b37b-4a93-d98a-26f745b2424c"
      }
    },
    {
      "cell_type": "markdown",
      "source": [
        "### Stemmed"
      ],
      "metadata": {
        "id": "bKbvhmgam2yG"
      }
    },
    {
      "cell_type": "markdown",
      "source": [
        "We're looking for exact matches with the aliases which isn't always perfect, for example:"
      ],
      "metadata": {
        "id": "id2HJmqXnxPr"
      }
    },
    {
      "cell_type": "code",
      "execution_count": null,
      "source": [
        "print (aliases[preprocess(\"gan\")])\n",
        "# print (aliases[preprocess(\"gans\")]) # this won't find any match\n",
        "print (aliases[preprocess(\"generative adversarial networks\")])\n",
        "# print (aliases[preprocess(\"generative adversarial network\")]) # this won't find any match"
      ],
      "outputs": [
        {
          "output_type": "stream",
          "name": "stdout",
          "text": [
            "generative-adversarial-networks\n",
            "generative-adversarial-networks\n"
          ]
        }
      ],
      "metadata": {
        "id": "dcr2o2HjoI_O",
        "colab": {
          "base_uri": "https://localhost:8080/"
        },
        "outputId": "4ec8f7fb-56e2-4298-da67-fc6fe8b094a8"
      }
    },
    {
      "cell_type": "markdown",
      "source": [
        "We don't want to keep adding explicit rules but we can use [stemming](https://nlp.stanford.edu/IR-book/html/htmledition/stemming-and-lemmatization-1.html) to represent different forms of a word uniformly, for example:"
      ],
      "metadata": {
        "id": "Gjv6GFJZoV6x"
      }
    },
    {
      "cell_type": "code",
      "execution_count": null,
      "source": [
        "print (porter.stem(\"democracy\"))\n",
        "print (porter.stem(\"democracies\"))"
      ],
      "outputs": [
        {
          "output_type": "stream",
          "name": "stdout",
          "text": [
            "democraci\n",
            "democraci\n"
          ]
        }
      ],
      "metadata": {
        "id": "w8YcWdTqpagt",
        "colab": {
          "base_uri": "https://localhost:8080/"
        },
        "outputId": "6dba70b9-b2c7-4137-928f-99263cad7691"
      }
    },
    {
      "cell_type": "markdown",
      "source": [
        "So let's now stem our aliases as well as the tokens in our input text and then look for matches:"
      ],
      "metadata": {
        "id": "EKCMUotL9wLr"
      }
    },
    {
      "cell_type": "code",
      "execution_count": null,
      "source": [
        "# Get data splits\n",
        "preprocessed_df = df.copy()\n",
        "preprocessed_df.text = preprocessed_df.text.apply(preprocess, lower=True, stem=True)\n",
        "X_train, X_val, X_test, y_train, y_val, y_test, label_encoder = get_data_splits(preprocessed_df)"
      ],
      "outputs": [],
      "metadata": {
        "id": "8BnfNEsf3YQB"
      }
    },
    {
      "cell_type": "code",
      "execution_count": null,
      "source": [
        "# Map aliases\n",
        "aliases = {}\n",
        "for tag, values in tags_dict.items():\n",
        "    aliases[preprocess(tag, stem=True)] = tag\n",
        "    for alias in values[\"aliases\"]:\n",
        "        aliases[preprocess(alias, stem=True)] = tag\n",
        "aliases"
      ],
      "outputs": [
        {
          "output_type": "execute_result",
          "data": {
            "text/plain": [
              "{'ae': 'autoencoders',\n",
              " 'attent': 'attention',\n",
              " 'autoencod': 'autoencoders',\n",
              " 'cnn': 'convolutional-neural-networks',\n",
              " 'comput vision': 'computer-vision',\n",
              " 'convolut neural network': 'convolutional-neural-networks',\n",
              " 'cv': 'computer-vision',\n",
              " 'data augment': 'data-augmentation',\n",
              " 'embed': 'embeddings',\n",
              " 'flask': 'flask',\n",
              " 'gan': 'generative-adversarial-networks',\n",
              " 'gener adversari network': 'generative-adversarial-networks',\n",
              " 'gnn': 'graph-neural-networks',\n",
              " 'graph': 'graphs',\n",
              " 'graph neural network': 'graph-neural-networks',\n",
              " 'huggingfac': 'huggingface',\n",
              " 'imag classif': 'image-classification',\n",
              " 'imag segment': 'segmentation',\n",
              " 'interpret': 'interpretability',\n",
              " 'kera': 'keras',\n",
              " 'languag model': 'language-modeling',\n",
              " 'lm': 'language-modeling',\n",
              " 'natur languag process': 'natural-language-processing',\n",
              " 'nlp': 'natural-language-processing',\n",
              " 'nlproc': 'natural-language-processing',\n",
              " 'node classif': 'node-classification',\n",
              " 'object detect': 'object-detection',\n",
              " 'pre train': 'pretraining',\n",
              " 'pretrain': 'pretraining',\n",
              " 'product': 'production',\n",
              " 'pytorch': 'pytorch',\n",
              " 'qa': 'question-answering',\n",
              " 'question answer': 'question-answering',\n",
              " 'regress': 'regression',\n",
              " 'reinforc learn': 'reinforcement-learning',\n",
              " 'represent learn': 'representation-learning',\n",
              " 'rl': 'reinforcement-learning',\n",
              " 'scikit learn': 'scikit-learn',\n",
              " 'segment': 'segmentation',\n",
              " 'self supervis learn': 'self-supervised-learning',\n",
              " 'sklearn': 'scikit-learn',\n",
              " 'tensorflow': 'tensorflow',\n",
              " 'tensorflow js': 'tensorflow-js',\n",
              " 'tf': 'tensorflow',\n",
              " 'tf js': 'tensorflow-js',\n",
              " 'time seri': 'time-series',\n",
              " 'time seri analysi': 'time-series',\n",
              " 'transfer learn': 'transfer-learning',\n",
              " 'transform': 'transformers',\n",
              " 'unsupervis learn': 'unsupervised-learning',\n",
              " 'vision': 'computer-vision'}"
            ]
          },
          "metadata": {},
          "execution_count": 102
        }
      ],
      "metadata": {
        "id": "3J4YQRZ_NkSY",
        "colab": {
          "base_uri": "https://localhost:8080/"
        },
        "outputId": "57d19ea8-64ae-4327-e9b3-503af50759a7"
      }
    },
    {
      "cell_type": "code",
      "execution_count": null,
      "source": [
        "# Checks (we will write proper tests soon)\n",
        "print (aliases[preprocess(\"gan\", stem=True)])\n",
        "print (aliases[preprocess(\"gans\", stem=True)])\n",
        "print (aliases[preprocess(\"generative adversarial network\", stem=True)])\n",
        "print (aliases[preprocess(\"generative adversarial networks\", stem=True)])"
      ],
      "outputs": [
        {
          "output_type": "stream",
          "name": "stdout",
          "text": [
            "generative-adversarial-networks\n",
            "generative-adversarial-networks\n",
            "generative-adversarial-networks\n",
            "generative-adversarial-networks\n"
          ]
        }
      ],
      "metadata": {
        "id": "Qx-tmDpbNkSY",
        "colab": {
          "base_uri": "https://localhost:8080/"
        },
        "outputId": "33751527-7f12-4828-d91b-4edbbb43408d"
      }
    },
    {
      "cell_type": "code",
      "execution_count": null,
      "source": [
        "# Sample\n",
        "text = \"This project extends gans for data augmentation specifically for object detection tasks.\"\n",
        "get_classes(text=preprocess(text, stem=True), aliases=aliases, tags_dict=tags_dict)"
      ],
      "outputs": [
        {
          "output_type": "execute_result",
          "data": {
            "text/plain": [
              "['object-detection',\n",
              " 'computer-vision',\n",
              " 'generative-adversarial-networks',\n",
              " 'data-augmentation']"
            ]
          },
          "metadata": {},
          "execution_count": 104
        }
      ],
      "metadata": {
        "id": "oXoeXojANkSY",
        "colab": {
          "base_uri": "https://localhost:8080/"
        },
        "outputId": "a2b595f7-c681-43f4-e514-0e4611603a36"
      }
    },
    {
      "cell_type": "code",
      "execution_count": null,
      "source": [
        "# Prediction\n",
        "y_pred = []\n",
        "for text in X_test:\n",
        "    classes = get_classes(text, aliases, tags_dict)\n",
        "    y_pred.append(classes)"
      ],
      "outputs": [],
      "metadata": {
        "id": "5mw2GDgLNkSY"
      }
    },
    {
      "cell_type": "code",
      "execution_count": null,
      "source": [
        "# Encode labels\n",
        "y_pred = label_encoder.encode(y_pred)"
      ],
      "outputs": [],
      "metadata": {
        "id": "YcOkiIEXNkSY"
      }
    },
    {
      "cell_type": "code",
      "execution_count": null,
      "source": [
        "# Evaluate\n",
        "metrics = precision_recall_fscore_support(y_test, y_pred, average=\"weighted\")\n",
        "performance = {\"precision\": metrics[0], \"recall\": metrics[1], \"f1\": metrics[2]}\n",
        "print (json.dumps(performance, indent=2))"
      ],
      "outputs": [
        {
          "output_type": "stream",
          "name": "stdout",
          "text": [
            "{\n",
            "  \"precision\": 0.9227430155421183,\n",
            "  \"recall\": 0.5042372881355932,\n",
            "  \"f1\": 0.6224462121231937\n",
            "}\n"
          ]
        }
      ],
      "metadata": {
        "id": "S0UobHBcNkSY",
        "colab": {
          "base_uri": "https://localhost:8080/"
        },
        "outputId": "7d013980-a773-4af5-df41-e4681510dffa"
      }
    },
    {
      "cell_type": "markdown",
      "source": [
        "A nice improvement from the unstemmed approach! This is because rule-based approaches can yield labels with high certainty when there is an absolute condition match but it fails to generalize or learn implicit patterns."
      ],
      "metadata": {
        "id": "8qdSlJCMfyBT"
      }
    },
    {
      "cell_type": "markdown",
      "source": [
        "### Inference"
      ],
      "metadata": {
        "id": "xjoBs0D8VI23"
      }
    },
    {
      "cell_type": "code",
      "execution_count": null,
      "source": [
        "# Infer\n",
        "text = \"Transfer learning with transformers for self-supervised learning\"\n",
        "print (preprocess(text, stem=True))\n",
        "get_classes(text=preprocess(text, stem=True), aliases=aliases, tags_dict=tags_dict)"
      ],
      "outputs": [
        {
          "output_type": "stream",
          "name": "stdout",
          "text": [
            "transfer learn transform self supervis learn\n"
          ]
        },
        {
          "output_type": "execute_result",
          "data": {
            "text/plain": [
              "['self-supervised-learning', 'transfer-learning', 'transformers']"
            ]
          },
          "metadata": {},
          "execution_count": 108
        }
      ],
      "metadata": {
        "id": "8j4iNdkfVLRX",
        "colab": {
          "base_uri": "https://localhost:8080/"
        },
        "outputId": "ce9eec2d-4832-490d-d129-4800a7504106"
      }
    },
    {
      "cell_type": "markdown",
      "source": [
        "Now let's see what happens when we replace the word *transformers* with *BERT*. Sure we can add this as an alias but we can't keep doing this. This is where it makes sense to learn from the data as opposed to creating explicit rules."
      ],
      "metadata": {
        "id": "VSvxZVVcFFMO"
      }
    },
    {
      "cell_type": "code",
      "execution_count": null,
      "source": [
        "# Infer\n",
        "text = \"Transfer learning with BERT for self-supervised learning\"\n",
        "print (preprocess(text, stem=True))\n",
        "get_classes(text=preprocess(text, stem=True), aliases=aliases, tags_dict=tags_dict)"
      ],
      "outputs": [
        {
          "output_type": "stream",
          "name": "stdout",
          "text": [
            "transfer learn bert self supervis learn\n"
          ]
        },
        {
          "output_type": "execute_result",
          "data": {
            "text/plain": [
              "['self-supervised-learning', 'transfer-learning']"
            ]
          },
          "metadata": {},
          "execution_count": 109
        }
      ],
      "metadata": {
        "id": "k7cWn6Fgfxp2",
        "colab": {
          "base_uri": "https://localhost:8080/"
        },
        "outputId": "172386bd-eb12-4df1-e08e-7e57d6ee4e0a"
      }
    },
    {
      "cell_type": "markdown",
      "source": [
        "<u><i>limitations</i></u>: we failed to generalize or learn any implicit patterns to predict the labels because we treat the tokens in our input as isolated entities."
      ],
      "metadata": {
        "id": "qdzlfoIzloqc"
      }
    },
    {
      "cell_type": "markdown",
      "source": [
        "> We would ideally spend more time tuning our model because it's so simple and quick to train. This approach also applies to all the other models we'll look at as well."
      ],
      "metadata": {
        "id": "q6rPM9Q8fX3-"
      }
    },
    {
      "cell_type": "markdown",
      "source": [
        "## Simple ML"
      ],
      "metadata": {
        "id": "eoa5oVgaNkSZ"
      }
    },
    {
      "cell_type": "markdown",
      "source": [
        "<u><i>motivation</i></u>:\n",
        "- *representation*: use term frequency-inverse document frequency [(TF-IDF)](https://en.wikipedia.org/wiki/Tf%E2%80%93idf) to capture the significance of a token to a particular input with respect to all the inputs, as opposed to treating the words in our input text as isolated tokens.\n",
        "- *architecture*: we want our model to meaningfully extract the encoded signal to predict the output labels."
      ],
      "metadata": {
        "id": "Yqg_kc3VmHb9"
      }
    },
    {
      "cell_type": "markdown",
      "source": [
        "So far we've treated the words in our input text as isolated tokens and we haven't really captured any meaning between tokens. Let's use term frequency–inverse document frequency (**TF-IDF**) to capture the significance of a token to a particular input with respect to all the inputs.\n",
        "\n",
        "$$ w_{i, j} = \\text{tf}_{i, j} * log(\\frac{N}{\\text{df}_i}) $$\n",
        "\n",
        "$$ w_{i, j}: \\text{tf-idf weight for term i in document j} $$\n",
        "$$ \\text{tf}_{i, j}: \\text{# of times term i appear in document j} $$\n",
        "$$ N: \\text{total # of documents} $$\n",
        "$$ {\\text{df}_i}: \\text{# of documents with token i} $$"
      ],
      "metadata": {
        "id": "KOJW4AONNkSZ"
      }
    },
    {
      "cell_type": "code",
      "execution_count": null,
      "source": [
        "from sklearn.ensemble import RandomForestClassifier\n",
        "from sklearn.ensemble import GradientBoostingClassifier\n",
        "from sklearn.linear_model import LogisticRegression\n",
        "from sklearn.multiclass import OneVsRestClassifier\n",
        "from sklearn.neighbors import KNeighborsClassifier\n",
        "from sklearn.svm import LinearSVC"
      ],
      "outputs": [],
      "metadata": {
        "id": "BiRzEi9iNkSZ"
      }
    },
    {
      "cell_type": "code",
      "execution_count": null,
      "source": [
        "from sklearn import metrics\n",
        "from sklearn.feature_extraction.text import TfidfVectorizer\n",
        "from sklearn.metrics import accuracy_score, precision_score, recall_score\n",
        "from sklearn.metrics import precision_recall_curve\n",
        "from sklearn.preprocessing import MultiLabelBinarizer"
      ],
      "outputs": [],
      "metadata": {
        "id": "J2P0kMvKNkSZ"
      }
    },
    {
      "cell_type": "code",
      "execution_count": null,
      "source": [
        "# Set seeds\n",
        "set_seeds()"
      ],
      "outputs": [],
      "metadata": {
        "id": "SrJ6fqmlNkSZ"
      }
    },
    {
      "cell_type": "code",
      "execution_count": null,
      "source": [
        "# Get data splits\n",
        "preprocessed_df = df.copy()\n",
        "preprocessed_df.text = preprocessed_df.text.apply(preprocess, lower=True, stem=True)\n",
        "X_train, X_val, X_test, y_train, y_val, y_test, label_encoder = get_data_splits(preprocessed_df)"
      ],
      "outputs": [],
      "metadata": {
        "id": "tIaiaykFNkSZ"
      }
    },
    {
      "cell_type": "code",
      "execution_count": null,
      "source": [
        "# Tf-idf\n",
        "vectorizer = TfidfVectorizer()\n",
        "print (X_train[0])\n",
        "X_train = vectorizer.fit_transform(X_train)\n",
        "X_val = vectorizer.transform(X_val)\n",
        "X_test = vectorizer.transform(X_test)\n",
        "print (X_train.shape)\n",
        "print (X_train[0]) # scipy.sparse.csr_matrix"
      ],
      "outputs": [
        {
          "output_type": "stream",
          "name": "stdout",
          "text": [
            "hug face achiev 2x perform boost qa question answer distilbert node js\n",
            "(1005, 2653)\n",
            "  (0, 1289)\t0.2718324087174405\n",
            "  (0, 1631)\t0.2851661041382109\n",
            "  (0, 705)\t0.3463535783559961\n",
            "  (0, 157)\t0.26455983648877696\n",
            "  (0, 1909)\t0.24283657202400125\n",
            "  (0, 1899)\t0.3111269311366786\n",
            "  (0, 316)\t0.3111269311366786\n",
            "  (0, 1753)\t0.2276667675435046\n",
            "  (0, 35)\t0.3463535783559961\n",
            "  (0, 72)\t0.2851661041382109\n",
            "  (0, 869)\t0.2474598768972582\n",
            "  (0, 1145)\t0.296506551566795\n"
          ]
        }
      ],
      "metadata": {
        "id": "ipggqVfzNkSZ",
        "colab": {
          "base_uri": "https://localhost:8080/"
        },
        "outputId": "25036628-d927-470a-d398-4913f85db7a2"
      }
    },
    {
      "cell_type": "code",
      "execution_count": null,
      "source": [
        "def fit_and_evaluate(model):\n",
        "    \"\"\"Fit and evaluate each model.\"\"\"\n",
        "    model.fit(X_train, y_train)\n",
        "    y_pred = model.predict(X_test)\n",
        "    metrics = precision_recall_fscore_support(y_test, y_pred, average=\"weighted\")\n",
        "    return {\"precision\": metrics[0], \"recall\": metrics[1], \"f1\": metrics[2]}"
      ],
      "outputs": [],
      "metadata": {
        "id": "fEShazTUNkSZ"
      }
    },
    {
      "cell_type": "code",
      "execution_count": null,
      "source": [
        "# Models\n",
        "performance = {}\n",
        "performance[\"logistic-regression\"] = fit_and_evaluate(OneVsRestClassifier(\n",
        "    LogisticRegression(), n_jobs=1))\n",
        "performance[\"k-nearest-neighbors\"] = fit_and_evaluate(\n",
        "    KNeighborsClassifier())\n",
        "performance[\"random-forest\"] = fit_and_evaluate(\n",
        "    RandomForestClassifier(n_jobs=-1))\n",
        "performance[\"gradient-boosting-machine\"] = fit_and_evaluate(OneVsRestClassifier(\n",
        "    GradientBoostingClassifier()))\n",
        "performance[\"support-vector-machine\"] = fit_and_evaluate(OneVsRestClassifier(\n",
        "    LinearSVC(), n_jobs=-1))\n",
        "print (json.dumps(performance, indent=2))"
      ],
      "outputs": [
        {
          "output_type": "stream",
          "name": "stdout",
          "text": [
            "{\n",
            "  \"logistic-regression\": {\n",
            "    \"precision\": 0.5874463519313304,\n",
            "    \"recall\": 0.21030042918454936,\n",
            "    \"f1\": 0.30009168155260235\n",
            "  },\n",
            "  \"k-nearest-neighbors\": {\n",
            "    \"precision\": 0.7550627617051411,\n",
            "    \"recall\": 0.41416309012875535,\n",
            "    \"f1\": 0.5195783537808139\n",
            "  },\n",
            "  \"random-forest\": {\n",
            "    \"precision\": 0.7617565282801334,\n",
            "    \"recall\": 0.3605150214592275,\n",
            "    \"f1\": 0.46191844321407743\n",
            "  },\n",
            "  \"gradient-boosting-machine\": {\n",
            "    \"precision\": 0.8072492699209438,\n",
            "    \"recall\": 0.5965665236051502,\n",
            "    \"f1\": 0.676475097655368\n",
            "  },\n",
            "  \"support-vector-machine\": {\n",
            "    \"precision\": 0.897347023049296,\n",
            "    \"recall\": 0.5021459227467812,\n",
            "    \"f1\": 0.6277359052198805\n",
            "  }\n",
            "}\n"
          ]
        }
      ],
      "metadata": {
        "id": "3YN1FqKrNkSZ",
        "colab": {
          "base_uri": "https://localhost:8080/"
        },
        "outputId": "22c974e9-810f-468f-e889-9d12c1bbadc8"
      }
    },
    {
      "cell_type": "markdown",
      "source": [
        "<u><i>limitations</i></u>:\n",
        "- *representation*: TF-IDF representations don't encapsulate much signal beyond frequency but we require more fine-grained token representations.\n",
        "- *architecture*: we want to develop models that can use better represented encodings in a more contextual manner."
      ],
      "metadata": {
        "id": "gyv7n9ZKpXRu"
      }
    },
    {
      "cell_type": "markdown",
      "source": [
        "## CNN w/ Embeddings"
      ],
      "metadata": {
        "id": "DW_93sOnNkSZ"
      }
    },
    {
      "cell_type": "markdown",
      "source": [
        "<u><i>motivation</i></u>:\n",
        "- *representation*: we want to have more robust (split tokens to characters) and meaningful ([embeddings](https://madewithml.com/courses/basics/embeddings/) representations for our input tokens.\n",
        "- *architecture*: we want to process our encoded inputs using [convolution (CNN)](https://madewithml.com/courses/basics/convolutional-neural-networks/) filters that can learn to analyze windows of embedded tokens to extract meaningful signal (n-gram feature extractors)."
      ],
      "metadata": {
        "id": "8jERhoo07l0b"
      }
    },
    {
      "cell_type": "markdown",
      "source": [
        "### Set up"
      ],
      "metadata": {
        "id": "0XD7VH1MNkSZ"
      }
    },
    {
      "cell_type": "code",
      "execution_count": null,
      "source": [
        "import math\n",
        "import torch\n",
        "import torch.nn as nn\n",
        "import torch.nn.functional as F"
      ],
      "outputs": [],
      "metadata": {
        "id": "-8X3qlEbNkSZ"
      }
    },
    {
      "cell_type": "code",
      "execution_count": null,
      "source": [
        "# Set seeds\n",
        "set_seeds()"
      ],
      "outputs": [],
      "metadata": {
        "id": "tLn8Z4AINkSZ"
      }
    },
    {
      "cell_type": "code",
      "execution_count": null,
      "source": [
        "# Get data splits\n",
        "preprocessed_df = df.copy()\n",
        "preprocessed_df.text = preprocessed_df.text.apply(preprocess, lower=True)\n",
        "X_train, X_val, X_test, y_train, y_val, y_test, label_encoder = get_data_splits(preprocessed_df)\n",
        "X_test_raw = X_test  # use for later"
      ],
      "outputs": [],
      "metadata": {
        "id": "DbSoGGmPNkSZ"
      }
    },
    {
      "cell_type": "code",
      "execution_count": null,
      "source": [
        "# Split DataFrames\n",
        "train_df = pd.DataFrame({\"text\": X_train, \"tags\": label_encoder.decode(y_train)})\n",
        "val_df = pd.DataFrame({\"text\": X_val, \"tags\": label_encoder.decode(y_val)})\n",
        "test_df = pd.DataFrame({\"text\": X_test, \"tags\": label_encoder.decode(y_test)})"
      ],
      "outputs": [],
      "metadata": {
        "id": "OREUyt-kvMWR"
      }
    },
    {
      "cell_type": "code",
      "execution_count": null,
      "source": [
        "# Set device\n",
        "cuda = True\n",
        "device = torch.device(\"cuda\" if (\n",
        "    torch.cuda.is_available() and cuda) else \"cpu\")\n",
        "torch.set_default_tensor_type(\"torch.FloatTensor\")\n",
        "if device.type == \"cuda\":\n",
        "    torch.set_default_tensor_type(\"torch.cuda.FloatTensor\")\n",
        "print (device)"
      ],
      "outputs": [
        {
          "output_type": "stream",
          "name": "stdout",
          "text": [
            "cuda\n"
          ]
        }
      ],
      "metadata": {
        "id": "oT0xmkCfNuy5",
        "colab": {
          "base_uri": "https://localhost:8080/"
        },
        "outputId": "207c0105-a8bc-4878-d4a0-2763859fd6a7"
      }
    },
    {
      "cell_type": "markdown",
      "source": [
        "### Tokenizer"
      ],
      "metadata": {
        "id": "Q6r8kfAkNkSZ"
      }
    },
    {
      "cell_type": "markdown",
      "source": [
        "We're going to tokenize our input text as character tokens so we can be robust to spelling errors and learn to generalize across tags. (ex. learning that RoBERTa, or any other future BERT based archiecture, warrants same tag as BERT)."
      ],
      "metadata": {
        "id": "Rg0IROLfJY_3"
      }
    },
    {
      "cell_type": "markdown",
      "source": [
        "<img width=\"500px\" src=\"https://raw.githubusercontent.com/GokuMohandas/MadeWithML/main/images/foundations/cnn/inputs.png\">"
      ],
      "metadata": {
        "id": "krnCpNE6qJvq"
      }
    },
    {
      "cell_type": "code",
      "execution_count": null,
      "source": [
        "class Tokenizer(object):\n",
        "    def __init__(self, char_level, num_tokens=None, \n",
        "                 pad_token=\"<PAD>\", oov_token=\"<UNK>\",\n",
        "                 token_to_index=None):\n",
        "        self.char_level = char_level\n",
        "        self.separator = '' if self.char_level else ' '\n",
        "        if num_tokens: num_tokens -= 2 # pad + unk tokens\n",
        "        self.num_tokens = num_tokens\n",
        "        self.pad_token = pad_token\n",
        "        self.oov_token = oov_token\n",
        "        if not token_to_index:\n",
        "            token_to_index = {pad_token: 0, oov_token: 1}\n",
        "        self.token_to_index = token_to_index\n",
        "        self.index_to_token = {v: k for k, v in self.token_to_index.items()}\n",
        "\n",
        "    def __len__(self):\n",
        "        return len(self.token_to_index)\n",
        "\n",
        "    def __str__(self):\n",
        "        return f\"<Tokenizer(num_tokens={len(self)})>\"\n",
        "\n",
        "    def fit_on_texts(self, texts):\n",
        "        if not self.char_level:\n",
        "            texts = [text.split(\" \") for text in texts]\n",
        "        all_tokens = [token for text in texts for token in text]\n",
        "        counts = Counter(all_tokens).most_common(self.num_tokens)\n",
        "        self.min_token_freq = counts[-1][1]\n",
        "        for token, count in counts:\n",
        "            index = len(self)\n",
        "            self.token_to_index[token] = index\n",
        "            self.index_to_token[index] = token\n",
        "        return self\n",
        "\n",
        "    def texts_to_sequences(self, texts):\n",
        "        sequences = []\n",
        "        for text in texts:\n",
        "            if not self.char_level:\n",
        "                text = text.split(' ')\n",
        "            sequence = []\n",
        "            for token in text:\n",
        "                sequence.append(self.token_to_index.get(\n",
        "                    token, self.token_to_index[self.oov_token]))\n",
        "            sequences.append(np.asarray(sequence))\n",
        "        return sequences\n",
        "\n",
        "    def sequences_to_texts(self, sequences):\n",
        "        texts = []\n",
        "        for sequence in sequences:\n",
        "            text = []\n",
        "            for index in sequence:\n",
        "                text.append(self.index_to_token.get(index, self.oov_token))\n",
        "            texts.append(self.separator.join([token for token in text]))\n",
        "        return texts\n",
        "\n",
        "    def save(self, fp):\n",
        "        with open(fp, \"w\") as fp:\n",
        "            contents = {\n",
        "                \"char_level\": self.char_level,\n",
        "                \"oov_token\": self.oov_token,\n",
        "                \"token_to_index\": self.token_to_index\n",
        "            }\n",
        "            json.dump(contents, fp, indent=4, sort_keys=False)\n",
        "\n",
        "    @classmethod\n",
        "    def load(cls, fp):\n",
        "        with open(fp, \"r\") as fp:\n",
        "            kwargs = json.load(fp=fp)\n",
        "        return cls(**kwargs)"
      ],
      "outputs": [],
      "metadata": {
        "id": "huCZn1stNkSZ"
      }
    },
    {
      "cell_type": "code",
      "execution_count": null,
      "source": [
        "# Tokenize\n",
        "char_level = True\n",
        "tokenizer = Tokenizer(char_level=char_level)\n",
        "tokenizer.fit_on_texts(texts=X_train)\n",
        "vocab_size = len(tokenizer)\n",
        "print (tokenizer)"
      ],
      "outputs": [
        {
          "output_type": "stream",
          "name": "stdout",
          "text": [
            "<Tokenizer(num_tokens=39)>\n"
          ]
        }
      ],
      "metadata": {
        "id": "ibPSo_PBNkSa",
        "colab": {
          "base_uri": "https://localhost:8080/"
        },
        "outputId": "8d1f6216-f262-44d8-9fe2-df99cad3045a"
      }
    },
    {
      "cell_type": "code",
      "execution_count": null,
      "source": [
        "tokenizer.token_to_index"
      ],
      "outputs": [
        {
          "output_type": "execute_result",
          "data": {
            "text/plain": [
              "{' ': 2,\n",
              " '0': 29,\n",
              " '1': 31,\n",
              " '2': 26,\n",
              " '3': 32,\n",
              " '4': 37,\n",
              " '5': 33,\n",
              " '6': 36,\n",
              " '7': 38,\n",
              " '8': 35,\n",
              " '9': 34,\n",
              " '<PAD>': 0,\n",
              " '<UNK>': 1,\n",
              " 'a': 7,\n",
              " 'b': 20,\n",
              " 'c': 12,\n",
              " 'd': 14,\n",
              " 'e': 3,\n",
              " 'f': 19,\n",
              " 'g': 15,\n",
              " 'h': 18,\n",
              " 'i': 4,\n",
              " 'j': 28,\n",
              " 'k': 24,\n",
              " 'l': 11,\n",
              " 'm': 16,\n",
              " 'n': 5,\n",
              " 'o': 10,\n",
              " 'p': 13,\n",
              " 'q': 30,\n",
              " 'r': 8,\n",
              " 's': 9,\n",
              " 't': 6,\n",
              " 'u': 17,\n",
              " 'v': 22,\n",
              " 'w': 23,\n",
              " 'x': 25,\n",
              " 'y': 21,\n",
              " 'z': 27}"
            ]
          },
          "metadata": {},
          "execution_count": 124
        }
      ],
      "metadata": {
        "id": "84JQQqJrNkSa",
        "colab": {
          "base_uri": "https://localhost:8080/"
        },
        "outputId": "eb4e0a9a-77ae-419b-900b-38bb40bc2fbb"
      }
    },
    {
      "cell_type": "code",
      "execution_count": null,
      "source": [
        "# Convert texts to sequences of indices\n",
        "X_train = np.array(tokenizer.texts_to_sequences(X_train))\n",
        "X_val = np.array(tokenizer.texts_to_sequences(X_val))\n",
        "X_test = np.array(tokenizer.texts_to_sequences(X_test))\n",
        "preprocessed_text = tokenizer.sequences_to_texts([X_train[0]])[0]\n",
        "print (\"Text to indices:\\n\"\n",
        "    f\"  (preprocessed) → {preprocessed_text}\\n\"\n",
        "    f\"  (tokenized) → {X_train[0]}\")"
      ],
      "outputs": [
        {
          "output_type": "stream",
          "name": "stdout",
          "text": [
            "Text to indices:\n",
            "  (preprocessed) → hugging face achieved 2x performance boost qa question answering distilbert node js\n",
            "  (tokenized) → [18 17 15 15  4  5 15  2 19  7 12  3  2  7 12 18  4  3 22  3 14  2 26 25\n",
            "  2 13  3  8 19 10  8 16  7  5 12  3  2 20 10 10  9  6  2 30  7  2 30 17\n",
            "  3  9  6  4 10  5  2  7  5  9 23  3  8  4  5 15  2 14  4  9  6  4 11 20\n",
            "  3  8  6  2  5 10 14  3  2 28  9]\n"
          ]
        }
      ],
      "metadata": {
        "id": "tqFL_J_UNkSa",
        "colab": {
          "base_uri": "https://localhost:8080/"
        },
        "outputId": "0f527a21-2b64-44eb-fbd9-bad2773d5ee3"
      }
    },
    {
      "cell_type": "markdown",
      "source": [
        "### Data imbalance"
      ],
      "metadata": {
        "id": "bUrzrb06NkSa"
      }
    },
    {
      "cell_type": "markdown",
      "source": [
        "We'll factor class weights in our objective function ([binary cross entropy with logits](https://pytorch.org/docs/stable/generated/torch.nn.BCEWithLogitsLoss.html)) to help with class imbalance. There are many other techniques such as over sampling from underrepresented classes, undersampling, etc. but we'll cover these in a separate unit lesson on data imbalance."
      ],
      "metadata": {
        "id": "WUiU_-XVNkSa"
      }
    },
    {
      "cell_type": "code",
      "execution_count": null,
      "source": [
        "# Class weights\n",
        "train_tags = list(itertools.chain.from_iterable(train_df.tags.values))\n",
        "counts = np.bincount([label_encoder.class_to_index[class_] for class_ in train_tags])\n",
        "class_weights = {i: 1.0/count for i, count in enumerate(counts)}\n",
        "print (f\"class counts: {counts},\\nclass weights: {class_weights}\")"
      ],
      "outputs": [
        {
          "output_type": "stream",
          "name": "stdout",
          "text": [
            "class counts: [ 78  29 272  74  29  52  24  51  36  55  44  38  38  60  35 297  27  55\n",
            "  21  36 181  24  34  41  40  42  37  28 149  26  24  32 135  27],\n",
            "class weights: {0: 0.01282051282051282, 1: 0.034482758620689655, 2: 0.003676470588235294, 3: 0.013513513513513514, 4: 0.034482758620689655, 5: 0.019230769230769232, 6: 0.041666666666666664, 7: 0.0196078431372549, 8: 0.027777777777777776, 9: 0.01818181818181818, 10: 0.022727272727272728, 11: 0.02631578947368421, 12: 0.02631578947368421, 13: 0.016666666666666666, 14: 0.02857142857142857, 15: 0.003367003367003367, 16: 0.037037037037037035, 17: 0.01818181818181818, 18: 0.047619047619047616, 19: 0.027777777777777776, 20: 0.0055248618784530384, 21: 0.041666666666666664, 22: 0.029411764705882353, 23: 0.024390243902439025, 24: 0.025, 25: 0.023809523809523808, 26: 0.02702702702702703, 27: 0.03571428571428571, 28: 0.006711409395973154, 29: 0.038461538461538464, 30: 0.041666666666666664, 31: 0.03125, 32: 0.007407407407407408, 33: 0.037037037037037035}\n"
          ]
        }
      ],
      "metadata": {
        "id": "ETiBnH_JNkSa",
        "colab": {
          "base_uri": "https://localhost:8080/"
        },
        "outputId": "b00f3c36-628e-46fc-bd79-b701597f08d7"
      }
    },
    {
      "cell_type": "markdown",
      "source": [
        "### Datasets"
      ],
      "metadata": {
        "id": "UscX0dcrNkSa"
      }
    },
    {
      "cell_type": "markdown",
      "source": [
        "We're going to place our data into a [`Dataset`](https://pytorch.org/docs/stable/data.html#torch.utils.data.Dataset) and use a [`DataLoader`](https://pytorch.org/docs/stable/data.html#torch.utils.data.DataLoader) to efficiently create batches for training and evaluation."
      ],
      "metadata": {
        "id": "g02qQyaoJ9YT"
      }
    },
    {
      "cell_type": "code",
      "execution_count": null,
      "source": [
        "def pad_sequences(sequences, max_seq_len=0):\n",
        "    \"\"\"Pad sequences to max length in sequence.\"\"\"\n",
        "    max_seq_len = max(max_seq_len, max(len(sequence) for sequence in sequences))\n",
        "    padded_sequences = np.zeros((len(sequences), max_seq_len))\n",
        "    for i, sequence in enumerate(sequences):\n",
        "        padded_sequences[i][:len(sequence)] = sequence\n",
        "    return padded_sequences"
      ],
      "outputs": [],
      "metadata": {
        "id": "BhSPgWsvNkSa"
      }
    },
    {
      "cell_type": "code",
      "execution_count": null,
      "source": [
        "class CNNTextDataset(torch.utils.data.Dataset):\n",
        "    def __init__(self, X, y, max_filter_size):\n",
        "        self.X = X\n",
        "        self.y = y\n",
        "        self.max_filter_size = max_filter_size\n",
        "\n",
        "    def __len__(self):\n",
        "        return len(self.y)\n",
        "\n",
        "    def __str__(self):\n",
        "        return f\"<Dataset(N={len(self)})>\"\n",
        "\n",
        "    def __getitem__(self, index):\n",
        "        X = self.X[index]\n",
        "        y = self.y[index]\n",
        "        return [X, y]\n",
        "\n",
        "    def collate_fn(self, batch):\n",
        "        \"\"\"Processing on a batch.\"\"\"\n",
        "        # Get inputs\n",
        "        batch = np.array(batch, dtype=object)\n",
        "        X = batch[:, 0]\n",
        "        y = np.stack(batch[:, 1], axis=0)\n",
        "\n",
        "        # Pad inputs\n",
        "        X = pad_sequences(sequences=X, max_seq_len=self.max_filter_size)\n",
        "\n",
        "        # Cast\n",
        "        X = torch.LongTensor(X.astype(np.int32))\n",
        "        y = torch.FloatTensor(y.astype(np.int32))\n",
        "\n",
        "        return X, y\n",
        "\n",
        "    def create_dataloader(self, batch_size, shuffle=False, drop_last=False):\n",
        "        return torch.utils.data.DataLoader(\n",
        "            dataset=self,\n",
        "            batch_size=batch_size,\n",
        "            collate_fn=self.collate_fn,\n",
        "            shuffle=shuffle,\n",
        "            drop_last=drop_last,\n",
        "            pin_memory=True)"
      ],
      "outputs": [],
      "metadata": {
        "id": "yGoNL0oaNkSa"
      }
    },
    {
      "cell_type": "code",
      "execution_count": null,
      "source": [
        "# Create datasets\n",
        "filter_sizes = list(range(1, 11))\n",
        "train_dataset = CNNTextDataset(\n",
        "    X=X_train, y=y_train, max_filter_size=max(filter_sizes))\n",
        "val_dataset = CNNTextDataset(\n",
        "    X=X_val, y=y_val, max_filter_size=max(filter_sizes))\n",
        "test_dataset = CNNTextDataset(\n",
        "    X=X_test, y=y_test, max_filter_size=max(filter_sizes))\n",
        "print (\"Data splits:\\n\"\n",
        "    f\"  Train dataset:{train_dataset.__str__()}\\n\"\n",
        "    f\"  Val dataset: {val_dataset.__str__()}\\n\"\n",
        "    f\"  Test dataset: {test_dataset.__str__()}\\n\"\n",
        "    \"Sample point:\\n\"\n",
        "    f\"  X: {train_dataset[0][0]}\\n\"\n",
        "    f\"  y: {train_dataset[0][1]}\")"
      ],
      "outputs": [
        {
          "output_type": "stream",
          "name": "stdout",
          "text": [
            "Data splits:\n",
            "  Train dataset:<Dataset(N=1005)>\n",
            "  Val dataset: <Dataset(N=216)>\n",
            "  Test dataset: <Dataset(N=218)>\n",
            "Sample point:\n",
            "  X: [18 17 15 15  4  5 15  2 19  7 12  3  2  7 12 18  4  3 22  3 14  2 26 25\n",
            "  2 13  3  8 19 10  8 16  7  5 12  3  2 20 10 10  9  6  2 30  7  2 30 17\n",
            "  3  9  6  4 10  5  2  7  5  9 23  3  8  4  5 15  2 14  4  9  6  4 11 20\n",
            "  3  8  6  2  5 10 14  3  2 28  9]\n",
            "  y: [1 0 0 0 0 0 0 0 0 0 1 0 0 0 0 1 0 0 0 0 0 1 0 0 0 0 0 0 0 0 0 0 1 0]\n"
          ]
        }
      ],
      "metadata": {
        "id": "AcsLQ-xcNkSa",
        "colab": {
          "base_uri": "https://localhost:8080/"
        },
        "outputId": "4fd47d5f-1bcb-489f-89d5-78436ccd98f1"
      }
    },
    {
      "cell_type": "code",
      "execution_count": null,
      "source": [
        "# Create dataloaders\n",
        "batch_size = 128\n",
        "train_dataloader = train_dataset.create_dataloader(\n",
        "    batch_size=batch_size)\n",
        "val_dataloader = val_dataset.create_dataloader(\n",
        "    batch_size=batch_size)\n",
        "test_dataloader = test_dataset.create_dataloader(\n",
        "    batch_size=batch_size)\n",
        "batch_X, batch_y = next(iter(train_dataloader))\n",
        "print (\"Sample batch:\\n\"\n",
        "    f\"  X: {list(batch_X.size())}\\n\"\n",
        "    f\"  y: {list(batch_y.size())}\")"
      ],
      "outputs": [
        {
          "output_type": "stream",
          "name": "stdout",
          "text": [
            "Sample batch:\n",
            "  X: [128, 180]\n",
            "  y: [128, 34]\n"
          ]
        }
      ],
      "metadata": {
        "id": "CUkm-47FNkSa",
        "colab": {
          "base_uri": "https://localhost:8080/"
        },
        "outputId": "dc384dcc-9072-46a8-bc6b-ddad85b9717b"
      }
    },
    {
      "cell_type": "markdown",
      "source": [
        "### Model"
      ],
      "metadata": {
        "id": "O8UyFr9xNkSa"
      }
    },
    {
      "cell_type": "markdown",
      "source": [
        "We'll be using a convolutional neural network on top of our embedded tokens to extract meaningful spatial signal. This time, we'll be using many filter widths to act as n-gram feature extractors. If you're not familiar with CNNs be sure to check out the [CNN lesson](https://madewithml.com/courses/basics/convolutional-neural-networks/) where we walkthrough every component of the architecture."
      ],
      "metadata": {
        "id": "9HSHRnFmKg5g"
      }
    },
    {
      "cell_type": "markdown",
      "source": [
        "<img width=\"500px\" src=\"https://raw.githubusercontent.com/GokuMohandas/MadeWithML/main/images/foundations/cnn/convolution.gif\">"
      ],
      "metadata": {
        "id": "HJdHiBArqaaH"
      }
    },
    {
      "cell_type": "markdown",
      "source": [
        "Let's visualize the model's forward pass.\n",
        "\n",
        "1. We'll first tokenize our inputs (`batch_size`, `max_seq_len`).\n",
        "2. Then we'll embed our tokenized inputs (`batch_size`, `max_seq_len`, `embedding_dim`).\n",
        "3. We'll apply convolution via filters (`filter_size`, `vocab_size`, `num_filters`) followed by batch normalization. Our filters act as character level n-gram detecors. We have three different filter sizes (2, 3 and 4) and they will act as bi-gram, tri-gram and 4-gram feature extractors, respectivelyy. \n",
        "4. We'll apply 1D global max pooling which will extract the most relevant information from the feature maps for making the decision.\n",
        "5. We feed the pool outputs to a fully-connected (FC) layer (with dropout).\n",
        "6. We use one more FC layer with softmax to derive class probabilities. "
      ],
      "metadata": {
        "id": "fs2AeywNL3yt"
      }
    },
    {
      "cell_type": "markdown",
      "source": [
        "<img width=\"5000px\" src=\"https://raw.githubusercontent.com/GokuMohandas/MadeWithML/main/images/foundations/cnn/model.png\">"
      ],
      "metadata": {
        "id": "xHRtownxL6X1"
      }
    },
    {
      "cell_type": "code",
      "execution_count": null,
      "source": [
        "# Arguments\n",
        "embedding_dim = 128\n",
        "num_filters = 128\n",
        "hidden_dim = 128\n",
        "dropout_p = 0.5"
      ],
      "outputs": [],
      "metadata": {
        "id": "ZhteynQANkSa"
      }
    },
    {
      "cell_type": "code",
      "execution_count": null,
      "source": [
        "class CNN(nn.Module):\n",
        "    def __init__(self, embedding_dim, vocab_size, num_filters, filter_sizes,\n",
        "                 hidden_dim, dropout_p, num_classes, padding_idx=0):\n",
        "        super(CNN, self).__init__()\n",
        "\n",
        "        # Initialize embeddings\n",
        "        self.embeddings = nn.Embedding(\n",
        "                embedding_dim=embedding_dim, num_embeddings=vocab_size,\n",
        "                padding_idx=padding_idx)\n",
        "\n",
        "        # Conv weights\n",
        "        self.filter_sizes = filter_sizes\n",
        "        self.conv = nn.ModuleList(\n",
        "            [nn.Conv1d(in_channels=embedding_dim,\n",
        "                       out_channels=num_filters,\n",
        "                       kernel_size=f) for f in filter_sizes])\n",
        "\n",
        "        # FC weights\n",
        "        self.dropout = nn.Dropout(dropout_p)\n",
        "        self.fc1 = nn.Linear(num_filters*len(filter_sizes), hidden_dim)\n",
        "        self.fc2 = nn.Linear(hidden_dim, num_classes)\n",
        "\n",
        "    def forward(self, inputs, channel_first=False):\n",
        "\n",
        "        # Embed\n",
        "        x_in, = inputs\n",
        "        x_in = self.embeddings(x_in)\n",
        "        if not channel_first:\n",
        "            x_in = x_in.transpose(1, 2)  # (N, channels, sequence length)\n",
        "\n",
        "        z = []\n",
        "        max_seq_len = x_in.shape[2]\n",
        "        for i, f in enumerate(self.filter_sizes):\n",
        "\n",
        "            # `SAME` padding\n",
        "            padding_left = int(\n",
        "                (self.conv[i].stride[0]*(max_seq_len-1) - max_seq_len + self.filter_sizes[i])/2)\n",
        "            padding_right = int(math.ceil(\n",
        "                (self.conv[i].stride[0]*(max_seq_len-1) - max_seq_len + self.filter_sizes[i])/2))\n",
        "\n",
        "            # Conv\n",
        "            _z = self.conv[i](F.pad(x_in, (padding_left, padding_right)))\n",
        "\n",
        "            # Pool\n",
        "            _z = F.max_pool1d(_z, _z.size(2)).squeeze(2)\n",
        "            z.append(_z)\n",
        "\n",
        "        # Concat outputs\n",
        "        z = torch.cat(z, 1)\n",
        "\n",
        "        # FC\n",
        "        z = self.fc1(z)\n",
        "        z = self.dropout(z)\n",
        "        z = self.fc2(z)\n",
        "\n",
        "        return z"
      ],
      "outputs": [],
      "metadata": {
        "id": "UWe7ktNMNkSa"
      }
    },
    {
      "cell_type": "markdown",
      "source": [
        "Padding types:\n",
        "* **VALID**: no padding, the filters only use the \"valid\" values in the input. If the filter cannot reach all the input values (filters go left to right), the extra values on the right are dropped.\n",
        "* **SAME**: adds padding evenly to the right (preferred) and left sides of the input so that all values in the input are processed.\n",
        "\n",
        "<div align=\"left\">\n",
        "<img src=\"https://raw.githubusercontent.com/GokuMohandas/MadeWithML/main/images/foundations/cnn/padding.png\" width=\"500\">\n",
        "</div>"
      ],
      "metadata": {
        "id": "ugjRPCGClmCc"
      }
    },
    {
      "cell_type": "markdown",
      "source": [
        "We're add padding so that the convolutional outputs are the same shape as our inputs. The amount of padding for the `SAME` padding can be determined using the same equation. We want out output to have the same width as our input, so we solve for P:\n",
        "\n",
        "$ \\frac{W-F+2P}{S} + 1 = W $\n",
        "\n",
        "$ P = \\frac{S(W-1) - W + F}{2} $\n",
        "\n",
        "If $P$ is not a whole number, we round up (using `math.ceil`) and place the extra padding on the right side."
      ],
      "metadata": {
        "id": "oXZ6ZD6AKbfr"
      }
    },
    {
      "cell_type": "code",
      "execution_count": null,
      "source": [
        "# Initialize model\n",
        "model = CNN(\n",
        "    embedding_dim=embedding_dim, vocab_size=vocab_size,\n",
        "    num_filters=num_filters, filter_sizes=filter_sizes,\n",
        "    hidden_dim=hidden_dim, dropout_p=dropout_p,\n",
        "    num_classes=num_classes)\n",
        "model = model.to(device)\n",
        "print (model.named_parameters)"
      ],
      "outputs": [
        {
          "output_type": "stream",
          "name": "stdout",
          "text": [
            "<bound method Module.named_parameters of CNN(\n",
            "  (embeddings): Embedding(39, 128, padding_idx=0)\n",
            "  (conv): ModuleList(\n",
            "    (0): Conv1d(128, 128, kernel_size=(1,), stride=(1,))\n",
            "    (1): Conv1d(128, 128, kernel_size=(2,), stride=(1,))\n",
            "    (2): Conv1d(128, 128, kernel_size=(3,), stride=(1,))\n",
            "    (3): Conv1d(128, 128, kernel_size=(4,), stride=(1,))\n",
            "    (4): Conv1d(128, 128, kernel_size=(5,), stride=(1,))\n",
            "    (5): Conv1d(128, 128, kernel_size=(6,), stride=(1,))\n",
            "    (6): Conv1d(128, 128, kernel_size=(7,), stride=(1,))\n",
            "    (7): Conv1d(128, 128, kernel_size=(8,), stride=(1,))\n",
            "    (8): Conv1d(128, 128, kernel_size=(9,), stride=(1,))\n",
            "    (9): Conv1d(128, 128, kernel_size=(10,), stride=(1,))\n",
            "  )\n",
            "  (dropout): Dropout(p=0.5, inplace=False)\n",
            "  (fc1): Linear(in_features=1280, out_features=128, bias=True)\n",
            "  (fc2): Linear(in_features=128, out_features=34, bias=True)\n",
            ")>\n"
          ]
        }
      ],
      "metadata": {
        "id": "suLpR5raNkSa",
        "colab": {
          "base_uri": "https://localhost:8080/"
        },
        "outputId": "d1c690e6-c0a5-4312-e148-04a2e49ffc30"
      }
    },
    {
      "cell_type": "markdown",
      "source": [
        "### Training"
      ],
      "metadata": {
        "id": "AfcCItXQNkSa"
      }
    },
    {
      "cell_type": "code",
      "execution_count": null,
      "source": [
        "# Arguments\n",
        "lr = 2e-4\n",
        "num_epochs = 100\n",
        "patience = 10"
      ],
      "outputs": [],
      "metadata": {
        "id": "6XYetoGvNkSa"
      }
    },
    {
      "cell_type": "code",
      "execution_count": null,
      "source": [
        "# Define loss\n",
        "class_weights_tensor = torch.Tensor(np.array(list(class_weights.values())))\n",
        "loss_fn = nn.BCEWithLogitsLoss(weight=class_weights_tensor)"
      ],
      "outputs": [],
      "metadata": {
        "id": "gmPoArUeNkSa"
      }
    },
    {
      "cell_type": "code",
      "execution_count": null,
      "source": [
        "# Define optimizer & scheduler\n",
        "optimizer = torch.optim.Adam(model.parameters(), lr=lr)\n",
        "scheduler = torch.optim.lr_scheduler.ReduceLROnPlateau(\n",
        "    optimizer, mode=\"min\", factor=0.1, patience=5)"
      ],
      "outputs": [],
      "metadata": {
        "id": "YfP6jpAsNkSa"
      }
    },
    {
      "cell_type": "code",
      "execution_count": null,
      "source": [
        "# Trainer module\n",
        "trainer = Trainer(\n",
        "    model=model, device=device, loss_fn=loss_fn, \n",
        "    optimizer=optimizer, scheduler=scheduler)"
      ],
      "outputs": [],
      "metadata": {
        "id": "36OkuM21NkSa"
      }
    },
    {
      "cell_type": "code",
      "execution_count": null,
      "source": [
        "# Train\n",
        "best_model = trainer.train(\n",
        "    num_epochs, patience, train_dataloader, val_dataloader)"
      ],
      "outputs": [
        {
          "output_type": "stream",
          "name": "stdout",
          "text": [
            "Epoch: 1 | train_loss: 0.01114, val_loss: 0.00490, lr: 2.00E-04, _patience: 10\n",
            "Epoch: 2 | train_loss: 0.00624, val_loss: 0.00410, lr: 2.00E-04, _patience: 10\n",
            "Epoch: 3 | train_loss: 0.00576, val_loss: 0.00422, lr: 2.00E-04, _patience: 9\n",
            "Epoch: 4 | train_loss: 0.00552, val_loss: 0.00407, lr: 2.00E-04, _patience: 10\n",
            "Epoch: 5 | train_loss: 0.00508, val_loss: 0.00389, lr: 2.00E-04, _patience: 10\n",
            "Epoch: 6 | train_loss: 0.00480, val_loss: 0.00381, lr: 2.00E-04, _patience: 10\n",
            "Epoch: 7 | train_loss: 0.00462, val_loss: 0.00377, lr: 2.00E-04, _patience: 10\n",
            "Epoch: 8 | train_loss: 0.00452, val_loss: 0.00374, lr: 2.00E-04, _patience: 10\n",
            "Epoch: 9 | train_loss: 0.00437, val_loss: 0.00370, lr: 2.00E-04, _patience: 10\n",
            "Epoch: 10 | train_loss: 0.00429, val_loss: 0.00365, lr: 2.00E-04, _patience: 10\n",
            "Epoch: 11 | train_loss: 0.00416, val_loss: 0.00360, lr: 2.00E-04, _patience: 10\n",
            "Epoch: 12 | train_loss: 0.00405, val_loss: 0.00355, lr: 2.00E-04, _patience: 10\n",
            "Epoch: 13 | train_loss: 0.00391, val_loss: 0.00351, lr: 2.00E-04, _patience: 10\n",
            "Epoch: 14 | train_loss: 0.00383, val_loss: 0.00345, lr: 2.00E-04, _patience: 10\n",
            "Epoch: 15 | train_loss: 0.00380, val_loss: 0.00339, lr: 2.00E-04, _patience: 10\n",
            "Epoch: 16 | train_loss: 0.00368, val_loss: 0.00333, lr: 2.00E-04, _patience: 10\n",
            "Epoch: 17 | train_loss: 0.00354, val_loss: 0.00327, lr: 2.00E-04, _patience: 10\n",
            "Epoch: 18 | train_loss: 0.00350, val_loss: 0.00321, lr: 2.00E-04, _patience: 10\n",
            "Epoch: 19 | train_loss: 0.00337, val_loss: 0.00314, lr: 2.00E-04, _patience: 10\n",
            "Epoch: 20 | train_loss: 0.00331, val_loss: 0.00308, lr: 2.00E-04, _patience: 10\n",
            "Epoch: 21 | train_loss: 0.00317, val_loss: 0.00302, lr: 2.00E-04, _patience: 10\n",
            "Epoch: 22 | train_loss: 0.00303, val_loss: 0.00298, lr: 2.00E-04, _patience: 10\n",
            "Epoch: 23 | train_loss: 0.00303, val_loss: 0.00289, lr: 2.00E-04, _patience: 10\n",
            "Epoch: 24 | train_loss: 0.00292, val_loss: 0.00284, lr: 2.00E-04, _patience: 10\n",
            "Epoch: 25 | train_loss: 0.00279, val_loss: 0.00279, lr: 2.00E-04, _patience: 10\n",
            "Epoch: 26 | train_loss: 0.00271, val_loss: 0.00275, lr: 2.00E-04, _patience: 10\n",
            "Epoch: 27 | train_loss: 0.00265, val_loss: 0.00269, lr: 2.00E-04, _patience: 10\n",
            "Epoch: 28 | train_loss: 0.00258, val_loss: 0.00264, lr: 2.00E-04, _patience: 10\n",
            "Epoch: 29 | train_loss: 0.00253, val_loss: 0.00260, lr: 2.00E-04, _patience: 10\n",
            "Epoch: 30 | train_loss: 0.00250, val_loss: 0.00258, lr: 2.00E-04, _patience: 10\n",
            "Epoch: 31 | train_loss: 0.00235, val_loss: 0.00254, lr: 2.00E-04, _patience: 10\n",
            "Epoch: 32 | train_loss: 0.00231, val_loss: 0.00251, lr: 2.00E-04, _patience: 10\n",
            "Epoch: 33 | train_loss: 0.00227, val_loss: 0.00247, lr: 2.00E-04, _patience: 10\n",
            "Epoch: 34 | train_loss: 0.00220, val_loss: 0.00245, lr: 2.00E-04, _patience: 10\n",
            "Epoch: 35 | train_loss: 0.00215, val_loss: 0.00242, lr: 2.00E-04, _patience: 10\n",
            "Epoch: 36 | train_loss: 0.00207, val_loss: 0.00240, lr: 2.00E-04, _patience: 10\n",
            "Epoch: 37 | train_loss: 0.00201, val_loss: 0.00238, lr: 2.00E-04, _patience: 10\n",
            "Epoch: 38 | train_loss: 0.00200, val_loss: 0.00239, lr: 2.00E-04, _patience: 9\n",
            "Epoch: 39 | train_loss: 0.00195, val_loss: 0.00233, lr: 2.00E-04, _patience: 10\n",
            "Epoch: 40 | train_loss: 0.00189, val_loss: 0.00233, lr: 2.00E-04, _patience: 9\n",
            "Epoch: 41 | train_loss: 0.00180, val_loss: 0.00231, lr: 2.00E-04, _patience: 10\n",
            "Epoch: 42 | train_loss: 0.00181, val_loss: 0.00229, lr: 2.00E-04, _patience: 10\n",
            "Epoch: 43 | train_loss: 0.00172, val_loss: 0.00230, lr: 2.00E-04, _patience: 9\n",
            "Epoch: 44 | train_loss: 0.00169, val_loss: 0.00229, lr: 2.00E-04, _patience: 8\n",
            "Epoch: 45 | train_loss: 0.00168, val_loss: 0.00228, lr: 2.00E-04, _patience: 10\n",
            "Epoch: 46 | train_loss: 0.00163, val_loss: 0.00224, lr: 2.00E-04, _patience: 10\n",
            "Epoch: 47 | train_loss: 0.00158, val_loss: 0.00223, lr: 2.00E-04, _patience: 9\n",
            "Epoch: 48 | train_loss: 0.00155, val_loss: 0.00223, lr: 2.00E-04, _patience: 10\n",
            "Epoch: 49 | train_loss: 0.00148, val_loss: 0.00225, lr: 2.00E-04, _patience: 9\n",
            "Epoch: 50 | train_loss: 0.00145, val_loss: 0.00224, lr: 2.00E-04, _patience: 8\n",
            "Epoch: 51 | train_loss: 0.00147, val_loss: 0.00225, lr: 2.00E-04, _patience: 7\n",
            "Epoch: 52 | train_loss: 0.00141, val_loss: 0.00220, lr: 2.00E-04, _patience: 10\n",
            "Epoch: 53 | train_loss: 0.00136, val_loss: 0.00218, lr: 2.00E-04, _patience: 10\n",
            "Epoch: 54 | train_loss: 0.00132, val_loss: 0.00219, lr: 2.00E-04, _patience: 9\n",
            "Epoch: 55 | train_loss: 0.00131, val_loss: 0.00214, lr: 2.00E-04, _patience: 10\n",
            "Epoch: 56 | train_loss: 0.00126, val_loss: 0.00222, lr: 2.00E-04, _patience: 9\n",
            "Epoch: 57 | train_loss: 0.00122, val_loss: 0.00226, lr: 2.00E-04, _patience: 8\n",
            "Epoch: 58 | train_loss: 0.00123, val_loss: 0.00220, lr: 2.00E-04, _patience: 7\n",
            "Epoch: 59 | train_loss: 0.00119, val_loss: 0.00218, lr: 2.00E-04, _patience: 6\n",
            "Epoch: 60 | train_loss: 0.00117, val_loss: 0.00216, lr: 2.00E-04, _patience: 5\n",
            "Epoch: 61 | train_loss: 0.00111, val_loss: 0.00225, lr: 2.00E-05, _patience: 4\n",
            "Epoch: 62 | train_loss: 0.00111, val_loss: 0.00218, lr: 2.00E-05, _patience: 3\n",
            "Epoch: 63 | train_loss: 0.00110, val_loss: 0.00213, lr: 2.00E-05, _patience: 10\n",
            "Epoch: 64 | train_loss: 0.00110, val_loss: 0.00216, lr: 2.00E-05, _patience: 9\n",
            "Epoch: 65 | train_loss: 0.00108, val_loss: 0.00220, lr: 2.00E-05, _patience: 8\n",
            "Epoch: 66 | train_loss: 0.00106, val_loss: 0.00218, lr: 2.00E-05, _patience: 7\n",
            "Epoch: 67 | train_loss: 0.00109, val_loss: 0.00216, lr: 2.00E-05, _patience: 6\n",
            "Epoch: 68 | train_loss: 0.00109, val_loss: 0.00215, lr: 2.00E-05, _patience: 5\n",
            "Epoch: 69 | train_loss: 0.00104, val_loss: 0.00218, lr: 2.00E-06, _patience: 4\n",
            "Epoch: 70 | train_loss: 0.00106, val_loss: 0.00218, lr: 2.00E-06, _patience: 3\n",
            "Epoch: 71 | train_loss: 0.00104, val_loss: 0.00217, lr: 2.00E-06, _patience: 2\n",
            "Epoch: 72 | train_loss: 0.00106, val_loss: 0.00217, lr: 2.00E-06, _patience: 1\n",
            "Stopping early!\n"
          ]
        }
      ],
      "metadata": {
        "id": "XvmUpxZRNkSa",
        "colab": {
          "base_uri": "https://localhost:8080/"
        },
        "outputId": "cdc00361-67f0-4971-a15a-e304ee292f4a"
      }
    },
    {
      "cell_type": "markdown",
      "source": [
        "### Evaluation"
      ],
      "metadata": {
        "id": "nggIvJFoNkSa"
      }
    },
    {
      "cell_type": "code",
      "execution_count": null,
      "source": [
        "from pathlib import Path\n",
        "from sklearn.metrics import precision_recall_curve"
      ],
      "outputs": [],
      "metadata": {
        "id": "0igBVFnYNkSb"
      }
    },
    {
      "cell_type": "code",
      "execution_count": null,
      "source": [
        "# Threshold-PR curve\n",
        "train_loss, y_true, y_prob = trainer.eval_step(dataloader=train_dataloader)\n",
        "precisions, recalls, thresholds = precision_recall_curve(y_true.ravel(), y_prob.ravel())\n",
        "plt.plot(thresholds, precisions[:-1], \"r--\", label=\"Precision\")\n",
        "plt.plot(thresholds, recalls[:-1], \"b-\", label=\"Recall\")\n",
        "plt.ylabel(\"Performance\")\n",
        "plt.xlabel(\"Threshold\")\n",
        "plt.legend(loc=\"best\")"
      ],
      "outputs": [
        {
          "output_type": "execute_result",
          "data": {
            "text/plain": [
              "<matplotlib.legend.Legend at 0x7f8c9bdd2ed0>"
            ]
          },
          "metadata": {},
          "execution_count": 140
        },
        {
          "output_type": "display_data",
          "data": {
            "image/png": "[encoded data removed]",
            "text/plain": [
              "<Figure size 432x288 with 1 Axes>"
            ]
          },
          "metadata": {}
        }
      ],
      "metadata": {
        "id": "WPA5ojyUNkSb",
        "colab": {
          "base_uri": "https://localhost:8080/",
          "height": 302
        },
        "outputId": "9435a8bb-955c-4ea2-f2d1-be137a741559"
      }
    },
    {
      "cell_type": "code",
      "execution_count": null,
      "source": [
        "# Determining the best threshold\n",
        "def find_best_threshold(y_true, y_prob):\n",
        "    \"\"\"Find the best threshold for maximum F1.\"\"\"\n",
        "    precisions, recalls, thresholds = precision_recall_curve(y_true, y_prob)\n",
        "    f1s = (2 * precisions * recalls) / (precisions + recalls)\n",
        "    return thresholds[np.argmax(f1s)]"
      ],
      "outputs": [],
      "metadata": {
        "id": "7bF16I1WNkSb"
      }
    },
    {
      "cell_type": "markdown",
      "source": [
        "> Even better to determine per-class thresholds but this is fine for now."
      ],
      "metadata": {
        "id": "VlqdPlplaNCG"
      }
    },
    {
      "cell_type": "code",
      "execution_count": null,
      "source": [
        "# Best threshold for f1\n",
        "threshold = find_best_threshold(y_true.ravel(), y_prob.ravel())\n",
        "threshold"
      ],
      "outputs": [
        {
          "output_type": "execute_result",
          "data": {
            "text/plain": [
              "0.26650366"
            ]
          },
          "metadata": {},
          "execution_count": 142
        }
      ],
      "metadata": {
        "id": "Pv9rdHebNkSb",
        "colab": {
          "base_uri": "https://localhost:8080/"
        },
        "outputId": "649acbf3-e316-4346-faaf-e42311f1ab41"
      }
    },
    {
      "cell_type": "code",
      "execution_count": null,
      "source": [
        "# Determine predictions using threshold\n",
        "test_loss, y_true, y_prob = trainer.eval_step(dataloader=test_dataloader)\n",
        "y_pred = np.array([np.where(prob >= threshold, 1, 0) for prob in y_prob])"
      ],
      "outputs": [],
      "metadata": {
        "id": "N0i2EYMYNkSb"
      }
    },
    {
      "cell_type": "code",
      "execution_count": null,
      "source": [
        "# Evaluate\n",
        "metrics = precision_recall_fscore_support(y_test, y_pred, average=\"weighted\")\n",
        "performance = {\"precision\": metrics[0], \"recall\": metrics[1], \"f1\": metrics[2]}\n",
        "print (json.dumps(performance, indent=2))"
      ],
      "outputs": [
        {
          "output_type": "stream",
          "name": "stdout",
          "text": [
            "{\n",
            "  \"precision\": 0.7641311750894989,\n",
            "  \"recall\": 0.5879828326180258,\n",
            "  \"f1\": 0.6474946774381892\n",
            "}\n"
          ]
        }
      ],
      "metadata": {
        "id": "jP9rWb-9NkSb",
        "colab": {
          "base_uri": "https://localhost:8080/"
        },
        "outputId": "a31901eb-1661-4211-8940-97ec897ea01b"
      }
    },
    {
      "cell_type": "code",
      "execution_count": null,
      "source": [
        "# Save artifacts\n",
        "dir = Path(\"cnn\")\n",
        "dir.mkdir(parents=True, exist_ok=True)\n",
        "tokenizer.save(fp=Path(dir, \"tokenzier.json\"))\n",
        "label_encoder.save(fp=Path(dir, \"label_encoder.json\"))\n",
        "torch.save(best_model.state_dict(), Path(dir, \"model.pt\"))\n",
        "with open(Path(dir, \"performance.json\"), \"w\") as fp:\n",
        "    json.dump(performance, indent=2, sort_keys=False, fp=fp)"
      ],
      "outputs": [],
      "metadata": {
        "id": "ewsYvUnxNkSb"
      }
    },
    {
      "cell_type": "markdown",
      "source": [
        "### Inference"
      ],
      "metadata": {
        "id": "C4tJvSbaNkSb"
      }
    },
    {
      "cell_type": "code",
      "execution_count": null,
      "source": [
        "# Load artifacts\n",
        "device = torch.device(\"cpu\")\n",
        "tokenizer = Tokenizer.load(fp=Path(dir, \"tokenzier.json\"))\n",
        "label_encoder = LabelEncoder.load(fp=Path(dir, \"label_encoder.json\"))\n",
        "model = CNN(\n",
        "    embedding_dim=embedding_dim, vocab_size=vocab_size,\n",
        "    num_filters=num_filters, filter_sizes=filter_sizes,\n",
        "    hidden_dim=hidden_dim, dropout_p=dropout_p,\n",
        "    num_classes=num_classes)\n",
        "model.load_state_dict(torch.load(Path(dir, \"model.pt\"), map_location=device))\n",
        "model.to(device)"
      ],
      "outputs": [
        {
          "output_type": "execute_result",
          "data": {
            "text/plain": [
              "CNN(\n",
              "  (embeddings): Embedding(39, 128, padding_idx=0)\n",
              "  (conv): ModuleList(\n",
              "    (0): Conv1d(128, 128, kernel_size=(1,), stride=(1,))\n",
              "    (1): Conv1d(128, 128, kernel_size=(2,), stride=(1,))\n",
              "    (2): Conv1d(128, 128, kernel_size=(3,), stride=(1,))\n",
              "    (3): Conv1d(128, 128, kernel_size=(4,), stride=(1,))\n",
              "    (4): Conv1d(128, 128, kernel_size=(5,), stride=(1,))\n",
              "    (5): Conv1d(128, 128, kernel_size=(6,), stride=(1,))\n",
              "    (6): Conv1d(128, 128, kernel_size=(7,), stride=(1,))\n",
              "    (7): Conv1d(128, 128, kernel_size=(8,), stride=(1,))\n",
              "    (8): Conv1d(128, 128, kernel_size=(9,), stride=(1,))\n",
              "    (9): Conv1d(128, 128, kernel_size=(10,), stride=(1,))\n",
              "  )\n",
              "  (dropout): Dropout(p=0.5, inplace=False)\n",
              "  (fc1): Linear(in_features=1280, out_features=128, bias=True)\n",
              "  (fc2): Linear(in_features=128, out_features=34, bias=True)\n",
              ")"
            ]
          },
          "metadata": {},
          "execution_count": 146
        }
      ],
      "metadata": {
        "id": "GwI4ft7CNkSb",
        "colab": {
          "base_uri": "https://localhost:8080/"
        },
        "outputId": "6e0fd5d0-46a2-4d11-ec5a-38ed4b363f0b"
      }
    },
    {
      "cell_type": "code",
      "execution_count": null,
      "source": [
        "# Initialize trainer\n",
        "trainer = Trainer(model=model, device=device)"
      ],
      "outputs": [],
      "metadata": {
        "id": "sLeXU5LRYaal"
      }
    },
    {
      "cell_type": "code",
      "execution_count": null,
      "source": [
        "# Dataloader\n",
        "text = \"Transfer learning with BERT for self-supervised learning\"\n",
        "X = np.array(tokenizer.texts_to_sequences([preprocess(text)]))\n",
        "y_filler = label_encoder.encode([np.array([label_encoder.classes[0]]*len(X))])\n",
        "dataset = CNNTextDataset(\n",
        "    X=X, y=y_filler, max_filter_size=max(filter_sizes))\n",
        "dataloader = dataset.create_dataloader(\n",
        "    batch_size=batch_size)"
      ],
      "outputs": [],
      "metadata": {
        "id": "b_SGtypzNkSb"
      }
    },
    {
      "cell_type": "code",
      "execution_count": null,
      "source": [
        "# Inference\n",
        "y_prob = trainer.predict_step(dataloader)\n",
        "y_pred = np.array([np.where(prob >= threshold, 1, 0) for prob in y_prob])\n",
        "label_encoder.decode(y_pred)"
      ],
      "outputs": [
        {
          "output_type": "execute_result",
          "data": {
            "text/plain": [
              "[['attention',\n",
              "  'natural-language-processing',\n",
              "  'self-supervised-learning',\n",
              "  'transfer-learning',\n",
              "  'transformers']]"
            ]
          },
          "metadata": {},
          "execution_count": 149
        }
      ],
      "metadata": {
        "id": "YRETV9QyNkSb",
        "colab": {
          "base_uri": "https://localhost:8080/"
        },
        "outputId": "8ec1473a-0659-4399-eaab-ee26b9181b1e"
      }
    },
    {
      "cell_type": "markdown",
      "source": [
        "<u><i>limitations</i></u>:\n",
        "- *representation*: embeddings are not contextual.\n",
        "- *architecture*: extracting signal from encoded inputs is limited by filter widths."
      ],
      "metadata": {
        "id": "oYBoIl1Q8ZGB"
      }
    },
    {
      "cell_type": "markdown",
      "source": [
        "Since we're dealing with simple architectures and fast training times, it's a good opportunity to explore tuning and experiment with k-fold cross validation to properly reach any conclusions about performance."
      ],
      "metadata": {
        "id": "pWYOq-WNGaql"
      }
    },
    {
      "cell_type": "markdown",
      "source": [
        "## Tradeoffs"
      ],
      "metadata": {
        "id": "BBZ35y4tnB1h"
      }
    },
    {
      "cell_type": "markdown",
      "source": [
        "We could experiment with more complex architectures such as [Transformers](https://madewithml.com/cousres/foundations/transformers), but we're going to go with the embeddings via CNN approach and optimize it because it offer decent performance at a reasonable tradeoff values (size, training time, etc.)"
      ],
      "metadata": {
        "id": "6oCp9vPrTUMx"
      }
    },
    {
      "cell_type": "code",
      "execution_count": null,
      "source": [
        "# Performance\n",
        "with open(Path(\"cnn\", \"performance.json\"), \"r\") as fp:\n",
        "    cnn_performance = json.load(fp)\n",
        "print (f'CNN: f1 = {cnn_performance[\"f1\"]}')"
      ],
      "outputs": [
        {
          "output_type": "stream",
          "name": "stdout",
          "text": [
            "CNN: f1 = 0.6474946774381892\n"
          ]
        }
      ],
      "metadata": {
        "id": "dVzPrFK0Y0b-",
        "colab": {
          "base_uri": "https://localhost:8080/"
        },
        "outputId": "e05efce0-9457-442d-e7fb-21ab3750ba1f"
      }
    },
    {
      "cell_type": "markdown",
      "source": [
        "This was just one run on one split so you'll want to experiment with k-fold cross validation to properly reach any conclusions about performance. Also make sure you take the time to tune these baselines since their training periods are quite fast (we can achieve f1 of 0.7 with just a bit of tuning for both CNN / Transformers). We'll cover hyperparameter tuning in a few lessons so you can replicate the process here on your own time. We should also benchmark on other important metrics as we iterate, not just precision and recall."
      ],
      "metadata": {
        "id": "ok2jBSjGsxyL"
      }
    },
    {
      "cell_type": "code",
      "execution_count": null,
      "source": [
        "# Size\n",
        "print (f'CNN: {Path(\"cnn\", \"model.pt\").stat().st_size/1000000:.1f} MB')"
      ],
      "outputs": [
        {
          "output_type": "stream",
          "name": "stdout",
          "text": [
            "CNN: 4.3 MB\n"
          ]
        }
      ],
      "metadata": {
        "id": "oSM_UOkrVV6D",
        "colab": {
          "base_uri": "https://localhost:8080/"
        },
        "outputId": "77546a86-191f-4eff-fb4f-11a467d241d9"
      }
    },
    {
      "cell_type": "markdown",
      "source": [
        "> We'll consider other tradeoffs such as maintenance overhead, behavioral test performances, etc. as we develop."
      ],
      "metadata": {
        "id": "kDcnWxoMup6W"
      }
    },
    {
      "cell_type": "code",
      "execution_count": null,
      "source": [
        "# Arguments\n",
        "embedding_dim = 128\n",
        "num_filters = 128\n",
        "hidden_dim = 128\n",
        "dropout_p = 0.5"
      ],
      "outputs": [],
      "metadata": {
        "id": "Xs1g4GW66ITQ"
      }
    },
    {
      "cell_type": "code",
      "execution_count": null,
      "source": [
        "# Load artifacts\n",
        "dir = Path(\"cnn\")\n",
        "device = torch.device(\"cpu\")\n",
        "tokenizer = Tokenizer.load(fp=Path(dir, \"tokenzier.json\"))\n",
        "label_encoder = LabelEncoder.load(fp=Path(dir, \"label_encoder.json\"))\n",
        "model = CNN(\n",
        "    embedding_dim=embedding_dim, vocab_size=len(tokenizer),\n",
        "    num_filters=num_filters, filter_sizes=filter_sizes,\n",
        "    hidden_dim=hidden_dim, dropout_p=dropout_p,\n",
        "    num_classes=len(label_encoder))\n",
        "model.load_state_dict(torch.load(Path(dir, \"model.pt\"), map_location=device))\n",
        "model.to(device)"
      ],
      "outputs": [
        {
          "output_type": "execute_result",
          "data": {
            "text/plain": [
              "CNN(\n",
              "  (embeddings): Embedding(39, 128, padding_idx=0)\n",
              "  (conv): ModuleList(\n",
              "    (0): Conv1d(128, 128, kernel_size=(1,), stride=(1,))\n",
              "    (1): Conv1d(128, 128, kernel_size=(2,), stride=(1,))\n",
              "    (2): Conv1d(128, 128, kernel_size=(3,), stride=(1,))\n",
              "    (3): Conv1d(128, 128, kernel_size=(4,), stride=(1,))\n",
              "    (4): Conv1d(128, 128, kernel_size=(5,), stride=(1,))\n",
              "    (5): Conv1d(128, 128, kernel_size=(6,), stride=(1,))\n",
              "    (6): Conv1d(128, 128, kernel_size=(7,), stride=(1,))\n",
              "    (7): Conv1d(128, 128, kernel_size=(8,), stride=(1,))\n",
              "    (8): Conv1d(128, 128, kernel_size=(9,), stride=(1,))\n",
              "    (9): Conv1d(128, 128, kernel_size=(10,), stride=(1,))\n",
              "  )\n",
              "  (dropout): Dropout(p=0.5, inplace=False)\n",
              "  (fc1): Linear(in_features=1280, out_features=128, bias=True)\n",
              "  (fc2): Linear(in_features=128, out_features=34, bias=True)\n",
              ")"
            ]
          },
          "metadata": {},
          "execution_count": 153
        }
      ],
      "metadata": {
        "id": "VIRktG-n49UI",
        "colab": {
          "base_uri": "https://localhost:8080/"
        },
        "outputId": "c83f3cbf-ae58-4ddb-b2b2-d5a94f9658cc"
      }
    },
    {
      "cell_type": "code",
      "execution_count": null,
      "source": [
        "# Trainer module\n",
        "trainer = Trainer(model=model, device=device)"
      ],
      "outputs": [],
      "metadata": {
        "id": "hOBOLE8J6zV5"
      }
    },
    {
      "cell_type": "markdown",
      "source": [
        "## Evaluation"
      ],
      "metadata": {
        "id": "9ofaM94omwgY"
      }
    },
    {
      "cell_type": "markdown",
      "source": [
        "So far we've been evaluating our models by determing the overall precision, recall and f1 scores. But since performance is one of the key decision making factors when comparing different models, we should have even more nuanced evaluation strategies.\n",
        "\n",
        "- Coarse-grained metrics\n",
        "- Fine-grained metrics\n",
        "- Confusion matrix\n",
        "- Confidence learning\n",
        "- Slice metrics"
      ],
      "metadata": {
        "id": "nsj8_EUEmynv"
      }
    },
    {
      "cell_type": "code",
      "execution_count": null,
      "source": [
        "# Metrics\n",
        "metrics = {\"overall\": {}, \"class\": {}}"
      ],
      "outputs": [],
      "metadata": {
        "id": "h51AAn1Fu4b5"
      }
    },
    {
      "cell_type": "code",
      "execution_count": null,
      "source": [
        "# Data to evaluate\n",
        "device = torch.device(\"cuda\")\n",
        "loss_fn = nn.BCEWithLogitsLoss(weight=class_weights_tensor)\n",
        "trainer = Trainer(model=model.to(device), device=device, loss_fn=loss_fn)\n",
        "test_loss, y_true, y_prob = trainer.eval_step(dataloader=test_dataloader)\n",
        "y_pred = np.array([np.where(prob >= threshold, 1, 0) for prob in y_prob])"
      ],
      "outputs": [],
      "metadata": {
        "id": "H8BgzzHBZNMn"
      }
    },
    {
      "cell_type": "markdown",
      "source": [
        "### Coarse-grained metrics"
      ],
      "metadata": {
        "id": "TiXcls5JoNA8"
      }
    },
    {
      "cell_type": "code",
      "execution_count": null,
      "source": [
        "# Overall metrics\n",
        "overall_metrics = precision_recall_fscore_support(y_test, y_pred, average=\"weighted\")\n",
        "metrics[\"overall\"][\"precision\"] = overall_metrics[0]\n",
        "metrics[\"overall\"][\"recall\"] = overall_metrics[1]\n",
        "metrics[\"overall\"][\"f1\"] = overall_metrics[2]\n",
        "metrics[\"overall\"][\"num_samples\"] = np.float64(len(y_true))\n",
        "print (json.dumps(metrics[\"overall\"], indent=4))"
      ],
      "outputs": [
        {
          "output_type": "stream",
          "name": "stdout",
          "text": [
            "{\n",
            "    \"precision\": 0.7641311750894989,\n",
            "    \"recall\": 0.5879828326180258,\n",
            "    \"f1\": 0.6474946774381892,\n",
            "    \"num_samples\": 218.0\n",
            "}\n"
          ]
        }
      ],
      "metadata": {
        "id": "h2OQtNODrh6c",
        "colab": {
          "base_uri": "https://localhost:8080/"
        },
        "outputId": "2c6c0f53-6dbf-47ef-b28e-199b4e9ab672"
      }
    },
    {
      "cell_type": "markdown",
      "source": [
        "### Fine-grained metrics"
      ],
      "metadata": {
        "id": "zl3xSuXRutKG"
      }
    },
    {
      "cell_type": "code",
      "execution_count": null,
      "source": [
        "# Per-class metrics\n",
        "class_metrics = precision_recall_fscore_support(y_test, y_pred, average=None)\n",
        "for i, _class in enumerate(label_encoder.classes):\n",
        "    metrics[\"class\"][_class] = {\n",
        "        \"precision\": class_metrics[0][i],\n",
        "        \"recall\": class_metrics[1][i],\n",
        "        \"f1\": class_metrics[2][i],\n",
        "        \"num_samples\": np.float64(class_metrics[3][i]),\n",
        "    }"
      ],
      "outputs": [],
      "metadata": {
        "id": "1zIAI4mwusoX"
      }
    },
    {
      "cell_type": "code",
      "execution_count": null,
      "source": [
        "# Metrics for a specific class\n",
        "tag = \"transformers\"\n",
        "print (json.dumps(metrics[\"class\"][tag], indent=2))"
      ],
      "outputs": [
        {
          "output_type": "stream",
          "name": "stdout",
          "text": [
            "{\n",
            "  \"precision\": 0.6785714285714286,\n",
            "  \"recall\": 0.6785714285714286,\n",
            "  \"f1\": 0.6785714285714286,\n",
            "  \"num_samples\": 28.0\n",
            "}\n"
          ]
        }
      ],
      "metadata": {
        "id": "Rhh-tgpP0dvj",
        "colab": {
          "base_uri": "https://localhost:8080/"
        },
        "outputId": "e597ccc2-c81e-485a-caa8-3c78ecee418b"
      }
    },
    {
      "cell_type": "markdown",
      "source": [
        "As a general rule, the classes with fewer samples will have lower performance so we should always work to identify the class (or fine-grained slices) of data that our model needs to see more samples of to learn from. "
      ],
      "metadata": {
        "id": "4RsmVddrmknD"
      }
    },
    {
      "cell_type": "code",
      "execution_count": null,
      "source": [
        "# Number of training samples per class\n",
        "num_samples = np.sum(y_train, axis=0).tolist()"
      ],
      "outputs": [],
      "metadata": {
        "id": "5gXY4M5rcQ4H"
      }
    },
    {
      "cell_type": "code",
      "execution_count": null,
      "source": [
        "# Number of samples vs. performance (per class)\n",
        "f1s = [metrics[\"class\"][_class][\"f1\"]*100. for _class in label_encoder.classes]\n",
        "sorted_lists = sorted(zip(*[num_samples, f1s])) # sort\n",
        "num_samples, f1s = list(zip(*sorted_lists))"
      ],
      "outputs": [],
      "metadata": {
        "id": "r0gIKVbMrkgo"
      }
    },
    {
      "cell_type": "code",
      "execution_count": null,
      "source": [
        "# Plot\n",
        "n = 7 # num. top classes to label\n",
        "fig, ax = plt.subplots()\n",
        "ax.set_xlabel(\"# of training samples\")\n",
        "ax.set_ylabel(\"test performance (f1)\")\n",
        "fig.set_size_inches(25, 5)\n",
        "ax.plot(num_samples, f1s, \"bo-\")\n",
        "for x, y, label in zip(num_samples[-n:], f1s[-n:], label_encoder.classes[-n:]):\n",
        "    ax.annotate(label, xy=(x,y), xytext=(-5, 5), ha=\"right\", textcoords=\"offset points\")"
      ],
      "outputs": [
        {
          "output_type": "display_data",
          "data": {
            "image/png": "[encoded data removed]",
            "text/plain": [
              "<Figure size 1800x360 with 1 Axes>"
            ]
          },
          "metadata": {}
        }
      ],
      "metadata": {
        "id": "vQVA6G-j__t5",
        "colab": {
          "base_uri": "https://localhost:8080/",
          "height": 339
        },
        "outputId": "c430a168-21a8-40ef-8364-38c503b34ab3"
      }
    },
    {
      "cell_type": "markdown",
      "source": [
        "There are, of course, nuances to this general rule such as the complexity of distinguishing between some classes where we may not need as many samples for easier sub-tasks. In our case, classes with over 100 training samples consistently perform better than 0.6 f1 score, whereas the other class' performances are mixed."
      ],
      "metadata": {
        "id": "G4LFphxErqFa"
      }
    },
    {
      "cell_type": "markdown",
      "source": [
        "### Confusion matrix"
      ],
      "metadata": {
        "id": "f-juex26zvBF"
      }
    },
    {
      "cell_type": "markdown",
      "source": [
        "- **True positives (TP)**: learn about where our model performs well.\n",
        "- **False positives (FP)**: potentially identify samples which may need to be relabeled.\n",
        "- False negatives (FN): identify the model's less performant areas to oversample later.\n",
        "\n",
        "> It's a good to have our FP/FN samples feed back into our annotation pipelines in the event we want to fix their labels and have those changes be reflected everywhere."
      ],
      "metadata": {
        "id": "xPUao0S4k99c"
      }
    },
    {
      "cell_type": "code",
      "execution_count": null,
      "source": [
        "# TP, FP, FN samples\n",
        "index = label_encoder.class_to_index[tag]\n",
        "tp, fp, fn = [], [], []\n",
        "for i in range(len(y_test)):\n",
        "    true = y_test[i][index]\n",
        "    pred = y_pred[i][index]\n",
        "    if true and pred:\n",
        "        tp.append(i)\n",
        "    elif not true and pred:\n",
        "        fp.append(i)\n",
        "    elif true and not pred:\n",
        "        fn.append(i)"
      ],
      "outputs": [],
      "metadata": {
        "id": "ZG2SgsPAzukL"
      }
    },
    {
      "cell_type": "code",
      "execution_count": null,
      "source": [
        "print (tp)\n",
        "print (fp)\n",
        "print (fn)"
      ],
      "outputs": [
        {
          "output_type": "stream",
          "name": "stdout",
          "text": [
            "[4, 9, 27, 38, 40, 52, 58, 70, 74, 79, 88, 97, 167, 174, 181, 186, 191, 194, 195]\n",
            "[16, 45, 54, 98, 104, 118, 137, 152, 162]\n",
            "[55, 59, 63, 87, 93, 125, 144, 166, 201]\n"
          ]
        }
      ],
      "metadata": {
        "id": "ePrxeVkG0mmO",
        "colab": {
          "base_uri": "https://localhost:8080/"
        },
        "outputId": "0659a218-528a-4980-f6e6-93c98458a430"
      }
    },
    {
      "cell_type": "code",
      "execution_count": null,
      "source": [
        "index = tp[0]\n",
        "print (X_test_raw[index])\n",
        "print (f\"true: {label_encoder.decode([y_test[index]])[0]}\")\n",
        "print (f\"pred: {label_encoder.decode([y_pred[index]])[0]}\\n\")"
      ],
      "outputs": [
        {
          "output_type": "stream",
          "name": "stdout",
          "text": [
            "simple transformers transformers classification ner qa language modeling language generation t5 multi modal conversational ai\n",
            "true: ['language-modeling', 'natural-language-processing', 'question-answering', 'transformers']\n",
            "pred: ['huggingface', 'language-modeling', 'natural-language-processing', 'transformers']\n",
            "\n"
          ]
        }
      ],
      "metadata": {
        "id": "-9UCXV7K0ocX",
        "colab": {
          "base_uri": "https://localhost:8080/"
        },
        "outputId": "29eada44-ec61-4032-ab7f-44124a1a6db2"
      }
    },
    {
      "cell_type": "code",
      "execution_count": null,
      "source": [
        "# Sorted tags\n",
        "sorted_tags_by_f1 = OrderedDict(sorted(\n",
        "        metrics[\"class\"].items(), key=lambda tag: tag[1][\"f1\"], reverse=True))"
      ],
      "outputs": [],
      "metadata": {
        "id": "tVbuLfiH0ofe"
      }
    },
    {
      "cell_type": "code",
      "execution_count": null,
      "source": [
        "@widgets.interact(tag=list(sorted_tags_by_f1.keys()))\n",
        "def display_tag_analysis(tag=\"transformers\"):\n",
        "    # Performance\n",
        "    print (json.dumps(metrics[\"class\"][tag], indent=2))\n",
        "\n",
        "    # TP, FP, FN samples\n",
        "    index = label_encoder.class_to_index[tag]\n",
        "    tp, fp, fn = [], [], []\n",
        "    for i in range(len(y_test)):\n",
        "        true = y_test[i][index]\n",
        "        pred = y_pred[i][index]\n",
        "        if true and pred:\n",
        "            tp.append(i)\n",
        "        elif not true and pred:\n",
        "            fp.append(i)\n",
        "        elif true and not pred:\n",
        "            fn.append(i)\n",
        "\n",
        "    # Samples\n",
        "    num_samples = 3\n",
        "    cm = [(tp, \"True positives\"), (fp, \"False positives\"), (fn, \"False negatives\")]\n",
        "    for item in cm:\n",
        "        if len(item[0]):\n",
        "            print (f\"\\n=== {item[1]} ===\")\n",
        "            for i in item[0][:num_samples]:\n",
        "                print (f\"  {X_test_raw[i]}\")\n",
        "                print (f\"    true: {label_encoder.decode([y_test[i]])[0]}\")\n",
        "                print (f\"    pred: {label_encoder.decode([y_pred[i]])[0]}\\n\")"
      ],
      "outputs": [
        {
          "output_type": "display_data",
          "data": {
            "application/vnd.jupyter.widget-view+json": {
              "model_id": "629663ec7021409486edf86fb5e4e2a7",
              "version_minor": 0,
              "version_major": 2
            },
            "text/plain": [
              "interactive(children=(Dropdown(description='tag', index=12, options=('autoencoders', 'transfer-learning', 'tim…"
            ]
          },
          "metadata": {}
        }
      ],
      "metadata": {
        "id": "n4jLEJ6f0ojA",
        "colab": {
          "base_uri": "https://localhost:8080/",
          "height": 882,
          "referenced_widgets": [
            "629663ec7021409486edf86fb5e4e2a7",
            "2d1bd9c44bc547c5b1287a344031ed34",
            "ea9a4be885ee4e388e8b82ba2747bf06",
            "171887bdea3c4257a4f29906e46970e7",
            "24bb5f3f33d5494eaa96e108c7aeb6a1",
            "8b9616ae150146f4a376a39986553b03",
            "4d4eb377acce49089c5c8698e47d21bf"
          ]
        },
        "outputId": "6b3d8a3d-897a-46db-997b-b27217e60242"
      }
    },
    {
      "cell_type": "markdown",
      "source": [
        "> It's a really good idea to do this kind of analysis using our rule-based approach to catch really obvious labeling errors."
      ],
      "metadata": {
        "id": "4S9XH4j4wSlS"
      }
    },
    {
      "cell_type": "markdown",
      "source": [
        "### Confidence learning"
      ],
      "metadata": {
        "id": "6S5LZdP2Myjh"
      }
    },
    {
      "cell_type": "markdown",
      "source": [
        "While the confusion-matrix sample analysis was a coarse-grained process, we can also use fine-grained confidence based approaches to identify potentially mislabeled samples. Here we’re going to focus on the specific labeling quality as opposed to the final model predictions.\n",
        "\n",
        "Simple confidence based techniques include identifying samples whose:\n",
        "\n",
        "**Categorical**\n",
        "- prediction is incorrect (also indicate TN, FP, FN)\n",
        "- confidence score for the correct class is below a threshold\n",
        "- confidence score for an incorrect class is above a threshold\n",
        "- standard deviation of confidence scores over top N samples is low\n",
        "- different predictions from same model using different parameters\n",
        "\n",
        "**Continuous**\n",
        "- difference between predicted and ground-truth values is above some %\n",
        "\n"
      ],
      "metadata": {
        "id": "ZW5nY_h-M08p"
      }
    },
    {
      "cell_type": "markdown",
      "source": [
        "> The operations in this section can be applied to entire labeled dataset to discover labeling errors via confidence learning."
      ],
      "metadata": {
        "id": "OuN8xKFZlo2t"
      }
    },
    {
      "cell_type": "code",
      "source": [
        "# y\n",
        "print (np.shape(y_test))\n",
        "print (np.shape(y_prob))"
      ],
      "metadata": {
        "colab": {
          "base_uri": "https://localhost:8080/"
        },
        "id": "l0dJKzxqUjlw",
        "outputId": "b6accd3a-7c13-4512-9a96-fac5765e3dac"
      },
      "execution_count": null,
      "outputs": [
        {
          "output_type": "stream",
          "name": "stdout",
          "text": [
            "(218, 34)\n",
            "(218, 34)\n"
          ]
        }
      ]
    },
    {
      "cell_type": "code",
      "source": [
        "# Confidence score for the incorrect class is above a threshold\n",
        "high_confidence = []\n",
        "max_threshold = 0.2\n",
        "for i in range(len(y_test)):\n",
        "    indices = np.where(y_test[i]==0)[0]\n",
        "    probs = y_prob[i][indices]\n",
        "    classes = []\n",
        "    for index in np.where(probs>=max_threshold)[0]:\n",
        "        classes.append(label_encoder.index_to_class[indices[index]])\n",
        "    if len(classes):\n",
        "        high_confidence.append({\"text\": test_df.text[i], \"classes\": classes})"
      ],
      "metadata": {
        "id": "sKQxFU0iU-w-"
      },
      "execution_count": null,
      "outputs": []
    },
    {
      "cell_type": "code",
      "source": [
        "high_confidence[0:5]"
      ],
      "metadata": {
        "id": "xRVS3wQfrKZJ",
        "outputId": "5c7c823d-5e6f-4003-902e-4e513e8625bf",
        "colab": {
          "base_uri": "https://localhost:8080/"
        }
      },
      "execution_count": null,
      "outputs": [
        {
          "output_type": "execute_result",
          "data": {
            "text/plain": [
              "[{'classes': ['computer-vision', 'pytorch'],\n",
              "  'text': 'bootstrap latent approach self supervised learning new approach self supervised image representation learning'},\n",
              " {'classes': ['natural-language-processing'],\n",
              "  'text': 'explainable ml monitoring video covers overview risks ai need explainable monitoring exactly mean talk'},\n",
              " {'classes': ['attention', 'huggingface'],\n",
              "  'text': 'simple transformers transformers classification ner qa language modeling language generation t5 multi modal conversational ai'},\n",
              " {'classes': ['embeddings'],\n",
              "  'text': 'entity embedding lstm time series demonstration using lstm forecasting structured time series data containing categorical numerical features'},\n",
              " {'classes': ['huggingface'],\n",
              "  'text': 'bertviz tool visualizing attention transformer model bert gpt 2 albert xlnet roberta ctrl etc'}]"
            ]
          },
          "metadata": {},
          "execution_count": 170
        }
      ]
    },
    {
      "cell_type": "markdown",
      "source": [
        "But these are fairly crude techniques because neural networks are easily [overconfident](https://arxiv.org/abs/1706.04599) and so their confidences cannot be used without calibrating them. Recent work on [confidence learning](https://arxiv.org/abs/1911.00068) focuses on identifying noisy labels while accounting for this overconfidence which can then be properly relabeled and used for training."
      ],
      "metadata": {
        "id": "JwL1ltdiUjH2"
      }
    },
    {
      "cell_type": "markdown",
      "source": [
        "> Follow along the [official cleanlab tutorial](https://github.com/cleanlab/cleanlab/blob/master/examples/simplifying_confident_learning_tutorial.ipynb) to see the inner operations of the library (ex. confident joint, latent priors, etc.) and all the tuneable parameters (thresholds, calibration, etc.)"
      ],
      "metadata": {
        "id": "RHKiFiskuAcn"
      }
    },
    {
      "cell_type": "code",
      "source": [
        "!pip install cleanlab -q"
      ],
      "metadata": {
        "colab": {
          "base_uri": "https://localhost:8080/"
        },
        "id": "JNzXoPmbNJ_7",
        "outputId": "38921106-aaae-4d54-a1dd-394999768211"
      },
      "execution_count": null,
      "outputs": [
        {
          "output_type": "stream",
          "name": "stdout",
          "text": [
            "\u001b[?25l\r\u001b[K     |████▎                           | 10 kB 23.4 MB/s eta 0:00:01\r\u001b[K     |████████▌                       | 20 kB 26.3 MB/s eta 0:00:01\r\u001b[K     |████████████▊                   | 30 kB 29.5 MB/s eta 0:00:01\r\u001b[K     |█████████████████               | 40 kB 33.1 MB/s eta 0:00:01\r\u001b[K     |█████████████████████▏          | 51 kB 36.2 MB/s eta 0:00:01\r\u001b[K     |█████████████████████████▍      | 61 kB 31.2 MB/s eta 0:00:01\r\u001b[K     |█████████████████████████████▋  | 71 kB 26.4 MB/s eta 0:00:01\r\u001b[K     |████████████████████████████████| 77 kB 4.7 MB/s \n",
            "\u001b[?25h"
          ]
        }
      ]
    },
    {
      "cell_type": "code",
      "source": [
        "import cleanlab\n",
        "from cleanlab.util import onehot2int\n",
        "from cleanlab.pruning import get_noise_indices"
      ],
      "metadata": {
        "id": "mn-GvCmb4eej"
      },
      "execution_count": null,
      "outputs": []
    },
    {
      "cell_type": "code",
      "source": [
        "# Create s (cleanlab expects list of integers for multilabel tasks)\n",
        "correctly_formatted_labels = onehot2int(y_test)"
      ],
      "metadata": {
        "id": "ZLQ8FqhqyA1x"
      },
      "execution_count": null,
      "outputs": []
    },
    {
      "cell_type": "code",
      "source": [
        "# Determine potential labeling errors\n",
        "label_error_indices = get_noise_indices(\n",
        "            s=correctly_formatted_labels, \n",
        "            psx=y_prob, \n",
        "            multi_label=True,\n",
        "            sorted_index_method=\"self_confidence\",\n",
        "            verbose=0)"
      ],
      "metadata": {
        "id": "V0MzphBj7BLz",
        "colab": {
          "base_uri": "https://localhost:8080/"
        },
        "outputId": "5249cb5b-c3bc-44ad-a237-6a5528268e3a"
      },
      "execution_count": null,
      "outputs": [
        {
          "output_type": "stream",
          "name": "stdout",
          "text": [
            "before <multiprocessing.sharedctypes.c_uint_Array_7412 object at 0x7f8c9bee5dd0>\n",
            "before <multiprocessing.sharedctypes.c_uint_Array_7412 object at 0x7f8c9bee5dd0>\n",
            "after [[22], [2], [24, 27], [12], [14, 15, 21, 32], [20, 28], [2, 3, 11], [22, 25], [30], [0, 12, 15, 32], [2, 11], [15], [3], [5, 9, 16, 20, 24], [23], [20], [14, 15, 31], [1, 2, 28, 30], [2, 7], [28, 29], [2, 3, 17], [2, 7, 17, 26], [15, 28, 29], [25], [13, 28], [7], [1, 2, 7], [10, 15, 32], [5], [19], [8, 9, 12], [30], [13, 15], [15], [2, 11], [1, 20], [28], [20], [0, 15, 32], [15], [10, 15, 20, 21, 32], [2, 28], [2], [2], [6], [10, 15], [5, 9, 16, 24], [4, 20, 23], [19], [2, 3, 26], [2, 4], [13, 28], [0, 9, 15, 32], [25], [20, 28], [15, 32], [31], [30], [0, 10, 15, 32], [15, 32], [2, 26], [2, 20, 26], [13, 28], [15, 32], [5, 15], [8, 9, 24], [20], [2, 17, 28, 29], [3], [25], [0, 15, 32], [2, 7, 11, 20], [2, 17], [13, 28], [15, 32], [19], [2, 3, 13, 28], [20], [6, 25], [0, 13, 15, 28, 32], [0, 2, 14, 15], [20], [23], [13, 27, 28], [2, 13, 28], [2, 4, 7, 33], [2, 20], [0, 15, 32], [14, 15, 31, 32], [20, 27], [30], [6, 22, 25], [12], [0, 15, 18, 32], [28, 29], [5, 15], [0, 28], [0, 10, 14, 15, 32], [14, 15], [2, 29], [2], [2, 13, 28], [15], [27], [15], [28], [2, 8, 9, 20], [20, 23], [12], [15, 31], [2, 3, 5, 28], [2, 3, 17, 20], [15], [25], [6], [4, 7], [2, 20], [15], [0, 5, 15], [3], [1, 2, 20, 33], [15], [2], [19], [13, 28], [0, 15, 28, 32], [15], [2, 17, 28], [23], [2, 20, 26], [8, 9, 20], [2, 20], [15], [15], [13, 20, 28], [5, 8, 9, 24], [2, 11, 28, 29], [15], [2, 29], [6], [22, 29], [23], [2], [15], [0, 15, 32], [2], [33], [2, 4], [15], [5, 15], [7, 20], [2, 3, 13, 28], [5, 12, 15], [2], [15], [3], [14, 15], [20], [19], [2, 11, 20], [28], [22], [14, 15], [19], [2, 3, 17, 20], [2], [14, 15, 18, 25, 32], [0, 15, 20, 32], [13, 28], [2, 13], [1, 20], [1, 5, 9, 16, 24], [19], [13, 28], [10, 15, 32], [28], [2, 17, 20], [15], [15], [15], [20, 27], [0, 15, 32], [2, 11, 13, 28], [2, 20], [22], [19, 20], [0, 10, 14, 15, 32], [3], [12], [23, 33], [0, 15], [15, 32], [2], [2, 4], [0, 10, 15, 20, 32], [0, 15, 31, 32], [2, 3, 7, 20], [20], [2, 11, 15, 22], [2, 3, 13], [2], [0, 12, 15, 32], [2, 7], [22, 25], [2, 17, 26], [4, 15], [15], [23], [20], [23], [8, 9, 24], [8, 9, 12], [33], [3], [31], [1, 24], [31], [20, 24, 27, 33]]\n",
            "after [[22], [2], [24, 27], [12], [14, 15, 21, 32], [20, 28], [2, 3, 11], [22, 25], [30], [0, 12, 15, 32], [2, 11], [15], [3], [5, 9, 16, 20, 24], [23], [20], [14, 15, 31], [1, 2, 28, 30], [2, 7], [28, 29], [2, 3, 17], [2, 7, 17, 26], [15, 28, 29], [25], [13, 28], [7], [1, 2, 7], [10, 15, 32], [5], [19], [8, 9, 12], [30], [13, 15], [15], [2, 11], [1, 20], [28], [20], [0, 15, 32], [15], [10, 15, 20, 21, 32], [2, 28], [2], [2], [6], [10, 15], [5, 9, 16, 24], [4, 20, 23], [19], [2, 3, 26], [2, 4], [13, 28], [0, 9, 15, 32], [25], [20, 28], [15, 32], [31], [30], [0, 10, 15, 32], [15, 32], [2, 26], [2, 20, 26], [13, 28], [15, 32], [5, 15], [8, 9, 24], [20], [2, 17, 28, 29], [3], [25], [0, 15, 32], [2, 7, 11, 20], [2, 17], [13, 28], [15, 32], [19], [2, 3, 13, 28], [20], [6, 25], [0, 13, 15, 28, 32], [0, 2, 14, 15], [20], [23], [13, 27, 28], [2, 13, 28], [2, 4, 7, 33], [2, 20], [0, 15, 32], [14, 15, 31, 32], [20, 27], [30], [6, 22, 25], [12], [0, 15, 18, 32], [28, 29], [5, 15], [0, 28], [0, 10, 14, 15, 32], [14, 15], [2, 29], [2], [2, 13, 28], [15], [27], [15], [28], [2, 8, 9, 20], [20, 23], [12], [15, 31], [2, 3, 5, 28], [2, 3, 17, 20], [15], [25], [6], [4, 7], [2, 20], [15], [0, 5, 15], [3], [1, 2, 20, 33], [15], [2], [19], [13, 28], [0, 15, 28, 32], [15], [2, 17, 28], [23], [2, 20, 26], [8, 9, 20], [2, 20], [15], [15], [13, 20, 28], [5, 8, 9, 24], [2, 11, 28, 29], [15], [2, 29], [6], [22, 29], [23], [2], [15], [0, 15, 32], [2], [33], [2, 4], [15], [5, 15], [7, 20], [2, 3, 13, 28], [5, 12, 15], [2], [15], [3], [14, 15], [20], [19], [2, 11, 20], [28], [22], [14, 15], [19], [2, 3, 17, 20], [2], [14, 15, 18, 25, 32], [0, 15, 20, 32], [13, 28], [2, 13], [1, 20], [1, 5, 9, 16, 24], [19], [13, 28], [10, 15, 32], [28], [2, 17, 20], [15], [15], [15], [20, 27], [0, 15, 32], [2, 11, 13, 28], [2, 20], [22], [19, 20], [0, 10, 14, 15, 32], [3], [12], [23, 33], [0, 15], [15, 32], [2], [2, 4], [0, 10, 15, 20, 32], [0, 15, 31, 32], [2, 3, 7, 20], [20], [2, 11, 15, 22], [2, 3, 13], [2], [0, 12, 15, 32], [2, 7], [22, 25], [2, 17, 26], [4, 15], [15], [23], [20], [23], [8, 9, 24], [8, 9, 12], [33], [3], [31], [1, 24], [31], [20, 24, 27, 33]]\n",
            "before <multiprocessing.sharedctypes.c_uint_Array_7412 object at 0x7f8c9bee5dd0>\n",
            "before <multiprocessing.sharedctypes.c_uint_Array_7412 object at 0x7f8c9bee5dd0>\n",
            "after [[22], [2], [24, 27], [12], [14, 15, 21, 32], [20, 28], [2, 3, 11], [22, 25], [30], [0, 12, 15, 32], [2, 11], [15], [3], [5, 9, 16, 20, 24], [23], [20], [14, 15, 31], [1, 2, 28, 30], [2, 7], [28, 29], [2, 3, 17], [2, 7, 17, 26], [15, 28, 29], [25], [13, 28], [7], [1, 2, 7], [10, 15, 32], [5], [19], [8, 9, 12], [30], [13, 15], [15], [2, 11], [1, 20], [28], [20], [0, 15, 32], [15], [10, 15, 20, 21, 32], [2, 28], [2], [2], [6], [10, 15], [5, 9, 16, 24], [4, 20, 23], [19], [2, 3, 26], [2, 4], [13, 28], [0, 9, 15, 32], [25], [20, 28], [15, 32], [31], [30], [0, 10, 15, 32], [15, 32], [2, 26], [2, 20, 26], [13, 28], [15, 32], [5, 15], [8, 9, 24], [20], [2, 17, 28, 29], [3], [25], [0, 15, 32], [2, 7, 11, 20], [2, 17], [13, 28], [15, 32], [19], [2, 3, 13, 28], [20], [6, 25], [0, 13, 15, 28, 32], [0, 2, 14, 15], [20], [23], [13, 27, 28], [2, 13, 28], [2, 4, 7, 33], [2, 20], [0, 15, 32], [14, 15, 31, 32], [20, 27], [30], [6, 22, 25], [12], [0, 15, 18, 32], [28, 29], [5, 15], [0, 28], [0, 10, 14, 15, 32], [14, 15], [2, 29], [2], [2, 13, 28], [15], [27], [15], [28], [2, 8, 9, 20], [20, 23], [12], [15, 31], [2, 3, 5, 28], [2, 3, 17, 20], [15], [25], [6], [4, 7], [2, 20], [15], [0, 5, 15], [3], [1, 2, 20, 33], [15], [2], [19], [13, 28], [0, 15, 28, 32], [15], [2, 17, 28], [23], [2, 20, 26], [8, 9, 20], [2, 20], [15], [15], [13, 20, 28], [5, 8, 9, 24], [2, 11, 28, 29], [15], [2, 29], [6], [22, 29], [23], [2], [15], [0, 15, 32], [2], [33], [2, 4], [15], [5, 15], [7, 20], [2, 3, 13, 28], [5, 12, 15], [2], [15], [3], [14, 15], [20], [19], [2, 11, 20], [28], [22], [14, 15], [19], [2, 3, 17, 20], [2], [14, 15, 18, 25, 32], [0, 15, 20, 32], [13, 28], [2, 13], [1, 20], [1, 5, 9, 16, 24], [19], [13, 28], [10, 15, 32], [28], [2, 17, 20], [15], [15], [15], [20, 27], [0, 15, 32], [2, 11, 13, 28], [2, 20], [22], [19, 20], [0, 10, 14, 15, 32], [3], [12], [23, 33], [0, 15], [15, 32], [2], [2, 4], [0, 10, 15, 20, 32], [0, 15, 31, 32], [2, 3, 7, 20], [20], [2, 11, 15, 22], [2, 3, 13], [2], [0, 12, 15, 32], [2, 7], [22, 25], [2, 17, 26], [4, 15], [15], [23], [20], [23], [8, 9, 24], [8, 9, 12], [33], [3], [31], [1, 24], [31], [20, 24, 27, 33]]\n",
            "after [[22], [2], [24, 27], [12], [14, 15, 21, 32], [20, 28], [2, 3, 11], [22, 25], [30], [0, 12, 15, 32], [2, 11], [15], [3], [5, 9, 16, 20, 24], [23], [20], [14, 15, 31], [1, 2, 28, 30], [2, 7], [28, 29], [2, 3, 17], [2, 7, 17, 26], [15, 28, 29], [25], [13, 28], [7], [1, 2, 7], [10, 15, 32], [5], [19], [8, 9, 12], [30], [13, 15], [15], [2, 11], [1, 20], [28], [20], [0, 15, 32], [15], [10, 15, 20, 21, 32], [2, 28], [2], [2], [6], [10, 15], [5, 9, 16, 24], [4, 20, 23], [19], [2, 3, 26], [2, 4], [13, 28], [0, 9, 15, 32], [25], [20, 28], [15, 32], [31], [30], [0, 10, 15, 32], [15, 32], [2, 26], [2, 20, 26], [13, 28], [15, 32], [5, 15], [8, 9, 24], [20], [2, 17, 28, 29], [3], [25], [0, 15, 32], [2, 7, 11, 20], [2, 17], [13, 28], [15, 32], [19], [2, 3, 13, 28], [20], [6, 25], [0, 13, 15, 28, 32], [0, 2, 14, 15], [20], [23], [13, 27, 28], [2, 13, 28], [2, 4, 7, 33], [2, 20], [0, 15, 32], [14, 15, 31, 32], [20, 27], [30], [6, 22, 25], [12], [0, 15, 18, 32], [28, 29], [5, 15], [0, 28], [0, 10, 14, 15, 32], [14, 15], [2, 29], [2], [2, 13, 28], [15], [27], [15], [28], [2, 8, 9, 20], [20, 23], [12], [15, 31], [2, 3, 5, 28], [2, 3, 17, 20], [15], [25], [6], [4, 7], [2, 20], [15], [0, 5, 15], [3], [1, 2, 20, 33], [15], [2], [19], [13, 28], [0, 15, 28, 32], [15], [2, 17, 28], [23], [2, 20, 26], [8, 9, 20], [2, 20], [15], [15], [13, 20, 28], [5, 8, 9, 24], [2, 11, 28, 29], [15], [2, 29], [6], [22, 29], [23], [2], [15], [0, 15, 32], [2], [33], [2, 4], [15], [5, 15], [7, 20], [2, 3, 13, 28], [5, 12, 15], [2], [15], [3], [14, 15], [20], [19], [2, 11, 20], [28], [22], [14, 15], [19], [2, 3, 17, 20], [2], [14, 15, 18, 25, 32], [0, 15, 20, 32], [13, 28], [2, 13], [1, 20], [1, 5, 9, 16, 24], [19], [13, 28], [10, 15, 32], [28], [2, 17, 20], [15], [15], [15], [20, 27], [0, 15, 32], [2, 11, 13, 28], [2, 20], [22], [19, 20], [0, 10, 14, 15, 32], [3], [12], [23, 33], [0, 15], [15, 32], [2], [2, 4], [0, 10, 15, 20, 32], [0, 15, 31, 32], [2, 3, 7, 20], [20], [2, 11, 15, 22], [2, 3, 13], [2], [0, 12, 15, 32], [2, 7], [22, 25], [2, 17, 26], [4, 15], [15], [23], [20], [23], [8, 9, 24], [8, 9, 12], [33], [3], [31], [1, 24], [31], [20, 24, 27, 33]]\n",
            "before <multiprocessing.sharedctypes.c_uint_Array_7412 object at 0x7f8c9bee5dd0>\n",
            "after [[22], [2], [24, 27], [12], [14, 15, 21, 32], [20, 28], [2, 3, 11], [22, 25], [30], [0, 12, 15, 32], [2, 11], [15], [3], [5, 9, 16, 20, 24], [23], [20], [14, 15, 31], [1, 2, 28, 30], [2, 7], [28, 29], [2, 3, 17], [2, 7, 17, 26], [15, 28, 29], [25], [13, 28], [7], [1, 2, 7], [10, 15, 32], [5], [19], [8, 9, 12], [30], [13, 15], [15], [2, 11], [1, 20], [28], [20], [0, 15, 32], [15], [10, 15, 20, 21, 32], [2, 28], [2], [2], [6], [10, 15], [5, 9, 16, 24], [4, 20, 23], [19], [2, 3, 26], [2, 4], [13, 28], [0, 9, 15, 32], [25], [20, 28], [15, 32], [31], [30], [0, 10, 15, 32], [15, 32], [2, 26], [2, 20, 26], [13, 28], [15, 32], [5, 15], [8, 9, 24], [20], [2, 17, 28, 29], [3], [25], [0, 15, 32], [2, 7, 11, 20], [2, 17], [13, 28], [15, 32], [19], [2, 3, 13, 28], [20], [6, 25], [0, 13, 15, 28, 32], [0, 2, 14, 15], [20], [23], [13, 27, 28], [2, 13, 28], [2, 4, 7, 33], [2, 20], [0, 15, 32], [14, 15, 31, 32], [20, 27], [30], [6, 22, 25], [12], [0, 15, 18, 32], [28, 29], [5, 15], [0, 28], [0, 10, 14, 15, 32], [14, 15], [2, 29], [2], [2, 13, 28], [15], [27], [15], [28], [2, 8, 9, 20], [20, 23], [12], [15, 31], [2, 3, 5, 28], [2, 3, 17, 20], [15], [25], [6], [4, 7], [2, 20], [15], [0, 5, 15], [3], [1, 2, 20, 33], [15], [2], [19], [13, 28], [0, 15, 28, 32], [15], [2, 17, 28], [23], [2, 20, 26], [8, 9, 20], [2, 20], [15], [15], [13, 20, 28], [5, 8, 9, 24], [2, 11, 28, 29], [15], [2, 29], [6], [22, 29], [23], [2], [15], [0, 15, 32], [2], [33], [2, 4], [15], [5, 15], [7, 20], [2, 3, 13, 28], [5, 12, 15], [2], [15], [3], [14, 15], [20], [19], [2, 11, 20], [28], [22], [14, 15], [19], [2, 3, 17, 20], [2], [14, 15, 18, 25, 32], [0, 15, 20, 32], [13, 28], [2, 13], [1, 20], [1, 5, 9, 16, 24], [19], [13, 28], [10, 15, 32], [28], [2, 17, 20], [15], [15], [15], [20, 27], [0, 15, 32], [2, 11, 13, 28], [2, 20], [22], [19, 20], [0, 10, 14, 15, 32], [3], [12], [23, 33], [0, 15], [15, 32], [2], [2, 4], [0, 10, 15, 20, 32], [0, 15, 31, 32], [2, 3, 7, 20], [20], [2, 11, 15, 22], [2, 3, 13], [2], [0, 12, 15, 32], [2, 7], [22, 25], [2, 17, 26], [4, 15], [15], [23], [20], [23], [8, 9, 24], [8, 9, 12], [33], [3], [31], [1, 24], [31], [20, 24, 27, 33]]\n",
            "before <multiprocessing.sharedctypes.c_uint_Array_7412 object at 0x7f8c9bee5dd0>\n",
            "after [[22], [2], [24, 27], [12], [14, 15, 21, 32], [20, 28], [2, 3, 11], [22, 25], [30], [0, 12, 15, 32], [2, 11], [15], [3], [5, 9, 16, 20, 24], [23], [20], [14, 15, 31], [1, 2, 28, 30], [2, 7], [28, 29], [2, 3, 17], [2, 7, 17, 26], [15, 28, 29], [25], [13, 28], [7], [1, 2, 7], [10, 15, 32], [5], [19], [8, 9, 12], [30], [13, 15], [15], [2, 11], [1, 20], [28], [20], [0, 15, 32], [15], [10, 15, 20, 21, 32], [2, 28], [2], [2], [6], [10, 15], [5, 9, 16, 24], [4, 20, 23], [19], [2, 3, 26], [2, 4], [13, 28], [0, 9, 15, 32], [25], [20, 28], [15, 32], [31], [30], [0, 10, 15, 32], [15, 32], [2, 26], [2, 20, 26], [13, 28], [15, 32], [5, 15], [8, 9, 24], [20], [2, 17, 28, 29], [3], [25], [0, 15, 32], [2, 7, 11, 20], [2, 17], [13, 28], [15, 32], [19], [2, 3, 13, 28], [20], [6, 25], [0, 13, 15, 28, 32], [0, 2, 14, 15], [20], [23], [13, 27, 28], [2, 13, 28], [2, 4, 7, 33], [2, 20], [0, 15, 32], [14, 15, 31, 32], [20, 27], [30], [6, 22, 25], [12], [0, 15, 18, 32], [28, 29], [5, 15], [0, 28], [0, 10, 14, 15, 32], [14, 15], [2, 29], [2], [2, 13, 28], [15], [27], [15], [28], [2, 8, 9, 20], [20, 23], [12], [15, 31], [2, 3, 5, 28], [2, 3, 17, 20], [15], [25], [6], [4, 7], [2, 20], [15], [0, 5, 15], [3], [1, 2, 20, 33], [15], [2], [19], [13, 28], [0, 15, 28, 32], [15], [2, 17, 28], [23], [2, 20, 26], [8, 9, 20], [2, 20], [15], [15], [13, 20, 28], [5, 8, 9, 24], [2, 11, 28, 29], [15], [2, 29], [6], [22, 29], [23], [2], [15], [0, 15, 32], [2], [33], [2, 4], [15], [5, 15], [7, 20], [2, 3, 13, 28], [5, 12, 15], [2], [15], [3], [14, 15], [20], [19], [2, 11, 20], [28], [22], [14, 15], [19], [2, 3, 17, 20], [2], [14, 15, 18, 25, 32], [0, 15, 20, 32], [13, 28], [2, 13], [1, 20], [1, 5, 9, 16, 24], [19], [13, 28], [10, 15, 32], [28], [2, 17, 20], [15], [15], [15], [20, 27], [0, 15, 32], [2, 11, 13, 28], [2, 20], [22], [19, 20], [0, 10, 14, 15, 32], [3], [12], [23, 33], [0, 15], [15, 32], [2], [2, 4], [0, 10, 15, 20, 32], [0, 15, 31, 32], [2, 3, 7, 20], [20], [2, 11, 15, 22], [2, 3, 13], [2], [0, 12, 15, 32], [2, 7], [22, 25], [2, 17, 26], [4, 15], [15], [23], [20], [23], [8, 9, 24], [8, 9, 12], [33], [3], [31], [1, 24], [31], [20, 24, 27, 33]]\n",
            "before <multiprocessing.sharedctypes.c_uint_Array_7412 object at 0x7f8c9bee5dd0>\n",
            "after [[22], [2], [24, 27], [12], [14, 15, 21, 32], [20, 28], [2, 3, 11], [22, 25], [30], [0, 12, 15, 32], [2, 11], [15], [3], [5, 9, 16, 20, 24], [23], [20], [14, 15, 31], [1, 2, 28, 30], [2, 7], [28, 29], [2, 3, 17], [2, 7, 17, 26], [15, 28, 29], [25], [13, 28], [7], [1, 2, 7], [10, 15, 32], [5], [19], [8, 9, 12], [30], [13, 15], [15], [2, 11], [1, 20], [28], [20], [0, 15, 32], [15], [10, 15, 20, 21, 32], [2, 28], [2], [2], [6], [10, 15], [5, 9, 16, 24], [4, 20, 23], [19], [2, 3, 26], [2, 4], [13, 28], [0, 9, 15, 32], [25], [20, 28], [15, 32], [31], [30], [0, 10, 15, 32], [15, 32], [2, 26], [2, 20, 26], [13, 28], [15, 32], [5, 15], [8, 9, 24], [20], [2, 17, 28, 29], [3], [25], [0, 15, 32], [2, 7, 11, 20], [2, 17], [13, 28], [15, 32], [19], [2, 3, 13, 28], [20], [6, 25], [0, 13, 15, 28, 32], [0, 2, 14, 15], [20], [23], [13, 27, 28], [2, 13, 28], [2, 4, 7, 33], [2, 20], [0, 15, 32], [14, 15, 31, 32], [20, 27], [30], [6, 22, 25], [12], [0, 15, 18, 32], [28, 29], [5, 15], [0, 28], [0, 10, 14, 15, 32], [14, 15], [2, 29], [2], [2, 13, 28], [15], [27], [15], [28], [2, 8, 9, 20], [20, 23], [12], [15, 31], [2, 3, 5, 28], [2, 3, 17, 20], [15], [25], [6], [4, 7], [2, 20], [15], [0, 5, 15], [3], [1, 2, 20, 33], [15], [2], [19], [13, 28], [0, 15, 28, 32], [15], [2, 17, 28], [23], [2, 20, 26], [8, 9, 20], [2, 20], [15], [15], [13, 20, 28], [5, 8, 9, 24], [2, 11, 28, 29], [15], [2, 29], [6], [22, 29], [23], [2], [15], [0, 15, 32], [2], [33], [2, 4], [15], [5, 15], [7, 20], [2, 3, 13, 28], [5, 12, 15], [2], [15], [3], [14, 15], [20], [19], [2, 11, 20], [28], [22], [14, 15], [19], [2, 3, 17, 20], [2], [14, 15, 18, 25, 32], [0, 15, 20, 32], [13, 28], [2, 13], [1, 20], [1, 5, 9, 16, 24], [19], [13, 28], [10, 15, 32], [28], [2, 17, 20], [15], [15], [15], [20, 27], [0, 15, 32], [2, 11, 13, 28], [2, 20], [22], [19, 20], [0, 10, 14, 15, 32], [3], [12], [23, 33], [0, 15], [15, 32], [2], [2, 4], [0, 10, 15, 20, 32], [0, 15, 31, 32], [2, 3, 7, 20], [20], [2, 11, 15, 22], [2, 3, 13], [2], [0, 12, 15, 32], [2, 7], [22, 25], [2, 17, 26], [4, 15], [15], [23], [20], [23], [8, 9, 24], [8, 9, 12], [33], [3], [31], [1, 24], [31], [20, 24, 27, 33]]\n",
            "before <multiprocessing.sharedctypes.c_uint_Array_7412 object at 0x7f8c9bee5dd0>\n",
            "before <multiprocessing.sharedctypes.c_uint_Array_7412 object at 0x7f8c9bee5dd0>\n",
            "after [[22], [2], [24, 27], [12], [14, 15, 21, 32], [20, 28], [2, 3, 11], [22, 25], [30], [0, 12, 15, 32], [2, 11], [15], [3], [5, 9, 16, 20, 24], [23], [20], [14, 15, 31], [1, 2, 28, 30], [2, 7], [28, 29], [2, 3, 17], [2, 7, 17, 26], [15, 28, 29], [25], [13, 28], [7], [1, 2, 7], [10, 15, 32], [5], [19], [8, 9, 12], [30], [13, 15], [15], [2, 11], [1, 20], [28], [20], [0, 15, 32], [15], [10, 15, 20, 21, 32], [2, 28], [2], [2], [6], [10, 15], [5, 9, 16, 24], [4, 20, 23], [19], [2, 3, 26], [2, 4], [13, 28], [0, 9, 15, 32], [25], [20, 28], [15, 32], [31], [30], [0, 10, 15, 32], [15, 32], [2, 26], [2, 20, 26], [13, 28], [15, 32], [5, 15], [8, 9, 24], [20], [2, 17, 28, 29], [3], [25], [0, 15, 32], [2, 7, 11, 20], [2, 17], [13, 28], [15, 32], [19], [2, 3, 13, 28], [20], [6, 25], [0, 13, 15, 28, 32], [0, 2, 14, 15], [20], [23], [13, 27, 28], [2, 13, 28], [2, 4, 7, 33], [2, 20], [0, 15, 32], [14, 15, 31, 32], [20, 27], [30], [6, 22, 25], [12], [0, 15, 18, 32], [28, 29], [5, 15], [0, 28], [0, 10, 14, 15, 32], [14, 15], [2, 29], [2], [2, 13, 28], [15], [27], [15], [28], [2, 8, 9, 20], [20, 23], [12], [15, 31], [2, 3, 5, 28], [2, 3, 17, 20], [15], [25], [6], [4, 7], [2, 20], [15], [0, 5, 15], [3], [1, 2, 20, 33], [15], [2], [19], [13, 28], [0, 15, 28, 32], [15], [2, 17, 28], [23], [2, 20, 26], [8, 9, 20], [2, 20], [15], [15], [13, 20, 28], [5, 8, 9, 24], [2, 11, 28, 29], [15], [2, 29], [6], [22, 29], [23], [2], [15], [0, 15, 32], [2], [33], [2, 4], [15], [5, 15], [7, 20], [2, 3, 13, 28], [5, 12, 15], [2], [15], [3], [14, 15], [20], [19], [2, 11, 20], [28], [22], [14, 15], [19], [2, 3, 17, 20], [2], [14, 15, 18, 25, 32], [0, 15, 20, 32], [13, 28], [2, 13], [1, 20], [1, 5, 9, 16, 24], [19], [13, 28], [10, 15, 32], [28], [2, 17, 20], [15], [15], [15], [20, 27], [0, 15, 32], [2, 11, 13, 28], [2, 20], [22], [19, 20], [0, 10, 14, 15, 32], [3], [12], [23, 33], [0, 15], [15, 32], [2], [2, 4], [0, 10, 15, 20, 32], [0, 15, 31, 32], [2, 3, 7, 20], [20], [2, 11, 15, 22], [2, 3, 13], [2], [0, 12, 15, 32], [2, 7], [22, 25], [2, 17, 26], [4, 15], [15], [23], [20], [23], [8, 9, 24], [8, 9, 12], [33], [3], [31], [1, 24], [31], [20, 24, 27, 33]]\n",
            "after [[22], [2], [24, 27], [12], [14, 15, 21, 32], [20, 28], [2, 3, 11], [22, 25], [30], [0, 12, 15, 32], [2, 11], [15], [3], [5, 9, 16, 20, 24], [23], [20], [14, 15, 31], [1, 2, 28, 30], [2, 7], [28, 29], [2, 3, 17], [2, 7, 17, 26], [15, 28, 29], [25], [13, 28], [7], [1, 2, 7], [10, 15, 32], [5], [19], [8, 9, 12], [30], [13, 15], [15], [2, 11], [1, 20], [28], [20], [0, 15, 32], [15], [10, 15, 20, 21, 32], [2, 28], [2], [2], [6], [10, 15], [5, 9, 16, 24], [4, 20, 23], [19], [2, 3, 26], [2, 4], [13, 28], [0, 9, 15, 32], [25], [20, 28], [15, 32], [31], [30], [0, 10, 15, 32], [15, 32], [2, 26], [2, 20, 26], [13, 28], [15, 32], [5, 15], [8, 9, 24], [20], [2, 17, 28, 29], [3], [25], [0, 15, 32], [2, 7, 11, 20], [2, 17], [13, 28], [15, 32], [19], [2, 3, 13, 28], [20], [6, 25], [0, 13, 15, 28, 32], [0, 2, 14, 15], [20], [23], [13, 27, 28], [2, 13, 28], [2, 4, 7, 33], [2, 20], [0, 15, 32], [14, 15, 31, 32], [20, 27], [30], [6, 22, 25], [12], [0, 15, 18, 32], [28, 29], [5, 15], [0, 28], [0, 10, 14, 15, 32], [14, 15], [2, 29], [2], [2, 13, 28], [15], [27], [15], [28], [2, 8, 9, 20], [20, 23], [12], [15, 31], [2, 3, 5, 28], [2, 3, 17, 20], [15], [25], [6], [4, 7], [2, 20], [15], [0, 5, 15], [3], [1, 2, 20, 33], [15], [2], [19], [13, 28], [0, 15, 28, 32], [15], [2, 17, 28], [23], [2, 20, 26], [8, 9, 20], [2, 20], [15], [15], [13, 20, 28], [5, 8, 9, 24], [2, 11, 28, 29], [15], [2, 29], [6], [22, 29], [23], [2], [15], [0, 15, 32], [2], [33], [2, 4], [15], [5, 15], [7, 20], [2, 3, 13, 28], [5, 12, 15], [2], [15], [3], [14, 15], [20], [19], [2, 11, 20], [28], [22], [14, 15], [19], [2, 3, 17, 20], [2], [14, 15, 18, 25, 32], [0, 15, 20, 32], [13, 28], [2, 13], [1, 20], [1, 5, 9, 16, 24], [19], [13, 28], [10, 15, 32], [28], [2, 17, 20], [15], [15], [15], [20, 27], [0, 15, 32], [2, 11, 13, 28], [2, 20], [22], [19, 20], [0, 10, 14, 15, 32], [3], [12], [23, 33], [0, 15], [15, 32], [2], [2, 4], [0, 10, 15, 20, 32], [0, 15, 31, 32], [2, 3, 7, 20], [20], [2, 11, 15, 22], [2, 3, 13], [2], [0, 12, 15, 32], [2, 7], [22, 25], [2, 17, 26], [4, 15], [15], [23], [20], [23], [8, 9, 24], [8, 9, 12], [33], [3], [31], [1, 24], [31], [20, 24, 27, 33]]\n",
            "before <multiprocessing.sharedctypes.c_uint_Array_7412 object at 0x7f8c9bee5dd0>\n",
            "before <multiprocessing.sharedctypes.c_uint_Array_7412 object at 0x7f8c9bee5dd0>\n",
            "after [[22], [2], [24, 27], [12], [14, 15, 21, 32], [20, 28], [2, 3, 11], [22, 25], [30], [0, 12, 15, 32], [2, 11], [15], [3], [5, 9, 16, 20, 24], [23], [20], [14, 15, 31], [1, 2, 28, 30], [2, 7], [28, 29], [2, 3, 17], [2, 7, 17, 26], [15, 28, 29], [25], [13, 28], [7], [1, 2, 7], [10, 15, 32], [5], [19], [8, 9, 12], [30], [13, 15], [15], [2, 11], [1, 20], [28], [20], [0, 15, 32], [15], [10, 15, 20, 21, 32], [2, 28], [2], [2], [6], [10, 15], [5, 9, 16, 24], [4, 20, 23], [19], [2, 3, 26], [2, 4], [13, 28], [0, 9, 15, 32], [25], [20, 28], [15, 32], [31], [30], [0, 10, 15, 32], [15, 32], [2, 26], [2, 20, 26], [13, 28], [15, 32], [5, 15], [8, 9, 24], [20], [2, 17, 28, 29], [3], [25], [0, 15, 32], [2, 7, 11, 20], [2, 17], [13, 28], [15, 32], [19], [2, 3, 13, 28], [20], [6, 25], [0, 13, 15, 28, 32], [0, 2, 14, 15], [20], [23], [13, 27, 28], [2, 13, 28], [2, 4, 7, 33], [2, 20], [0, 15, 32], [14, 15, 31, 32], [20, 27], [30], [6, 22, 25], [12], [0, 15, 18, 32], [28, 29], [5, 15], [0, 28], [0, 10, 14, 15, 32], [14, 15], [2, 29], [2], [2, 13, 28], [15], [27], [15], [28], [2, 8, 9, 20], [20, 23], [12], [15, 31], [2, 3, 5, 28], [2, 3, 17, 20], [15], [25], [6], [4, 7], [2, 20], [15], [0, 5, 15], [3], [1, 2, 20, 33], [15], [2], [19], [13, 28], [0, 15, 28, 32], [15], [2, 17, 28], [23], [2, 20, 26], [8, 9, 20], [2, 20], [15], [15], [13, 20, 28], [5, 8, 9, 24], [2, 11, 28, 29], [15], [2, 29], [6], [22, 29], [23], [2], [15], [0, 15, 32], [2], [33], [2, 4], [15], [5, 15], [7, 20], [2, 3, 13, 28], [5, 12, 15], [2], [15], [3], [14, 15], [20], [19], [2, 11, 20], [28], [22], [14, 15], [19], [2, 3, 17, 20], [2], [14, 15, 18, 25, 32], [0, 15, 20, 32], [13, 28], [2, 13], [1, 20], [1, 5, 9, 16, 24], [19], [13, 28], [10, 15, 32], [28], [2, 17, 20], [15], [15], [15], [20, 27], [0, 15, 32], [2, 11, 13, 28], [2, 20], [22], [19, 20], [0, 10, 14, 15, 32], [3], [12], [23, 33], [0, 15], [15, 32], [2], [2, 4], [0, 10, 15, 20, 32], [0, 15, 31, 32], [2, 3, 7, 20], [20], [2, 11, 15, 22], [2, 3, 13], [2], [0, 12, 15, 32], [2, 7], [22, 25], [2, 17, 26], [4, 15], [15], [23], [20], [23], [8, 9, 24], [8, 9, 12], [33], [3], [31], [1, 24], [31], [20, 24, 27, 33]]\n",
            "after [[22], [2], [24, 27], [12], [14, 15, 21, 32], [20, 28], [2, 3, 11], [22, 25], [30], [0, 12, 15, 32], [2, 11], [15], [3], [5, 9, 16, 20, 24], [23], [20], [14, 15, 31], [1, 2, 28, 30], [2, 7], [28, 29], [2, 3, 17], [2, 7, 17, 26], [15, 28, 29], [25], [13, 28], [7], [1, 2, 7], [10, 15, 32], [5], [19], [8, 9, 12], [30], [13, 15], [15], [2, 11], [1, 20], [28], [20], [0, 15, 32], [15], [10, 15, 20, 21, 32], [2, 28], [2], [2], [6], [10, 15], [5, 9, 16, 24], [4, 20, 23], [19], [2, 3, 26], [2, 4], [13, 28], [0, 9, 15, 32], [25], [20, 28], [15, 32], [31], [30], [0, 10, 15, 32], [15, 32], [2, 26], [2, 20, 26], [13, 28], [15, 32], [5, 15], [8, 9, 24], [20], [2, 17, 28, 29], [3], [25], [0, 15, 32], [2, 7, 11, 20], [2, 17], [13, 28], [15, 32], [19], [2, 3, 13, 28], [20], [6, 25], [0, 13, 15, 28, 32], [0, 2, 14, 15], [20], [23], [13, 27, 28], [2, 13, 28], [2, 4, 7, 33], [2, 20], [0, 15, 32], [14, 15, 31, 32], [20, 27], [30], [6, 22, 25], [12], [0, 15, 18, 32], [28, 29], [5, 15], [0, 28], [0, 10, 14, 15, 32], [14, 15], [2, 29], [2], [2, 13, 28], [15], [27], [15], [28], [2, 8, 9, 20], [20, 23], [12], [15, 31], [2, 3, 5, 28], [2, 3, 17, 20], [15], [25], [6], [4, 7], [2, 20], [15], [0, 5, 15], [3], [1, 2, 20, 33], [15], [2], [19], [13, 28], [0, 15, 28, 32], [15], [2, 17, 28], [23], [2, 20, 26], [8, 9, 20], [2, 20], [15], [15], [13, 20, 28], [5, 8, 9, 24], [2, 11, 28, 29], [15], [2, 29], [6], [22, 29], [23], [2], [15], [0, 15, 32], [2], [33], [2, 4], [15], [5, 15], [7, 20], [2, 3, 13, 28], [5, 12, 15], [2], [15], [3], [14, 15], [20], [19], [2, 11, 20], [28], [22], [14, 15], [19], [2, 3, 17, 20], [2], [14, 15, 18, 25, 32], [0, 15, 20, 32], [13, 28], [2, 13], [1, 20], [1, 5, 9, 16, 24], [19], [13, 28], [10, 15, 32], [28], [2, 17, 20], [15], [15], [15], [20, 27], [0, 15, 32], [2, 11, 13, 28], [2, 20], [22], [19, 20], [0, 10, 14, 15, 32], [3], [12], [23, 33], [0, 15], [15, 32], [2], [2, 4], [0, 10, 15, 20, 32], [0, 15, 31, 32], [2, 3, 7, 20], [20], [2, 11, 15, 22], [2, 3, 13], [2], [0, 12, 15, 32], [2, 7], [22, 25], [2, 17, 26], [4, 15], [15], [23], [20], [23], [8, 9, 24], [8, 9, 12], [33], [3], [31], [1, 24], [31], [20, 24, 27, 33]]\n",
            "before <multiprocessing.sharedctypes.c_uint_Array_7412 object at 0x7f8c9bee5dd0>\n",
            "before <multiprocessing.sharedctypes.c_uint_Array_7412 object at 0x7f8c9bee5dd0>\n",
            "after [[22], [2], [24, 27], [12], [14, 15, 21, 32], [20, 28], [2, 3, 11], [22, 25], [30], [0, 12, 15, 32], [2, 11], [15], [3], [5, 9, 16, 20, 24], [23], [20], [14, 15, 31], [1, 2, 28, 30], [2, 7], [28, 29], [2, 3, 17], [2, 7, 17, 26], [15, 28, 29], [25], [13, 28], [7], [1, 2, 7], [10, 15, 32], [5], [19], [8, 9, 12], [30], [13, 15], [15], [2, 11], [1, 20], [28], [20], [0, 15, 32], [15], [10, 15, 20, 21, 32], [2, 28], [2], [2], [6], [10, 15], [5, 9, 16, 24], [4, 20, 23], [19], [2, 3, 26], [2, 4], [13, 28], [0, 9, 15, 32], [25], [20, 28], [15, 32], [31], [30], [0, 10, 15, 32], [15, 32], [2, 26], [2, 20, 26], [13, 28], [15, 32], [5, 15], [8, 9, 24], [20], [2, 17, 28, 29], [3], [25], [0, 15, 32], [2, 7, 11, 20], [2, 17], [13, 28], [15, 32], [19], [2, 3, 13, 28], [20], [6, 25], [0, 13, 15, 28, 32], [0, 2, 14, 15], [20], [23], [13, 27, 28], [2, 13, 28], [2, 4, 7, 33], [2, 20], [0, 15, 32], [14, 15, 31, 32], [20, 27], [30], [6, 22, 25], [12], [0, 15, 18, 32], [28, 29], [5, 15], [0, 28], [0, 10, 14, 15, 32], [14, 15], [2, 29], [2], [2, 13, 28], [15], [27], [15], [28], [2, 8, 9, 20], [20, 23], [12], [15, 31], [2, 3, 5, 28], [2, 3, 17, 20], [15], [25], [6], [4, 7], [2, 20], [15], [0, 5, 15], [3], [1, 2, 20, 33], [15], [2], [19], [13, 28], [0, 15, 28, 32], [15], [2, 17, 28], [23], [2, 20, 26], [8, 9, 20], [2, 20], [15], [15], [13, 20, 28], [5, 8, 9, 24], [2, 11, 28, 29], [15], [2, 29], [6], [22, 29], [23], [2], [15], [0, 15, 32], [2], [33], [2, 4], [15], [5, 15], [7, 20], [2, 3, 13, 28], [5, 12, 15], [2], [15], [3], [14, 15], [20], [19], [2, 11, 20], [28], [22], [14, 15], [19], [2, 3, 17, 20], [2], [14, 15, 18, 25, 32], [0, 15, 20, 32], [13, 28], [2, 13], [1, 20], [1, 5, 9, 16, 24], [19], [13, 28], [10, 15, 32], [28], [2, 17, 20], [15], [15], [15], [20, 27], [0, 15, 32], [2, 11, 13, 28], [2, 20], [22], [19, 20], [0, 10, 14, 15, 32], [3], [12], [23, 33], [0, 15], [15, 32], [2], [2, 4], [0, 10, 15, 20, 32], [0, 15, 31, 32], [2, 3, 7, 20], [20], [2, 11, 15, 22], [2, 3, 13], [2], [0, 12, 15, 32], [2, 7], [22, 25], [2, 17, 26], [4, 15], [15], [23], [20], [23], [8, 9, 24], [8, 9, 12], [33], [3], [31], [1, 24], [31], [20, 24, 27, 33]]\n",
            "after [[22], [2], [24, 27], [12], [14, 15, 21, 32], [20, 28], [2, 3, 11], [22, 25], [30], [0, 12, 15, 32], [2, 11], [15], [3], [5, 9, 16, 20, 24], [23], [20], [14, 15, 31], [1, 2, 28, 30], [2, 7], [28, 29], [2, 3, 17], [2, 7, 17, 26], [15, 28, 29], [25], [13, 28], [7], [1, 2, 7], [10, 15, 32], [5], [19], [8, 9, 12], [30], [13, 15], [15], [2, 11], [1, 20], [28], [20], [0, 15, 32], [15], [10, 15, 20, 21, 32], [2, 28], [2], [2], [6], [10, 15], [5, 9, 16, 24], [4, 20, 23], [19], [2, 3, 26], [2, 4], [13, 28], [0, 9, 15, 32], [25], [20, 28], [15, 32], [31], [30], [0, 10, 15, 32], [15, 32], [2, 26], [2, 20, 26], [13, 28], [15, 32], [5, 15], [8, 9, 24], [20], [2, 17, 28, 29], [3], [25], [0, 15, 32], [2, 7, 11, 20], [2, 17], [13, 28], [15, 32], [19], [2, 3, 13, 28], [20], [6, 25], [0, 13, 15, 28, 32], [0, 2, 14, 15], [20], [23], [13, 27, 28], [2, 13, 28], [2, 4, 7, 33], [2, 20], [0, 15, 32], [14, 15, 31, 32], [20, 27], [30], [6, 22, 25], [12], [0, 15, 18, 32], [28, 29], [5, 15], [0, 28], [0, 10, 14, 15, 32], [14, 15], [2, 29], [2], [2, 13, 28], [15], [27], [15], [28], [2, 8, 9, 20], [20, 23], [12], [15, 31], [2, 3, 5, 28], [2, 3, 17, 20], [15], [25], [6], [4, 7], [2, 20], [15], [0, 5, 15], [3], [1, 2, 20, 33], [15], [2], [19], [13, 28], [0, 15, 28, 32], [15], [2, 17, 28], [23], [2, 20, 26], [8, 9, 20], [2, 20], [15], [15], [13, 20, 28], [5, 8, 9, 24], [2, 11, 28, 29], [15], [2, 29], [6], [22, 29], [23], [2], [15], [0, 15, 32], [2], [33], [2, 4], [15], [5, 15], [7, 20], [2, 3, 13, 28], [5, 12, 15], [2], [15], [3], [14, 15], [20], [19], [2, 11, 20], [28], [22], [14, 15], [19], [2, 3, 17, 20], [2], [14, 15, 18, 25, 32], [0, 15, 20, 32], [13, 28], [2, 13], [1, 20], [1, 5, 9, 16, 24], [19], [13, 28], [10, 15, 32], [28], [2, 17, 20], [15], [15], [15], [20, 27], [0, 15, 32], [2, 11, 13, 28], [2, 20], [22], [19, 20], [0, 10, 14, 15, 32], [3], [12], [23, 33], [0, 15], [15, 32], [2], [2, 4], [0, 10, 15, 20, 32], [0, 15, 31, 32], [2, 3, 7, 20], [20], [2, 11, 15, 22], [2, 3, 13], [2], [0, 12, 15, 32], [2, 7], [22, 25], [2, 17, 26], [4, 15], [15], [23], [20], [23], [8, 9, 24], [8, 9, 12], [33], [3], [31], [1, 24], [31], [20, 24, 27, 33]]\n",
            "before <multiprocessing.sharedctypes.c_uint_Array_7412 object at 0x7f8c9bee5dd0>\n",
            "after [[22], [2], [24, 27], [12], [14, 15, 21, 32], [20, 28], [2, 3, 11], [22, 25], [30], [0, 12, 15, 32], [2, 11], [15], [3], [5, 9, 16, 20, 24], [23], [20], [14, 15, 31], [1, 2, 28, 30], [2, 7], [28, 29], [2, 3, 17], [2, 7, 17, 26], [15, 28, 29], [25], [13, 28], [7], [1, 2, 7], [10, 15, 32], [5], [19], [8, 9, 12], [30], [13, 15], [15], [2, 11], [1, 20], [28], [20], [0, 15, 32], [15], [10, 15, 20, 21, 32], [2, 28], [2], [2], [6], [10, 15], [5, 9, 16, 24], [4, 20, 23], [19], [2, 3, 26], [2, 4], [13, 28], [0, 9, 15, 32], [25], [20, 28], [15, 32], [31], [30], [0, 10, 15, 32], [15, 32], [2, 26], [2, 20, 26], [13, 28], [15, 32], [5, 15], [8, 9, 24], [20], [2, 17, 28, 29], [3], [25], [0, 15, 32], [2, 7, 11, 20], [2, 17], [13, 28], [15, 32], [19], [2, 3, 13, 28], [20], [6, 25], [0, 13, 15, 28, 32], [0, 2, 14, 15], [20], [23], [13, 27, 28], [2, 13, 28], [2, 4, 7, 33], [2, 20], [0, 15, 32], [14, 15, 31, 32], [20, 27], [30], [6, 22, 25], [12], [0, 15, 18, 32], [28, 29], [5, 15], [0, 28], [0, 10, 14, 15, 32], [14, 15], [2, 29], [2], [2, 13, 28], [15], [27], [15], [28], [2, 8, 9, 20], [20, 23], [12], [15, 31], [2, 3, 5, 28], [2, 3, 17, 20], [15], [25], [6], [4, 7], [2, 20], [15], [0, 5, 15], [3], [1, 2, 20, 33], [15], [2], [19], [13, 28], [0, 15, 28, 32], [15], [2, 17, 28], [23], [2, 20, 26], [8, 9, 20], [2, 20], [15], [15], [13, 20, 28], [5, 8, 9, 24], [2, 11, 28, 29], [15], [2, 29], [6], [22, 29], [23], [2], [15], [0, 15, 32], [2], [33], [2, 4], [15], [5, 15], [7, 20], [2, 3, 13, 28], [5, 12, 15], [2], [15], [3], [14, 15], [20], [19], [2, 11, 20], [28], [22], [14, 15], [19], [2, 3, 17, 20], [2], [14, 15, 18, 25, 32], [0, 15, 20, 32], [13, 28], [2, 13], [1, 20], [1, 5, 9, 16, 24], [19], [13, 28], [10, 15, 32], [28], [2, 17, 20], [15], [15], [15], [20, 27], [0, 15, 32], [2, 11, 13, 28], [2, 20], [22], [19, 20], [0, 10, 14, 15, 32], [3], [12], [23, 33], [0, 15], [15, 32], [2], [2, 4], [0, 10, 15, 20, 32], [0, 15, 31, 32], [2, 3, 7, 20], [20], [2, 11, 15, 22], [2, 3, 13], [2], [0, 12, 15, 32], [2, 7], [22, 25], [2, 17, 26], [4, 15], [15], [23], [20], [23], [8, 9, 24], [8, 9, 12], [33], [3], [31], [1, 24], [31], [20, 24, 27, 33]]\n",
            "before <multiprocessing.sharedctypes.c_uint_Array_7412 object at 0x7f8c9bee5dd0>\n",
            "before <multiprocessing.sharedctypes.c_uint_Array_7412 object at 0x7f8c9bee5dd0>\n",
            "after [[22], [2], [24, 27], [12], [14, 15, 21, 32], [20, 28], [2, 3, 11], [22, 25], [30], [0, 12, 15, 32], [2, 11], [15], [3], [5, 9, 16, 20, 24], [23], [20], [14, 15, 31], [1, 2, 28, 30], [2, 7], [28, 29], [2, 3, 17], [2, 7, 17, 26], [15, 28, 29], [25], [13, 28], [7], [1, 2, 7], [10, 15, 32], [5], [19], [8, 9, 12], [30], [13, 15], [15], [2, 11], [1, 20], [28], [20], [0, 15, 32], [15], [10, 15, 20, 21, 32], [2, 28], [2], [2], [6], [10, 15], [5, 9, 16, 24], [4, 20, 23], [19], [2, 3, 26], [2, 4], [13, 28], [0, 9, 15, 32], [25], [20, 28], [15, 32], [31], [30], [0, 10, 15, 32], [15, 32], [2, 26], [2, 20, 26], [13, 28], [15, 32], [5, 15], [8, 9, 24], [20], [2, 17, 28, 29], [3], [25], [0, 15, 32], [2, 7, 11, 20], [2, 17], [13, 28], [15, 32], [19], [2, 3, 13, 28], [20], [6, 25], [0, 13, 15, 28, 32], [0, 2, 14, 15], [20], [23], [13, 27, 28], [2, 13, 28], [2, 4, 7, 33], [2, 20], [0, 15, 32], [14, 15, 31, 32], [20, 27], [30], [6, 22, 25], [12], [0, 15, 18, 32], [28, 29], [5, 15], [0, 28], [0, 10, 14, 15, 32], [14, 15], [2, 29], [2], [2, 13, 28], [15], [27], [15], [28], [2, 8, 9, 20], [20, 23], [12], [15, 31], [2, 3, 5, 28], [2, 3, 17, 20], [15], [25], [6], [4, 7], [2, 20], [15], [0, 5, 15], [3], [1, 2, 20, 33], [15], [2], [19], [13, 28], [0, 15, 28, 32], [15], [2, 17, 28], [23], [2, 20, 26], [8, 9, 20], [2, 20], [15], [15], [13, 20, 28], [5, 8, 9, 24], [2, 11, 28, 29], [15], [2, 29], [6], [22, 29], [23], [2], [15], [0, 15, 32], [2], [33], [2, 4], [15], [5, 15], [7, 20], [2, 3, 13, 28], [5, 12, 15], [2], [15], [3], [14, 15], [20], [19], [2, 11, 20], [28], [22], [14, 15], [19], [2, 3, 17, 20], [2], [14, 15, 18, 25, 32], [0, 15, 20, 32], [13, 28], [2, 13], [1, 20], [1, 5, 9, 16, 24], [19], [13, 28], [10, 15, 32], [28], [2, 17, 20], [15], [15], [15], [20, 27], [0, 15, 32], [2, 11, 13, 28], [2, 20], [22], [19, 20], [0, 10, 14, 15, 32], [3], [12], [23, 33], [0, 15], [15, 32], [2], [2, 4], [0, 10, 15, 20, 32], [0, 15, 31, 32], [2, 3, 7, 20], [20], [2, 11, 15, 22], [2, 3, 13], [2], [0, 12, 15, 32], [2, 7], [22, 25], [2, 17, 26], [4, 15], [15], [23], [20], [23], [8, 9, 24], [8, 9, 12], [33], [3], [31], [1, 24], [31], [20, 24, 27, 33]]\n",
            "after [[22], [2], [24, 27], [12], [14, 15, 21, 32], [20, 28], [2, 3, 11], [22, 25], [30], [0, 12, 15, 32], [2, 11], [15], [3], [5, 9, 16, 20, 24], [23], [20], [14, 15, 31], [1, 2, 28, 30], [2, 7], [28, 29], [2, 3, 17], [2, 7, 17, 26], [15, 28, 29], [25], [13, 28], [7], [1, 2, 7], [10, 15, 32], [5], [19], [8, 9, 12], [30], [13, 15], [15], [2, 11], [1, 20], [28], [20], [0, 15, 32], [15], [10, 15, 20, 21, 32], [2, 28], [2], [2], [6], [10, 15], [5, 9, 16, 24], [4, 20, 23], [19], [2, 3, 26], [2, 4], [13, 28], [0, 9, 15, 32], [25], [20, 28], [15, 32], [31], [30], [0, 10, 15, 32], [15, 32], [2, 26], [2, 20, 26], [13, 28], [15, 32], [5, 15], [8, 9, 24], [20], [2, 17, 28, 29], [3], [25], [0, 15, 32], [2, 7, 11, 20], [2, 17], [13, 28], [15, 32], [19], [2, 3, 13, 28], [20], [6, 25], [0, 13, 15, 28, 32], [0, 2, 14, 15], [20], [23], [13, 27, 28], [2, 13, 28], [2, 4, 7, 33], [2, 20], [0, 15, 32], [14, 15, 31, 32], [20, 27], [30], [6, 22, 25], [12], [0, 15, 18, 32], [28, 29], [5, 15], [0, 28], [0, 10, 14, 15, 32], [14, 15], [2, 29], [2], [2, 13, 28], [15], [27], [15], [28], [2, 8, 9, 20], [20, 23], [12], [15, 31], [2, 3, 5, 28], [2, 3, 17, 20], [15], [25], [6], [4, 7], [2, 20], [15], [0, 5, 15], [3], [1, 2, 20, 33], [15], [2], [19], [13, 28], [0, 15, 28, 32], [15], [2, 17, 28], [23], [2, 20, 26], [8, 9, 20], [2, 20], [15], [15], [13, 20, 28], [5, 8, 9, 24], [2, 11, 28, 29], [15], [2, 29], [6], [22, 29], [23], [2], [15], [0, 15, 32], [2], [33], [2, 4], [15], [5, 15], [7, 20], [2, 3, 13, 28], [5, 12, 15], [2], [15], [3], [14, 15], [20], [19], [2, 11, 20], [28], [22], [14, 15], [19], [2, 3, 17, 20], [2], [14, 15, 18, 25, 32], [0, 15, 20, 32], [13, 28], [2, 13], [1, 20], [1, 5, 9, 16, 24], [19], [13, 28], [10, 15, 32], [28], [2, 17, 20], [15], [15], [15], [20, 27], [0, 15, 32], [2, 11, 13, 28], [2, 20], [22], [19, 20], [0, 10, 14, 15, 32], [3], [12], [23, 33], [0, 15], [15, 32], [2], [2, 4], [0, 10, 15, 20, 32], [0, 15, 31, 32], [2, 3, 7, 20], [20], [2, 11, 15, 22], [2, 3, 13], [2], [0, 12, 15, 32], [2, 7], [22, 25], [2, 17, 26], [4, 15], [15], [23], [20], [23], [8, 9, 24], [8, 9, 12], [33], [3], [31], [1, 24], [31], [20, 24, 27, 33]]\n",
            "before <multiprocessing.sharedctypes.c_uint_Array_7412 object at 0x7f8c9bee5dd0>\n",
            "before <multiprocessing.sharedctypes.c_uint_Array_7412 object at 0x7f8c9bee5dd0>\n",
            "after [[22], [2], [24, 27], [12], [14, 15, 21, 32], [20, 28], [2, 3, 11], [22, 25], [30], [0, 12, 15, 32], [2, 11], [15], [3], [5, 9, 16, 20, 24], [23], [20], [14, 15, 31], [1, 2, 28, 30], [2, 7], [28, 29], [2, 3, 17], [2, 7, 17, 26], [15, 28, 29], [25], [13, 28], [7], [1, 2, 7], [10, 15, 32], [5], [19], [8, 9, 12], [30], [13, 15], [15], [2, 11], [1, 20], [28], [20], [0, 15, 32], [15], [10, 15, 20, 21, 32], [2, 28], [2], [2], [6], [10, 15], [5, 9, 16, 24], [4, 20, 23], [19], [2, 3, 26], [2, 4], [13, 28], [0, 9, 15, 32], [25], [20, 28], [15, 32], [31], [30], [0, 10, 15, 32], [15, 32], [2, 26], [2, 20, 26], [13, 28], [15, 32], [5, 15], [8, 9, 24], [20], [2, 17, 28, 29], [3], [25], [0, 15, 32], [2, 7, 11, 20], [2, 17], [13, 28], [15, 32], [19], [2, 3, 13, 28], [20], [6, 25], [0, 13, 15, 28, 32], [0, 2, 14, 15], [20], [23], [13, 27, 28], [2, 13, 28], [2, 4, 7, 33], [2, 20], [0, 15, 32], [14, 15, 31, 32], [20, 27], [30], [6, 22, 25], [12], [0, 15, 18, 32], [28, 29], [5, 15], [0, 28], [0, 10, 14, 15, 32], [14, 15], [2, 29], [2], [2, 13, 28], [15], [27], [15], [28], [2, 8, 9, 20], [20, 23], [12], [15, 31], [2, 3, 5, 28], [2, 3, 17, 20], [15], [25], [6], [4, 7], [2, 20], [15], [0, 5, 15], [3], [1, 2, 20, 33], [15], [2], [19], [13, 28], [0, 15, 28, 32], [15], [2, 17, 28], [23], [2, 20, 26], [8, 9, 20], [2, 20], [15], [15], [13, 20, 28], [5, 8, 9, 24], [2, 11, 28, 29], [15], [2, 29], [6], [22, 29], [23], [2], [15], [0, 15, 32], [2], [33], [2, 4], [15], [5, 15], [7, 20], [2, 3, 13, 28], [5, 12, 15], [2], [15], [3], [14, 15], [20], [19], [2, 11, 20], [28], [22], [14, 15], [19], [2, 3, 17, 20], [2], [14, 15, 18, 25, 32], [0, 15, 20, 32], [13, 28], [2, 13], [1, 20], [1, 5, 9, 16, 24], [19], [13, 28], [10, 15, 32], [28], [2, 17, 20], [15], [15], [15], [20, 27], [0, 15, 32], [2, 11, 13, 28], [2, 20], [22], [19, 20], [0, 10, 14, 15, 32], [3], [12], [23, 33], [0, 15], [15, 32], [2], [2, 4], [0, 10, 15, 20, 32], [0, 15, 31, 32], [2, 3, 7, 20], [20], [2, 11, 15, 22], [2, 3, 13], [2], [0, 12, 15, 32], [2, 7], [22, 25], [2, 17, 26], [4, 15], [15], [23], [20], [23], [8, 9, 24], [8, 9, 12], [33], [3], [31], [1, 24], [31], [20, 24, 27, 33]]\n",
            "before <multiprocessing.sharedctypes.c_uint_Array_7412 object at 0x7f8c9bee5dd0>\n",
            "after [[22], [2], [24, 27], [12], [14, 15, 21, 32], [20, 28], [2, 3, 11], [22, 25], [30], [0, 12, 15, 32], [2, 11], [15], [3], [5, 9, 16, 20, 24], [23], [20], [14, 15, 31], [1, 2, 28, 30], [2, 7], [28, 29], [2, 3, 17], [2, 7, 17, 26], [15, 28, 29], [25], [13, 28], [7], [1, 2, 7], [10, 15, 32], [5], [19], [8, 9, 12], [30], [13, 15], [15], [2, 11], [1, 20], [28], [20], [0, 15, 32], [15], [10, 15, 20, 21, 32], [2, 28], [2], [2], [6], [10, 15], [5, 9, 16, 24], [4, 20, 23], [19], [2, 3, 26], [2, 4], [13, 28], [0, 9, 15, 32], [25], [20, 28], [15, 32], [31], [30], [0, 10, 15, 32], [15, 32], [2, 26], [2, 20, 26], [13, 28], [15, 32], [5, 15], [8, 9, 24], [20], [2, 17, 28, 29], [3], [25], [0, 15, 32], [2, 7, 11, 20], [2, 17], [13, 28], [15, 32], [19], [2, 3, 13, 28], [20], [6, 25], [0, 13, 15, 28, 32], [0, 2, 14, 15], [20], [23], [13, 27, 28], [2, 13, 28], [2, 4, 7, 33], [2, 20], [0, 15, 32], [14, 15, 31, 32], [20, 27], [30], [6, 22, 25], [12], [0, 15, 18, 32], [28, 29], [5, 15], [0, 28], [0, 10, 14, 15, 32], [14, 15], [2, 29], [2], [2, 13, 28], [15], [27], [15], [28], [2, 8, 9, 20], [20, 23], [12], [15, 31], [2, 3, 5, 28], [2, 3, 17, 20], [15], [25], [6], [4, 7], [2, 20], [15], [0, 5, 15], [3], [1, 2, 20, 33], [15], [2], [19], [13, 28], [0, 15, 28, 32], [15], [2, 17, 28], [23], [2, 20, 26], [8, 9, 20], [2, 20], [15], [15], [13, 20, 28], [5, 8, 9, 24], [2, 11, 28, 29], [15], [2, 29], [6], [22, 29], [23], [2], [15], [0, 15, 32], [2], [33], [2, 4], [15], [5, 15], [7, 20], [2, 3, 13, 28], [5, 12, 15], [2], [15], [3], [14, 15], [20], [19], [2, 11, 20], [28], [22], [14, 15], [19], [2, 3, 17, 20], [2], [14, 15, 18, 25, 32], [0, 15, 20, 32], [13, 28], [2, 13], [1, 20], [1, 5, 9, 16, 24], [19], [13, 28], [10, 15, 32], [28], [2, 17, 20], [15], [15], [15], [20, 27], [0, 15, 32], [2, 11, 13, 28], [2, 20], [22], [19, 20], [0, 10, 14, 15, 32], [3], [12], [23, 33], [0, 15], [15, 32], [2], [2, 4], [0, 10, 15, 20, 32], [0, 15, 31, 32], [2, 3, 7, 20], [20], [2, 11, 15, 22], [2, 3, 13], [2], [0, 12, 15, 32], [2, 7], [22, 25], [2, 17, 26], [4, 15], [15], [23], [20], [23], [8, 9, 24], [8, 9, 12], [33], [3], [31], [1, 24], [31], [20, 24, 27, 33]]\n",
            "after [[22], [2], [24, 27], [12], [14, 15, 21, 32], [20, 28], [2, 3, 11], [22, 25], [30], [0, 12, 15, 32], [2, 11], [15], [3], [5, 9, 16, 20, 24], [23], [20], [14, 15, 31], [1, 2, 28, 30], [2, 7], [28, 29], [2, 3, 17], [2, 7, 17, 26], [15, 28, 29], [25], [13, 28], [7], [1, 2, 7], [10, 15, 32], [5], [19], [8, 9, 12], [30], [13, 15], [15], [2, 11], [1, 20], [28], [20], [0, 15, 32], [15], [10, 15, 20, 21, 32], [2, 28], [2], [2], [6], [10, 15], [5, 9, 16, 24], [4, 20, 23], [19], [2, 3, 26], [2, 4], [13, 28], [0, 9, 15, 32], [25], [20, 28], [15, 32], [31], [30], [0, 10, 15, 32], [15, 32], [2, 26], [2, 20, 26], [13, 28], [15, 32], [5, 15], [8, 9, 24], [20], [2, 17, 28, 29], [3], [25], [0, 15, 32], [2, 7, 11, 20], [2, 17], [13, 28], [15, 32], [19], [2, 3, 13, 28], [20], [6, 25], [0, 13, 15, 28, 32], [0, 2, 14, 15], [20], [23], [13, 27, 28], [2, 13, 28], [2, 4, 7, 33], [2, 20], [0, 15, 32], [14, 15, 31, 32], [20, 27], [30], [6, 22, 25], [12], [0, 15, 18, 32], [28, 29], [5, 15], [0, 28], [0, 10, 14, 15, 32], [14, 15], [2, 29], [2], [2, 13, 28], [15], [27], [15], [28], [2, 8, 9, 20], [20, 23], [12], [15, 31], [2, 3, 5, 28], [2, 3, 17, 20], [15], [25], [6], [4, 7], [2, 20], [15], [0, 5, 15], [3], [1, 2, 20, 33], [15], [2], [19], [13, 28], [0, 15, 28, 32], [15], [2, 17, 28], [23], [2, 20, 26], [8, 9, 20], [2, 20], [15], [15], [13, 20, 28], [5, 8, 9, 24], [2, 11, 28, 29], [15], [2, 29], [6], [22, 29], [23], [2], [15], [0, 15, 32], [2], [33], [2, 4], [15], [5, 15], [7, 20], [2, 3, 13, 28], [5, 12, 15], [2], [15], [3], [14, 15], [20], [19], [2, 11, 20], [28], [22], [14, 15], [19], [2, 3, 17, 20], [2], [14, 15, 18, 25, 32], [0, 15, 20, 32], [13, 28], [2, 13], [1, 20], [1, 5, 9, 16, 24], [19], [13, 28], [10, 15, 32], [28], [2, 17, 20], [15], [15], [15], [20, 27], [0, 15, 32], [2, 11, 13, 28], [2, 20], [22], [19, 20], [0, 10, 14, 15, 32], [3], [12], [23, 33], [0, 15], [15, 32], [2], [2, 4], [0, 10, 15, 20, 32], [0, 15, 31, 32], [2, 3, 7, 20], [20], [2, 11, 15, 22], [2, 3, 13], [2], [0, 12, 15, 32], [2, 7], [22, 25], [2, 17, 26], [4, 15], [15], [23], [20], [23], [8, 9, 24], [8, 9, 12], [33], [3], [31], [1, 24], [31], [20, 24, 27, 33]]\n",
            "before <multiprocessing.sharedctypes.c_uint_Array_7412 object at 0x7f8c9bee5dd0>\n",
            "before <multiprocessing.sharedctypes.c_uint_Array_7412 object at 0x7f8c9bee5dd0>\n",
            "after [[22], [2], [24, 27], [12], [14, 15, 21, 32], [20, 28], [2, 3, 11], [22, 25], [30], [0, 12, 15, 32], [2, 11], [15], [3], [5, 9, 16, 20, 24], [23], [20], [14, 15, 31], [1, 2, 28, 30], [2, 7], [28, 29], [2, 3, 17], [2, 7, 17, 26], [15, 28, 29], [25], [13, 28], [7], [1, 2, 7], [10, 15, 32], [5], [19], [8, 9, 12], [30], [13, 15], [15], [2, 11], [1, 20], [28], [20], [0, 15, 32], [15], [10, 15, 20, 21, 32], [2, 28], [2], [2], [6], [10, 15], [5, 9, 16, 24], [4, 20, 23], [19], [2, 3, 26], [2, 4], [13, 28], [0, 9, 15, 32], [25], [20, 28], [15, 32], [31], [30], [0, 10, 15, 32], [15, 32], [2, 26], [2, 20, 26], [13, 28], [15, 32], [5, 15], [8, 9, 24], [20], [2, 17, 28, 29], [3], [25], [0, 15, 32], [2, 7, 11, 20], [2, 17], [13, 28], [15, 32], [19], [2, 3, 13, 28], [20], [6, 25], [0, 13, 15, 28, 32], [0, 2, 14, 15], [20], [23], [13, 27, 28], [2, 13, 28], [2, 4, 7, 33], [2, 20], [0, 15, 32], [14, 15, 31, 32], [20, 27], [30], [6, 22, 25], [12], [0, 15, 18, 32], [28, 29], [5, 15], [0, 28], [0, 10, 14, 15, 32], [14, 15], [2, 29], [2], [2, 13, 28], [15], [27], [15], [28], [2, 8, 9, 20], [20, 23], [12], [15, 31], [2, 3, 5, 28], [2, 3, 17, 20], [15], [25], [6], [4, 7], [2, 20], [15], [0, 5, 15], [3], [1, 2, 20, 33], [15], [2], [19], [13, 28], [0, 15, 28, 32], [15], [2, 17, 28], [23], [2, 20, 26], [8, 9, 20], [2, 20], [15], [15], [13, 20, 28], [5, 8, 9, 24], [2, 11, 28, 29], [15], [2, 29], [6], [22, 29], [23], [2], [15], [0, 15, 32], [2], [33], [2, 4], [15], [5, 15], [7, 20], [2, 3, 13, 28], [5, 12, 15], [2], [15], [3], [14, 15], [20], [19], [2, 11, 20], [28], [22], [14, 15], [19], [2, 3, 17, 20], [2], [14, 15, 18, 25, 32], [0, 15, 20, 32], [13, 28], [2, 13], [1, 20], [1, 5, 9, 16, 24], [19], [13, 28], [10, 15, 32], [28], [2, 17, 20], [15], [15], [15], [20, 27], [0, 15, 32], [2, 11, 13, 28], [2, 20], [22], [19, 20], [0, 10, 14, 15, 32], [3], [12], [23, 33], [0, 15], [15, 32], [2], [2, 4], [0, 10, 15, 20, 32], [0, 15, 31, 32], [2, 3, 7, 20], [20], [2, 11, 15, 22], [2, 3, 13], [2], [0, 12, 15, 32], [2, 7], [22, 25], [2, 17, 26], [4, 15], [15], [23], [20], [23], [8, 9, 24], [8, 9, 12], [33], [3], [31], [1, 24], [31], [20, 24, 27, 33]]\n",
            "after [[22], [2], [24, 27], [12], [14, 15, 21, 32], [20, 28], [2, 3, 11], [22, 25], [30], [0, 12, 15, 32], [2, 11], [15], [3], [5, 9, 16, 20, 24], [23], [20], [14, 15, 31], [1, 2, 28, 30], [2, 7], [28, 29], [2, 3, 17], [2, 7, 17, 26], [15, 28, 29], [25], [13, 28], [7], [1, 2, 7], [10, 15, 32], [5], [19], [8, 9, 12], [30], [13, 15], [15], [2, 11], [1, 20], [28], [20], [0, 15, 32], [15], [10, 15, 20, 21, 32], [2, 28], [2], [2], [6], [10, 15], [5, 9, 16, 24], [4, 20, 23], [19], [2, 3, 26], [2, 4], [13, 28], [0, 9, 15, 32], [25], [20, 28], [15, 32], [31], [30], [0, 10, 15, 32], [15, 32], [2, 26], [2, 20, 26], [13, 28], [15, 32], [5, 15], [8, 9, 24], [20], [2, 17, 28, 29], [3], [25], [0, 15, 32], [2, 7, 11, 20], [2, 17], [13, 28], [15, 32], [19], [2, 3, 13, 28], [20], [6, 25], [0, 13, 15, 28, 32], [0, 2, 14, 15], [20], [23], [13, 27, 28], [2, 13, 28], [2, 4, 7, 33], [2, 20], [0, 15, 32], [14, 15, 31, 32], [20, 27], [30], [6, 22, 25], [12], [0, 15, 18, 32], [28, 29], [5, 15], [0, 28], [0, 10, 14, 15, 32], [14, 15], [2, 29], [2], [2, 13, 28], [15], [27], [15], [28], [2, 8, 9, 20], [20, 23], [12], [15, 31], [2, 3, 5, 28], [2, 3, 17, 20], [15], [25], [6], [4, 7], [2, 20], [15], [0, 5, 15], [3], [1, 2, 20, 33], [15], [2], [19], [13, 28], [0, 15, 28, 32], [15], [2, 17, 28], [23], [2, 20, 26], [8, 9, 20], [2, 20], [15], [15], [13, 20, 28], [5, 8, 9, 24], [2, 11, 28, 29], [15], [2, 29], [6], [22, 29], [23], [2], [15], [0, 15, 32], [2], [33], [2, 4], [15], [5, 15], [7, 20], [2, 3, 13, 28], [5, 12, 15], [2], [15], [3], [14, 15], [20], [19], [2, 11, 20], [28], [22], [14, 15], [19], [2, 3, 17, 20], [2], [14, 15, 18, 25, 32], [0, 15, 20, 32], [13, 28], [2, 13], [1, 20], [1, 5, 9, 16, 24], [19], [13, 28], [10, 15, 32], [28], [2, 17, 20], [15], [15], [15], [20, 27], [0, 15, 32], [2, 11, 13, 28], [2, 20], [22], [19, 20], [0, 10, 14, 15, 32], [3], [12], [23, 33], [0, 15], [15, 32], [2], [2, 4], [0, 10, 15, 20, 32], [0, 15, 31, 32], [2, 3, 7, 20], [20], [2, 11, 15, 22], [2, 3, 13], [2], [0, 12, 15, 32], [2, 7], [22, 25], [2, 17, 26], [4, 15], [15], [23], [20], [23], [8, 9, 24], [8, 9, 12], [33], [3], [31], [1, 24], [31], [20, 24, 27, 33]]\n",
            "before <multiprocessing.sharedctypes.c_uint_Array_7412 object at 0x7f8c9bee5dd0>\n",
            "before <multiprocessing.sharedctypes.c_uint_Array_7412 object at 0x7f8c9bee5dd0>\n",
            "after [[22], [2], [24, 27], [12], [14, 15, 21, 32], [20, 28], [2, 3, 11], [22, 25], [30], [0, 12, 15, 32], [2, 11], [15], [3], [5, 9, 16, 20, 24], [23], [20], [14, 15, 31], [1, 2, 28, 30], [2, 7], [28, 29], [2, 3, 17], [2, 7, 17, 26], [15, 28, 29], [25], [13, 28], [7], [1, 2, 7], [10, 15, 32], [5], [19], [8, 9, 12], [30], [13, 15], [15], [2, 11], [1, 20], [28], [20], [0, 15, 32], [15], [10, 15, 20, 21, 32], [2, 28], [2], [2], [6], [10, 15], [5, 9, 16, 24], [4, 20, 23], [19], [2, 3, 26], [2, 4], [13, 28], [0, 9, 15, 32], [25], [20, 28], [15, 32], [31], [30], [0, 10, 15, 32], [15, 32], [2, 26], [2, 20, 26], [13, 28], [15, 32], [5, 15], [8, 9, 24], [20], [2, 17, 28, 29], [3], [25], [0, 15, 32], [2, 7, 11, 20], [2, 17], [13, 28], [15, 32], [19], [2, 3, 13, 28], [20], [6, 25], [0, 13, 15, 28, 32], [0, 2, 14, 15], [20], [23], [13, 27, 28], [2, 13, 28], [2, 4, 7, 33], [2, 20], [0, 15, 32], [14, 15, 31, 32], [20, 27], [30], [6, 22, 25], [12], [0, 15, 18, 32], [28, 29], [5, 15], [0, 28], [0, 10, 14, 15, 32], [14, 15], [2, 29], [2], [2, 13, 28], [15], [27], [15], [28], [2, 8, 9, 20], [20, 23], [12], [15, 31], [2, 3, 5, 28], [2, 3, 17, 20], [15], [25], [6], [4, 7], [2, 20], [15], [0, 5, 15], [3], [1, 2, 20, 33], [15], [2], [19], [13, 28], [0, 15, 28, 32], [15], [2, 17, 28], [23], [2, 20, 26], [8, 9, 20], [2, 20], [15], [15], [13, 20, 28], [5, 8, 9, 24], [2, 11, 28, 29], [15], [2, 29], [6], [22, 29], [23], [2], [15], [0, 15, 32], [2], [33], [2, 4], [15], [5, 15], [7, 20], [2, 3, 13, 28], [5, 12, 15], [2], [15], [3], [14, 15], [20], [19], [2, 11, 20], [28], [22], [14, 15], [19], [2, 3, 17, 20], [2], [14, 15, 18, 25, 32], [0, 15, 20, 32], [13, 28], [2, 13], [1, 20], [1, 5, 9, 16, 24], [19], [13, 28], [10, 15, 32], [28], [2, 17, 20], [15], [15], [15], [20, 27], [0, 15, 32], [2, 11, 13, 28], [2, 20], [22], [19, 20], [0, 10, 14, 15, 32], [3], [12], [23, 33], [0, 15], [15, 32], [2], [2, 4], [0, 10, 15, 20, 32], [0, 15, 31, 32], [2, 3, 7, 20], [20], [2, 11, 15, 22], [2, 3, 13], [2], [0, 12, 15, 32], [2, 7], [22, 25], [2, 17, 26], [4, 15], [15], [23], [20], [23], [8, 9, 24], [8, 9, 12], [33], [3], [31], [1, 24], [31], [20, 24, 27, 33]]\n",
            "after [[22], [2], [24, 27], [12], [14, 15, 21, 32], [20, 28], [2, 3, 11], [22, 25], [30], [0, 12, 15, 32], [2, 11], [15], [3], [5, 9, 16, 20, 24], [23], [20], [14, 15, 31], [1, 2, 28, 30], [2, 7], [28, 29], [2, 3, 17], [2, 7, 17, 26], [15, 28, 29], [25], [13, 28], [7], [1, 2, 7], [10, 15, 32], [5], [19], [8, 9, 12], [30], [13, 15], [15], [2, 11], [1, 20], [28], [20], [0, 15, 32], [15], [10, 15, 20, 21, 32], [2, 28], [2], [2], [6], [10, 15], [5, 9, 16, 24], [4, 20, 23], [19], [2, 3, 26], [2, 4], [13, 28], [0, 9, 15, 32], [25], [20, 28], [15, 32], [31], [30], [0, 10, 15, 32], [15, 32], [2, 26], [2, 20, 26], [13, 28], [15, 32], [5, 15], [8, 9, 24], [20], [2, 17, 28, 29], [3], [25], [0, 15, 32], [2, 7, 11, 20], [2, 17], [13, 28], [15, 32], [19], [2, 3, 13, 28], [20], [6, 25], [0, 13, 15, 28, 32], [0, 2, 14, 15], [20], [23], [13, 27, 28], [2, 13, 28], [2, 4, 7, 33], [2, 20], [0, 15, 32], [14, 15, 31, 32], [20, 27], [30], [6, 22, 25], [12], [0, 15, 18, 32], [28, 29], [5, 15], [0, 28], [0, 10, 14, 15, 32], [14, 15], [2, 29], [2], [2, 13, 28], [15], [27], [15], [28], [2, 8, 9, 20], [20, 23], [12], [15, 31], [2, 3, 5, 28], [2, 3, 17, 20], [15], [25], [6], [4, 7], [2, 20], [15], [0, 5, 15], [3], [1, 2, 20, 33], [15], [2], [19], [13, 28], [0, 15, 28, 32], [15], [2, 17, 28], [23], [2, 20, 26], [8, 9, 20], [2, 20], [15], [15], [13, 20, 28], [5, 8, 9, 24], [2, 11, 28, 29], [15], [2, 29], [6], [22, 29], [23], [2], [15], [0, 15, 32], [2], [33], [2, 4], [15], [5, 15], [7, 20], [2, 3, 13, 28], [5, 12, 15], [2], [15], [3], [14, 15], [20], [19], [2, 11, 20], [28], [22], [14, 15], [19], [2, 3, 17, 20], [2], [14, 15, 18, 25, 32], [0, 15, 20, 32], [13, 28], [2, 13], [1, 20], [1, 5, 9, 16, 24], [19], [13, 28], [10, 15, 32], [28], [2, 17, 20], [15], [15], [15], [20, 27], [0, 15, 32], [2, 11, 13, 28], [2, 20], [22], [19, 20], [0, 10, 14, 15, 32], [3], [12], [23, 33], [0, 15], [15, 32], [2], [2, 4], [0, 10, 15, 20, 32], [0, 15, 31, 32], [2, 3, 7, 20], [20], [2, 11, 15, 22], [2, 3, 13], [2], [0, 12, 15, 32], [2, 7], [22, 25], [2, 17, 26], [4, 15], [15], [23], [20], [23], [8, 9, 24], [8, 9, 12], [33], [3], [31], [1, 24], [31], [20, 24, 27, 33]]\n",
            "before <multiprocessing.sharedctypes.c_uint_Array_7412 object at 0x7f8c9bee5dd0>\n",
            "before <multiprocessing.sharedctypes.c_uint_Array_7412 object at 0x7f8c9bee5dd0>\n",
            "after [[22], [2], [24, 27], [12], [14, 15, 21, 32], [20, 28], [2, 3, 11], [22, 25], [30], [0, 12, 15, 32], [2, 11], [15], [3], [5, 9, 16, 20, 24], [23], [20], [14, 15, 31], [1, 2, 28, 30], [2, 7], [28, 29], [2, 3, 17], [2, 7, 17, 26], [15, 28, 29], [25], [13, 28], [7], [1, 2, 7], [10, 15, 32], [5], [19], [8, 9, 12], [30], [13, 15], [15], [2, 11], [1, 20], [28], [20], [0, 15, 32], [15], [10, 15, 20, 21, 32], [2, 28], [2], [2], [6], [10, 15], [5, 9, 16, 24], [4, 20, 23], [19], [2, 3, 26], [2, 4], [13, 28], [0, 9, 15, 32], [25], [20, 28], [15, 32], [31], [30], [0, 10, 15, 32], [15, 32], [2, 26], [2, 20, 26], [13, 28], [15, 32], [5, 15], [8, 9, 24], [20], [2, 17, 28, 29], [3], [25], [0, 15, 32], [2, 7, 11, 20], [2, 17], [13, 28], [15, 32], [19], [2, 3, 13, 28], [20], [6, 25], [0, 13, 15, 28, 32], [0, 2, 14, 15], [20], [23], [13, 27, 28], [2, 13, 28], [2, 4, 7, 33], [2, 20], [0, 15, 32], [14, 15, 31, 32], [20, 27], [30], [6, 22, 25], [12], [0, 15, 18, 32], [28, 29], [5, 15], [0, 28], [0, 10, 14, 15, 32], [14, 15], [2, 29], [2], [2, 13, 28], [15], [27], [15], [28], [2, 8, 9, 20], [20, 23], [12], [15, 31], [2, 3, 5, 28], [2, 3, 17, 20], [15], [25], [6], [4, 7], [2, 20], [15], [0, 5, 15], [3], [1, 2, 20, 33], [15], [2], [19], [13, 28], [0, 15, 28, 32], [15], [2, 17, 28], [23], [2, 20, 26], [8, 9, 20], [2, 20], [15], [15], [13, 20, 28], [5, 8, 9, 24], [2, 11, 28, 29], [15], [2, 29], [6], [22, 29], [23], [2], [15], [0, 15, 32], [2], [33], [2, 4], [15], [5, 15], [7, 20], [2, 3, 13, 28], [5, 12, 15], [2], [15], [3], [14, 15], [20], [19], [2, 11, 20], [28], [22], [14, 15], [19], [2, 3, 17, 20], [2], [14, 15, 18, 25, 32], [0, 15, 20, 32], [13, 28], [2, 13], [1, 20], [1, 5, 9, 16, 24], [19], [13, 28], [10, 15, 32], [28], [2, 17, 20], [15], [15], [15], [20, 27], [0, 15, 32], [2, 11, 13, 28], [2, 20], [22], [19, 20], [0, 10, 14, 15, 32], [3], [12], [23, 33], [0, 15], [15, 32], [2], [2, 4], [0, 10, 15, 20, 32], [0, 15, 31, 32], [2, 3, 7, 20], [20], [2, 11, 15, 22], [2, 3, 13], [2], [0, 12, 15, 32], [2, 7], [22, 25], [2, 17, 26], [4, 15], [15], [23], [20], [23], [8, 9, 24], [8, 9, 12], [33], [3], [31], [1, 24], [31], [20, 24, 27, 33]]\n",
            "before <multiprocessing.sharedctypes.c_uint_Array_7412 object at 0x7f8c9bee5dd0>\n",
            "after [[22], [2], [24, 27], [12], [14, 15, 21, 32], [20, 28], [2, 3, 11], [22, 25], [30], [0, 12, 15, 32], [2, 11], [15], [3], [5, 9, 16, 20, 24], [23], [20], [14, 15, 31], [1, 2, 28, 30], [2, 7], [28, 29], [2, 3, 17], [2, 7, 17, 26], [15, 28, 29], [25], [13, 28], [7], [1, 2, 7], [10, 15, 32], [5], [19], [8, 9, 12], [30], [13, 15], [15], [2, 11], [1, 20], [28], [20], [0, 15, 32], [15], [10, 15, 20, 21, 32], [2, 28], [2], [2], [6], [10, 15], [5, 9, 16, 24], [4, 20, 23], [19], [2, 3, 26], [2, 4], [13, 28], [0, 9, 15, 32], [25], [20, 28], [15, 32], [31], [30], [0, 10, 15, 32], [15, 32], [2, 26], [2, 20, 26], [13, 28], [15, 32], [5, 15], [8, 9, 24], [20], [2, 17, 28, 29], [3], [25], [0, 15, 32], [2, 7, 11, 20], [2, 17], [13, 28], [15, 32], [19], [2, 3, 13, 28], [20], [6, 25], [0, 13, 15, 28, 32], [0, 2, 14, 15], [20], [23], [13, 27, 28], [2, 13, 28], [2, 4, 7, 33], [2, 20], [0, 15, 32], [14, 15, 31, 32], [20, 27], [30], [6, 22, 25], [12], [0, 15, 18, 32], [28, 29], [5, 15], [0, 28], [0, 10, 14, 15, 32], [14, 15], [2, 29], [2], [2, 13, 28], [15], [27], [15], [28], [2, 8, 9, 20], [20, 23], [12], [15, 31], [2, 3, 5, 28], [2, 3, 17, 20], [15], [25], [6], [4, 7], [2, 20], [15], [0, 5, 15], [3], [1, 2, 20, 33], [15], [2], [19], [13, 28], [0, 15, 28, 32], [15], [2, 17, 28], [23], [2, 20, 26], [8, 9, 20], [2, 20], [15], [15], [13, 20, 28], [5, 8, 9, 24], [2, 11, 28, 29], [15], [2, 29], [6], [22, 29], [23], [2], [15], [0, 15, 32], [2], [33], [2, 4], [15], [5, 15], [7, 20], [2, 3, 13, 28], [5, 12, 15], [2], [15], [3], [14, 15], [20], [19], [2, 11, 20], [28], [22], [14, 15], [19], [2, 3, 17, 20], [2], [14, 15, 18, 25, 32], [0, 15, 20, 32], [13, 28], [2, 13], [1, 20], [1, 5, 9, 16, 24], [19], [13, 28], [10, 15, 32], [28], [2, 17, 20], [15], [15], [15], [20, 27], [0, 15, 32], [2, 11, 13, 28], [2, 20], [22], [19, 20], [0, 10, 14, 15, 32], [3], [12], [23, 33], [0, 15], [15, 32], [2], [2, 4], [0, 10, 15, 20, 32], [0, 15, 31, 32], [2, 3, 7, 20], [20], [2, 11, 15, 22], [2, 3, 13], [2], [0, 12, 15, 32], [2, 7], [22, 25], [2, 17, 26], [4, 15], [15], [23], [20], [23], [8, 9, 24], [8, 9, 12], [33], [3], [31], [1, 24], [31], [20, 24, 27, 33]]\n",
            "after [[22], [2], [24, 27], [12], [14, 15, 21, 32], [20, 28], [2, 3, 11], [22, 25], [30], [0, 12, 15, 32], [2, 11], [15], [3], [5, 9, 16, 20, 24], [23], [20], [14, 15, 31], [1, 2, 28, 30], [2, 7], [28, 29], [2, 3, 17], [2, 7, 17, 26], [15, 28, 29], [25], [13, 28], [7], [1, 2, 7], [10, 15, 32], [5], [19], [8, 9, 12], [30], [13, 15], [15], [2, 11], [1, 20], [28], [20], [0, 15, 32], [15], [10, 15, 20, 21, 32], [2, 28], [2], [2], [6], [10, 15], [5, 9, 16, 24], [4, 20, 23], [19], [2, 3, 26], [2, 4], [13, 28], [0, 9, 15, 32], [25], [20, 28], [15, 32], [31], [30], [0, 10, 15, 32], [15, 32], [2, 26], [2, 20, 26], [13, 28], [15, 32], [5, 15], [8, 9, 24], [20], [2, 17, 28, 29], [3], [25], [0, 15, 32], [2, 7, 11, 20], [2, 17], [13, 28], [15, 32], [19], [2, 3, 13, 28], [20], [6, 25], [0, 13, 15, 28, 32], [0, 2, 14, 15], [20], [23], [13, 27, 28], [2, 13, 28], [2, 4, 7, 33], [2, 20], [0, 15, 32], [14, 15, 31, 32], [20, 27], [30], [6, 22, 25], [12], [0, 15, 18, 32], [28, 29], [5, 15], [0, 28], [0, 10, 14, 15, 32], [14, 15], [2, 29], [2], [2, 13, 28], [15], [27], [15], [28], [2, 8, 9, 20], [20, 23], [12], [15, 31], [2, 3, 5, 28], [2, 3, 17, 20], [15], [25], [6], [4, 7], [2, 20], [15], [0, 5, 15], [3], [1, 2, 20, 33], [15], [2], [19], [13, 28], [0, 15, 28, 32], [15], [2, 17, 28], [23], [2, 20, 26], [8, 9, 20], [2, 20], [15], [15], [13, 20, 28], [5, 8, 9, 24], [2, 11, 28, 29], [15], [2, 29], [6], [22, 29], [23], [2], [15], [0, 15, 32], [2], [33], [2, 4], [15], [5, 15], [7, 20], [2, 3, 13, 28], [5, 12, 15], [2], [15], [3], [14, 15], [20], [19], [2, 11, 20], [28], [22], [14, 15], [19], [2, 3, 17, 20], [2], [14, 15, 18, 25, 32], [0, 15, 20, 32], [13, 28], [2, 13], [1, 20], [1, 5, 9, 16, 24], [19], [13, 28], [10, 15, 32], [28], [2, 17, 20], [15], [15], [15], [20, 27], [0, 15, 32], [2, 11, 13, 28], [2, 20], [22], [19, 20], [0, 10, 14, 15, 32], [3], [12], [23, 33], [0, 15], [15, 32], [2], [2, 4], [0, 10, 15, 20, 32], [0, 15, 31, 32], [2, 3, 7, 20], [20], [2, 11, 15, 22], [2, 3, 13], [2], [0, 12, 15, 32], [2, 7], [22, 25], [2, 17, 26], [4, 15], [15], [23], [20], [23], [8, 9, 24], [8, 9, 12], [33], [3], [31], [1, 24], [31], [20, 24, 27, 33]]\n",
            "before <multiprocessing.sharedctypes.c_uint_Array_7412 object at 0x7f8c9bee5dd0>\n",
            "before <multiprocessing.sharedctypes.c_uint_Array_7412 object at 0x7f8c9bee5dd0>\n",
            "after [[22], [2], [24, 27], [12], [14, 15, 21, 32], [20, 28], [2, 3, 11], [22, 25], [30], [0, 12, 15, 32], [2, 11], [15], [3], [5, 9, 16, 20, 24], [23], [20], [14, 15, 31], [1, 2, 28, 30], [2, 7], [28, 29], [2, 3, 17], [2, 7, 17, 26], [15, 28, 29], [25], [13, 28], [7], [1, 2, 7], [10, 15, 32], [5], [19], [8, 9, 12], [30], [13, 15], [15], [2, 11], [1, 20], [28], [20], [0, 15, 32], [15], [10, 15, 20, 21, 32], [2, 28], [2], [2], [6], [10, 15], [5, 9, 16, 24], [4, 20, 23], [19], [2, 3, 26], [2, 4], [13, 28], [0, 9, 15, 32], [25], [20, 28], [15, 32], [31], [30], [0, 10, 15, 32], [15, 32], [2, 26], [2, 20, 26], [13, 28], [15, 32], [5, 15], [8, 9, 24], [20], [2, 17, 28, 29], [3], [25], [0, 15, 32], [2, 7, 11, 20], [2, 17], [13, 28], [15, 32], [19], [2, 3, 13, 28], [20], [6, 25], [0, 13, 15, 28, 32], [0, 2, 14, 15], [20], [23], [13, 27, 28], [2, 13, 28], [2, 4, 7, 33], [2, 20], [0, 15, 32], [14, 15, 31, 32], [20, 27], [30], [6, 22, 25], [12], [0, 15, 18, 32], [28, 29], [5, 15], [0, 28], [0, 10, 14, 15, 32], [14, 15], [2, 29], [2], [2, 13, 28], [15], [27], [15], [28], [2, 8, 9, 20], [20, 23], [12], [15, 31], [2, 3, 5, 28], [2, 3, 17, 20], [15], [25], [6], [4, 7], [2, 20], [15], [0, 5, 15], [3], [1, 2, 20, 33], [15], [2], [19], [13, 28], [0, 15, 28, 32], [15], [2, 17, 28], [23], [2, 20, 26], [8, 9, 20], [2, 20], [15], [15], [13, 20, 28], [5, 8, 9, 24], [2, 11, 28, 29], [15], [2, 29], [6], [22, 29], [23], [2], [15], [0, 15, 32], [2], [33], [2, 4], [15], [5, 15], [7, 20], [2, 3, 13, 28], [5, 12, 15], [2], [15], [3], [14, 15], [20], [19], [2, 11, 20], [28], [22], [14, 15], [19], [2, 3, 17, 20], [2], [14, 15, 18, 25, 32], [0, 15, 20, 32], [13, 28], [2, 13], [1, 20], [1, 5, 9, 16, 24], [19], [13, 28], [10, 15, 32], [28], [2, 17, 20], [15], [15], [15], [20, 27], [0, 15, 32], [2, 11, 13, 28], [2, 20], [22], [19, 20], [0, 10, 14, 15, 32], [3], [12], [23, 33], [0, 15], [15, 32], [2], [2, 4], [0, 10, 15, 20, 32], [0, 15, 31, 32], [2, 3, 7, 20], [20], [2, 11, 15, 22], [2, 3, 13], [2], [0, 12, 15, 32], [2, 7], [22, 25], [2, 17, 26], [4, 15], [15], [23], [20], [23], [8, 9, 24], [8, 9, 12], [33], [3], [31], [1, 24], [31], [20, 24, 27, 33]]\n",
            "after [[22], [2], [24, 27], [12], [14, 15, 21, 32], [20, 28], [2, 3, 11], [22, 25], [30], [0, 12, 15, 32], [2, 11], [15], [3], [5, 9, 16, 20, 24], [23], [20], [14, 15, 31], [1, 2, 28, 30], [2, 7], [28, 29], [2, 3, 17], [2, 7, 17, 26], [15, 28, 29], [25], [13, 28], [7], [1, 2, 7], [10, 15, 32], [5], [19], [8, 9, 12], [30], [13, 15], [15], [2, 11], [1, 20], [28], [20], [0, 15, 32], [15], [10, 15, 20, 21, 32], [2, 28], [2], [2], [6], [10, 15], [5, 9, 16, 24], [4, 20, 23], [19], [2, 3, 26], [2, 4], [13, 28], [0, 9, 15, 32], [25], [20, 28], [15, 32], [31], [30], [0, 10, 15, 32], [15, 32], [2, 26], [2, 20, 26], [13, 28], [15, 32], [5, 15], [8, 9, 24], [20], [2, 17, 28, 29], [3], [25], [0, 15, 32], [2, 7, 11, 20], [2, 17], [13, 28], [15, 32], [19], [2, 3, 13, 28], [20], [6, 25], [0, 13, 15, 28, 32], [0, 2, 14, 15], [20], [23], [13, 27, 28], [2, 13, 28], [2, 4, 7, 33], [2, 20], [0, 15, 32], [14, 15, 31, 32], [20, 27], [30], [6, 22, 25], [12], [0, 15, 18, 32], [28, 29], [5, 15], [0, 28], [0, 10, 14, 15, 32], [14, 15], [2, 29], [2], [2, 13, 28], [15], [27], [15], [28], [2, 8, 9, 20], [20, 23], [12], [15, 31], [2, 3, 5, 28], [2, 3, 17, 20], [15], [25], [6], [4, 7], [2, 20], [15], [0, 5, 15], [3], [1, 2, 20, 33], [15], [2], [19], [13, 28], [0, 15, 28, 32], [15], [2, 17, 28], [23], [2, 20, 26], [8, 9, 20], [2, 20], [15], [15], [13, 20, 28], [5, 8, 9, 24], [2, 11, 28, 29], [15], [2, 29], [6], [22, 29], [23], [2], [15], [0, 15, 32], [2], [33], [2, 4], [15], [5, 15], [7, 20], [2, 3, 13, 28], [5, 12, 15], [2], [15], [3], [14, 15], [20], [19], [2, 11, 20], [28], [22], [14, 15], [19], [2, 3, 17, 20], [2], [14, 15, 18, 25, 32], [0, 15, 20, 32], [13, 28], [2, 13], [1, 20], [1, 5, 9, 16, 24], [19], [13, 28], [10, 15, 32], [28], [2, 17, 20], [15], [15], [15], [20, 27], [0, 15, 32], [2, 11, 13, 28], [2, 20], [22], [19, 20], [0, 10, 14, 15, 32], [3], [12], [23, 33], [0, 15], [15, 32], [2], [2, 4], [0, 10, 15, 20, 32], [0, 15, 31, 32], [2, 3, 7, 20], [20], [2, 11, 15, 22], [2, 3, 13], [2], [0, 12, 15, 32], [2, 7], [22, 25], [2, 17, 26], [4, 15], [15], [23], [20], [23], [8, 9, 24], [8, 9, 12], [33], [3], [31], [1, 24], [31], [20, 24, 27, 33]]\n",
            "before <multiprocessing.sharedctypes.c_uint_Array_7412 object at 0x7f8c9bee5dd0>\n",
            "before <multiprocessing.sharedctypes.c_uint_Array_7412 object at 0x7f8c9bee5dd0>\n",
            "after [[22], [2], [24, 27], [12], [14, 15, 21, 32], [20, 28], [2, 3, 11], [22, 25], [30], [0, 12, 15, 32], [2, 11], [15], [3], [5, 9, 16, 20, 24], [23], [20], [14, 15, 31], [1, 2, 28, 30], [2, 7], [28, 29], [2, 3, 17], [2, 7, 17, 26], [15, 28, 29], [25], [13, 28], [7], [1, 2, 7], [10, 15, 32], [5], [19], [8, 9, 12], [30], [13, 15], [15], [2, 11], [1, 20], [28], [20], [0, 15, 32], [15], [10, 15, 20, 21, 32], [2, 28], [2], [2], [6], [10, 15], [5, 9, 16, 24], [4, 20, 23], [19], [2, 3, 26], [2, 4], [13, 28], [0, 9, 15, 32], [25], [20, 28], [15, 32], [31], [30], [0, 10, 15, 32], [15, 32], [2, 26], [2, 20, 26], [13, 28], [15, 32], [5, 15], [8, 9, 24], [20], [2, 17, 28, 29], [3], [25], [0, 15, 32], [2, 7, 11, 20], [2, 17], [13, 28], [15, 32], [19], [2, 3, 13, 28], [20], [6, 25], [0, 13, 15, 28, 32], [0, 2, 14, 15], [20], [23], [13, 27, 28], [2, 13, 28], [2, 4, 7, 33], [2, 20], [0, 15, 32], [14, 15, 31, 32], [20, 27], [30], [6, 22, 25], [12], [0, 15, 18, 32], [28, 29], [5, 15], [0, 28], [0, 10, 14, 15, 32], [14, 15], [2, 29], [2], [2, 13, 28], [15], [27], [15], [28], [2, 8, 9, 20], [20, 23], [12], [15, 31], [2, 3, 5, 28], [2, 3, 17, 20], [15], [25], [6], [4, 7], [2, 20], [15], [0, 5, 15], [3], [1, 2, 20, 33], [15], [2], [19], [13, 28], [0, 15, 28, 32], [15], [2, 17, 28], [23], [2, 20, 26], [8, 9, 20], [2, 20], [15], [15], [13, 20, 28], [5, 8, 9, 24], [2, 11, 28, 29], [15], [2, 29], [6], [22, 29], [23], [2], [15], [0, 15, 32], [2], [33], [2, 4], [15], [5, 15], [7, 20], [2, 3, 13, 28], [5, 12, 15], [2], [15], [3], [14, 15], [20], [19], [2, 11, 20], [28], [22], [14, 15], [19], [2, 3, 17, 20], [2], [14, 15, 18, 25, 32], [0, 15, 20, 32], [13, 28], [2, 13], [1, 20], [1, 5, 9, 16, 24], [19], [13, 28], [10, 15, 32], [28], [2, 17, 20], [15], [15], [15], [20, 27], [0, 15, 32], [2, 11, 13, 28], [2, 20], [22], [19, 20], [0, 10, 14, 15, 32], [3], [12], [23, 33], [0, 15], [15, 32], [2], [2, 4], [0, 10, 15, 20, 32], [0, 15, 31, 32], [2, 3, 7, 20], [20], [2, 11, 15, 22], [2, 3, 13], [2], [0, 12, 15, 32], [2, 7], [22, 25], [2, 17, 26], [4, 15], [15], [23], [20], [23], [8, 9, 24], [8, 9, 12], [33], [3], [31], [1, 24], [31], [20, 24, 27, 33]]\n",
            "after [[22], [2], [24, 27], [12], [14, 15, 21, 32], [20, 28], [2, 3, 11], [22, 25], [30], [0, 12, 15, 32], [2, 11], [15], [3], [5, 9, 16, 20, 24], [23], [20], [14, 15, 31], [1, 2, 28, 30], [2, 7], [28, 29], [2, 3, 17], [2, 7, 17, 26], [15, 28, 29], [25], [13, 28], [7], [1, 2, 7], [10, 15, 32], [5], [19], [8, 9, 12], [30], [13, 15], [15], [2, 11], [1, 20], [28], [20], [0, 15, 32], [15], [10, 15, 20, 21, 32], [2, 28], [2], [2], [6], [10, 15], [5, 9, 16, 24], [4, 20, 23], [19], [2, 3, 26], [2, 4], [13, 28], [0, 9, 15, 32], [25], [20, 28], [15, 32], [31], [30], [0, 10, 15, 32], [15, 32], [2, 26], [2, 20, 26], [13, 28], [15, 32], [5, 15], [8, 9, 24], [20], [2, 17, 28, 29], [3], [25], [0, 15, 32], [2, 7, 11, 20], [2, 17], [13, 28], [15, 32], [19], [2, 3, 13, 28], [20], [6, 25], [0, 13, 15, 28, 32], [0, 2, 14, 15], [20], [23], [13, 27, 28], [2, 13, 28], [2, 4, 7, 33], [2, 20], [0, 15, 32], [14, 15, 31, 32], [20, 27], [30], [6, 22, 25], [12], [0, 15, 18, 32], [28, 29], [5, 15], [0, 28], [0, 10, 14, 15, 32], [14, 15], [2, 29], [2], [2, 13, 28], [15], [27], [15], [28], [2, 8, 9, 20], [20, 23], [12], [15, 31], [2, 3, 5, 28], [2, 3, 17, 20], [15], [25], [6], [4, 7], [2, 20], [15], [0, 5, 15], [3], [1, 2, 20, 33], [15], [2], [19], [13, 28], [0, 15, 28, 32], [15], [2, 17, 28], [23], [2, 20, 26], [8, 9, 20], [2, 20], [15], [15], [13, 20, 28], [5, 8, 9, 24], [2, 11, 28, 29], [15], [2, 29], [6], [22, 29], [23], [2], [15], [0, 15, 32], [2], [33], [2, 4], [15], [5, 15], [7, 20], [2, 3, 13, 28], [5, 12, 15], [2], [15], [3], [14, 15], [20], [19], [2, 11, 20], [28], [22], [14, 15], [19], [2, 3, 17, 20], [2], [14, 15, 18, 25, 32], [0, 15, 20, 32], [13, 28], [2, 13], [1, 20], [1, 5, 9, 16, 24], [19], [13, 28], [10, 15, 32], [28], [2, 17, 20], [15], [15], [15], [20, 27], [0, 15, 32], [2, 11, 13, 28], [2, 20], [22], [19, 20], [0, 10, 14, 15, 32], [3], [12], [23, 33], [0, 15], [15, 32], [2], [2, 4], [0, 10, 15, 20, 32], [0, 15, 31, 32], [2, 3, 7, 20], [20], [2, 11, 15, 22], [2, 3, 13], [2], [0, 12, 15, 32], [2, 7], [22, 25], [2, 17, 26], [4, 15], [15], [23], [20], [23], [8, 9, 24], [8, 9, 12], [33], [3], [31], [1, 24], [31], [20, 24, 27, 33]]\n",
            "before <multiprocessing.sharedctypes.c_uint_Array_7412 object at 0x7f8c9bee5dd0>\n",
            "before <multiprocessing.sharedctypes.c_uint_Array_7412 object at 0x7f8c9bee5dd0>\n",
            "after [[22], [2], [24, 27], [12], [14, 15, 21, 32], [20, 28], [2, 3, 11], [22, 25], [30], [0, 12, 15, 32], [2, 11], [15], [3], [5, 9, 16, 20, 24], [23], [20], [14, 15, 31], [1, 2, 28, 30], [2, 7], [28, 29], [2, 3, 17], [2, 7, 17, 26], [15, 28, 29], [25], [13, 28], [7], [1, 2, 7], [10, 15, 32], [5], [19], [8, 9, 12], [30], [13, 15], [15], [2, 11], [1, 20], [28], [20], [0, 15, 32], [15], [10, 15, 20, 21, 32], [2, 28], [2], [2], [6], [10, 15], [5, 9, 16, 24], [4, 20, 23], [19], [2, 3, 26], [2, 4], [13, 28], [0, 9, 15, 32], [25], [20, 28], [15, 32], [31], [30], [0, 10, 15, 32], [15, 32], [2, 26], [2, 20, 26], [13, 28], [15, 32], [5, 15], [8, 9, 24], [20], [2, 17, 28, 29], [3], [25], [0, 15, 32], [2, 7, 11, 20], [2, 17], [13, 28], [15, 32], [19], [2, 3, 13, 28], [20], [6, 25], [0, 13, 15, 28, 32], [0, 2, 14, 15], [20], [23], [13, 27, 28], [2, 13, 28], [2, 4, 7, 33], [2, 20], [0, 15, 32], [14, 15, 31, 32], [20, 27], [30], [6, 22, 25], [12], [0, 15, 18, 32], [28, 29], [5, 15], [0, 28], [0, 10, 14, 15, 32], [14, 15], [2, 29], [2], [2, 13, 28], [15], [27], [15], [28], [2, 8, 9, 20], [20, 23], [12], [15, 31], [2, 3, 5, 28], [2, 3, 17, 20], [15], [25], [6], [4, 7], [2, 20], [15], [0, 5, 15], [3], [1, 2, 20, 33], [15], [2], [19], [13, 28], [0, 15, 28, 32], [15], [2, 17, 28], [23], [2, 20, 26], [8, 9, 20], [2, 20], [15], [15], [13, 20, 28], [5, 8, 9, 24], [2, 11, 28, 29], [15], [2, 29], [6], [22, 29], [23], [2], [15], [0, 15, 32], [2], [33], [2, 4], [15], [5, 15], [7, 20], [2, 3, 13, 28], [5, 12, 15], [2], [15], [3], [14, 15], [20], [19], [2, 11, 20], [28], [22], [14, 15], [19], [2, 3, 17, 20], [2], [14, 15, 18, 25, 32], [0, 15, 20, 32], [13, 28], [2, 13], [1, 20], [1, 5, 9, 16, 24], [19], [13, 28], [10, 15, 32], [28], [2, 17, 20], [15], [15], [15], [20, 27], [0, 15, 32], [2, 11, 13, 28], [2, 20], [22], [19, 20], [0, 10, 14, 15, 32], [3], [12], [23, 33], [0, 15], [15, 32], [2], [2, 4], [0, 10, 15, 20, 32], [0, 15, 31, 32], [2, 3, 7, 20], [20], [2, 11, 15, 22], [2, 3, 13], [2], [0, 12, 15, 32], [2, 7], [22, 25], [2, 17, 26], [4, 15], [15], [23], [20], [23], [8, 9, 24], [8, 9, 12], [33], [3], [31], [1, 24], [31], [20, 24, 27, 33]]\n",
            "after [[22], [2], [24, 27], [12], [14, 15, 21, 32], [20, 28], [2, 3, 11], [22, 25], [30], [0, 12, 15, 32], [2, 11], [15], [3], [5, 9, 16, 20, 24], [23], [20], [14, 15, 31], [1, 2, 28, 30], [2, 7], [28, 29], [2, 3, 17], [2, 7, 17, 26], [15, 28, 29], [25], [13, 28], [7], [1, 2, 7], [10, 15, 32], [5], [19], [8, 9, 12], [30], [13, 15], [15], [2, 11], [1, 20], [28], [20], [0, 15, 32], [15], [10, 15, 20, 21, 32], [2, 28], [2], [2], [6], [10, 15], [5, 9, 16, 24], [4, 20, 23], [19], [2, 3, 26], [2, 4], [13, 28], [0, 9, 15, 32], [25], [20, 28], [15, 32], [31], [30], [0, 10, 15, 32], [15, 32], [2, 26], [2, 20, 26], [13, 28], [15, 32], [5, 15], [8, 9, 24], [20], [2, 17, 28, 29], [3], [25], [0, 15, 32], [2, 7, 11, 20], [2, 17], [13, 28], [15, 32], [19], [2, 3, 13, 28], [20], [6, 25], [0, 13, 15, 28, 32], [0, 2, 14, 15], [20], [23], [13, 27, 28], [2, 13, 28], [2, 4, 7, 33], [2, 20], [0, 15, 32], [14, 15, 31, 32], [20, 27], [30], [6, 22, 25], [12], [0, 15, 18, 32], [28, 29], [5, 15], [0, 28], [0, 10, 14, 15, 32], [14, 15], [2, 29], [2], [2, 13, 28], [15], [27], [15], [28], [2, 8, 9, 20], [20, 23], [12], [15, 31], [2, 3, 5, 28], [2, 3, 17, 20], [15], [25], [6], [4, 7], [2, 20], [15], [0, 5, 15], [3], [1, 2, 20, 33], [15], [2], [19], [13, 28], [0, 15, 28, 32], [15], [2, 17, 28], [23], [2, 20, 26], [8, 9, 20], [2, 20], [15], [15], [13, 20, 28], [5, 8, 9, 24], [2, 11, 28, 29], [15], [2, 29], [6], [22, 29], [23], [2], [15], [0, 15, 32], [2], [33], [2, 4], [15], [5, 15], [7, 20], [2, 3, 13, 28], [5, 12, 15], [2], [15], [3], [14, 15], [20], [19], [2, 11, 20], [28], [22], [14, 15], [19], [2, 3, 17, 20], [2], [14, 15, 18, 25, 32], [0, 15, 20, 32], [13, 28], [2, 13], [1, 20], [1, 5, 9, 16, 24], [19], [13, 28], [10, 15, 32], [28], [2, 17, 20], [15], [15], [15], [20, 27], [0, 15, 32], [2, 11, 13, 28], [2, 20], [22], [19, 20], [0, 10, 14, 15, 32], [3], [12], [23, 33], [0, 15], [15, 32], [2], [2, 4], [0, 10, 15, 20, 32], [0, 15, 31, 32], [2, 3, 7, 20], [20], [2, 11, 15, 22], [2, 3, 13], [2], [0, 12, 15, 32], [2, 7], [22, 25], [2, 17, 26], [4, 15], [15], [23], [20], [23], [8, 9, 24], [8, 9, 12], [33], [3], [31], [1, 24], [31], [20, 24, 27, 33]]\n",
            "before <multiprocessing.sharedctypes.c_uint_Array_7412 object at 0x7f8c9bee5dd0>\n",
            "after [[22], [2], [24, 27], [12], [14, 15, 21, 32], [20, 28], [2, 3, 11], [22, 25], [30], [0, 12, 15, 32], [2, 11], [15], [3], [5, 9, 16, 20, 24], [23], [20], [14, 15, 31], [1, 2, 28, 30], [2, 7], [28, 29], [2, 3, 17], [2, 7, 17, 26], [15, 28, 29], [25], [13, 28], [7], [1, 2, 7], [10, 15, 32], [5], [19], [8, 9, 12], [30], [13, 15], [15], [2, 11], [1, 20], [28], [20], [0, 15, 32], [15], [10, 15, 20, 21, 32], [2, 28], [2], [2], [6], [10, 15], [5, 9, 16, 24], [4, 20, 23], [19], [2, 3, 26], [2, 4], [13, 28], [0, 9, 15, 32], [25], [20, 28], [15, 32], [31], [30], [0, 10, 15, 32], [15, 32], [2, 26], [2, 20, 26], [13, 28], [15, 32], [5, 15], [8, 9, 24], [20], [2, 17, 28, 29], [3], [25], [0, 15, 32], [2, 7, 11, 20], [2, 17], [13, 28], [15, 32], [19], [2, 3, 13, 28], [20], [6, 25], [0, 13, 15, 28, 32], [0, 2, 14, 15], [20], [23], [13, 27, 28], [2, 13, 28], [2, 4, 7, 33], [2, 20], [0, 15, 32], [14, 15, 31, 32], [20, 27], [30], [6, 22, 25], [12], [0, 15, 18, 32], [28, 29], [5, 15], [0, 28], [0, 10, 14, 15, 32], [14, 15], [2, 29], [2], [2, 13, 28], [15], [27], [15], [28], [2, 8, 9, 20], [20, 23], [12], [15, 31], [2, 3, 5, 28], [2, 3, 17, 20], [15], [25], [6], [4, 7], [2, 20], [15], [0, 5, 15], [3], [1, 2, 20, 33], [15], [2], [19], [13, 28], [0, 15, 28, 32], [15], [2, 17, 28], [23], [2, 20, 26], [8, 9, 20], [2, 20], [15], [15], [13, 20, 28], [5, 8, 9, 24], [2, 11, 28, 29], [15], [2, 29], [6], [22, 29], [23], [2], [15], [0, 15, 32], [2], [33], [2, 4], [15], [5, 15], [7, 20], [2, 3, 13, 28], [5, 12, 15], [2], [15], [3], [14, 15], [20], [19], [2, 11, 20], [28], [22], [14, 15], [19], [2, 3, 17, 20], [2], [14, 15, 18, 25, 32], [0, 15, 20, 32], [13, 28], [2, 13], [1, 20], [1, 5, 9, 16, 24], [19], [13, 28], [10, 15, 32], [28], [2, 17, 20], [15], [15], [15], [20, 27], [0, 15, 32], [2, 11, 13, 28], [2, 20], [22], [19, 20], [0, 10, 14, 15, 32], [3], [12], [23, 33], [0, 15], [15, 32], [2], [2, 4], [0, 10, 15, 20, 32], [0, 15, 31, 32], [2, 3, 7, 20], [20], [2, 11, 15, 22], [2, 3, 13], [2], [0, 12, 15, 32], [2, 7], [22, 25], [2, 17, 26], [4, 15], [15], [23], [20], [23], [8, 9, 24], [8, 9, 12], [33], [3], [31], [1, 24], [31], [20, 24, 27, 33]]\n",
            "before <multiprocessing.sharedctypes.c_uint_Array_7412 object at 0x7f8c9bee5dd0>\n",
            "after [[22], [2], [24, 27], [12], [14, 15, 21, 32], [20, 28], [2, 3, 11], [22, 25], [30], [0, 12, 15, 32], [2, 11], [15], [3], [5, 9, 16, 20, 24], [23], [20], [14, 15, 31], [1, 2, 28, 30], [2, 7], [28, 29], [2, 3, 17], [2, 7, 17, 26], [15, 28, 29], [25], [13, 28], [7], [1, 2, 7], [10, 15, 32], [5], [19], [8, 9, 12], [30], [13, 15], [15], [2, 11], [1, 20], [28], [20], [0, 15, 32], [15], [10, 15, 20, 21, 32], [2, 28], [2], [2], [6], [10, 15], [5, 9, 16, 24], [4, 20, 23], [19], [2, 3, 26], [2, 4], [13, 28], [0, 9, 15, 32], [25], [20, 28], [15, 32], [31], [30], [0, 10, 15, 32], [15, 32], [2, 26], [2, 20, 26], [13, 28], [15, 32], [5, 15], [8, 9, 24], [20], [2, 17, 28, 29], [3], [25], [0, 15, 32], [2, 7, 11, 20], [2, 17], [13, 28], [15, 32], [19], [2, 3, 13, 28], [20], [6, 25], [0, 13, 15, 28, 32], [0, 2, 14, 15], [20], [23], [13, 27, 28], [2, 13, 28], [2, 4, 7, 33], [2, 20], [0, 15, 32], [14, 15, 31, 32], [20, 27], [30], [6, 22, 25], [12], [0, 15, 18, 32], [28, 29], [5, 15], [0, 28], [0, 10, 14, 15, 32], [14, 15], [2, 29], [2], [2, 13, 28], [15], [27], [15], [28], [2, 8, 9, 20], [20, 23], [12], [15, 31], [2, 3, 5, 28], [2, 3, 17, 20], [15], [25], [6], [4, 7], [2, 20], [15], [0, 5, 15], [3], [1, 2, 20, 33], [15], [2], [19], [13, 28], [0, 15, 28, 32], [15], [2, 17, 28], [23], [2, 20, 26], [8, 9, 20], [2, 20], [15], [15], [13, 20, 28], [5, 8, 9, 24], [2, 11, 28, 29], [15], [2, 29], [6], [22, 29], [23], [2], [15], [0, 15, 32], [2], [33], [2, 4], [15], [5, 15], [7, 20], [2, 3, 13, 28], [5, 12, 15], [2], [15], [3], [14, 15], [20], [19], [2, 11, 20], [28], [22], [14, 15], [19], [2, 3, 17, 20], [2], [14, 15, 18, 25, 32], [0, 15, 20, 32], [13, 28], [2, 13], [1, 20], [1, 5, 9, 16, 24], [19], [13, 28], [10, 15, 32], [28], [2, 17, 20], [15], [15], [15], [20, 27], [0, 15, 32], [2, 11, 13, 28], [2, 20], [22], [19, 20], [0, 10, 14, 15, 32], [3], [12], [23, 33], [0, 15], [15, 32], [2], [2, 4], [0, 10, 15, 20, 32], [0, 15, 31, 32], [2, 3, 7, 20], [20], [2, 11, 15, 22], [2, 3, 13], [2], [0, 12, 15, 32], [2, 7], [22, 25], [2, 17, 26], [4, 15], [15], [23], [20], [23], [8, 9, 24], [8, 9, 12], [33], [3], [31], [1, 24], [31], [20, 24, 27, 33]]\n"
          ]
        }
      ]
    },
    {
      "cell_type": "markdown",
      "source": [
        "Not all of these are necessarily labeling errors but situations where the predicted probabilities were not so confident. Therefore, it will be useful to attach the predicted outcomes along side results. This way, we can know if we need to relabel, upsample, etc. as mitigration strategies to improve our performance."
      ],
      "metadata": {
        "id": "mJtRKw9__l9k"
      }
    },
    {
      "cell_type": "code",
      "source": [
        "num_samples = 5\n",
        "for index in label_error_indices[:num_samples]:\n",
        "    print (\"text:\", test_df.iloc[index].text)\n",
        "    print (\"labels:\",test_df.iloc[index].tags)\n",
        "    print (\"pred:\", label_encoder.decode([y_pred[index]]))\n",
        "    print ()"
      ],
      "metadata": {
        "id": "GfqX5jNz75Jo",
        "outputId": "3b3d4837-e188-4eb9-e1e0-465ee931cf3d",
        "colab": {
          "base_uri": "https://localhost:8080/"
        }
      },
      "execution_count": null,
      "outputs": [
        {
          "output_type": "stream",
          "name": "stdout",
          "text": [
            "text: tensorflow js object detection browser real time object detection model browser using tensorflow js\n",
            "labels: ['computer-vision', 'object-detection', 'tensorflow', 'tensorflow-js']\n",
            "pred: [['computer-vision', 'convolutional-neural-networks', 'object-detection', 'tensorflow', 'tensorflow-js']]\n",
            "\n",
            "text: first steps tensorflow js create basic ai models use sophisticated models tensorflow js\n",
            "labels: ['tensorflow', 'tensorflow-js']\n",
            "pred: [['computer-vision', 'tensorflow', 'tensorflow-js']]\n",
            "\n",
            "text: optimize ml models learn use optimize custom image classification models built tf keras using tensorflow lite gain 10x reduction modelsize\n",
            "labels: ['computer-vision', 'image-classification', 'keras', 'tensorflow']\n",
            "pred: [['computer-vision', 'convolutional-neural-networks', 'image-classification', 'keras', 'tensorflow']]\n",
            "\n",
            "text: pcdet 3d point cloud detection pcdet toolbox pytorch 3d object detection point cloud\n",
            "labels: ['computer-vision', 'convolutional-neural-networks', 'object-detection', 'pytorch']\n",
            "pred: [['computer-vision', 'object-detection', 'pytorch']]\n",
            "\n",
            "text: clustered graph convolutional networks pytorch implementation cluster gcn efficient algorithm training deep large graph convolutional networks kdd 2019\n",
            "labels: ['embeddings', 'graphs', 'node-classification', 'pytorch', 'representation-learning']\n",
            "pred: [['embeddings', 'graph-neural-networks', 'graphs', 'node-classification', 'pytorch', 'representation-learning']]\n",
            "\n"
          ]
        }
      ]
    },
    {
      "cell_type": "markdown",
      "source": [
        "### Slice metrics"
      ],
      "metadata": {
        "id": "dvS3UpusXP_R"
      }
    },
    {
      "cell_type": "markdown",
      "source": [
        "Evaluate performance on key slices of data that goes beyond class-level metrics."
      ],
      "metadata": {
        "id": "eeWWMG38Ny4U"
      }
    },
    {
      "cell_type": "code",
      "execution_count": null,
      "source": [
        "from snorkel.slicing import PandasSFApplier\n",
        "from snorkel.slicing import slice_dataframe\n",
        "from snorkel.slicing import slicing_function"
      ],
      "outputs": [],
      "metadata": {
        "id": "ZyueOtQsXdGm"
      }
    },
    {
      "cell_type": "code",
      "execution_count": null,
      "source": [
        "@slicing_function()\n",
        "def pytorch_transformers(x):\n",
        "    \"\"\"Projects with the `pytorch` and `transformers` tags.\"\"\"\n",
        "    return all(tag in x.tags for tag in [\"pytorch\", \"transformers\"])"
      ],
      "outputs": [],
      "metadata": {
        "id": "coutP2KtXdLG"
      }
    },
    {
      "cell_type": "code",
      "execution_count": null,
      "source": [
        "@slicing_function()\n",
        "def short_text(x):\n",
        "    \"\"\"Projects with short titles and descriptions.\"\"\"\n",
        "    return len(x.text.split()) < 7  # less than 7 words"
      ],
      "outputs": [],
      "metadata": {
        "id": "zNekudM4XfBE"
      }
    },
    {
      "cell_type": "code",
      "execution_count": null,
      "source": [
        "short_text_df = slice_dataframe(test_df, short_text)\n",
        "short_text_df[[\"text\", \"tags\"]].head()"
      ],
      "outputs": [
        {
          "output_type": "stream",
          "name": "stderr",
          "text": [
            "100%|██████████| 218/218 [00:00<00:00, 16131.94it/s]\n"
          ]
        },
        {
          "output_type": "execute_result",
          "data": {
            "text/html": [
              "\n",
              "  <div id=\"df-4c55a35e-e2e2-4fec-903a-91f0c47eaf86\">\n",
              "    <div class=\"colab-df-container\">\n",
              "      <div>\n",
              "<style scoped>\n",
              "    .dataframe tbody tr th:only-of-type {\n",
              "        vertical-align: middle;\n",
              "    }\n",
              "\n",
              "    .dataframe tbody tr th {\n",
              "        vertical-align: top;\n",
              "    }\n",
              "\n",
              "    .dataframe thead th {\n",
              "        text-align: right;\n",
              "    }\n",
              "</style>\n",
              "<table border=\"1\" class=\"dataframe\">\n",
              "  <thead>\n",
              "    <tr style=\"text-align: right;\">\n",
              "      <th></th>\n",
              "      <th>text</th>\n",
              "      <th>tags</th>\n",
              "    </tr>\n",
              "  </thead>\n",
              "  <tbody>\n",
              "    <tr>\n",
              "      <th>44</th>\n",
              "      <td>flask sqlalchemy adds sqlalchemy support flask</td>\n",
              "      <td>[flask]</td>\n",
              "    </tr>\n",
              "    <tr>\n",
              "      <th>69</th>\n",
              "      <td>scikit lego extra blocks sklearn pipelines</td>\n",
              "      <td>[scikit-learn]</td>\n",
              "    </tr>\n",
              "    <tr>\n",
              "      <th>83</th>\n",
              "      <td>simclr keras tensorflow keras implementation s...</td>\n",
              "      <td>[keras, self-supervised-learning, tensorflow]</td>\n",
              "    </tr>\n",
              "    <tr>\n",
              "      <th>215</th>\n",
              "      <td>introduction autoencoders look autoencoders re...</td>\n",
              "      <td>[autoencoders, representation-learning]</td>\n",
              "    </tr>\n",
              "  </tbody>\n",
              "</table>\n",
              "</div>\n",
              "      <button class=\"colab-df-convert\" onclick=\"convertToInteractive('df-4c55a35e-e2e2-4fec-903a-91f0c47eaf86')\"\n",
              "              title=\"Convert this dataframe to an interactive table.\"\n",
              "              style=\"display:none;\">\n",
              "        \n",
              "  <svg xmlns=\"http://www.w3.org/2000/svg\" height=\"24px\"viewBox=\"0 0 24 24\"\n",
              "       width=\"24px\">\n",
              "    <path d=\"M0 0h24v24H0V0z\" fill=\"none\"/>\n",
              "    <path d=\"M18.56 5.44l.94 2.06.94-2.06 2.06-.94-2.06-.94-.94-2.06-.94 2.06-2.06.94zm-11 1L8.5 8.5l.94-2.06 2.06-.94-2.06-.94L8.5 2.5l-.94 2.06-2.06.94zm10 10l.94 2.06.94-2.06 2.06-.94-2.06-.94-.94-2.06-.94 2.06-2.06.94z\"/><path d=\"M17.41 7.96l-1.37-1.37c-.4-.4-.92-.59-1.43-.59-.52 0-1.04.2-1.43.59L10.3 9.45l-7.72 7.72c-.78.78-.78 2.05 0 2.83L4 21.41c.39.39.9.59 1.41.59.51 0 1.02-.2 1.41-.59l7.78-7.78 2.81-2.81c.8-.78.8-2.07 0-2.86zM5.41 20L4 18.59l7.72-7.72 1.47 1.35L5.41 20z\"/>\n",
              "  </svg>\n",
              "      </button>\n",
              "      \n",
              "  <style>\n",
              "    .colab-df-container {\n",
              "      display:flex;\n",
              "      flex-wrap:wrap;\n",
              "      gap: 12px;\n",
              "    }\n",
              "\n",
              "    .colab-df-convert {\n",
              "      background-color: #E8F0FE;\n",
              "      border: none;\n",
              "      border-radius: 50%;\n",
              "      cursor: pointer;\n",
              "      display: none;\n",
              "      fill: #1967D2;\n",
              "      height: 32px;\n",
              "      padding: 0 0 0 0;\n",
              "      width: 32px;\n",
              "    }\n",
              "\n",
              "    .colab-df-convert:hover {\n",
              "      background-color: #E2EBFA;\n",
              "      box-shadow: 0px 1px 2px rgba(60, 64, 67, 0.3), 0px 1px 3px 1px rgba(60, 64, 67, 0.15);\n",
              "      fill: #174EA6;\n",
              "    }\n",
              "\n",
              "    [theme=dark] .colab-df-convert {\n",
              "      background-color: #3B4455;\n",
              "      fill: #D2E3FC;\n",
              "    }\n",
              "\n",
              "    [theme=dark] .colab-df-convert:hover {\n",
              "      background-color: #434B5C;\n",
              "      box-shadow: 0px 1px 3px 1px rgba(0, 0, 0, 0.15);\n",
              "      filter: drop-shadow(0px 1px 2px rgba(0, 0, 0, 0.3));\n",
              "      fill: #FFFFFF;\n",
              "    }\n",
              "  </style>\n",
              "\n",
              "      <script>\n",
              "        const buttonEl =\n",
              "          document.querySelector('#df-4c55a35e-e2e2-4fec-903a-91f0c47eaf86 button.colab-df-convert');\n",
              "        buttonEl.style.display =\n",
              "          google.colab.kernel.accessAllowed ? 'block' : 'none';\n",
              "\n",
              "        async function convertToInteractive(key) {\n",
              "          const element = document.querySelector('#df-4c55a35e-e2e2-4fec-903a-91f0c47eaf86');\n",
              "          const dataTable =\n",
              "            await google.colab.kernel.invokeFunction('convertToInteractive',\n",
              "                                                     [key], {});\n",
              "          if (!dataTable) return;\n",
              "\n",
              "          const docLinkHtml = 'Like what you see? Visit the ' +\n",
              "            '<a target=\"_blank\" href=https://colab.research.google.com/notebooks/data_table.ipynb>data table notebook</a>'\n",
              "            + ' to learn more about interactive tables.';\n",
              "          element.innerHTML = '';\n",
              "          dataTable['output_type'] = 'display_data';\n",
              "          await google.colab.output.renderOutput(dataTable, element);\n",
              "          const docLink = document.createElement('div');\n",
              "          docLink.innerHTML = docLinkHtml;\n",
              "          element.appendChild(docLink);\n",
              "        }\n",
              "      </script>\n",
              "    </div>\n",
              "  </div>\n",
              "  "
            ],
            "text/plain": [
              "                                                  text                                           tags\n",
              "44      flask sqlalchemy adds sqlalchemy support flask                                        [flask]\n",
              "69          scikit lego extra blocks sklearn pipelines                                 [scikit-learn]\n",
              "83   simclr keras tensorflow keras implementation s...  [keras, self-supervised-learning, tensorflow]\n",
              "215  introduction autoencoders look autoencoders re...        [autoencoders, representation-learning]"
            ]
          },
          "metadata": {},
          "execution_count": 179
        }
      ],
      "metadata": {
        "id": "B7jmdmNaXuA2",
        "colab": {
          "base_uri": "https://localhost:8080/",
          "height": 192
        },
        "outputId": "83f8aae1-6afe-4b5a-b9b8-0d238603cd4a"
      }
    },
    {
      "cell_type": "markdown",
      "source": [
        "We can define even more slicing functions and create a slices record array using the [`PandasSFApplier`](https://snorkel.readthedocs.io/en/v0.9.6/packages/_autosummary/slicing/snorkel.slicing.PandasSFApplier.html). The slices array has N (# of data points) items and each item has S (# of slicing functions) items, indicating whether that data point is part of that slice. Think of this record array as a masking layer for each slicing function on our data."
      ],
      "metadata": {
        "id": "kZuDZwTNO93Q"
      }
    },
    {
      "cell_type": "code",
      "execution_count": null,
      "source": [
        "# Slices\n",
        "slicing_functions = [pytorch_transformers, short_text]\n",
        "applier = PandasSFApplier(slicing_functions)\n",
        "slices = applier.apply(test_df)\n",
        "slices"
      ],
      "outputs": [
        {
          "output_type": "stream",
          "name": "stderr",
          "text": [
            "100%|██████████| 218/218 [00:00<00:00, 17353.87it/s]\n"
          ]
        },
        {
          "output_type": "execute_result",
          "data": {
            "text/plain": [
              "rec.array([(0, 0), (0, 0), (0, 0), (0, 0), (0, 0), (0, 0), (0, 0), (0, 0),\n",
              "           (0, 0), (0, 0), (0, 0), (0, 0), (0, 0), (0, 0), (0, 0), (0, 0),\n",
              "           (0, 0), (0, 0), (0, 0), (0, 0), (0, 0), (0, 0), (0, 0), (0, 0),\n",
              "           (0, 0), (0, 0), (0, 0), (0, 0), (0, 0), (0, 0), (0, 0), (0, 0),\n",
              "           (0, 0), (0, 0), (0, 0), (0, 0), (0, 0), (0, 0), (0, 0), (0, 0),\n",
              "           (1, 0), (0, 0), (0, 0), (0, 0), (0, 1), (0, 0), (0, 0), (0, 0),\n",
              "           (0, 0), (0, 0), (0, 0), (0, 0), (0, 0), (0, 0), (0, 0), (0, 0),\n",
              "           (0, 0), (0, 0), (0, 0), (0, 0), (0, 0), (0, 0), (0, 0), (0, 0),\n",
              "           (0, 0), (0, 0), (0, 0), (0, 0), (0, 0), (0, 1), (0, 0), (0, 0),\n",
              "           (0, 0), (0, 0), (0, 0), (0, 0), (0, 0), (0, 0), (0, 0), (0, 0),\n",
              "           (0, 0), (0, 0), (0, 0), (0, 1), (0, 0), (0, 0), (0, 0), (0, 0),\n",
              "           (0, 0), (0, 0), (0, 0), (0, 0), (0, 0), (0, 0), (0, 0), (0, 0),\n",
              "           (0, 0), (0, 0), (0, 0), (0, 0), (0, 0), (0, 0), (0, 0), (0, 0),\n",
              "           (0, 0), (0, 0), (0, 0), (0, 0), (0, 0), (0, 0), (0, 0), (0, 0),\n",
              "           (0, 0), (0, 0), (0, 0), (0, 0), (0, 0), (0, 0), (0, 0), (0, 0),\n",
              "           (0, 0), (0, 0), (0, 0), (0, 0), (0, 0), (0, 0), (0, 0), (0, 0),\n",
              "           (0, 0), (0, 0), (0, 0), (0, 0), (0, 0), (0, 0), (0, 0), (0, 0),\n",
              "           (0, 0), (0, 0), (0, 0), (0, 0), (0, 0), (0, 0), (0, 0), (0, 0),\n",
              "           (0, 0), (0, 0), (0, 0), (0, 0), (0, 0), (0, 0), (0, 0), (0, 0),\n",
              "           (0, 0), (0, 0), (0, 0), (0, 0), (0, 0), (0, 0), (0, 0), (0, 0),\n",
              "           (0, 0), (0, 0), (0, 0), (0, 0), (0, 0), (0, 0), (0, 0), (1, 0),\n",
              "           (0, 0), (0, 0), (0, 0), (0, 0), (0, 0), (0, 0), (0, 0), (0, 0),\n",
              "           (0, 0), (0, 0), (0, 0), (0, 0), (0, 0), (0, 0), (0, 0), (0, 0),\n",
              "           (0, 0), (0, 0), (0, 0), (0, 0), (0, 0), (0, 0), (0, 0), (0, 0),\n",
              "           (0, 0), (0, 0), (1, 0), (0, 0), (0, 0), (0, 0), (0, 0), (0, 0),\n",
              "           (0, 0), (0, 0), (0, 0), (0, 0), (0, 0), (0, 0), (0, 0), (0, 0),\n",
              "           (0, 0), (0, 0), (0, 0), (0, 0), (0, 0), (0, 0), (0, 0), (0, 1),\n",
              "           (0, 0), (0, 0)],\n",
              "          dtype=[('pytorch_transformers', '<i8'), ('short_text', '<i8')])"
            ]
          },
          "metadata": {},
          "execution_count": 180
        }
      ],
      "metadata": {
        "id": "mQG8PFovXfEm",
        "colab": {
          "base_uri": "https://localhost:8080/"
        },
        "outputId": "7d5f60b0-d537-42d0-d0ec-f860c1a30c50"
      }
    },
    {
      "cell_type": "markdown",
      "source": [
        "If our task was multiclass instead of multilabel, we could've used [snorkel.analysis.Scorer](https://snorkel.readthedocs.io/en/v0.9.1/packages/_autosummary/analysis/snorkel.analysis.Scorer.html) to retrieve our slice metrics. But we've implemented a naive version for our multilabel task based on it."
      ],
      "metadata": {
        "id": "tCltCyWwYIvC"
      }
    },
    {
      "cell_type": "code",
      "execution_count": null,
      "source": [
        "# Score slices\n",
        "metrics[\"slices\"] = {}\n",
        "for slice_name in slices.dtype.names:\n",
        "    mask = slices[slice_name].astype(bool)\n",
        "    if sum(mask):  \n",
        "        slice_metrics = precision_recall_fscore_support(\n",
        "            y_test[mask], y_pred[mask], average=\"micro\"\n",
        "        )\n",
        "        metrics[\"slices\"][slice_name] = {}\n",
        "        metrics[\"slices\"][slice_name][\"precision\"] = slice_metrics[0]\n",
        "        metrics[\"slices\"][slice_name][\"recall\"] = slice_metrics[1]\n",
        "        metrics[\"slices\"][slice_name][\"f1\"] = slice_metrics[2]\n",
        "        metrics[\"slices\"][slice_name][\"num_samples\"] = len(y_true[mask])"
      ],
      "outputs": [],
      "metadata": {
        "id": "GqkwQenBXfIa"
      }
    },
    {
      "cell_type": "code",
      "execution_count": null,
      "source": [
        "print(json.dumps(metrics[\"slices\"], indent=2))"
      ],
      "outputs": [
        {
          "output_type": "stream",
          "name": "stdout",
          "text": [
            "{\n",
            "  \"pytorch_transformers\": {\n",
            "    \"precision\": 0.9230769230769231,\n",
            "    \"recall\": 0.8571428571428571,\n",
            "    \"f1\": 0.888888888888889,\n",
            "    \"num_samples\": 3\n",
            "  },\n",
            "  \"short_text\": {\n",
            "    \"precision\": 0.6666666666666666,\n",
            "    \"recall\": 0.5714285714285714,\n",
            "    \"f1\": 0.6153846153846153,\n",
            "    \"num_samples\": 4\n",
            "  }\n",
            "}\n"
          ]
        }
      ],
      "metadata": {
        "id": "QapvZ3bgX3J6",
        "colab": {
          "base_uri": "https://localhost:8080/"
        },
        "outputId": "3d46996f-de66-4eac-8018-e73b8b5ac2d7"
      }
    },
    {
      "cell_type": "markdown",
      "source": [
        "> In our [testing lesson](https://madewithml.com/courses/mlops/testing/), we'll cover another way to evaluate our model known as [behavioral testing](https://madewithml.com/courses/mlops/testing/#behavioral-testing), which we'll also include as part of performance report."
      ],
      "metadata": {
        "id": "v9yUHIrgYe6s"
      }
    },
    {
      "cell_type": "markdown",
      "source": [
        "## Experiment tracking"
      ],
      "metadata": {
        "id": "MILv2j74iUMQ"
      }
    },
    {
      "cell_type": "markdown",
      "source": [
        "So far, we've been training and evaluating our different baselines but haven't really been tracking these experiments. We'll fix this by defining a proper process for experiment tracking which we'll use for all future experiments (including hyperparameter optimization). There are many options for experiment tracking but we're going to use [MLFlow](https://mlflow.org/) (100% free and [open-source](https://github.com/mlflow/mlflow)) because it has all the functionality we'll need (and [growing integration support](https://medium.com/pytorch/mlflow-and-pytorch-where-cutting-edge-ai-meets-mlops-1985cf8aa789)). We can run MLFlow on our own servers and databases so there are no storage cost / limitations, making it one of the most popular options and is used by Microsoft, Facebook, Databricks and others. You can also set up your own Tracking servers to synchronize runs amongst multiple team members collaborating on the same task.\n",
        "\n",
        "There are also several popular options such as a [Comet ML](https://www.comet.ml/site/) (Used by Google AI, HuggingFace, etc.) and [Weights and Biases](https://www.wandb.com/) (Used by Open AI, Toyota Research, etc.). These are fantastic tools that provide features like dashboards, seamless integration, hyperparameter search, reports and even [debugging](https://wandb.ai/latentspace/published-work/The-Science-of-Debugging-with-W-B-Reports--Vmlldzo4OTI3Ng)!"
      ],
      "metadata": {
        "id": "t40bb7o2jyCP"
      }
    },
    {
      "cell_type": "code",
      "execution_count": null,
      "source": [
        "!pip install mlflow==1.13.1 pyngrok -q"
      ],
      "outputs": [
        {
          "output_type": "stream",
          "name": "stdout",
          "text": [
            "\u001b[K     |████████████████████████████████| 14.1 MB 32.2 MB/s \n",
            "\u001b[K     |████████████████████████████████| 745 kB 43.8 MB/s \n",
            "\u001b[K     |████████████████████████████████| 79 kB 3.6 MB/s \n",
            "\u001b[K     |████████████████████████████████| 356 kB 45.0 MB/s \n",
            "\u001b[K     |████████████████████████████████| 1.1 MB 40.8 MB/s \n",
            "\u001b[K     |████████████████████████████████| 58 kB 3.7 MB/s \n",
            "\u001b[K     |████████████████████████████████| 180 kB 41.0 MB/s \n",
            "\u001b[K     |████████████████████████████████| 146 kB 32.0 MB/s \n",
            "\u001b[K     |████████████████████████████████| 75 kB 3.8 MB/s \n",
            "\u001b[K     |████████████████████████████████| 3.6 MB 8.2 MB/s \n",
            "\u001b[K     |████████████████████████████████| 178 kB 48.6 MB/s \n",
            "\u001b[K     |████████████████████████████████| 85 kB 3.0 MB/s \n",
            "\u001b[K     |████████████████████████████████| 53 kB 1.8 MB/s \n",
            "\u001b[K     |████████████████████████████████| 63 kB 1.4 MB/s \n",
            "\u001b[K     |████████████████████████████████| 41 kB 471 kB/s \n",
            "\u001b[?25h  Building wheel for alembic (setup.py) ... \u001b[?25l\u001b[?25hdone\n",
            "  Building wheel for databricks-cli (setup.py) ... \u001b[?25l\u001b[?25hdone\n",
            "  Building wheel for pyngrok (setup.py) ... \u001b[?25l\u001b[?25hdone\n"
          ]
        }
      ],
      "metadata": {
        "id": "GiU-_H58iVvV",
        "colab": {
          "base_uri": "https://localhost:8080/"
        },
        "outputId": "11cf4d99-7503-467f-8cb0-3124c1845a2e"
      }
    },
    {
      "cell_type": "code",
      "execution_count": null,
      "source": [
        "from argparse import Namespace\n",
        "import mlflow\n",
        "from pathlib import Path"
      ],
      "outputs": [],
      "metadata": {
        "id": "jjBl3l1cl4x6"
      }
    },
    {
      "cell_type": "code",
      "execution_count": null,
      "source": [
        "# Specify arguments\n",
        "args = Namespace(\n",
        "    char_level=True,\n",
        "    filter_sizes=list(range(1, 11)),\n",
        "    batch_size=64,\n",
        "    embedding_dim=128, \n",
        "    num_filters=128,\n",
        "    hidden_dim=128, \n",
        "    dropout_p=0.5,\n",
        "    lr=2e-4,\n",
        "    num_epochs=100,\n",
        "    patience=10,\n",
        ")"
      ],
      "outputs": [],
      "metadata": {
        "id": "bDwbBLh4xdFG"
      }
    },
    {
      "cell_type": "markdown",
      "source": [
        "> When we move to Python scripts, we'll use the [Typer](https://typer.tiangolo.com/) package instead of argparse for a better CLI experience."
      ],
      "metadata": {
        "id": "fIHrsmkN7rYi"
      }
    },
    {
      "cell_type": "code",
      "execution_count": null,
      "source": [
        "# Set tracking URI\n",
        "MODEL_REGISTRY = Path(\"experiments\")\n",
        "Path(MODEL_REGISTRY).mkdir(exist_ok=True) # create experiments dir\n",
        "mlflow.set_tracking_uri(\"file://\" + str(MODEL_REGISTRY.absolute()))"
      ],
      "outputs": [],
      "metadata": {
        "id": "Bq5Zoy6YohM3"
      }
    },
    {
      "cell_type": "code",
      "execution_count": null,
      "source": [
        "!ls"
      ],
      "outputs": [
        {
          "output_type": "stream",
          "name": "stdout",
          "text": [
            "cnn  experiments  sample_data\n"
          ]
        }
      ],
      "metadata": {
        "id": "9DR1CvJeo48U",
        "colab": {
          "base_uri": "https://localhost:8080/"
        },
        "outputId": "4b3a5362-4f17-4545-f608-394df22cb744"
      }
    },
    {
      "cell_type": "markdown",
      "source": [
        "### Training"
      ],
      "metadata": {
        "id": "JGvUEKbl9buj"
      }
    },
    {
      "cell_type": "markdown",
      "source": [
        "We're going to log the training epoch metrics within our `Trainer`'s `train` function. "
      ],
      "metadata": {
        "id": "JZgQlLyHHwEk"
      }
    },
    {
      "cell_type": "code",
      "execution_count": null,
      "source": [
        "# Modified for experiment tracking\n",
        "class Trainer(object):\n",
        "    def __init__(self, model, device, loss_fn=None, optimizer=None, scheduler=None):\n",
        "\n",
        "        # Set params\n",
        "        self.model = model\n",
        "        self.device = device\n",
        "        self.loss_fn = loss_fn\n",
        "        self.optimizer = optimizer\n",
        "        self.scheduler = scheduler\n",
        "\n",
        "    def train_step(self, dataloader):\n",
        "        \"\"\"Train step.\"\"\"\n",
        "        # Set model to train mode\n",
        "        self.model.train()\n",
        "        loss = 0.0\n",
        "\n",
        "        # Iterate over train batches\n",
        "        for i, batch in enumerate(dataloader):\n",
        "\n",
        "            # Step\n",
        "            batch = [item.to(self.device) for item in batch]  # Set device\n",
        "            inputs, targets = batch[:-1], batch[-1]\n",
        "            self.optimizer.zero_grad()  # Reset gradients\n",
        "            z = self.model(inputs)  # Forward pass\n",
        "            J = self.loss_fn(z, targets)  # Define loss\n",
        "            J.backward()  # Backward pass\n",
        "            self.optimizer.step()  # Update weights\n",
        "\n",
        "            # Cumulative Metrics\n",
        "            loss += (J.detach().item() - loss) / (i + 1)\n",
        "\n",
        "        return loss\n",
        "\n",
        "    def eval_step(self, dataloader):\n",
        "        \"\"\"Validation or test step.\"\"\"\n",
        "        # Set model to eval mode\n",
        "        self.model.eval()\n",
        "        loss = 0.0\n",
        "        y_trues, y_probs = [], []\n",
        "\n",
        "        # Iterate over val batches\n",
        "        with torch.inference_mode():\n",
        "            for i, batch in enumerate(dataloader):\n",
        "\n",
        "                # Step\n",
        "                batch = [item.to(self.device) for item in batch]  # Set device\n",
        "                inputs, y_true = batch[:-1], batch[-1]\n",
        "                z = self.model(inputs)  # Forward pass\n",
        "                J = self.loss_fn(z, y_true).item()\n",
        "\n",
        "                # Cumulative Metrics\n",
        "                loss += (J - loss) / (i + 1)\n",
        "\n",
        "                # Store outputs\n",
        "                y_prob = torch.sigmoid(z).cpu().numpy()\n",
        "                y_probs.extend(y_prob)\n",
        "                y_trues.extend(y_true.cpu().numpy())\n",
        "\n",
        "        return loss, np.vstack(y_trues), np.vstack(y_probs)\n",
        "\n",
        "    def predict_step(self, dataloader):\n",
        "        \"\"\"Prediction step.\"\"\"\n",
        "        # Set model to eval mode\n",
        "        self.model.eval()\n",
        "        y_probs = []\n",
        "\n",
        "        # Iterate over val batches\n",
        "        with torch.inference_mode():\n",
        "            for i, batch in enumerate(dataloader):\n",
        "\n",
        "                # Forward pass w/ inputs\n",
        "                inputs, targets = batch[:-1], batch[-1]\n",
        "                z = self.model(inputs)\n",
        "\n",
        "                # Store outputs\n",
        "                y_prob = torch.sigmoid(z).cpu().numpy()\n",
        "                y_probs.extend(y_prob)\n",
        "\n",
        "        return np.vstack(y_probs)\n",
        "    \n",
        "    def train(self, num_epochs, patience, train_dataloader, val_dataloader, \n",
        "              tolerance=1e-5):\n",
        "        best_val_loss = np.inf\n",
        "        for epoch in range(num_epochs):\n",
        "            # Steps\n",
        "            train_loss = self.train_step(dataloader=train_dataloader)\n",
        "            val_loss, _, _ = self.eval_step(dataloader=val_dataloader)\n",
        "            self.scheduler.step(val_loss)\n",
        "\n",
        "            # Early stopping\n",
        "            if val_loss < best_val_loss - tolerance:\n",
        "                best_val_loss = val_loss\n",
        "                best_model = self.model\n",
        "                _patience = patience  # reset _patience\n",
        "            else:\n",
        "                _patience -= 1\n",
        "            if not _patience:  # 0\n",
        "                print(\"Stopping early!\")\n",
        "                break\n",
        "\n",
        "            # Tracking\n",
        "            mlflow.log_metrics(\n",
        "                {\"train_loss\": train_loss, \"val_loss\": val_loss}, step=epoch\n",
        "            )\n",
        "\n",
        "            # Logging\n",
        "            print(\n",
        "                f\"Epoch: {epoch+1} | \"\n",
        "                f\"train_loss: {train_loss:.5f}, \"\n",
        "                f\"val_loss: {val_loss:.5f}, \"\n",
        "                f\"lr: {self.optimizer.param_groups[0]['lr']:.2E}, \"\n",
        "                f\"_patience: {_patience}\"\n",
        "            )\n",
        "        return best_model, best_val_loss"
      ],
      "outputs": [],
      "metadata": {
        "id": "F16Qt7xSHqph"
      }
    },
    {
      "cell_type": "markdown",
      "source": [
        "And to make things simple, we'll encapsulate all the components for training into one function which returns all the artifacts we want to be able to track from our experiment. The input argument `args`contains all the parameters needed and it's nice to have it all organized under one variable so we can easily log it and tweak it for different experiments (we'll see this when we do hyperparameter optimization)."
      ],
      "metadata": {
        "id": "8Mk5Dlcj_aJd"
      }
    },
    {
      "cell_type": "code",
      "execution_count": null,
      "source": [
        "def train_cnn(args, df):\n",
        "    \"\"\"Train a CNN using specific arguments.\"\"\"\n",
        "\n",
        "    # Set seeds\n",
        "    set_seeds()\n",
        "\n",
        "    # Get data splits\n",
        "    preprocessed_df = df.copy()\n",
        "    preprocessed_df.text = preprocessed_df.text.apply(preprocess, lower=True)\n",
        "    X_train, X_val, X_test, y_train, y_val, y_test, label_encoder = get_data_splits(preprocessed_df)\n",
        "    num_classes = len(label_encoder)\n",
        "\n",
        "    # Set device\n",
        "    cuda = True\n",
        "    device = torch.device(\"cuda\" if (\n",
        "        torch.cuda.is_available() and cuda) else \"cpu\")\n",
        "    torch.set_default_tensor_type(\"torch.FloatTensor\")\n",
        "    if device.type == \"cuda\":\n",
        "        torch.set_default_tensor_type(\"torch.cuda.FloatTensor\")\n",
        "\n",
        "    # Tokenize\n",
        "    tokenizer = Tokenizer(char_level=args.char_level)\n",
        "    tokenizer.fit_on_texts(texts=X_train)\n",
        "    vocab_size = len(tokenizer)\n",
        "\n",
        "    # Convert texts to sequences of indices\n",
        "    X_train = np.array(tokenizer.texts_to_sequences(X_train))\n",
        "    X_val = np.array(tokenizer.texts_to_sequences(X_val))\n",
        "    X_test = np.array(tokenizer.texts_to_sequences(X_test))\n",
        "\n",
        "    # Class weights\n",
        "    train_tags = list(itertools.chain.from_iterable(train_df.tags.values))\n",
        "    counts = np.bincount([label_encoder.class_to_index[class_] for class_ in train_tags])\n",
        "    class_weights = {i: 1.0/count for i, count in enumerate(counts)}\n",
        "\n",
        "    # Create datasets\n",
        "    train_dataset = CNNTextDataset(\n",
        "        X=X_train, y=y_train, max_filter_size=max(args.filter_sizes))\n",
        "    val_dataset = CNNTextDataset(\n",
        "        X=X_val, y=y_val, max_filter_size=max(args.filter_sizes))\n",
        "    test_dataset = CNNTextDataset(\n",
        "        X=X_test, y=y_test, max_filter_size=max(args.filter_sizes))\n",
        "\n",
        "    # Create dataloaders\n",
        "    train_dataloader = train_dataset.create_dataloader(\n",
        "        batch_size=args.batch_size)\n",
        "    val_dataloader = val_dataset.create_dataloader(\n",
        "        batch_size=args.batch_size)\n",
        "    test_dataloader = test_dataset.create_dataloader(\n",
        "        batch_size=args.batch_size)\n",
        "\n",
        "    # Initialize model\n",
        "    model = CNN(\n",
        "        embedding_dim=args.embedding_dim, vocab_size=vocab_size,\n",
        "        num_filters=args.num_filters, filter_sizes=args.filter_sizes,\n",
        "        hidden_dim=args.hidden_dim, dropout_p=args.dropout_p,\n",
        "        num_classes=num_classes)\n",
        "    model = model.to(device)\n",
        "\n",
        "    # Define loss\n",
        "    class_weights_tensor = torch.Tensor(np.array(list(class_weights.values())))\n",
        "    loss_fn = nn.BCEWithLogitsLoss(weight=class_weights_tensor)\n",
        "\n",
        "    # Define optimizer & scheduler\n",
        "    optimizer = torch.optim.Adam(model.parameters(), lr=args.lr)\n",
        "    scheduler = torch.optim.lr_scheduler.ReduceLROnPlateau(\n",
        "        optimizer, mode=\"min\", factor=0.1, patience=5)\n",
        "\n",
        "    # Trainer module\n",
        "    trainer = Trainer(\n",
        "        model=model, device=device, loss_fn=loss_fn, \n",
        "        optimizer=optimizer, scheduler=scheduler)\n",
        "\n",
        "    # Train\n",
        "    best_model, best_val_loss = trainer.train(\n",
        "        args.num_epochs, args.patience, train_dataloader, val_dataloader)\n",
        "\n",
        "    # Best threshold for f1\n",
        "    train_loss, y_true, y_prob = trainer.eval_step(dataloader=train_dataloader)\n",
        "    precisions, recalls, thresholds = precision_recall_curve(y_true.ravel(), y_prob.ravel())\n",
        "    threshold = find_best_threshold(y_true.ravel(), y_prob.ravel())\n",
        "\n",
        "    # Determine predictions using threshold\n",
        "    test_loss, y_true, y_prob = trainer.eval_step(dataloader=test_dataloader)\n",
        "    y_pred = np.array([np.where(prob >= threshold, 1, 0) for prob in y_prob])\n",
        "\n",
        "    # Evaluate (simple)\n",
        "    metrics = precision_recall_fscore_support(y_test, y_pred, average=\"weighted\")\n",
        "    performance = {\"precision\": metrics[0], \"recall\": metrics[1], \"f1\": metrics[2]}\n",
        "\n",
        "    return {\n",
        "        \"args\": args,\n",
        "        \"tokenizer\": tokenizer,\n",
        "        \"label_encoder\": label_encoder,\n",
        "        \"model\": best_model,\n",
        "        \"performance\": performance,\n",
        "        \"best_val_loss\": best_val_loss,\n",
        "    }"
      ],
      "outputs": [],
      "metadata": {
        "id": "OWUtQYLIR9Nn"
      }
    },
    {
      "cell_type": "markdown",
      "source": [
        "### Tracking"
      ],
      "metadata": {
        "id": "oyqrdKxZ9gFi"
      }
    },
    {
      "cell_type": "markdown",
      "source": [
        "With MLFlow we need to first initialize an experiment and then you can do runs under that experiment."
      ],
      "metadata": {
        "id": "7EyOAaaTLlil"
      }
    },
    {
      "cell_type": "code",
      "execution_count": null,
      "source": [
        "import tempfile"
      ],
      "outputs": [],
      "metadata": {
        "id": "Z5qLhfSJxSkp"
      }
    },
    {
      "cell_type": "code",
      "execution_count": null,
      "source": [
        "# Set experiment\n",
        "mlflow.set_experiment(experiment_name=\"baselines\")"
      ],
      "outputs": [
        {
          "output_type": "stream",
          "name": "stdout",
          "text": [
            "INFO: 'baselines' does not exist. Creating a new experiment\n"
          ]
        }
      ],
      "metadata": {
        "id": "TJHQ_SwwLjRY",
        "colab": {
          "base_uri": "https://localhost:8080/"
        },
        "outputId": "b8991ac3-77c2-46be-933f-21f472fdd91c"
      }
    },
    {
      "cell_type": "code",
      "execution_count": null,
      "source": [
        "def save_dict(d, filepath):\n",
        "    \"\"\"Save dict to a json file.\"\"\"\n",
        "    with open(filepath, \"w\") as fp:\n",
        "        json.dump(d, indent=2, sort_keys=False, fp=fp)"
      ],
      "outputs": [],
      "metadata": {
        "id": "FCuqxD1V2dce"
      }
    },
    {
      "cell_type": "code",
      "execution_count": null,
      "source": [
        "# Tracking\n",
        "with mlflow.start_run(run_name=\"cnn\") as run:\n",
        "\n",
        "    # Train & evaluate\n",
        "    artifacts = train_cnn(args=args, df=df)\n",
        "\n",
        "    # Log key metrics\n",
        "    mlflow.log_metrics({\"precision\": artifacts[\"performance\"][\"precision\"]})\n",
        "    mlflow.log_metrics({\"recall\": artifacts[\"performance\"][\"recall\"]})\n",
        "    mlflow.log_metrics({\"f1\": artifacts[\"performance\"][\"f1\"]})\n",
        "\n",
        "    # Log artifacts\n",
        "    with tempfile.TemporaryDirectory() as dp:\n",
        "        artifacts[\"tokenizer\"].save(Path(dp, \"tokenizer.json\"))\n",
        "        artifacts[\"label_encoder\"].save(Path(dp, \"label_encoder.json\"))\n",
        "        torch.save(artifacts[\"model\"].state_dict(), Path(dp, \"model.pt\"))\n",
        "        save_dict(artifacts[\"performance\"], Path(dp, \"performance.json\"))\n",
        "        mlflow.log_artifacts(dp)\n",
        "\n",
        "    # Log parameters\n",
        "    mlflow.log_params(vars(artifacts[\"args\"]))"
      ],
      "outputs": [
        {
          "output_type": "stream",
          "name": "stdout",
          "text": [
            "Epoch: 1 | train_loss: 0.00754, val_loss: 0.00437, lr: 2.00E-04, _patience: 10\n",
            "Epoch: 2 | train_loss: 0.00545, val_loss: 0.00408, lr: 2.00E-04, _patience: 10\n",
            "Epoch: 3 | train_loss: 0.00491, val_loss: 0.00383, lr: 2.00E-04, _patience: 10\n",
            "Epoch: 4 | train_loss: 0.00458, val_loss: 0.00378, lr: 2.00E-04, _patience: 10\n",
            "Epoch: 5 | train_loss: 0.00435, val_loss: 0.00369, lr: 2.00E-04, _patience: 10\n",
            "Epoch: 6 | train_loss: 0.00420, val_loss: 0.00361, lr: 2.00E-04, _patience: 10\n",
            "Epoch: 7 | train_loss: 0.00405, val_loss: 0.00351, lr: 2.00E-04, _patience: 10\n",
            "Epoch: 8 | train_loss: 0.00387, val_loss: 0.00343, lr: 2.00E-04, _patience: 10\n",
            "Epoch: 9 | train_loss: 0.00373, val_loss: 0.00332, lr: 2.00E-04, _patience: 10\n",
            "Epoch: 10 | train_loss: 0.00354, val_loss: 0.00320, lr: 2.00E-04, _patience: 10\n",
            "Epoch: 11 | train_loss: 0.00338, val_loss: 0.00308, lr: 2.00E-04, _patience: 10\n",
            "Epoch: 12 | train_loss: 0.00325, val_loss: 0.00301, lr: 2.00E-04, _patience: 10\n",
            "Epoch: 13 | train_loss: 0.00310, val_loss: 0.00292, lr: 2.00E-04, _patience: 10\n",
            "Epoch: 14 | train_loss: 0.00292, val_loss: 0.00280, lr: 2.00E-04, _patience: 10\n",
            "Epoch: 15 | train_loss: 0.00276, val_loss: 0.00274, lr: 2.00E-04, _patience: 10\n",
            "Epoch: 16 | train_loss: 0.00266, val_loss: 0.00266, lr: 2.00E-04, _patience: 10\n",
            "Epoch: 17 | train_loss: 0.00256, val_loss: 0.00257, lr: 2.00E-04, _patience: 10\n",
            "Epoch: 18 | train_loss: 0.00246, val_loss: 0.00255, lr: 2.00E-04, _patience: 10\n",
            "Epoch: 19 | train_loss: 0.00234, val_loss: 0.00252, lr: 2.00E-04, _patience: 10\n",
            "Epoch: 20 | train_loss: 0.00224, val_loss: 0.00246, lr: 2.00E-04, _patience: 10\n",
            "Epoch: 21 | train_loss: 0.00214, val_loss: 0.00241, lr: 2.00E-04, _patience: 10\n",
            "Epoch: 22 | train_loss: 0.00205, val_loss: 0.00242, lr: 2.00E-04, _patience: 9\n",
            "Epoch: 23 | train_loss: 0.00200, val_loss: 0.00232, lr: 2.00E-04, _patience: 10\n",
            "Epoch: 24 | train_loss: 0.00192, val_loss: 0.00229, lr: 2.00E-04, _patience: 10\n",
            "Epoch: 25 | train_loss: 0.00183, val_loss: 0.00233, lr: 2.00E-04, _patience: 9\n",
            "Epoch: 26 | train_loss: 0.00177, val_loss: 0.00230, lr: 2.00E-04, _patience: 8\n",
            "Epoch: 27 | train_loss: 0.00169, val_loss: 0.00225, lr: 2.00E-04, _patience: 10\n",
            "Epoch: 28 | train_loss: 0.00164, val_loss: 0.00223, lr: 2.00E-04, _patience: 10\n",
            "Epoch: 29 | train_loss: 0.00157, val_loss: 0.00224, lr: 2.00E-04, _patience: 9\n",
            "Epoch: 30 | train_loss: 0.00154, val_loss: 0.00229, lr: 2.00E-04, _patience: 8\n",
            "Epoch: 31 | train_loss: 0.00147, val_loss: 0.00221, lr: 2.00E-04, _patience: 10\n",
            "Epoch: 32 | train_loss: 0.00142, val_loss: 0.00225, lr: 2.00E-04, _patience: 9\n",
            "Epoch: 33 | train_loss: 0.00136, val_loss: 0.00225, lr: 2.00E-04, _patience: 8\n",
            "Epoch: 34 | train_loss: 0.00132, val_loss: 0.00217, lr: 2.00E-04, _patience: 10\n",
            "Epoch: 35 | train_loss: 0.00126, val_loss: 0.00218, lr: 2.00E-04, _patience: 9\n",
            "Epoch: 36 | train_loss: 0.00124, val_loss: 0.00220, lr: 2.00E-04, _patience: 8\n",
            "Epoch: 37 | train_loss: 0.00119, val_loss: 0.00216, lr: 2.00E-04, _patience: 10\n",
            "Epoch: 38 | train_loss: 0.00114, val_loss: 0.00228, lr: 2.00E-04, _patience: 9\n",
            "Epoch: 39 | train_loss: 0.00113, val_loss: 0.00219, lr: 2.00E-04, _patience: 8\n",
            "Epoch: 40 | train_loss: 0.00108, val_loss: 0.00224, lr: 2.00E-04, _patience: 7\n",
            "Epoch: 41 | train_loss: 0.00101, val_loss: 0.00220, lr: 2.00E-04, _patience: 6\n",
            "Epoch: 42 | train_loss: 0.00102, val_loss: 0.00231, lr: 2.00E-04, _patience: 5\n",
            "Epoch: 43 | train_loss: 0.00100, val_loss: 0.00233, lr: 2.00E-05, _patience: 4\n",
            "Epoch: 44 | train_loss: 0.00094, val_loss: 0.00212, lr: 2.00E-05, _patience: 10\n",
            "Epoch: 45 | train_loss: 0.00092, val_loss: 0.00217, lr: 2.00E-05, _patience: 9\n",
            "Epoch: 46 | train_loss: 0.00089, val_loss: 0.00215, lr: 2.00E-05, _patience: 8\n",
            "Epoch: 47 | train_loss: 0.00086, val_loss: 0.00218, lr: 2.00E-05, _patience: 7\n",
            "Epoch: 48 | train_loss: 0.00086, val_loss: 0.00214, lr: 2.00E-05, _patience: 6\n",
            "Epoch: 49 | train_loss: 0.00086, val_loss: 0.00215, lr: 2.00E-05, _patience: 5\n",
            "Epoch: 50 | train_loss: 0.00086, val_loss: 0.00215, lr: 2.00E-06, _patience: 4\n",
            "Epoch: 51 | train_loss: 0.00085, val_loss: 0.00216, lr: 2.00E-06, _patience: 3\n",
            "Epoch: 52 | train_loss: 0.00087, val_loss: 0.00216, lr: 2.00E-06, _patience: 2\n",
            "Epoch: 53 | train_loss: 0.00085, val_loss: 0.00216, lr: 2.00E-06, _patience: 1\n",
            "Stopping early!\n"
          ]
        }
      ],
      "metadata": {
        "id": "5rWwqZPWo7Oo",
        "colab": {
          "base_uri": "https://localhost:8080/"
        },
        "outputId": "3cdd46ae-bbb3-4e76-f4d9-3a1aed3e950a"
      }
    },
    {
      "cell_type": "markdown",
      "source": [
        "### Viewing"
      ],
      "metadata": {
        "id": "lqWgLPYgCBhi"
      }
    },
    {
      "cell_type": "markdown",
      "source": [
        "Let's view what we've tracked from our experiment. MLFlow serves a dashboard for us to view and explore our experiments on a localhost port but since we're inside a notebook, we're going to use public tunnel ([ngrok](https://ngrok.com/)) to view it."
      ],
      "metadata": {
        "id": "J9JkJ_7MCC4U"
      }
    },
    {
      "cell_type": "code",
      "execution_count": null,
      "source": [
        "from pyngrok import ngrok"
      ],
      "outputs": [],
      "metadata": {
        "id": "nCco6Xa3436x"
      }
    },
    {
      "cell_type": "markdown",
      "source": [
        "> You may need to rerun the cell below multiple times if the connection times out it is overloaded."
      ],
      "metadata": {
        "id": "gR4xFBQI7Tqj"
      }
    },
    {
      "cell_type": "code",
      "execution_count": null,
      "source": [
        "# https://stackoverflow.com/questions/61615818/setting-up-mlflow-on-google-colab\n",
        "get_ipython().system_raw(\"mlflow server -h 0.0.0.0 -p 5000 --backend-store-uri $PWD/experiments/ &\")\n",
        "ngrok.kill()\n",
        "ngrok.set_auth_token(\"\")\n",
        "ngrok_tunnel = ngrok.connect(addr=\"5000\", proto=\"http\", bind_tls=True)\n",
        "print(\"MLflow Tracking UI:\", ngrok_tunnel.public_url)"
      ],
      "outputs": [
        {
          "output_type": "stream",
          "name": "stdout",
          "text": [
            "MLflow Tracking UI: https://d13a-34-86-40-220.ngrok.io\n"
          ]
        }
      ],
      "metadata": {
        "id": "6gd8i4b941hL",
        "colab": {
          "base_uri": "https://localhost:8080/"
        },
        "outputId": "1a99e1ff-cf6c-4d2c-ea22-b074252dbe55"
      }
    },
    {
      "cell_type": "markdown",
      "source": [
        "MLFlow creates a main dashboard with all your experiments and their respective runs. We can sort runs by clicking on the column headers.\n",
        "\n",
        "<img src=\"https://raw.githubusercontent.com/GokuMohandas/MadeWithML/main/images/mlops/experiment_tracking/dashboard.png\" width=\"1000\" alt=\"pivot\">"
      ],
      "metadata": {
        "id": "tfUQpOIDej0z"
      }
    },
    {
      "cell_type": "markdown",
      "source": [
        "We can click on any of our experiments on the main dashboard to further explore it:\n",
        "\n",
        "<img src=\"https://raw.githubusercontent.com/GokuMohandas/MadeWithML/main/images/mlops/experiment_tracking/plots.png\" width=\"1000\" alt=\"pivot\">"
      ],
      "metadata": {
        "id": "bHhjsDJyeeGN"
      }
    },
    {
      "cell_type": "markdown",
      "source": [
        "### Loading"
      ],
      "metadata": {
        "id": "2RVeCRid9hWs"
      }
    },
    {
      "cell_type": "markdown",
      "source": [
        "We need to be able to load our saved experiment artifacts for inference, retraining, etc."
      ],
      "metadata": {
        "id": "vEbgvyFQfW_e"
      }
    },
    {
      "cell_type": "code",
      "execution_count": null,
      "source": [
        "def load_dict(filepath):\n",
        "    \"\"\"Load a dict from a json file.\"\"\"\n",
        "    with open(filepath, \"r\") as fp:\n",
        "        d = json.load(fp)\n",
        "    return d"
      ],
      "outputs": [],
      "metadata": {
        "id": "wUdmwNiVy6Dy"
      }
    },
    {
      "cell_type": "code",
      "execution_count": null,
      "source": [
        "# Load all runs from experiment\n",
        "experiment_id = mlflow.get_experiment_by_name(\"baselines\").experiment_id\n",
        "all_runs = mlflow.search_runs(experiment_ids=experiment_id, order_by=[\"metrics.best_val_loss ASC\"])\n",
        "print (all_runs)"
      ],
      "outputs": [
        {
          "output_type": "stream",
          "name": "stdout",
          "text": [
            "                             run_id  ... tags.mlflow.user\n",
            "0  7e6a066bb32d4a6c9c59276f5f338fd1  ...             root\n",
            "\n",
            "[1 rows x 25 columns]\n"
          ]
        }
      ],
      "metadata": {
        "id": "wP_FfHn07943",
        "colab": {
          "base_uri": "https://localhost:8080/"
        },
        "outputId": "a5db10f9-e517-49ce-c45e-91b6849a1610"
      }
    },
    {
      "cell_type": "code",
      "execution_count": null,
      "source": [
        "# Best run\n",
        "device = torch.device(\"cpu\")\n",
        "best_run_id = all_runs.iloc[0].run_id\n",
        "best_run = mlflow.get_run(run_id=best_run_id)\n",
        "client = mlflow.tracking.MlflowClient()\n",
        "with tempfile.TemporaryDirectory() as dp:\n",
        "    client.download_artifacts(run_id=best_run_id, path=\"\", dst_path=dp)\n",
        "    tokenizer = Tokenizer.load(fp=Path(dp, \"tokenizer.json\"))\n",
        "    label_encoder = LabelEncoder.load(fp=Path(dp, \"label_encoder.json\"))\n",
        "    model_state = torch.load(Path(dp, \"model.pt\"), map_location=device)\n",
        "    performance = load_dict(filepath=Path(dp, \"performance.json\"))"
      ],
      "outputs": [],
      "metadata": {
        "id": "PHbhpuFq9QPA"
      }
    },
    {
      "cell_type": "code",
      "execution_count": null,
      "source": [
        "print (json.dumps(performance, indent=2))"
      ],
      "outputs": [
        {
          "output_type": "stream",
          "name": "stdout",
          "text": [
            "{\n",
            "  \"precision\": 0.7874463826789584,\n",
            "  \"recall\": 0.5815450643776824,\n",
            "  \"f1\": 0.6500989193088565\n",
            "}\n"
          ]
        }
      ],
      "metadata": {
        "id": "uUAGjr5w8oxM",
        "colab": {
          "base_uri": "https://localhost:8080/"
        },
        "outputId": "a37831d1-baad-4743-c2d7-d1b671dcd0a8"
      }
    },
    {
      "cell_type": "code",
      "execution_count": null,
      "source": [
        "# Load artifacts\n",
        "device = torch.device(\"cpu\")\n",
        "model = CNN(\n",
        "    embedding_dim=args.embedding_dim, vocab_size=len(tokenizer),\n",
        "    num_filters=args.num_filters, filter_sizes=args.filter_sizes,\n",
        "    hidden_dim=args.hidden_dim, dropout_p=args.dropout_p,\n",
        "    num_classes=len(label_encoder))\n",
        "model.load_state_dict(model_state)\n",
        "model.to(device)"
      ],
      "outputs": [
        {
          "output_type": "execute_result",
          "data": {
            "text/plain": [
              "CNN(\n",
              "  (embeddings): Embedding(39, 128, padding_idx=0)\n",
              "  (conv): ModuleList(\n",
              "    (0): Conv1d(128, 128, kernel_size=(1,), stride=(1,))\n",
              "    (1): Conv1d(128, 128, kernel_size=(2,), stride=(1,))\n",
              "    (2): Conv1d(128, 128, kernel_size=(3,), stride=(1,))\n",
              "    (3): Conv1d(128, 128, kernel_size=(4,), stride=(1,))\n",
              "    (4): Conv1d(128, 128, kernel_size=(5,), stride=(1,))\n",
              "    (5): Conv1d(128, 128, kernel_size=(6,), stride=(1,))\n",
              "    (6): Conv1d(128, 128, kernel_size=(7,), stride=(1,))\n",
              "    (7): Conv1d(128, 128, kernel_size=(8,), stride=(1,))\n",
              "    (8): Conv1d(128, 128, kernel_size=(9,), stride=(1,))\n",
              "    (9): Conv1d(128, 128, kernel_size=(10,), stride=(1,))\n",
              "  )\n",
              "  (dropout): Dropout(p=0.5, inplace=False)\n",
              "  (fc1): Linear(in_features=1280, out_features=128, bias=True)\n",
              "  (fc2): Linear(in_features=128, out_features=34, bias=True)\n",
              ")"
            ]
          },
          "metadata": {},
          "execution_count": 200
        }
      ],
      "metadata": {
        "id": "HsMvF6K_8LIt",
        "colab": {
          "base_uri": "https://localhost:8080/"
        },
        "outputId": "fc595652-8a5b-4523-863a-a763eae568f6"
      }
    },
    {
      "cell_type": "code",
      "execution_count": null,
      "source": [
        "# Initialize trainer\n",
        "trainer = Trainer(model=model, device=device)"
      ],
      "outputs": [],
      "metadata": {
        "id": "B2axMjbk9XgI"
      }
    },
    {
      "cell_type": "code",
      "execution_count": null,
      "source": [
        "# Dataloader\n",
        "text = \"Transfer learning with BERT for self-supervised learning\"\n",
        "X = np.array(tokenizer.texts_to_sequences([preprocess(text)]))\n",
        "y_filler = label_encoder.encode([np.array([label_encoder.classes[0]]*len(X))])\n",
        "dataset = CNNTextDataset(\n",
        "    X=X, y=y_filler, max_filter_size=max(filter_sizes))\n",
        "dataloader = dataset.create_dataloader(\n",
        "    batch_size=batch_size)"
      ],
      "outputs": [],
      "metadata": {
        "id": "wcypz1sO9Xk1"
      }
    },
    {
      "cell_type": "code",
      "execution_count": null,
      "source": [
        "# Inference\n",
        "y_prob = trainer.predict_step(dataloader)\n",
        "y_pred = np.array([np.where(prob >= threshold, 1, 0) for prob in y_prob])\n",
        "label_encoder.decode(y_pred)"
      ],
      "outputs": [
        {
          "output_type": "execute_result",
          "data": {
            "text/plain": [
              "[['attention',\n",
              "  'natural-language-processing',\n",
              "  'self-supervised-learning',\n",
              "  'transfer-learning',\n",
              "  'transformers']]"
            ]
          },
          "metadata": {},
          "execution_count": 203
        }
      ],
      "metadata": {
        "id": "NiQr5E6L9XrM",
        "colab": {
          "base_uri": "https://localhost:8080/"
        },
        "outputId": "3394847d-296d-4ede-9926-85decd2b39d2"
      }
    },
    {
      "cell_type": "markdown",
      "source": [
        "## Optimization"
      ],
      "metadata": {
        "id": "_CzPlupuYPWT"
      }
    },
    {
      "cell_type": "markdown",
      "source": [
        "Optimization is the process of fine-tuning the hyperparameters in our experiment to optimize towards a particular objective. It can be a computationally involved process depending on the number of parameters, search space and model architectures. Hyperparameters don't just include the model's parameters but they also include parameters (choices) from preprocessing, splitting, etc. When we look at all the different parameters that can be tuned, it quickly becomes a very large search space. However, just because something is a hyperparameter doesn't mean we need to tune it.\n",
        "\n",
        "- It's absolutely alright to fix some hyperparameters (ex. lower=True during preprocessing) and remove them from the current tuning subset. Just be sure to note which parameters you are fixing and your reasoning for doing so.\n",
        "- You can initially just tune a small, yet influential, subset of hyperparameters that you believe will yield best results.\n",
        "\n",
        "There are many options for hyperparameter tuning ([Optuna](https://github.com/optuna/optuna), [Ray tune](https://github.com/ray-project/ray/tree/master/python/ray/tune), [Hyperopt](https://github.com/hyperopt/hyperopt), etc.) but we'll be using Optuna for it's simplicity and efficiency. "
      ],
      "metadata": {
        "id": "CHM69_fPYXy_"
      }
    },
    {
      "cell_type": "code",
      "execution_count": null,
      "source": [
        "!pip install optuna==2.4.0 numpyencoder==0.3.0 -q"
      ],
      "outputs": [
        {
          "output_type": "stream",
          "name": "stdout",
          "text": [
            "\u001b[K     |████████████████████████████████| 282 kB 11.6 MB/s \n",
            "\u001b[K     |████████████████████████████████| 80 kB 3.6 MB/s \n",
            "\u001b[K     |████████████████████████████████| 149 kB 13.5 MB/s \n",
            "\u001b[K     |████████████████████████████████| 49 kB 2.4 MB/s \n",
            "\u001b[K     |████████████████████████████████| 112 kB 47.4 MB/s \n",
            "\u001b[?25h  Building wheel for pyperclip (setup.py) ... \u001b[?25l\u001b[?25hdone\n"
          ]
        }
      ],
      "metadata": {
        "id": "SFFkEgjSYR9v",
        "colab": {
          "base_uri": "https://localhost:8080/"
        },
        "outputId": "37b02a31-30e1-47aa-f4b0-469c1bb8ded8"
      }
    },
    {
      "cell_type": "code",
      "execution_count": null,
      "source": [
        "import optuna"
      ],
      "outputs": [],
      "metadata": {
        "id": "VLI2DvYihgH9"
      }
    },
    {
      "cell_type": "markdown",
      "source": [
        "There are many factors to consider when performing hyperparameter optimization and luckily Optuna allows us to [implement](https://optuna.readthedocs.io/en/stable/reference/) them with ease. We'll be conducting a small study where we'll tune a set of arguments (we'll do a much more thorough [study](https://optuna.readthedocs.io/en/stable/reference/study.html) of the parameter space when we move our code to Python scripts). Here's the process for the study:\n",
        "\n",
        "1. Define an objective (metric) and identifying the [direction](https://optuna.readthedocs.io/en/stable/reference/generated/optuna.study.StudyDirection.html#optuna.study.StudyDirection) to optimize.\n",
        "2. `[OPTIONAL]` Choose a [sampler](https://optuna.readthedocs.io/en/stable/reference/samplers.html) for determining parameters for subsequent trials. (default is a tree based sampler).\n",
        "3. `[OPTIONAL]` Choose a [pruner](https://optuna.readthedocs.io/en/stable/reference/pruners.html) to end unpromising trials early. \n",
        "4. Define the parameters to tune in each [trial](https://optuna.readthedocs.io/en/stable/reference/trial.html) and the [distribution](https://optuna.readthedocs.io/en/stable/reference/generated/optuna.trial.Trial.html#optuna-trial-trial) of values to sample. \n",
        "\n",
        "> There are many more options (multiple objectives, storage options, etc.) to explore but this basic set up will allow us to optimize quite well."
      ],
      "metadata": {
        "id": "1oxHC5gUZw6v"
      }
    },
    {
      "cell_type": "code",
      "execution_count": null,
      "source": [
        "from argparse import Namespace"
      ],
      "outputs": [],
      "metadata": {
        "id": "M9hsPDs3iXy1"
      }
    },
    {
      "cell_type": "code",
      "execution_count": null,
      "source": [
        "# Specify arguments\n",
        "args = Namespace(\n",
        "    char_level=True,\n",
        "    filter_sizes=list(range(1, 11)),\n",
        "    batch_size=64,\n",
        "    embedding_dim=128, \n",
        "    num_filters=128,\n",
        "    hidden_dim=128, \n",
        "    dropout_p=0.5,\n",
        "    lr=2e-4,\n",
        "    num_epochs=100,\n",
        "    patience=10,\n",
        ")"
      ],
      "outputs": [],
      "metadata": {
        "id": "DeGjHoore6Ca"
      }
    },
    {
      "cell_type": "markdown",
      "source": [
        "We're going to modify our `Trainer` object to be able to prune unpromising trials based on the trial's validation loss."
      ],
      "metadata": {
        "id": "cSxjDzajfxMF"
      }
    },
    {
      "cell_type": "code",
      "execution_count": null,
      "source": [
        "# Trainer (modified for experiment tracking)\n",
        "class Trainer(object):\n",
        "    def __init__(self, model, device, loss_fn=None, \n",
        "                 optimizer=None, scheduler=None, trial=None):\n",
        "\n",
        "        # Set params\n",
        "        self.model = model\n",
        "        self.device = device\n",
        "        self.loss_fn = loss_fn\n",
        "        self.optimizer = optimizer\n",
        "        self.scheduler = scheduler\n",
        "        self.trial = trial\n",
        "\n",
        "    def train_step(self, dataloader):\n",
        "        \"\"\"Train step.\"\"\"\n",
        "        # Set model to train mode\n",
        "        self.model.train()\n",
        "        loss = 0.0\n",
        "\n",
        "        # Iterate over train batches\n",
        "        for i, batch in enumerate(dataloader):\n",
        "            # Step\n",
        "            batch = [item.to(self.device) for item in batch]\n",
        "            inputs, targets = batch[:-1], batch[-1]\n",
        "            self.optimizer.zero_grad()  # Reset gradients\n",
        "            z = self.model(inputs)  # Forward pass\n",
        "            J = self.loss_fn(z, targets)  # Define loss\n",
        "            J.backward()  # Backward pass\n",
        "            self.optimizer.step()  # Update weights\n",
        "\n",
        "            # Cumulative Metrics\n",
        "            loss += (J.detach().item() - loss) / (i + 1)\n",
        "\n",
        "        return loss\n",
        "\n",
        "    def eval_step(self, dataloader):\n",
        "        \"\"\"Validation or test step.\"\"\"\n",
        "        # Set model to eval mode\n",
        "        self.model.eval()\n",
        "        loss = 0.0\n",
        "        y_trues, y_probs = [], []\n",
        "\n",
        "        # Iterate over val batches\n",
        "        with torch.inference_mode():\n",
        "            for i, batch in enumerate(dataloader):\n",
        "\n",
        "                # Step\n",
        "                batch = [item.to(self.device) for item in batch]  # Set device\n",
        "                inputs, y_true = batch[:-1], batch[-1]\n",
        "                z = self.model(inputs)  # Forward pass\n",
        "                J = self.loss_fn(z, y_true).item()\n",
        "\n",
        "                # Cumulative Metrics\n",
        "                loss += (J - loss) / (i + 1)\n",
        "\n",
        "                # Store outputs\n",
        "                y_prob = torch.sigmoid(z).cpu().numpy()\n",
        "                y_probs.extend(y_prob)\n",
        "                y_trues.extend(y_true.cpu().numpy())\n",
        "\n",
        "        return loss, np.vstack(y_trues), np.vstack(y_probs)\n",
        "\n",
        "    def predict_step(self, dataloader):\n",
        "        \"\"\"Prediction step.\"\"\"\n",
        "        # Set model to eval mode\n",
        "        self.model.eval()\n",
        "        y_probs = []\n",
        "\n",
        "        # Iterate over val batches\n",
        "        with torch.inference_mode():\n",
        "            for i, batch in enumerate(dataloader):\n",
        "\n",
        "                # Forward pass w/ inputs\n",
        "                inputs, targets = batch[:-1], batch[-1]\n",
        "                z = self.model(inputs)\n",
        "\n",
        "                # Store outputs\n",
        "                y_prob = torch.sigmoid(z).cpu().numpy()\n",
        "                y_probs.extend(y_prob)\n",
        "\n",
        "        return np.vstack(y_probs)\n",
        "    \n",
        "    def train(self, num_epochs, patience, train_dataloader, val_dataloader,\n",
        "              tolerance=1e-5):\n",
        "        best_val_loss = np.inf\n",
        "        for epoch in range(num_epochs):\n",
        "            # Steps\n",
        "            train_loss = self.train_step(dataloader=train_dataloader)\n",
        "            val_loss, _, _ = self.eval_step(dataloader=val_dataloader)\n",
        "            self.scheduler.step(val_loss)\n",
        "\n",
        "            # Early stopping\n",
        "            if val_loss < best_val_loss - tolerance:\n",
        "                best_val_loss = val_loss\n",
        "                best_model = self.model\n",
        "                _patience = patience  # reset _patience\n",
        "            else:\n",
        "                _patience -= 1\n",
        "            if not _patience:  # 0\n",
        "                print(\"Stopping early!\")\n",
        "                break\n",
        "\n",
        "            # Logging\n",
        "            print(\n",
        "                f\"Epoch: {epoch+1} | \"\n",
        "                f\"train_loss: {train_loss:.5f}, \"\n",
        "                f\"val_loss: {val_loss:.5f}, \"\n",
        "                f\"lr: {self.optimizer.param_groups[0]['lr']:.2E}, \"\n",
        "                f\"_patience: {_patience}\"\n",
        "            )\n",
        "\n",
        "            # Pruning based on the intermediate value\n",
        "            self.trial.report(val_loss, epoch)\n",
        "            if self.trial.should_prune():\n",
        "                raise optuna.TrialPruned()\n",
        "                    \n",
        "        return best_model, best_val_loss"
      ],
      "outputs": [],
      "metadata": {
        "id": "lu9OCdgxfxXx"
      }
    },
    {
      "cell_type": "markdown",
      "source": [
        "We'll also modify our `train_cnn` function to include information about the trial."
      ],
      "metadata": {
        "id": "z3dGFhnehUbk"
      }
    },
    {
      "cell_type": "code",
      "execution_count": null,
      "source": [
        "def train_cnn(args, df, trial=None):\n",
        "    \"\"\"Train a CNN using specific arguments.\"\"\"\n",
        "\n",
        "    # Set seeds\n",
        "    set_seeds()\n",
        "\n",
        "    # Get data splits\n",
        "    preprocessed_df = df.copy()\n",
        "    preprocessed_df.text = preprocessed_df.text.apply(preprocess, lower=True)\n",
        "    X_train, X_val, X_test, y_train, y_val, y_test, label_encoder = get_data_splits(preprocessed_df)\n",
        "    num_classes = len(label_encoder)\n",
        "\n",
        "    # Set device\n",
        "    cuda = True\n",
        "    device = torch.device(\"cuda\" if (\n",
        "        torch.cuda.is_available() and cuda) else \"cpu\")\n",
        "    torch.set_default_tensor_type(\"torch.FloatTensor\")\n",
        "    if device.type == \"cuda\":\n",
        "        torch.set_default_tensor_type(\"torch.cuda.FloatTensor\")\n",
        "\n",
        "    # Tokenize\n",
        "    tokenizer = Tokenizer(char_level=args.char_level)\n",
        "    tokenizer.fit_on_texts(texts=X_train)\n",
        "    vocab_size = len(tokenizer)\n",
        "\n",
        "    # Convert texts to sequences of indices\n",
        "    X_train = np.array(tokenizer.texts_to_sequences(X_train))\n",
        "    X_val = np.array(tokenizer.texts_to_sequences(X_val))\n",
        "    X_test = np.array(tokenizer.texts_to_sequences(X_test))\n",
        "\n",
        "    # Class weights\n",
        "    train_tags = list(itertools.chain.from_iterable(train_df.tags.values))\n",
        "    counts = np.bincount([label_encoder.class_to_index[class_] for class_ in train_tags])\n",
        "    class_weights = {i: 1.0/count for i, count in enumerate(counts)}\n",
        "\n",
        "    # Create datasets\n",
        "    train_dataset = CNNTextDataset(\n",
        "        X=X_train, y=y_train, max_filter_size=max(args.filter_sizes))\n",
        "    val_dataset = CNNTextDataset(\n",
        "        X=X_val, y=y_val, max_filter_size=max(args.filter_sizes))\n",
        "    test_dataset = CNNTextDataset(\n",
        "        X=X_test, y=y_test, max_filter_size=max(args.filter_sizes))\n",
        "\n",
        "    # Create dataloaders\n",
        "    train_dataloader = train_dataset.create_dataloader(\n",
        "        batch_size=args.batch_size)\n",
        "    val_dataloader = val_dataset.create_dataloader(\n",
        "        batch_size=args.batch_size)\n",
        "    test_dataloader = test_dataset.create_dataloader(\n",
        "        batch_size=args.batch_size)\n",
        "\n",
        "    # Initialize model\n",
        "    model = CNN(\n",
        "        embedding_dim=args.embedding_dim, vocab_size=vocab_size,\n",
        "        num_filters=args.num_filters, filter_sizes=args.filter_sizes,\n",
        "        hidden_dim=args.hidden_dim, dropout_p=args.dropout_p,\n",
        "        num_classes=num_classes)\n",
        "    model = model.to(device)\n",
        "\n",
        "    # Define loss\n",
        "    class_weights_tensor = torch.Tensor(np.array(list(class_weights.values())))\n",
        "    loss_fn = nn.BCEWithLogitsLoss(weight=class_weights_tensor)\n",
        "\n",
        "    # Define optimizer & scheduler\n",
        "    optimizer = torch.optim.Adam(model.parameters(), lr=args.lr)\n",
        "    scheduler = torch.optim.lr_scheduler.ReduceLROnPlateau(\n",
        "        optimizer, mode=\"min\", factor=0.1, patience=5)\n",
        "\n",
        "    # Trainer module\n",
        "    trainer = Trainer(\n",
        "        model=model, device=device, loss_fn=loss_fn, \n",
        "        optimizer=optimizer, scheduler=scheduler, trial=trial)\n",
        "\n",
        "    # Train\n",
        "    best_model, best_val_loss = trainer.train(\n",
        "        args.num_epochs, args.patience, train_dataloader, val_dataloader)\n",
        "\n",
        "    # Best threshold for f1\n",
        "    train_loss, y_true, y_prob = trainer.eval_step(dataloader=train_dataloader)\n",
        "    precisions, recalls, thresholds = precision_recall_curve(y_true.ravel(), y_prob.ravel())\n",
        "    threshold = find_best_threshold(y_true.ravel(), y_prob.ravel())\n",
        "\n",
        "    # Determine predictions using threshold\n",
        "    test_loss, y_true, y_prob = trainer.eval_step(dataloader=test_dataloader)\n",
        "    y_pred = np.array([np.where(prob >= threshold, 1, 0) for prob in y_prob])\n",
        "\n",
        "    # Evaluate (simple)\n",
        "    metrics = precision_recall_fscore_support(y_test, y_pred, average=\"weighted\")\n",
        "    performance = {\"precision\": metrics[0], \"recall\": metrics[1], \"f1\": metrics[2]}\n",
        "\n",
        "    return {\n",
        "        \"args\": args,\n",
        "        \"tokenizer\": tokenizer,\n",
        "        \"label_encoder\": label_encoder,\n",
        "        \"model\": best_model,\n",
        "        \"performance\": performance,\n",
        "        \"best_val_loss\": best_val_loss,\n",
        "        \"threshold\": threshold,\n",
        "    }"
      ],
      "outputs": [],
      "metadata": {
        "id": "Qm_xEptLhUqm"
      }
    },
    {
      "cell_type": "markdown",
      "source": [
        "### Objective"
      ],
      "metadata": {
        "id": "ncGdA34Ahod9"
      }
    },
    {
      "cell_type": "markdown",
      "source": [
        "We need to define an `objective` function that will consume a trial and a set of arguments and produce the metric to optimize on (`f1` in our case)."
      ],
      "metadata": {
        "id": "NzekaGZyeHXb"
      }
    },
    {
      "cell_type": "code",
      "execution_count": null,
      "source": [
        "def objective(trial, args):\n",
        "    \"\"\"Objective function for optimization trials.\"\"\"\n",
        "\n",
        "    # Paramters (to tune)\n",
        "    args.embedding_dim = trial.suggest_int(\"embedding_dim\", 128, 512)\n",
        "    args.num_filters = trial.suggest_int(\"num_filters\", 128, 512)\n",
        "    args.hidden_dim = trial.suggest_int(\"hidden_dim\", 128, 512)\n",
        "    args.dropout_p = trial.suggest_uniform(\"dropout_p\", 0.3, 0.8)\n",
        "    args.lr = trial.suggest_loguniform(\"lr\", 5e-5, 5e-4)\n",
        "\n",
        "    # Train & evaluate\n",
        "    artifacts = train_cnn(args=args, df=df, trial=trial)\n",
        "\n",
        "    # Set additional attributes\n",
        "    trial.set_user_attr(\"precision\", artifacts[\"performance\"][\"precision\"])\n",
        "    trial.set_user_attr(\"recall\", artifacts[\"performance\"][\"recall\"])\n",
        "    trial.set_user_attr(\"f1\", artifacts[\"performance\"][\"f1\"])\n",
        "    trial.set_user_attr(\"threshold\", artifacts[\"threshold\"])\n",
        "\n",
        "    return artifacts[\"performance\"][\"f1\"]"
      ],
      "outputs": [],
      "metadata": {
        "id": "Jg33IjzSd27e"
      }
    },
    {
      "cell_type": "markdown",
      "source": [
        "### Study"
      ],
      "metadata": {
        "id": "K42Yf3OEhp_V"
      }
    },
    {
      "cell_type": "markdown",
      "source": [
        "We're ready to kick off our study with our [MLFlowCallback](https://optuna.readthedocs.io/en/stable/reference/generated/optuna.integration.MLflowCallback.html) so we can track all of the different trials."
      ],
      "metadata": {
        "id": "epa_kTIl9H7b"
      }
    },
    {
      "cell_type": "code",
      "execution_count": null,
      "source": [
        "from numpyencoder import NumpyEncoder\n",
        "from optuna.integration.mlflow import MLflowCallback"
      ],
      "outputs": [],
      "metadata": {
        "id": "WC58iWVjjPN8"
      }
    },
    {
      "cell_type": "code",
      "execution_count": null,
      "source": [
        "NUM_TRIALS = 50 # small sample for now"
      ],
      "outputs": [],
      "metadata": {
        "id": "ZbPWc_c8hsA6"
      }
    },
    {
      "cell_type": "code",
      "execution_count": null,
      "source": [
        "# Optimize\n",
        "pruner = optuna.pruners.MedianPruner(n_startup_trials=5, n_warmup_steps=5)\n",
        "study = optuna.create_study(study_name=\"optimization\", direction=\"maximize\", pruner=pruner)\n",
        "mlflow_callback = MLflowCallback(\n",
        "    tracking_uri=mlflow.get_tracking_uri(), metric_name=\"f1\")\n",
        "study.optimize(lambda trial: objective(trial, args),\n",
        "               n_trials=NUM_TRIALS,\n",
        "               callbacks=[mlflow_callback])"
      ],
      "outputs": [
        {
          "output_type": "stream",
          "name": "stderr",
          "text": [
            "\u001b[32m[I 2022-01-26 21:33:37,510]\u001b[0m A new study created in memory with name: optimization\u001b[0m\n"
          ]
        },
        {
          "output_type": "stream",
          "name": "stdout",
          "text": [
            "Epoch: 1 | train_loss: 0.00650, val_loss: 0.00482, lr: 1.49E-04, _patience: 10\n",
            "Epoch: 2 | train_loss: 0.00463, val_loss: 0.00364, lr: 1.49E-04, _patience: 10\n",
            "Epoch: 3 | train_loss: 0.00389, val_loss: 0.00344, lr: 1.49E-04, _patience: 10\n",
            "Epoch: 4 | train_loss: 0.00345, val_loss: 0.00319, lr: 1.49E-04, _patience: 10\n",
            "Epoch: 5 | train_loss: 0.00316, val_loss: 0.00298, lr: 1.49E-04, _patience: 10\n",
            "Epoch: 6 | train_loss: 0.00281, val_loss: 0.00277, lr: 1.49E-04, _patience: 10\n",
            "Epoch: 7 | train_loss: 0.00251, val_loss: 0.00262, lr: 1.49E-04, _patience: 10\n",
            "Epoch: 8 | train_loss: 0.00228, val_loss: 0.00253, lr: 1.49E-04, _patience: 10\n",
            "Epoch: 9 | train_loss: 0.00208, val_loss: 0.00243, lr: 1.49E-04, _patience: 10\n",
            "Epoch: 10 | train_loss: 0.00187, val_loss: 0.00237, lr: 1.49E-04, _patience: 10\n",
            "Epoch: 11 | train_loss: 0.00174, val_loss: 0.00231, lr: 1.49E-04, _patience: 10\n",
            "Epoch: 12 | train_loss: 0.00158, val_loss: 0.00228, lr: 1.49E-04, _patience: 10\n",
            "Epoch: 13 | train_loss: 0.00144, val_loss: 0.00225, lr: 1.49E-04, _patience: 10\n",
            "Epoch: 14 | train_loss: 0.00132, val_loss: 0.00224, lr: 1.49E-04, _patience: 10\n",
            "Epoch: 15 | train_loss: 0.00121, val_loss: 0.00222, lr: 1.49E-04, _patience: 10\n",
            "Epoch: 16 | train_loss: 0.00112, val_loss: 0.00223, lr: 1.49E-04, _patience: 9\n",
            "Epoch: 17 | train_loss: 0.00102, val_loss: 0.00226, lr: 1.49E-04, _patience: 8\n",
            "Epoch: 18 | train_loss: 0.00096, val_loss: 0.00222, lr: 1.49E-04, _patience: 7\n",
            "Epoch: 19 | train_loss: 0.00089, val_loss: 0.00218, lr: 1.49E-04, _patience: 10\n",
            "Epoch: 20 | train_loss: 0.00079, val_loss: 0.00231, lr: 1.49E-04, _patience: 9\n",
            "Epoch: 21 | train_loss: 0.00074, val_loss: 0.00225, lr: 1.49E-04, _patience: 8\n",
            "Epoch: 22 | train_loss: 0.00069, val_loss: 0.00228, lr: 1.49E-04, _patience: 7\n",
            "Epoch: 23 | train_loss: 0.00061, val_loss: 0.00230, lr: 1.49E-04, _patience: 6\n",
            "Epoch: 24 | train_loss: 0.00055, val_loss: 0.00227, lr: 1.49E-04, _patience: 5\n",
            "Epoch: 25 | train_loss: 0.00053, val_loss: 0.00233, lr: 1.49E-05, _patience: 4\n",
            "Epoch: 26 | train_loss: 0.00048, val_loss: 0.00220, lr: 1.49E-05, _patience: 3\n",
            "Epoch: 27 | train_loss: 0.00047, val_loss: 0.00215, lr: 1.49E-05, _patience: 10\n",
            "Epoch: 28 | train_loss: 0.00045, val_loss: 0.00217, lr: 1.49E-05, _patience: 9\n",
            "Epoch: 29 | train_loss: 0.00045, val_loss: 0.00217, lr: 1.49E-05, _patience: 8\n",
            "Epoch: 30 | train_loss: 0.00044, val_loss: 0.00220, lr: 1.49E-05, _patience: 7\n",
            "Epoch: 31 | train_loss: 0.00044, val_loss: 0.00219, lr: 1.49E-05, _patience: 6\n",
            "Epoch: 32 | train_loss: 0.00042, val_loss: 0.00218, lr: 1.49E-05, _patience: 5\n",
            "Epoch: 33 | train_loss: 0.00042, val_loss: 0.00219, lr: 1.49E-06, _patience: 4\n",
            "Epoch: 34 | train_loss: 0.00042, val_loss: 0.00219, lr: 1.49E-06, _patience: 3\n",
            "Epoch: 35 | train_loss: 0.00043, val_loss: 0.00219, lr: 1.49E-06, _patience: 2\n",
            "Epoch: 36 | train_loss: 0.00042, val_loss: 0.00219, lr: 1.49E-06, _patience: 1\n",
            "Stopping early!\n"
          ]
        },
        {
          "output_type": "stream",
          "name": "stderr",
          "text": [
            "\u001b[32m[I 2022-01-26 21:35:04,613]\u001b[0m Trial 0 finished with value: 0.6661081968510316 and parameters: {'embedding_dim': 407, 'num_filters': 257, 'hidden_dim': 260, 'dropout_p': 0.32119545669951727, 'lr': 0.00014879094161245976}. Best is trial 0 with value: 0.6661081968510316.\u001b[0m\n"
          ]
        },
        {
          "output_type": "stream",
          "name": "stdout",
          "text": [
            "INFO: 'optimization' does not exist. Creating a new experiment\n",
            "Epoch: 1 | train_loss: 0.00895, val_loss: 0.00410, lr: 5.49E-05, _patience: 10\n",
            "Epoch: 2 | train_loss: 0.00457, val_loss: 0.00408, lr: 5.49E-05, _patience: 10\n",
            "Epoch: 3 | train_loss: 0.00444, val_loss: 0.00396, lr: 5.49E-05, _patience: 10\n",
            "Epoch: 4 | train_loss: 0.00429, val_loss: 0.00385, lr: 5.49E-05, _patience: 10\n",
            "Epoch: 5 | train_loss: 0.00423, val_loss: 0.00381, lr: 5.49E-05, _patience: 10\n",
            "Epoch: 6 | train_loss: 0.00420, val_loss: 0.00377, lr: 5.49E-05, _patience: 10\n",
            "Epoch: 7 | train_loss: 0.00408, val_loss: 0.00373, lr: 5.49E-05, _patience: 10\n",
            "Epoch: 8 | train_loss: 0.00395, val_loss: 0.00370, lr: 5.49E-05, _patience: 10\n",
            "Epoch: 9 | train_loss: 0.00394, val_loss: 0.00365, lr: 5.49E-05, _patience: 10\n",
            "Epoch: 10 | train_loss: 0.00387, val_loss: 0.00360, lr: 5.49E-05, _patience: 10\n",
            "Epoch: 11 | train_loss: 0.00374, val_loss: 0.00355, lr: 5.49E-05, _patience: 10\n",
            "Epoch: 12 | train_loss: 0.00369, val_loss: 0.00350, lr: 5.49E-05, _patience: 10\n",
            "Epoch: 13 | train_loss: 0.00361, val_loss: 0.00343, lr: 5.49E-05, _patience: 10\n",
            "Epoch: 14 | train_loss: 0.00352, val_loss: 0.00338, lr: 5.49E-05, _patience: 10\n",
            "Epoch: 15 | train_loss: 0.00343, val_loss: 0.00331, lr: 5.49E-05, _patience: 10\n",
            "Epoch: 16 | train_loss: 0.00333, val_loss: 0.00325, lr: 5.49E-05, _patience: 10\n",
            "Epoch: 17 | train_loss: 0.00322, val_loss: 0.00319, lr: 5.49E-05, _patience: 10\n",
            "Epoch: 18 | train_loss: 0.00313, val_loss: 0.00312, lr: 5.49E-05, _patience: 10\n",
            "Epoch: 19 | train_loss: 0.00305, val_loss: 0.00305, lr: 5.49E-05, _patience: 10\n",
            "Epoch: 20 | train_loss: 0.00294, val_loss: 0.00299, lr: 5.49E-05, _patience: 10\n",
            "Epoch: 21 | train_loss: 0.00289, val_loss: 0.00292, lr: 5.49E-05, _patience: 10\n",
            "Epoch: 22 | train_loss: 0.00279, val_loss: 0.00286, lr: 5.49E-05, _patience: 10\n",
            "Epoch: 23 | train_loss: 0.00271, val_loss: 0.00281, lr: 5.49E-05, _patience: 10\n",
            "Epoch: 24 | train_loss: 0.00264, val_loss: 0.00276, lr: 5.49E-05, _patience: 10\n",
            "Epoch: 25 | train_loss: 0.00254, val_loss: 0.00271, lr: 5.49E-05, _patience: 10\n",
            "Epoch: 26 | train_loss: 0.00251, val_loss: 0.00266, lr: 5.49E-05, _patience: 10\n",
            "Epoch: 27 | train_loss: 0.00242, val_loss: 0.00261, lr: 5.49E-05, _patience: 10\n",
            "Epoch: 28 | train_loss: 0.00238, val_loss: 0.00257, lr: 5.49E-05, _patience: 10\n",
            "Epoch: 29 | train_loss: 0.00228, val_loss: 0.00254, lr: 5.49E-05, _patience: 10\n",
            "Epoch: 30 | train_loss: 0.00226, val_loss: 0.00250, lr: 5.49E-05, _patience: 10\n",
            "Epoch: 31 | train_loss: 0.00219, val_loss: 0.00246, lr: 5.49E-05, _patience: 10\n",
            "Epoch: 32 | train_loss: 0.00211, val_loss: 0.00244, lr: 5.49E-05, _patience: 10\n",
            "Epoch: 33 | train_loss: 0.00206, val_loss: 0.00241, lr: 5.49E-05, _patience: 10\n",
            "Epoch: 34 | train_loss: 0.00200, val_loss: 0.00239, lr: 5.49E-05, _patience: 10\n",
            "Epoch: 35 | train_loss: 0.00196, val_loss: 0.00236, lr: 5.49E-05, _patience: 10\n",
            "Epoch: 36 | train_loss: 0.00191, val_loss: 0.00233, lr: 5.49E-05, _patience: 10\n",
            "Epoch: 37 | train_loss: 0.00187, val_loss: 0.00232, lr: 5.49E-05, _patience: 9\n",
            "Epoch: 38 | train_loss: 0.00177, val_loss: 0.00229, lr: 5.49E-05, _patience: 10\n",
            "Epoch: 39 | train_loss: 0.00175, val_loss: 0.00228, lr: 5.49E-05, _patience: 10\n",
            "Epoch: 40 | train_loss: 0.00174, val_loss: 0.00226, lr: 5.49E-05, _patience: 10\n",
            "Epoch: 41 | train_loss: 0.00170, val_loss: 0.00225, lr: 5.49E-05, _patience: 10\n",
            "Epoch: 42 | train_loss: 0.00164, val_loss: 0.00224, lr: 5.49E-05, _patience: 9\n",
            "Epoch: 43 | train_loss: 0.00160, val_loss: 0.00223, lr: 5.49E-05, _patience: 10\n",
            "Epoch: 44 | train_loss: 0.00156, val_loss: 0.00220, lr: 5.49E-05, _patience: 10\n",
            "Epoch: 45 | train_loss: 0.00154, val_loss: 0.00219, lr: 5.49E-05, _patience: 9\n",
            "Epoch: 46 | train_loss: 0.00149, val_loss: 0.00220, lr: 5.49E-05, _patience: 8\n",
            "Epoch: 47 | train_loss: 0.00147, val_loss: 0.00217, lr: 5.49E-05, _patience: 10\n",
            "Epoch: 48 | train_loss: 0.00145, val_loss: 0.00217, lr: 5.49E-05, _patience: 9\n",
            "Epoch: 49 | train_loss: 0.00138, val_loss: 0.00215, lr: 5.49E-05, _patience: 10\n",
            "Epoch: 50 | train_loss: 0.00136, val_loss: 0.00215, lr: 5.49E-05, _patience: 9\n",
            "Epoch: 51 | train_loss: 0.00132, val_loss: 0.00215, lr: 5.49E-05, _patience: 8\n",
            "Epoch: 52 | train_loss: 0.00128, val_loss: 0.00214, lr: 5.49E-05, _patience: 10\n",
            "Epoch: 53 | train_loss: 0.00127, val_loss: 0.00214, lr: 5.49E-05, _patience: 9\n",
            "Epoch: 54 | train_loss: 0.00123, val_loss: 0.00213, lr: 5.49E-05, _patience: 10\n",
            "Epoch: 55 | train_loss: 0.00119, val_loss: 0.00211, lr: 5.49E-05, _patience: 10\n",
            "Epoch: 56 | train_loss: 0.00116, val_loss: 0.00210, lr: 5.49E-05, _patience: 9\n",
            "Epoch: 57 | train_loss: 0.00117, val_loss: 0.00210, lr: 5.49E-05, _patience: 10\n",
            "Epoch: 58 | train_loss: 0.00112, val_loss: 0.00210, lr: 5.49E-05, _patience: 9\n",
            "Epoch: 59 | train_loss: 0.00107, val_loss: 0.00212, lr: 5.49E-05, _patience: 8\n",
            "Epoch: 60 | train_loss: 0.00107, val_loss: 0.00211, lr: 5.49E-05, _patience: 7\n",
            "Epoch: 61 | train_loss: 0.00103, val_loss: 0.00210, lr: 5.49E-05, _patience: 6\n",
            "Epoch: 62 | train_loss: 0.00100, val_loss: 0.00208, lr: 5.49E-05, _patience: 10\n",
            "Epoch: 63 | train_loss: 0.00096, val_loss: 0.00214, lr: 5.49E-05, _patience: 9\n",
            "Epoch: 64 | train_loss: 0.00098, val_loss: 0.00211, lr: 5.49E-05, _patience: 8\n",
            "Epoch: 65 | train_loss: 0.00093, val_loss: 0.00208, lr: 5.49E-05, _patience: 7\n",
            "Epoch: 66 | train_loss: 0.00091, val_loss: 0.00207, lr: 5.49E-05, _patience: 10\n",
            "Epoch: 67 | train_loss: 0.00088, val_loss: 0.00210, lr: 5.49E-05, _patience: 9\n",
            "Epoch: 68 | train_loss: 0.00087, val_loss: 0.00209, lr: 5.49E-05, _patience: 8\n",
            "Epoch: 69 | train_loss: 0.00084, val_loss: 0.00212, lr: 5.49E-05, _patience: 7\n",
            "Epoch: 70 | train_loss: 0.00085, val_loss: 0.00214, lr: 5.49E-05, _patience: 6\n",
            "Epoch: 71 | train_loss: 0.00081, val_loss: 0.00211, lr: 5.49E-05, _patience: 5\n",
            "Epoch: 72 | train_loss: 0.00079, val_loss: 0.00210, lr: 5.49E-06, _patience: 4\n",
            "Epoch: 73 | train_loss: 0.00077, val_loss: 0.00210, lr: 5.49E-06, _patience: 3\n",
            "Epoch: 74 | train_loss: 0.00075, val_loss: 0.00210, lr: 5.49E-06, _patience: 2\n",
            "Epoch: 75 | train_loss: 0.00078, val_loss: 0.00209, lr: 5.49E-06, _patience: 1\n",
            "Stopping early!\n"
          ]
        },
        {
          "output_type": "stream",
          "name": "stderr",
          "text": [
            "\u001b[32m[I 2022-01-26 21:36:13,279]\u001b[0m Trial 1 finished with value: 0.6792003760740687 and parameters: {'embedding_dim': 245, 'num_filters': 131, 'hidden_dim': 462, 'dropout_p': 0.5174772071341193, 'lr': 5.489896531207887e-05}. Best is trial 1 with value: 0.6792003760740687.\u001b[0m\n"
          ]
        },
        {
          "output_type": "stream",
          "name": "stdout",
          "text": [
            "Epoch: 1 | train_loss: 0.00626, val_loss: 0.00491, lr: 8.20E-05, _patience: 10\n",
            "Epoch: 2 | train_loss: 0.00463, val_loss: 0.00381, lr: 8.20E-05, _patience: 10\n",
            "Epoch: 3 | train_loss: 0.00389, val_loss: 0.00358, lr: 8.20E-05, _patience: 10\n",
            "Epoch: 4 | train_loss: 0.00356, val_loss: 0.00340, lr: 8.20E-05, _patience: 10\n",
            "Epoch: 5 | train_loss: 0.00332, val_loss: 0.00319, lr: 8.20E-05, _patience: 10\n",
            "Epoch: 6 | train_loss: 0.00304, val_loss: 0.00302, lr: 8.20E-05, _patience: 10\n",
            "Epoch: 7 | train_loss: 0.00279, val_loss: 0.00287, lr: 8.20E-05, _patience: 10\n",
            "Epoch: 8 | train_loss: 0.00256, val_loss: 0.00273, lr: 8.20E-05, _patience: 10\n",
            "Epoch: 9 | train_loss: 0.00239, val_loss: 0.00261, lr: 8.20E-05, _patience: 10\n",
            "Epoch: 10 | train_loss: 0.00218, val_loss: 0.00251, lr: 8.20E-05, _patience: 10\n",
            "Epoch: 11 | train_loss: 0.00204, val_loss: 0.00246, lr: 8.20E-05, _patience: 10\n",
            "Epoch: 12 | train_loss: 0.00189, val_loss: 0.00239, lr: 8.20E-05, _patience: 10\n",
            "Epoch: 13 | train_loss: 0.00174, val_loss: 0.00232, lr: 8.20E-05, _patience: 10\n",
            "Epoch: 14 | train_loss: 0.00163, val_loss: 0.00230, lr: 8.20E-05, _patience: 10\n",
            "Epoch: 15 | train_loss: 0.00153, val_loss: 0.00225, lr: 8.20E-05, _patience: 10\n",
            "Epoch: 16 | train_loss: 0.00142, val_loss: 0.00221, lr: 8.20E-05, _patience: 10\n",
            "Epoch: 17 | train_loss: 0.00132, val_loss: 0.00220, lr: 8.20E-05, _patience: 10\n",
            "Epoch: 18 | train_loss: 0.00125, val_loss: 0.00216, lr: 8.20E-05, _patience: 10\n",
            "Epoch: 19 | train_loss: 0.00116, val_loss: 0.00214, lr: 8.20E-05, _patience: 10\n",
            "Epoch: 20 | train_loss: 0.00108, val_loss: 0.00213, lr: 8.20E-05, _patience: 10\n",
            "Epoch: 21 | train_loss: 0.00101, val_loss: 0.00212, lr: 8.20E-05, _patience: 9\n",
            "Epoch: 22 | train_loss: 0.00096, val_loss: 0.00213, lr: 8.20E-05, _patience: 8\n",
            "Epoch: 23 | train_loss: 0.00090, val_loss: 0.00212, lr: 8.20E-05, _patience: 10\n",
            "Epoch: 24 | train_loss: 0.00081, val_loss: 0.00209, lr: 8.20E-05, _patience: 10\n",
            "Epoch: 25 | train_loss: 0.00077, val_loss: 0.00211, lr: 8.20E-05, _patience: 9\n",
            "Epoch: 26 | train_loss: 0.00071, val_loss: 0.00214, lr: 8.20E-05, _patience: 8\n",
            "Epoch: 27 | train_loss: 0.00067, val_loss: 0.00215, lr: 8.20E-05, _patience: 7\n",
            "Epoch: 28 | train_loss: 0.00063, val_loss: 0.00215, lr: 8.20E-05, _patience: 6\n",
            "Epoch: 29 | train_loss: 0.00059, val_loss: 0.00217, lr: 8.20E-05, _patience: 5\n",
            "Epoch: 30 | train_loss: 0.00057, val_loss: 0.00217, lr: 8.20E-06, _patience: 4\n",
            "Epoch: 31 | train_loss: 0.00052, val_loss: 0.00208, lr: 8.20E-06, _patience: 10\n",
            "Epoch: 32 | train_loss: 0.00050, val_loss: 0.00205, lr: 8.20E-06, _patience: 10\n",
            "Epoch: 33 | train_loss: 0.00050, val_loss: 0.00207, lr: 8.20E-06, _patience: 9\n",
            "Epoch: 34 | train_loss: 0.00049, val_loss: 0.00206, lr: 8.20E-06, _patience: 8\n",
            "Epoch: 35 | train_loss: 0.00048, val_loss: 0.00206, lr: 8.20E-06, _patience: 7\n",
            "Epoch: 36 | train_loss: 0.00048, val_loss: 0.00207, lr: 8.20E-06, _patience: 6\n",
            "Epoch: 37 | train_loss: 0.00048, val_loss: 0.00208, lr: 8.20E-06, _patience: 5\n",
            "Epoch: 38 | train_loss: 0.00047, val_loss: 0.00208, lr: 8.20E-07, _patience: 4\n",
            "Epoch: 39 | train_loss: 0.00047, val_loss: 0.00208, lr: 8.20E-07, _patience: 3\n",
            "Epoch: 40 | train_loss: 0.00047, val_loss: 0.00208, lr: 8.20E-07, _patience: 2\n",
            "Epoch: 41 | train_loss: 0.00047, val_loss: 0.00208, lr: 8.20E-07, _patience: 1\n",
            "Stopping early!\n"
          ]
        },
        {
          "output_type": "stream",
          "name": "stderr",
          "text": [
            "\u001b[32m[I 2022-01-26 21:38:06,581]\u001b[0m Trial 2 finished with value: 0.6447679985750843 and parameters: {'embedding_dim': 409, 'num_filters': 363, 'hidden_dim': 443, 'dropout_p': 0.3141386643237896, 'lr': 8.195319399418804e-05}. Best is trial 1 with value: 0.6792003760740687.\u001b[0m\n"
          ]
        },
        {
          "output_type": "stream",
          "name": "stdout",
          "text": [
            "Epoch: 1 | train_loss: 0.00806, val_loss: 0.00535, lr: 2.31E-04, _patience: 10\n",
            "Epoch: 2 | train_loss: 0.00562, val_loss: 0.00372, lr: 2.31E-04, _patience: 10\n",
            "Epoch: 3 | train_loss: 0.00441, val_loss: 0.00355, lr: 2.31E-04, _patience: 10\n",
            "Epoch: 4 | train_loss: 0.00406, val_loss: 0.00325, lr: 2.31E-04, _patience: 10\n",
            "Epoch: 5 | train_loss: 0.00359, val_loss: 0.00303, lr: 2.31E-04, _patience: 10\n",
            "Epoch: 6 | train_loss: 0.00324, val_loss: 0.00282, lr: 2.31E-04, _patience: 10\n",
            "Epoch: 7 | train_loss: 0.00291, val_loss: 0.00269, lr: 2.31E-04, _patience: 10\n",
            "Epoch: 8 | train_loss: 0.00266, val_loss: 0.00258, lr: 2.31E-04, _patience: 10\n",
            "Epoch: 9 | train_loss: 0.00239, val_loss: 0.00252, lr: 2.31E-04, _patience: 10\n",
            "Epoch: 10 | train_loss: 0.00225, val_loss: 0.00245, lr: 2.31E-04, _patience: 10\n",
            "Epoch: 11 | train_loss: 0.00206, val_loss: 0.00234, lr: 2.31E-04, _patience: 10\n",
            "Epoch: 12 | train_loss: 0.00188, val_loss: 0.00232, lr: 2.31E-04, _patience: 10\n",
            "Epoch: 13 | train_loss: 0.00172, val_loss: 0.00228, lr: 2.31E-04, _patience: 10\n",
            "Epoch: 14 | train_loss: 0.00158, val_loss: 0.00225, lr: 2.31E-04, _patience: 10\n",
            "Epoch: 15 | train_loss: 0.00145, val_loss: 0.00224, lr: 2.31E-04, _patience: 10\n",
            "Epoch: 16 | train_loss: 0.00136, val_loss: 0.00236, lr: 2.31E-04, _patience: 9\n",
            "Epoch: 17 | train_loss: 0.00126, val_loss: 0.00223, lr: 2.31E-04, _patience: 8\n",
            "Epoch: 18 | train_loss: 0.00117, val_loss: 0.00223, lr: 2.31E-04, _patience: 7\n"
          ]
        }
      ],
      "metadata": {
        "id": "RQByQ8pihjIR",
        "colab": {
          "base_uri": "https://localhost:8080/"
        },
        "outputId": "518eeb8e-494d-47a3-871f-3e9d05756d84"
      }
    },
    {
      "cell_type": "code",
      "execution_count": null,
      "source": [
        "# MLFlow dashboard\n",
        "get_ipython().system_raw(\"mlflow server -h 0.0.0.0 -p 5000 --backend-store-uri $PWD/experiments/ &\")\n",
        "ngrok.kill()\n",
        "ngrok.set_auth_token(\"\")\n",
        "ngrok_tunnel = ngrok.connect(addr=\"5000\", proto=\"http\", bind_tls=True)\n",
        "print(\"MLflow Tracking UI:\", ngrok_tunnel.public_url)"
      ],
      "outputs": [],
      "metadata": {
        "id": "FfRGqQaGkfx8"
      }
    },
    {
      "cell_type": "markdown",
      "source": [
        "You can compare all (or a subset) of the trials in our experiment.\n",
        "<img src=\"https://raw.githubusercontent.com/GokuMohandas/MadeWithML/main/images/mlops/hyperparameter_optimization/compare.png\" width=\"1000\" alt=\"compare\">\n",
        "\n",
        "We can then view the results through various lens (contours, parallel coordinates, etc.)\n",
        "\n",
        "<img src=\"https://raw.githubusercontent.com/GokuMohandas/MadeWithML/main/images/mlops/hyperparameter_optimization/contour.png\" width=\"1000\" alt=\"compare\">\n",
        "<img src=\"https://raw.githubusercontent.com/GokuMohandas/MadeWithML/main/images/mlops/hyperparameter_optimization/parallel_coordinates.png\" width=\"1000\" alt=\"compare\">"
      ],
      "metadata": {
        "id": "NojJ-Z1X6IEQ"
      }
    },
    {
      "cell_type": "code",
      "execution_count": null,
      "source": [
        "# All trials\n",
        "trials_df = study.trials_dataframe()\n",
        "trials_df = trials_df.sort_values([\"value\"], ascending=False)  # sort by metric\n",
        "trials_df.head()"
      ],
      "outputs": [],
      "metadata": {
        "id": "9HtwFRzEikt7"
      }
    },
    {
      "cell_type": "code",
      "execution_count": null,
      "source": [
        "# Best trial\n",
        "print (f\"Best value (f1): {study.best_trial.value}\")\n",
        "print (f\"Best hyperparameters: {study.best_trial.params}\")"
      ],
      "outputs": [],
      "metadata": {
        "id": "6mP99RFjiENR"
      }
    },
    {
      "cell_type": "markdown",
      "source": [
        "> Don't forget to save learned parameters (ex. decision threshold) during training which you'll need later for inference."
      ],
      "metadata": {
        "id": "Pggo1cnaix85"
      }
    },
    {
      "cell_type": "code",
      "execution_count": null,
      "source": [
        "# Save best parameters\n",
        "params = {**args.__dict__, **study.best_trial.params}\n",
        "params[\"threshold\"] = study.best_trial.user_attrs[\"threshold\"]\n",
        "print (json.dumps(params, indent=2, cls=NumpyEncoder))"
      ],
      "outputs": [],
      "metadata": {
        "id": "JZIS8RtfiuDc"
      }
    },
    {
      "cell_type": "markdown",
      "source": [
        "... and now we're finally ready to move from working in Jupyter notebooks to Python scripts. We'll be revisiting everything we did so far, but this time with proper software engineering prinicples such as object oriented programming (OOPs), styling, testing, etc. → [https://madewithml.com/#mlops](https://madewithml.com/#mlops)"
      ],
      "metadata": {
        "id": "KbxtdyENi78d"
      }
    }
  ]
}